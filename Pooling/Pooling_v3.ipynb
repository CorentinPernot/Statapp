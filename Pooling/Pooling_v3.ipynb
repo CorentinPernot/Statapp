{
 "cells": [
  {
   "cell_type": "code",
   "execution_count": 92,
   "id": "3b6ac00d",
   "metadata": {},
   "outputs": [],
   "source": [
    "import pandas as pd\n",
    "import numpy as np\n",
    "import matplotlib.pyplot as plt\n",
    "import rapidfuzz\n",
    "import Levenshtein"
   ]
  },
  {
   "cell_type": "code",
   "execution_count": 133,
   "id": "c1642486",
   "metadata": {},
   "outputs": [],
   "source": [
    "df1=pd.read_csv(\"/Users/corentinpla/Documents/Statap/transactions_A.csv\")\n",
    "df2=pd.read_csv(\"/Users/corentinpla/Documents/Statap/transactions_B.csv\")"
   ]
  },
  {
   "cell_type": "code",
   "execution_count": 132,
   "id": "43ff3d37",
   "metadata": {},
   "outputs": [],
   "source": [
    "L1=df1[\"tx_id\"].to_list()\n",
    "L2=df2[\"tx_id\"].to_list()"
   ]
  },
  {
   "cell_type": "code",
   "execution_count": 134,
   "id": "4fb81b0d",
   "metadata": {},
   "outputs": [],
   "source": [
    "df_A=df1.copy()\n",
    "df_B=df2.copy()"
   ]
  },
  {
   "cell_type": "code",
   "execution_count": 138,
   "id": "7fe6e8ea",
   "metadata": {},
   "outputs": [],
   "source": [
    "#Base client B\n",
    "def get_base_client_B(df_B)\n",
    "    df_base_client1 = df_B[['sender_first_name','sender_last_name','sender_birth_date',\n",
    "                           'sender_bank_id','sender_country_code',\n",
    "                           'sender_zip_code']].copy()\n",
    "\n",
    "    df_base_client2 = df_B[['receiver_first_name','receiver_last_name','receiver_birth_date', \n",
    "                            'receiver_bank_id','receiver_country_code',\n",
    "                           'receiver_zip_code']].copy()\n",
    "\n",
    "    df_base_client1.drop_duplicates(keep = 'first', inplace=True)\n",
    "    df_base_client2.drop_duplicates(keep = 'first', inplace=True)\n",
    "\n",
    "    df_base_client1.rename(columns = {'sender_first_name': 'First_name', 'sender_last_name': 'Last_name',\n",
    "                                     'sender_birth_date' : 'birth_date', ' sender_account_id' : 'account_id',\n",
    "                                      'sender_bank_id': 'bank_id','sender_country_code': 'country_code',\n",
    "                                      'sender_zip_code': 'zip_code'},\n",
    "                           inplace=True)\n",
    "\n",
    "    df_base_client2.rename(columns = {'receiver_first_name': 'First_name', 'receiver_last_name': 'Last_name',\n",
    "                                     'receiver_birth_date' : 'birth_date',' receiver_account_id' : 'account_id',\n",
    "                                      'receiver_bank_id': 'bank_id','receiver_country_code': 'country_code',\n",
    "                                      'receiver_zip_code': 'zip_code'},\n",
    "                           inplace=True)\n",
    "\n",
    "    df_base_client1.sort_values(by=['First_name', 'Last_name'],inplace=True)\n",
    "    df_base_client2.sort_values(by=['First_name', 'Last_name'],inplace=True)\n",
    "\n",
    "    df_base_client_B= pd.concat([df_base_client1,df_base_client2])\n",
    "    df_base_client_B.drop_duplicates(keep = 'first', inplace=True)\n",
    "    df_base_client_B[\"zip_code\"]=df_base_client_B[\"zip_code\"].apply(lambda x:str(x))\n",
    "    df_base_client_B=df_base_client_B.reset_index(drop=True)\n",
    "    \n",
    "    return(df_base_client_B)\n"
   ]
  },
  {
   "cell_type": "code",
   "execution_count": 140,
   "id": "b0c30a47",
   "metadata": {},
   "outputs": [],
   "source": [
    "#création de la colonne string pour la base client\n",
    "def get_string_client(df_base_client_B):\n",
    "    \n",
    "    n=len(df_base_client_B.columns)\n",
    "    df_base_client_B[\"s\"]=df_base_client_B[df_base_client_B.columns[0]]\n",
    "    for k in range  (1,n) :\n",
    "        df_base_client_B[\"s\"]=df_base_client_B[\"s\"]+df_base_client_B[df_base_client_B.columns[k]]\n",
    "    \n",
    "    return(df_base_client_B)"
   ]
  },
  {
   "cell_type": "code",
   "execution_count": 147,
   "id": "2d21456b",
   "metadata": {},
   "outputs": [],
   "source": [
    "#création de la colonne string pour df_A\n",
    "def get_string(df_A):\n",
    "    Reciever=['receiver_first_name','receiver_last_name','receiver_birth_date','receiver_bank_id','receiver_country_code','receiver_zip_code']\n",
    "    Sender=['sender_first_name','sender_last_name','sender_birth_date','sender_bank_id','sender_country_code','sender_zip_code']\n",
    "\n",
    "    df_A[\"sender_zip_code\"]=df_A[\"sender_zip_code\"].apply(lambda x:str(x))\n",
    "    df_A[\"receiver_zip_code\"]=df_A[\"receiver_zip_code\"].apply(lambda x:str(x))\n",
    "\n",
    "    n=len(Reciever)\n",
    "\n",
    "    df_A[\"s_reciever\"]=df_A[Reciever[0]]\n",
    "    df_A[\"s_sender\"]=df_A[Sender[0]]\n",
    "\n",
    "    for k in range(1,n):\n",
    "        df_A[\"s_reciever\"]=df_A[\"s_reciever\"]+df_A[Reciever[k]]\n",
    "        df_A[\"s_sender\"]=df_A[\"s_sender\"]+df_A[Sender[k]]\n",
    "    \n",
    "    return(df_A)"
   ]
  },
  {
   "cell_type": "code",
   "execution_count": 148,
   "id": "3c98c31d",
   "metadata": {},
   "outputs": [],
   "source": [
    "#prend pour argument les df_A et df_base_client_B et retourne une liste de sous dataset de pivot fixé\n",
    "#Qu'est ce qu'ils entendent par groupby\n",
    "def get_pivot(piv_A,piv_client_B,df_A,df_base_client_B):\n",
    "    L_df=[]\n",
    "    \n",
    "    L_piv=df_A[piv_A].drop_duplicates()\n",
    "\n",
    "        \n",
    "    a=0\n",
    "    for x in  (L_piv):\n",
    "        df_A_piv=df_A[df_A[piv_A]==x]\n",
    "        df_base_client_B_piv=df_base_client_B[df_base_client_B[piv_client_B]==x]\n",
    "        L_df.append([df_A_piv,df_base_client_B_piv])\n",
    "        a+=1\n",
    "    return (L_df)"
   ]
  },
  {
   "cell_type": "code",
   "execution_count": 143,
   "id": "b260016a",
   "metadata": {},
   "outputs": [],
   "source": [
    "#side=s_reciever ou s_sender\n",
    "def get_distance_levenstein(side,df_A,df_base_client_B,rowA,rowB):\n",
    "    sA=df_A.at[rowA,side]\n",
    "    sB=df_base_client_B.at[rowB,\"s\"]\n",
    "    return(Levenshtein.distance(sA,sB))"
   ]
  },
  {
   "cell_type": "code",
   "execution_count": 102,
   "id": "caa45050",
   "metadata": {},
   "outputs": [],
   "source": [
    "def get_min_levenstein(side,df_A,df_base_client_B,rowA):\n",
    "    min =get_distance_levenstein(side,df_A,df_base_client_B,rowA,df_base_client_B.index[0])\n",
    "    ind=df_base_client_B.index[0]\n",
    "    for y in df_base_client_B.index :\n",
    "        dist =get_distance_levenstein(side,df_A,df_base_client_B,rowA,y)\n",
    "        if dist <min :\n",
    "            \n",
    "            min=dist \n",
    "            ind=y\n",
    "        \n",
    "    return([ind,min])"
   ]
  },
  {
   "cell_type": "code",
   "execution_count": 149,
   "id": "a5d9f664",
   "metadata": {},
   "outputs": [],
   "source": [
    "#correction du sender sans pivot \n",
    "# df_A, df_base_client_B sont les deux dataframes\n",
    "def corrige_sender(df_A,df_base_client_B):\n",
    "        \n",
    "    for x in df_A.index:\n",
    "        print(x)\n",
    "        lev =get_min_levenstein(\"s_sender\",df_A,df_base_client_B,x)[0]\n",
    "        df_A.at[x,\"sender_first_name\"]=df_base_client_B.at[lev,\"First_name\"]\n",
    "        df_A.at[x,\"sender_last_name\"]=df_base_client_B.at[lev,\"Last_name\"]\n",
    "        df_A.at[x,\"sender_birth_date\"]=df_base_client_B.at[lev,\"birth_date\"]\n",
    "        df_A.at[x,\"sender_bank_id\"]=df_base_client_B.at[lev,\"bank_id\"]\n",
    "        df_A.at[x,\"sender_country_code\"]=df_base_client_B.at[lev,\"country_code\"]\n",
    "        df_A.at[x,\"sender_zip_code\"]=df_base_client_B.at[lev,\"zip_code\"]\n",
    "        \n",
    "        \n",
    "    return(df_A)\n",
    "\n",
    "def corrige_receiver(df_A,df_base_client_B):\n",
    "        \n",
    "    for x in df_A.index:\n",
    "        print(x)\n",
    "        lev =get_min_levenstein(\"s_reciever\",df_A,df_base_client_B,x)[0]\n",
    "        df_A.at[x,\"receiver_first_name\"]=df_base_client_B.at[lev,\"First_name\"]\n",
    "        df_A.at[x,\"receiver_last_name\"]=df_base_client_B.at[lev,\"Last_name\"]\n",
    "        df_A.at[x,\"receiver_birth_date\"]=df_base_client_B.at[lev,\"birth_date\"]\n",
    "        df_A.at[x,\"receiver_bank_id\"]=df_base_client_B.at[lev,\"bank_id\"]\n",
    "        df_A.at[x,\"receiver_country_code\"]=df_base_client_B.at[lev,\"country_code\"]\n",
    "        df_A.at[x,\"receiver_zip_code\"]=df_base_client_B.at[lev,\"zip_code\"]\n",
    "        \n",
    "        \n",
    "    return(df_A)\n"
   ]
  },
  {
   "cell_type": "code",
   "execution_count": 150,
   "id": "41032fdf",
   "metadata": {},
   "outputs": [],
   "source": [
    "#correction du sender avec pivot\n",
    "#df_A et df_base_client_B sont des sub dataframes comme présents dans L_pivot_sender\n",
    "#prendre pivot sender -> corriger sender -> concatener -> prendre pivot receiver -> corriger receiver -> concaterner\n",
    "def corrige_sender_pivot(L_pivot_sender):\n",
    "    for couple in L_pivot_sender :\n",
    "        df_A=couple[0]\n",
    "        df_base_client_B=couple[1]\n",
    "\n",
    "        \n",
    "        for x in df_A.index:\n",
    "            lev =get_min_levenstein(\"s_sender\",df_A,df_base_client_B,x)[0]\n",
    "            if lev[1]<4:\n",
    "                df_A.at[x,\"sender_first_name\"]=df_base_client_B.at[lev,\"First_name\"]\n",
    "                df_A.at[x,\"sender_last_name\"]=df_base_client_B.at[lev,\"Last_name\"]\n",
    "                df_A.at[x,\"sender_birth_date\"]=df_base_client_B.at[lev,\"birth_date\"]\n",
    "                df_A.at[x,\"sender_bank_id\"]=df_base_client_B.at[lev,\"bank_id\"]\n",
    "                df_A.at[x,\"sender_country_code\"]=df_base_client_B.at[lev,\"country_code\"]\n",
    "                df_A.at[x,\"sender_zip_code\"]=df_base_client_B.at[lev,\"zip_code\"]\n",
    "        \n",
    "        \n",
    "    return(L_pivot_sender)\n",
    "\n",
    "def corrige_receiver_pivot(L_pivot_receiver):\n",
    "    for couple in L_pivot_receiver :\n",
    "        df_A=couple[0]\n",
    "        df_base_client_B=couple[1]\n",
    "\n",
    "        \n",
    "        for x in df_A.index:\n",
    "            lev =get_min_levenstein(\"s_reciever\",df_A,df_base_client_B,x)[0]\n",
    "            if lev[1]<4:\n",
    "                df_A.at[x,\"receiver_first_name\"]=df_base_client_B.at[lev,\"First_name\"]\n",
    "                df_A.at[x,\"receiver_last_name\"]=df_base_client_B.at[lev,\"Last_name\"]\n",
    "                df_A.at[x,\"receiver_birth_date\"]=df_base_client_B.at[lev,\"birth_date\"]\n",
    "                df_A.at[x,\"receiver_bank_id\"]=df_base_client_B.at[lev,\"bank_id\"]\n",
    "                df_A.at[x,\"receiver_country_code\"]=df_base_client_B.at[lev,\"country_code\"]\n",
    "                df_A.at[x,\"receiver_zip_code\"]=df_base_client_B.at[lev,\"zip_code\"]\n",
    "\n",
    "        \n",
    "    return(L_pivot_receiver)"
   ]
  },
  {
   "cell_type": "code",
   "execution_count": 151,
   "id": "1b9b678b",
   "metadata": {},
   "outputs": [],
   "source": [
    "def concatenate(L_pivot):\n",
    "    L=[]\n",
    "    for x in L_pivot:\n",
    "        L.append(x[0])\n",
    "    \n",
    "    return(pd.concat(L))\n",
    "        \n",
    "        "
   ]
  },
  {
   "cell_type": "code",
   "execution_count": 145,
   "id": "d532f0f7",
   "metadata": {},
   "outputs": [],
   "source": [
    "def correction_pivot(df_A,df_base_client_B):\n",
    "    L_pivot_sender=get_pivot(\"sender_birth_date\",'birth_date',df_A,df_base_client_B)\n",
    "    print(\"1/4\")\n",
    "    L_pivot_sender_correct= corrige_sender_pivot(L_pivot_sender)\n",
    "    print(\"2/4\")\n",
    "    df_A=concatenate(L_pivot_sender_correct)\n",
    "    \n",
    "    L_pivot_receiver=get_pivot(\"receiver_birth_date\",'birth_date',df_A,df_base_client_B)\n",
    "    print(\"3/4\")\n",
    "    L_pivot_receiver_correct= corrige_receiver_pivot(L_pivot_receiver)\n",
    "    print(\"4/4\")\n",
    "    \n",
    "    df_A=concatenate(L_pivot_receiver_correct)\n",
    "    \n",
    "    return(df_A)\n",
    "    \n",
    "    "
   ]
  }
 ],
 "metadata": {
  "kernelspec": {
   "display_name": "Python 3.9.13 ('base')",
   "language": "python",
   "name": "python3"
  },
  "language_info": {
   "codemirror_mode": {
    "name": "ipython",
    "version": 3
   },
   "file_extension": ".py",
   "mimetype": "text/x-python",
   "name": "python",
   "nbconvert_exporter": "python",
   "pygments_lexer": "ipython3",
   "version": "3.9.13"
  },
  "vscode": {
   "interpreter": {
    "hash": "ab9821ecc98de011741dfaec3c017883b962b1388b9630c30169ab308e0d1578"
   }
  }
 },
 "nbformat": 4,
 "nbformat_minor": 5
}
