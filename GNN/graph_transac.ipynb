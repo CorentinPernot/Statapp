{
 "cells": [
  {
   "cell_type": "code",
   "execution_count": 9,
   "metadata": {},
   "outputs": [],
   "source": [
    "import pandas as pd\n",
    "import numpy as np\n",
    "import matplotlib.pyplot as plt\n",
    "from collections import Counter\n",
    "from sklearn.model_selection import train_test_split\n",
    "from sklearn.preprocessing import LabelEncoder\n",
    "import networkx as nx\n",
    "import torch\n",
    "import torch.nn as nn\n",
    "import torch.nn.functional as F"
   ]
  },
  {
   "cell_type": "code",
   "execution_count": 10,
   "metadata": {},
   "outputs": [],
   "source": [
    "import community as com"
   ]
  },
  {
   "cell_type": "code",
   "execution_count": 11,
   "metadata": {},
   "outputs": [],
   "source": [
    "df_A=pd.read_csv(\"/Users/corentinpla/Documents/C-2-Statap/transactions_A.csv\")\n",
    "df_B=pd.read_csv(\"/Users/corentinpla/Documents/C-2-Statap/transactions_B.csv\")"
   ]
  },
  {
   "cell_type": "code",
   "execution_count": 12,
   "metadata": {},
   "outputs": [],
   "source": [
    "def filter_df(time, df_to_filter):\n",
    "    \" Fonction qui renvoie un df trié en ne prenant que les dates du passé \"\n",
    "    \" mettre le time sous forme 'yyyy-mm-dd' \"\n",
    "    df_1 = df_to_filter[df_to_filter['timestamp']<time].copy()\n",
    "    return df_1"
   ]
  },
  {
   "cell_type": "code",
   "execution_count": 17,
   "metadata": {},
   "outputs": [],
   "source": [
    "df_A=filter_df(\"2019-01-01\",df_A)\n",
    "df_B=filter_df(\"2019-01-01\",df_B)"
   ]
  },
  {
   "cell_type": "code",
   "execution_count": 18,
   "metadata": {},
   "outputs": [],
   "source": [
    "df_merge=df_A.merge(df_B, left_on='tx_id', right_on='tx_id')"
   ]
  },
  {
   "cell_type": "code",
   "execution_count": 34,
   "metadata": {},
   "outputs": [
    {
     "data": {
      "text/html": [
       "<div>\n",
       "<style scoped>\n",
       "    .dataframe tbody tr th:only-of-type {\n",
       "        vertical-align: middle;\n",
       "    }\n",
       "\n",
       "    .dataframe tbody tr th {\n",
       "        vertical-align: top;\n",
       "    }\n",
       "\n",
       "    .dataframe thead th {\n",
       "        text-align: right;\n",
       "    }\n",
       "</style>\n",
       "<table border=\"1\" class=\"dataframe\">\n",
       "  <thead>\n",
       "    <tr style=\"text-align: right;\">\n",
       "      <th></th>\n",
       "      <th>tx_id</th>\n",
       "      <th>sender_account_id_x</th>\n",
       "      <th>receiver_account_id_x</th>\n",
       "      <th>tx_amount_x</th>\n",
       "      <th>timestamp_x</th>\n",
       "      <th>tx_type_x</th>\n",
       "      <th>sender_bank_id_x</th>\n",
       "      <th>sender_first_name_x</th>\n",
       "      <th>sender_last_name_x</th>\n",
       "      <th>sender_country_code_x</th>\n",
       "      <th>...</th>\n",
       "      <th>receiver_first_name_y</th>\n",
       "      <th>receiver_last_name_y</th>\n",
       "      <th>receiver_country_code_y</th>\n",
       "      <th>receiver_birth_date_y</th>\n",
       "      <th>receiver_zip_code_y</th>\n",
       "      <th>is_alert_solo_y</th>\n",
       "      <th>is_alert_pooled_y</th>\n",
       "      <th>sender_account</th>\n",
       "      <th>receiver_account</th>\n",
       "      <th>tx_amount</th>\n",
       "    </tr>\n",
       "  </thead>\n",
       "  <tbody>\n",
       "    <tr>\n",
       "      <th>0</th>\n",
       "      <td>1829</td>\n",
       "      <td>0.0</td>\n",
       "      <td>9011.0</td>\n",
       "      <td>117.83</td>\n",
       "      <td>2018-03-03</td>\n",
       "      <td>WIRE</td>\n",
       "      <td>B</td>\n",
       "      <td>Kurt</td>\n",
       "      <td>Brignac</td>\n",
       "      <td>FR</td>\n",
       "      <td>...</td>\n",
       "      <td>Joseph</td>\n",
       "      <td>Gable</td>\n",
       "      <td>FR</td>\n",
       "      <td>1933-12-23</td>\n",
       "      <td>62116</td>\n",
       "      <td>False</td>\n",
       "      <td>False</td>\n",
       "      <td>5754.0</td>\n",
       "      <td>9011.0</td>\n",
       "      <td>235.66</td>\n",
       "    </tr>\n",
       "    <tr>\n",
       "      <th>1</th>\n",
       "      <td>1830</td>\n",
       "      <td>0.0</td>\n",
       "      <td>7140.0</td>\n",
       "      <td>117.83</td>\n",
       "      <td>2018-03-03</td>\n",
       "      <td>WIRE</td>\n",
       "      <td>B</td>\n",
       "      <td>Kurt</td>\n",
       "      <td>Brignac</td>\n",
       "      <td>FR</td>\n",
       "      <td>...</td>\n",
       "      <td>Shelley</td>\n",
       "      <td>Spencer</td>\n",
       "      <td>FR</td>\n",
       "      <td>1944-12-23</td>\n",
       "      <td>34360</td>\n",
       "      <td>False</td>\n",
       "      <td>False</td>\n",
       "      <td>5754.0</td>\n",
       "      <td>7140.0</td>\n",
       "      <td>235.66</td>\n",
       "    </tr>\n",
       "    <tr>\n",
       "      <th>2</th>\n",
       "      <td>1838</td>\n",
       "      <td>2121.0</td>\n",
       "      <td>0.0</td>\n",
       "      <td>21.21</td>\n",
       "      <td>2018-03-03</td>\n",
       "      <td>WIRE</td>\n",
       "      <td>A</td>\n",
       "      <td>Gabrielle</td>\n",
       "      <td>Evans</td>\n",
       "      <td>FR</td>\n",
       "      <td>...</td>\n",
       "      <td>Jack</td>\n",
       "      <td>Abeles</td>\n",
       "      <td>FR</td>\n",
       "      <td>1960-11-20</td>\n",
       "      <td>89000</td>\n",
       "      <td>True</td>\n",
       "      <td>False</td>\n",
       "      <td>2121.0</td>\n",
       "      <td>3674.0</td>\n",
       "      <td>42.42</td>\n",
       "    </tr>\n",
       "    <tr>\n",
       "      <th>3</th>\n",
       "      <td>2735</td>\n",
       "      <td>9621.0</td>\n",
       "      <td>0.0</td>\n",
       "      <td>168.11</td>\n",
       "      <td>2018-03-03</td>\n",
       "      <td>WIRE</td>\n",
       "      <td>A</td>\n",
       "      <td>Billy</td>\n",
       "      <td>Dozier</td>\n",
       "      <td>FR</td>\n",
       "      <td>...</td>\n",
       "      <td>Jack</td>\n",
       "      <td>Abeles</td>\n",
       "      <td>FR</td>\n",
       "      <td>1960-11-20</td>\n",
       "      <td>89000</td>\n",
       "      <td>False</td>\n",
       "      <td>False</td>\n",
       "      <td>9621.0</td>\n",
       "      <td>3674.0</td>\n",
       "      <td>336.22</td>\n",
       "    </tr>\n",
       "    <tr>\n",
       "      <th>4</th>\n",
       "      <td>3351</td>\n",
       "      <td>0.0</td>\n",
       "      <td>9521.0</td>\n",
       "      <td>134.86</td>\n",
       "      <td>2018-03-03</td>\n",
       "      <td>WIRE</td>\n",
       "      <td>B</td>\n",
       "      <td>Myong</td>\n",
       "      <td>Byrd</td>\n",
       "      <td>FR</td>\n",
       "      <td>...</td>\n",
       "      <td>Grace</td>\n",
       "      <td>Davison</td>\n",
       "      <td>FR</td>\n",
       "      <td>1920-08-01</td>\n",
       "      <td>72120</td>\n",
       "      <td>False</td>\n",
       "      <td>False</td>\n",
       "      <td>9674.0</td>\n",
       "      <td>9521.0</td>\n",
       "      <td>269.72</td>\n",
       "    </tr>\n",
       "    <tr>\n",
       "      <th>5</th>\n",
       "      <td>4198</td>\n",
       "      <td>0.0</td>\n",
       "      <td>9521.0</td>\n",
       "      <td>25.80</td>\n",
       "      <td>2018-03-03</td>\n",
       "      <td>WIRE</td>\n",
       "      <td>B</td>\n",
       "      <td>Penny</td>\n",
       "      <td>Dobson</td>\n",
       "      <td>FR</td>\n",
       "      <td>...</td>\n",
       "      <td>Grace</td>\n",
       "      <td>Davison</td>\n",
       "      <td>FR</td>\n",
       "      <td>1920-08-01</td>\n",
       "      <td>72120</td>\n",
       "      <td>False</td>\n",
       "      <td>False</td>\n",
       "      <td>3184.0</td>\n",
       "      <td>9521.0</td>\n",
       "      <td>51.60</td>\n",
       "    </tr>\n",
       "    <tr>\n",
       "      <th>6</th>\n",
       "      <td>1824</td>\n",
       "      <td>0.0</td>\n",
       "      <td>8982.0</td>\n",
       "      <td>117.83</td>\n",
       "      <td>2018-03-03</td>\n",
       "      <td>WIRE</td>\n",
       "      <td>B</td>\n",
       "      <td>Kurt</td>\n",
       "      <td>Brignac</td>\n",
       "      <td>FR</td>\n",
       "      <td>...</td>\n",
       "      <td>Carol</td>\n",
       "      <td>Spain</td>\n",
       "      <td>FR</td>\n",
       "      <td>1930-02-06</td>\n",
       "      <td>2220</td>\n",
       "      <td>False</td>\n",
       "      <td>False</td>\n",
       "      <td>5754.0</td>\n",
       "      <td>8982.0</td>\n",
       "      <td>235.66</td>\n",
       "    </tr>\n",
       "    <tr>\n",
       "      <th>7</th>\n",
       "      <td>1801</td>\n",
       "      <td>0.0</td>\n",
       "      <td>6970.0</td>\n",
       "      <td>158.10</td>\n",
       "      <td>2018-03-03</td>\n",
       "      <td>WIRE</td>\n",
       "      <td>B</td>\n",
       "      <td>Alfred</td>\n",
       "      <td>Newberry</td>\n",
       "      <td>FR</td>\n",
       "      <td>...</td>\n",
       "      <td>Lois</td>\n",
       "      <td>Boulos</td>\n",
       "      <td>FR</td>\n",
       "      <td>1926-08-21</td>\n",
       "      <td>62270</td>\n",
       "      <td>False</td>\n",
       "      <td>False</td>\n",
       "      <td>3685.0</td>\n",
       "      <td>6970.0</td>\n",
       "      <td>316.20</td>\n",
       "    </tr>\n",
       "    <tr>\n",
       "      <th>8</th>\n",
       "      <td>1808</td>\n",
       "      <td>0.0</td>\n",
       "      <td>450.0</td>\n",
       "      <td>158.10</td>\n",
       "      <td>2018-03-03</td>\n",
       "      <td>WIRE</td>\n",
       "      <td>B</td>\n",
       "      <td>Alfred</td>\n",
       "      <td>Newberry</td>\n",
       "      <td>FR</td>\n",
       "      <td>...</td>\n",
       "      <td>Walter</td>\n",
       "      <td>Calhoun</td>\n",
       "      <td>FR</td>\n",
       "      <td>1943-06-29</td>\n",
       "      <td>41300</td>\n",
       "      <td>False</td>\n",
       "      <td>False</td>\n",
       "      <td>3685.0</td>\n",
       "      <td>450.0</td>\n",
       "      <td>316.20</td>\n",
       "    </tr>\n",
       "    <tr>\n",
       "      <th>9</th>\n",
       "      <td>1809</td>\n",
       "      <td>0.0</td>\n",
       "      <td>9873.0</td>\n",
       "      <td>502.70</td>\n",
       "      <td>2018-03-03</td>\n",
       "      <td>CHECK</td>\n",
       "      <td>B</td>\n",
       "      <td>Griselda</td>\n",
       "      <td>Beamon</td>\n",
       "      <td>FR</td>\n",
       "      <td>...</td>\n",
       "      <td>Allyson</td>\n",
       "      <td>Laxton</td>\n",
       "      <td>FR</td>\n",
       "      <td>1982-07-07</td>\n",
       "      <td>80135</td>\n",
       "      <td>False</td>\n",
       "      <td>False</td>\n",
       "      <td>1515.0</td>\n",
       "      <td>9873.0</td>\n",
       "      <td>1005.40</td>\n",
       "    </tr>\n",
       "  </tbody>\n",
       "</table>\n",
       "<p>10 rows × 42 columns</p>\n",
       "</div>"
      ],
      "text/plain": [
       "   tx_id  sender_account_id_x  receiver_account_id_x  tx_amount_x timestamp_x  \\\n",
       "0   1829                  0.0                 9011.0       117.83  2018-03-03   \n",
       "1   1830                  0.0                 7140.0       117.83  2018-03-03   \n",
       "2   1838               2121.0                    0.0        21.21  2018-03-03   \n",
       "3   2735               9621.0                    0.0       168.11  2018-03-03   \n",
       "4   3351                  0.0                 9521.0       134.86  2018-03-03   \n",
       "5   4198                  0.0                 9521.0        25.80  2018-03-03   \n",
       "6   1824                  0.0                 8982.0       117.83  2018-03-03   \n",
       "7   1801                  0.0                 6970.0       158.10  2018-03-03   \n",
       "8   1808                  0.0                  450.0       158.10  2018-03-03   \n",
       "9   1809                  0.0                 9873.0       502.70  2018-03-03   \n",
       "\n",
       "  tx_type_x sender_bank_id_x sender_first_name_x sender_last_name_x  \\\n",
       "0      WIRE                B                Kurt            Brignac   \n",
       "1      WIRE                B                Kurt            Brignac   \n",
       "2      WIRE                A           Gabrielle              Evans   \n",
       "3      WIRE                A               Billy             Dozier   \n",
       "4      WIRE                B               Myong               Byrd   \n",
       "5      WIRE                B               Penny             Dobson   \n",
       "6      WIRE                B                Kurt            Brignac   \n",
       "7      WIRE                B              Alfred           Newberry   \n",
       "8      WIRE                B              Alfred           Newberry   \n",
       "9     CHECK                B            Griselda             Beamon   \n",
       "\n",
       "  sender_country_code_x  ... receiver_first_name_y  receiver_last_name_y  \\\n",
       "0                    FR  ...                Joseph                 Gable   \n",
       "1                    FR  ...               Shelley               Spencer   \n",
       "2                    FR  ...                  Jack                Abeles   \n",
       "3                    FR  ...                  Jack                Abeles   \n",
       "4                    FR  ...                 Grace               Davison   \n",
       "5                    FR  ...                 Grace               Davison   \n",
       "6                    FR  ...                 Carol                 Spain   \n",
       "7                    FR  ...                  Lois                Boulos   \n",
       "8                    FR  ...                Walter               Calhoun   \n",
       "9                    FR  ...               Allyson                Laxton   \n",
       "\n",
       "  receiver_country_code_y receiver_birth_date_y receiver_zip_code_y  \\\n",
       "0                      FR            1933-12-23               62116   \n",
       "1                      FR            1944-12-23               34360   \n",
       "2                      FR            1960-11-20               89000   \n",
       "3                      FR            1960-11-20               89000   \n",
       "4                      FR            1920-08-01               72120   \n",
       "5                      FR            1920-08-01               72120   \n",
       "6                      FR            1930-02-06                2220   \n",
       "7                      FR            1926-08-21               62270   \n",
       "8                      FR            1943-06-29               41300   \n",
       "9                      FR            1982-07-07               80135   \n",
       "\n",
       "  is_alert_solo_y is_alert_pooled_y  sender_account  receiver_account  \\\n",
       "0           False             False          5754.0            9011.0   \n",
       "1           False             False          5754.0            7140.0   \n",
       "2            True             False          2121.0            3674.0   \n",
       "3           False             False          9621.0            3674.0   \n",
       "4           False             False          9674.0            9521.0   \n",
       "5           False             False          3184.0            9521.0   \n",
       "6           False             False          5754.0            8982.0   \n",
       "7           False             False          3685.0            6970.0   \n",
       "8           False             False          3685.0             450.0   \n",
       "9           False             False          1515.0            9873.0   \n",
       "\n",
       "   tx_amount  \n",
       "0     235.66  \n",
       "1     235.66  \n",
       "2      42.42  \n",
       "3     336.22  \n",
       "4     269.72  \n",
       "5      51.60  \n",
       "6     235.66  \n",
       "7     316.20  \n",
       "8     316.20  \n",
       "9    1005.40  \n",
       "\n",
       "[10 rows x 42 columns]"
      ]
     },
     "execution_count": 34,
     "metadata": {},
     "output_type": "execute_result"
    }
   ],
   "source": [
    "df_merge.head(10)"
   ]
  },
  {
   "cell_type": "code",
   "execution_count": 19,
   "metadata": {},
   "outputs": [],
   "source": [
    "df_merge=df_merge.fillna(0)"
   ]
  },
  {
   "cell_type": "code",
   "execution_count": 20,
   "metadata": {},
   "outputs": [],
   "source": [
    "df_merge[\"sender_account\"]=df_merge[\"sender_account_id_x\"]+df_merge[\"sender_account_id_y\"]\n",
    "df_merge[\"receiver_account\"]=df_merge[\"receiver_account_id_x\"]+df_merge[\"receiver_account_id_y\"]\n",
    "df_merge[\"tx_amount\"]=df_merge[\"tx_amount_x\"]+df_merge[\"tx_amount_y\"]"
   ]
  },
  {
   "cell_type": "code",
   "execution_count": 33,
   "metadata": {},
   "outputs": [
    {
     "name": "stdout",
     "output_type": "stream",
     "text": [
      "Number of nodes: 5081\n",
      "Number of edges: 45991\n"
     ]
    },
    {
     "name": "stderr",
     "output_type": "stream",
     "text": [
      "/var/folders/54/ygl2prm92g7c7p73tl2p1y5w0000gn/T/ipykernel_1630/3639415084.py:31: FutureWarning: adjacency_matrix will return a scipy.sparse array instead of a matrix in Networkx 3.0.\n",
      "  adj_matrix = nx.adjacency_matrix(G).todense()\n"
     ]
    }
   ],
   "source": [
    "#ML\n",
    "#On oublie la variable temps \n",
    "#Plus un concatenate entre A et B mais un merge \n",
    "#Methode 1 : pytorch \n",
    "#Methode 2 : Inductive Graph Representation Learning for fraud detection\n",
    "#création du graph\n",
    "#multigraph orienté \n",
    "G=nx.MultiGraph()\n",
    "\n",
    "#création des noeuds du graph:\n",
    "G.add_nodes_from(df_merge[\"sender_account\"].unique(), type='sender')\n",
    "G.add_nodes_from(df_merge[\"receiver_account\"].unique(), type='receiver')\n",
    "\n",
    "#add edge \n",
    "a=0\n",
    "for index,row in df_merge.iterrows ():\n",
    "    a+=1\n",
    "\n",
    "    amount=row[\"tx_amount\"]\n",
    "\n",
    "    G.add_edge(row['sender_account'],row[\"receiver_account\"],amount = amount)\n",
    "\n",
    "# Get the number of nodes and edges in the graph\n",
    "num_nodes = G.number_of_nodes()\n",
    "num_edges = G.number_of_edges()\n",
    "\n",
    "# Print the number of nodes and edges\n",
    "print(\"Number of nodes:\", num_nodes)\n",
    "print(\"Number of edges:\", num_edges)\n",
    "\n",
    "adj_matrix = nx.adjacency_matrix(G).todense()\n",
    "\n",
    "edge_list = list(G.edges(data=True))"
   ]
  },
  {
   "cell_type": "code",
   "execution_count": 38,
   "metadata": {},
   "outputs": [
    {
     "data": {
      "text/plain": [
       "45991"
      ]
     },
     "execution_count": 38,
     "metadata": {},
     "output_type": "execute_result"
    }
   ],
   "source": [
    "len(edge_list)"
   ]
  },
  {
   "cell_type": "code",
   "execution_count": 50,
   "metadata": {},
   "outputs": [],
   "source": [
    "class FraudGNN(nn.Module):\n",
    "    def __init__(self, input_dim, hidden_dim):\n",
    "        super(FraudGNN, self).__init__()\n",
    "        self.fc1 = nn.Linear(input_dim, hidden_dim)\n",
    "        self.fc2 = nn.Linear(hidden_dim, 1)\n",
    "        \n",
    "    def forward(self, x):\n",
    "        x = self.fc1(x)\n",
    "        x = F.relu(x)\n",
    "        x = self.fc2(x)\n",
    "        return x.squeeze(-1)"
   ]
  },
  {
   "cell_type": "code",
   "execution_count": 51,
   "metadata": {},
   "outputs": [],
   "source": [
    "x_train = []\n",
    "for edge in edge_list[:10000]:\n",
    "    edge_values = list(edge[2].values())\n",
    "    edge_values = [float(i[0]) if type(i) == tuple and type(i[0]) == str else i[0] if type(i) == tuple else i for i in edge_values]\n",
    "    x_train.append(edge_values)\n",
    "x_train = torch.tensor(x_train , dtype=torch.float)\n",
    "\n",
    "x_test=[]\n",
    "for edge in edge_list[10000:]:\n",
    "    edge_values = list(edge[2].values())\n",
    "    edge_values = [float(i[0]) if type(i) == tuple and type(i[0]) == str else i[0] if type(i) == tuple else i for i in edge_values]\n",
    "    x_test.append(edge_values)\n",
    "x_test = torch.tensor(x_test , dtype=torch.float)"
   ]
  },
  {
   "cell_type": "code",
   "execution_count": 52,
   "metadata": {},
   "outputs": [],
   "source": [
    "y_train = torch.tensor(df_merge[:10000]['is_alert_pooled_y'].values, dtype=torch.float)\n",
    "y_test=torch.tensor(df_merge[10000:]['is_alert_pooled_y'].values, dtype=torch.float)"
   ]
  },
  {
   "cell_type": "code",
   "execution_count": 55,
   "metadata": {},
   "outputs": [],
   "source": [
    "# Define the model\n",
    "input_dim = len(x_train[0])\n",
    "hidden_dim = 16\n",
    "model = FraudGNN(input_dim, hidden_dim)\n",
    "num_epochs=201\n",
    "\n",
    "# Define the loss function and optimizer\n",
    "criterion = nn.BCEWithLogitsLoss()\n",
    "optimizer = torch.optim.Adam(model.parameters(), lr=0.01)"
   ]
  },
  {
   "cell_type": "code",
   "execution_count": 56,
   "metadata": {},
   "outputs": [
    {
     "name": "stdout",
     "output_type": "stream",
     "text": [
      "Epoch: 0, Loss: 122.7416763305664\n",
      "Epoch: 20, Loss: 0.1649675965309143\n",
      "Epoch: 40, Loss: 0.2023872286081314\n",
      "Epoch: 60, Loss: 0.20553725957870483\n",
      "Epoch: 80, Loss: 0.20295275747776031\n",
      "Epoch: 100, Loss: 0.19932691752910614\n",
      "Epoch: 120, Loss: 0.195427805185318\n",
      "Epoch: 140, Loss: 0.19141945242881775\n",
      "Epoch: 160, Loss: 0.18736447393894196\n",
      "Epoch: 180, Loss: 0.18329878151416779\n",
      "Epoch: 200, Loss: 0.17924432456493378\n"
     ]
    }
   ],
   "source": [
    "# Train the model\n",
    "for i in range(num_epochs):\n",
    "    # Forward pass\n",
    "    output = model(x_train)\n",
    "    # Compute the loss\n",
    "    loss = criterion(output, y_train)\n",
    "    if i % 20 == 0:\n",
    "        print(f'Epoch: {i}, Loss: {loss.item()}')\n",
    "    # Zero the gradients\n",
    "    optimizer.zero_grad()\n",
    "    # Perform backpropagation\n",
    "    loss.backward()\n",
    "    # Update the parameters\n",
    "    optimizer.step()"
   ]
  },
  {
   "cell_type": "code",
   "execution_count": 60,
   "metadata": {},
   "outputs": [
    {
     "data": {
      "text/plain": [
       "tensor([ -202.9000,   -42.6846,   -42.6846,  ...,   -22.7400,    -7.2805,\n",
       "        -5677.3838], grad_fn=<SqueezeBackward1>)"
      ]
     },
     "execution_count": 60,
     "metadata": {},
     "output_type": "execute_result"
    }
   ],
   "source": [
    "model(x_test)"
   ]
  },
  {
   "cell_type": "code",
   "execution_count": 62,
   "metadata": {},
   "outputs": [],
   "source": [
    "#########################################new model##################################\n",
    "from torch_geometric.datasets import Planetoid\n",
    "from torch_geometric.transforms import NormalizeFeatures"
   ]
  },
  {
   "cell_type": "code",
   "execution_count": 64,
   "metadata": {},
   "outputs": [
    {
     "name": "stderr",
     "output_type": "stream",
     "text": [
      "Downloading https://github.com/kimiyoung/planetoid/raw/master/data/ind.cora.x\n",
      "Downloading https://github.com/kimiyoung/planetoid/raw/master/data/ind.cora.tx\n",
      "Downloading https://github.com/kimiyoung/planetoid/raw/master/data/ind.cora.allx\n",
      "Downloading https://github.com/kimiyoung/planetoid/raw/master/data/ind.cora.y\n",
      "Downloading https://github.com/kimiyoung/planetoid/raw/master/data/ind.cora.ty\n",
      "Downloading https://github.com/kimiyoung/planetoid/raw/master/data/ind.cora.ally\n",
      "Downloading https://github.com/kimiyoung/planetoid/raw/master/data/ind.cora.graph\n",
      "Downloading https://github.com/kimiyoung/planetoid/raw/master/data/ind.cora.test.index\n",
      "Processing...\n",
      "Done!\n"
     ]
    }
   ],
   "source": [
    "dataset = Planetoid(root='data/Planetoid', name='Cora', transform=NormalizeFeatures())"
   ]
  },
  {
   "cell_type": "code",
   "execution_count": 68,
   "metadata": {},
   "outputs": [
    {
     "name": "stdout",
     "output_type": "stream",
     "text": [
      "tensor([3, 4, 4,  ..., 3, 3, 3])\n"
     ]
    }
   ],
   "source": [
    "print(dataset.y)"
   ]
  },
  {
   "cell_type": "code",
   "execution_count": 63,
   "metadata": {},
   "outputs": [
    {
     "ename": "AttributeError",
     "evalue": "'DataFrame' object has no attribute 'num_features'",
     "output_type": "error",
     "traceback": [
      "\u001b[0;31m---------------------------------------------------------------------------\u001b[0m",
      "\u001b[0;31mAttributeError\u001b[0m                            Traceback (most recent call last)",
      "\u001b[0;32m/var/folders/54/ygl2prm92g7c7p73tl2p1y5w0000gn/T/ipykernel_1630/2593673217.py\u001b[0m in \u001b[0;36m<module>\u001b[0;34m\u001b[0m\n\u001b[0;32m----> 1\u001b[0;31m \u001b[0mdf_A\u001b[0m\u001b[0;34m.\u001b[0m\u001b[0mnum_features\u001b[0m\u001b[0;34m\u001b[0m\u001b[0;34m\u001b[0m\u001b[0m\n\u001b[0m",
      "\u001b[0;32m~/opt/anaconda3/lib/python3.9/site-packages/pandas/core/generic.py\u001b[0m in \u001b[0;36m__getattr__\u001b[0;34m(self, name)\u001b[0m\n\u001b[1;32m   5573\u001b[0m         ):\n\u001b[1;32m   5574\u001b[0m             \u001b[0;32mreturn\u001b[0m \u001b[0mself\u001b[0m\u001b[0;34m[\u001b[0m\u001b[0mname\u001b[0m\u001b[0;34m]\u001b[0m\u001b[0;34m\u001b[0m\u001b[0;34m\u001b[0m\u001b[0m\n\u001b[0;32m-> 5575\u001b[0;31m         \u001b[0;32mreturn\u001b[0m \u001b[0mobject\u001b[0m\u001b[0;34m.\u001b[0m\u001b[0m__getattribute__\u001b[0m\u001b[0;34m(\u001b[0m\u001b[0mself\u001b[0m\u001b[0;34m,\u001b[0m \u001b[0mname\u001b[0m\u001b[0;34m)\u001b[0m\u001b[0;34m\u001b[0m\u001b[0;34m\u001b[0m\u001b[0m\n\u001b[0m\u001b[1;32m   5576\u001b[0m \u001b[0;34m\u001b[0m\u001b[0m\n\u001b[1;32m   5577\u001b[0m     \u001b[0;32mdef\u001b[0m \u001b[0m__setattr__\u001b[0m\u001b[0;34m(\u001b[0m\u001b[0mself\u001b[0m\u001b[0;34m,\u001b[0m \u001b[0mname\u001b[0m\u001b[0;34m:\u001b[0m \u001b[0mstr\u001b[0m\u001b[0;34m,\u001b[0m \u001b[0mvalue\u001b[0m\u001b[0;34m)\u001b[0m \u001b[0;34m->\u001b[0m \u001b[0;32mNone\u001b[0m\u001b[0;34m:\u001b[0m\u001b[0;34m\u001b[0m\u001b[0;34m\u001b[0m\u001b[0m\n",
      "\u001b[0;31mAttributeError\u001b[0m: 'DataFrame' object has no attribute 'num_features'"
     ]
    }
   ],
   "source": [
    "df_A.num_features"
   ]
  }
 ],
 "metadata": {
  "kernelspec": {
   "display_name": "Python 3.9.13 ('base')",
   "language": "python",
   "name": "python3"
  },
  "language_info": {
   "codemirror_mode": {
    "name": "ipython",
    "version": 3
   },
   "file_extension": ".py",
   "mimetype": "text/x-python",
   "name": "python",
   "nbconvert_exporter": "python",
   "pygments_lexer": "ipython3",
   "version": "3.9.13"
  },
  "orig_nbformat": 4,
  "vscode": {
   "interpreter": {
    "hash": "ab9821ecc98de011741dfaec3c017883b962b1388b9630c30169ab308e0d1578"
   }
  }
 },
 "nbformat": 4,
 "nbformat_minor": 2
}
