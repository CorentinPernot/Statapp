{
 "cells": [
  {
   "cell_type": "code",
   "execution_count": 3,
   "metadata": {},
   "outputs": [],
   "source": [
    "import pandas as pd"
   ]
  },
  {
   "cell_type": "code",
   "execution_count": 117,
   "metadata": {},
   "outputs": [],
   "source": [
    "df1=pd.read_csv(\"/Users/corentinpla/Documents/Statap/transactions_A.csv\")\n",
    "df2=pd.read_csv(\"/Users/corentinpla/Documents/Statap/transactions_B.csv\")"
   ]
  },
  {
   "cell_type": "code",
   "execution_count": 118,
   "metadata": {},
   "outputs": [],
   "source": [
    "#a-t-on le droit de se servir de \"sender_account_id\" et de \"receiver_account_id\"?\n",
    "\n",
    "df1=df1.drop(['tx_id', 'sender_account_id', 'receiver_account_id',\"is_alert_solo\",\"is_alert_pooled\"],axis=1)\n",
    "df2=df2.drop(['tx_id', 'sender_account_id', 'receiver_account_id',\"is_alert_solo\",\"is_alert_pooled\"],axis=1)"
   ]
  },
  {
   "cell_type": "code",
   "execution_count": 119,
   "metadata": {},
   "outputs": [],
   "source": [
    "df1[\"sender_zip_code\"]=df1[\"sender_zip_code\"].apply(lambda x:str(x))\n",
    "df1[\"receiver_zip_code\"]=df1[\"receiver_zip_code\"].apply(lambda x:str(x))\n",
    "df1[\"tx_amount\"]=df1[\"tx_amount\"].apply(lambda x:str(x))\n",
    "\n",
    "df2[\"sender_zip_code\"]=df2[\"sender_zip_code\"].apply(lambda x:str(x))\n",
    "df2[\"receiver_zip_code\"]=df2[\"receiver_zip_code\"].apply(lambda x:str(x))\n",
    "df2[\"tx_amount\"]=df2[\"tx_amount\"].apply(lambda x:str(x))"
   ]
  },
  {
   "cell_type": "code",
   "execution_count": 120,
   "metadata": {},
   "outputs": [],
   "source": [
    "df1_bis=df1.copy()\n",
    "df2_bis=df2.copy()"
   ]
  },
  {
   "cell_type": "code",
   "execution_count": 27,
   "metadata": {},
   "outputs": [
    {
     "name": "stdout",
     "output_type": "stream",
     "text": [
      "(837981, 20)\n",
      "(837981,)\n"
     ]
    }
   ],
   "source": [
    "#La clée primaire est bien \"tx_id\"\n",
    "print(df1.shape)\n",
    "print(df1[\"tx_id\"].drop_duplicates().shape)\n",
    "print(df2.shape)\n",
    "print(df2[\"tx_id\"].drop_duplicates().shape)"
   ]
  },
  {
   "cell_type": "code",
   "execution_count": 25,
   "metadata": {},
   "outputs": [
    {
     "data": {
      "text/plain": [
       "(212649, 20)"
      ]
     },
     "execution_count": 25,
     "metadata": {},
     "output_type": "execute_result"
    }
   ],
   "source": [
    "#nombre de transactions dans les deux dataframes est ce qu'on est censé avoir accés à cette information ?? \n",
    "df2[df2[\"tx_id\"].isin(df1[\"tx_id\"])].shape "
   ]
  },
  {
   "cell_type": "code",
   "execution_count": 31,
   "metadata": {},
   "outputs": [],
   "source": [
    "#selection des transactions dans les deux dataframes \n",
    "df_both_2=df2[df2[\"tx_id\"].isin(df1[\"tx_id\"])].shape \n",
    "df_both_1=df1[df1[\"tx_id\"].isin(df2[\"tx_id\"])].shape "
   ]
  },
  {
   "cell_type": "code",
   "execution_count": 32,
   "metadata": {},
   "outputs": [],
   "source": [
    "def levenshtein(seq1, seq2):\n",
    "    size_x = len(seq1) + 1\n",
    "    size_y = len(seq2) + 1\n",
    "    matrix = np.zeros ((size_x, size_y))\n",
    "    for x in range(size_x):\n",
    "        matrix [x, 0] = x\n",
    "    for y in range(size_y):\n",
    "        matrix [0, y] = y\n",
    "\n",
    "    for x in range(1, size_x):\n",
    "        for y in range(1, size_y):\n",
    "            if seq1[x-1] == seq2[y-1]:\n",
    "                matrix [x,y] = min(\n",
    "                    matrix[x-1, y] + 1,\n",
    "                    matrix[x-1, y-1],\n",
    "                    matrix[x, y-1] + 1\n",
    "                )\n",
    "            else:\n",
    "                matrix [x,y] = min(\n",
    "                    matrix[x-1,y] + 1,\n",
    "                    matrix[x-1,y-1] + 1,\n",
    "                    matrix[x,y-1] + 1\n",
    "                )\n",
    "    return (matrix[size_x - 1, size_y - 1])\n"
   ]
  },
  {
   "cell_type": "code",
   "execution_count": null,
   "metadata": {},
   "outputs": [],
   "source": [
    "#retourne liste de sub Dataframes dans le cas de plusieurs pivots\n",
    "#L : liste des pivots (colonnes)\n",
    "def get_pivot(L): \n",
    "    return()\n"
   ]
  },
  {
   "cell_type": "code",
   "execution_count": 43,
   "metadata": {},
   "outputs": [],
   "source": [
    "def pivot(piv,df_A,df_B):\n",
    "    L_df=[]\n",
    "    L_A=df_A[piv].drop_duplicates()\n",
    "    L_B=df_B[piv].drop_duplicates()\n",
    "    L_piv=list(set(L_A) & set(L_B))\n",
    "\n",
    "\n",
    "    for x in  (L_piv):\n",
    "        df_A_piv=df_A[df_A[piv]==x]\n",
    "        df_B_piv=df_B[df_B[piv]==x]\n",
    "        L_df.append((df_A_piv,df_B_piv))\n",
    "    \n",
    "    return (L_df)\n",
    "\n"
   ]
  },
  {
   "cell_type": "code",
   "execution_count": 128,
   "metadata": {},
   "outputs": [],
   "source": [
    "#dfA et dfB sont déjà des sub dataframes \n",
    "def get_string(dfA,dfB,pivot):\n",
    "    dfA_bis=dfA.drop(pivot,axis=1)\n",
    "    dfB_bis=dfB.drop(pivot,axis=1)\n",
    "    n=len(dfA_bis.columns)\n",
    "    dfA_bis[\"s\"]=dfA_bis[dfA_bis.columns[0]]\n",
    "    dfB_bis[\"s\"]=dfB_bis[dfB_bis.columns[0]]\n",
    "\n",
    "    for k in range  (1,n) :\n",
    "        dfA_bis[\"s\"]=dfA_bis[\"s\"]+dfA_bis[dfA_bis.columns[k]]\n",
    "        dfB_bis[\"s\"]=dfB_bis[\"s\"]+dfB_bis[dfB_bis.columns[k]]\n",
    "    \n",
    "    return(dfA_bis,dfB_bis)\n",
    "    \n"
   ]
  },
  {
   "cell_type": "code",
   "execution_count": 126,
   "metadata": {},
   "outputs": [],
   "source": [
    "#dfA et dfB sub dataframes qui ont la colonne s\n",
    "def get_distance_levenstein(dfA,dfB,rowA,rowB):\n",
    "    sA=dfA.at[\"s\",rowA]\n",
    "    sB=dfB.at[\"s\",rowB]\n",
    "    return(levenshtein(sA,sB))\n",
    "    "
   ]
  },
  {
   "cell_type": "code",
   "execution_count": null,
   "metadata": {},
   "outputs": [],
   "source": [
    "#Comment on gère le fait que la transaction n'est pas forcement dans les deux dataframes \n",
    "def get_min_levenstein(dfA,dfB):\n",
    "    for x in dfA.index :\n",
    "        for y in dfB.index :\n"
   ]
  },
  {
   "cell_type": "code",
   "execution_count": 67,
   "metadata": {},
   "outputs": [],
   "source": [
    "df1_bis=df1.copy()"
   ]
  },
  {
   "cell_type": "code",
   "execution_count": null,
   "metadata": {},
   "outputs": [],
   "source": []
  },
  {
   "cell_type": "code",
   "execution_count": 72,
   "metadata": {},
   "outputs": [],
   "source": [
    "df1_bis[\"s\"]=df1_bis[\"receiver_last_name\"]+df1_bis[\"receiver_first_name\"]"
   ]
  },
  {
   "cell_type": "code",
   "execution_count": 71,
   "metadata": {},
   "outputs": [
    {
     "data": {
      "text/plain": [
       "0         Alvarez\n",
       "1           Gable\n",
       "2         Spencer\n",
       "3            Cole\n",
       "4           Fiume\n",
       "           ...   \n",
       "837976    Linkous\n",
       "837977    Cuadras\n",
       "837978    Johnson\n",
       "837979      Wynne\n",
       "837980      Bonar\n",
       "Name: receiver_last_name, Length: 837981, dtype: object"
      ]
     },
     "execution_count": 71,
     "metadata": {},
     "output_type": "execute_result"
    }
   ],
   "source": [
    "df1_bis[\"receiver_last_name\"]"
   ]
  },
  {
   "cell_type": "code",
   "execution_count": 73,
   "metadata": {},
   "outputs": [
    {
     "data": {
      "text/plain": [
       "0          AlvarezMaritn\n",
       "1            GableJoseph\n",
       "2         SpencerShelley\n",
       "3            ColeAmbrose\n",
       "4              FiumeJose\n",
       "               ...      \n",
       "837976    LinkousRichard\n",
       "837977       CuadrasRuth\n",
       "837978        JohnsonVan\n",
       "837979      WynneRichard\n",
       "837980      BonarLynelle\n",
       "Name: s, Length: 837981, dtype: object"
      ]
     },
     "execution_count": 73,
     "metadata": {},
     "output_type": "execute_result"
    }
   ],
   "source": [
    "df1_bis[\"s\"]"
   ]
  },
  {
   "cell_type": "code",
   "execution_count": 74,
   "metadata": {},
   "outputs": [
    {
     "data": {
      "text/plain": [
       "Index(['tx_amount', 'timestamp', 'tx_type', 'sender_bank_id',\n",
       "       'sender_first_name', 'sender_last_name', 'sender_country_code',\n",
       "       'sender_birth_date', 'sender_zip_code', 'receiver_bank_id',\n",
       "       'receiver_first_name', 'receiver_last_name', 'receiver_country_code',\n",
       "       'receiver_birth_date', 'receiver_zip_code', 'is_alert_solo',\n",
       "       'is_alert_pooled', 's'],\n",
       "      dtype='object')"
      ]
     },
     "execution_count": 74,
     "metadata": {},
     "output_type": "execute_result"
    }
   ],
   "source": [
    "df1_bis.columns"
   ]
  },
  {
   "cell_type": "code",
   "execution_count": 75,
   "metadata": {},
   "outputs": [
    {
     "data": {
      "text/plain": [
       "tx_amount                float64\n",
       "timestamp                 object\n",
       "tx_type                   object\n",
       "sender_bank_id            object\n",
       "sender_first_name         object\n",
       "sender_last_name          object\n",
       "sender_country_code       object\n",
       "sender_birth_date         object\n",
       "sender_zip_code            int64\n",
       "receiver_bank_id          object\n",
       "receiver_first_name       object\n",
       "receiver_last_name        object\n",
       "receiver_country_code     object\n",
       "receiver_birth_date       object\n",
       "receiver_zip_code          int64\n",
       "is_alert_solo               bool\n",
       "is_alert_pooled             bool\n",
       "s                         object\n",
       "dtype: object"
      ]
     },
     "execution_count": 75,
     "metadata": {},
     "output_type": "execute_result"
    }
   ],
   "source": [
    "df1_bis.dtypes"
   ]
  },
  {
   "cell_type": "code",
   "execution_count": 68,
   "metadata": {},
   "outputs": [],
   "source": [
    "df2_bis=df2.copy()"
   ]
  },
  {
   "cell_type": "code",
   "execution_count": null,
   "metadata": {},
   "outputs": [],
   "source": [
    "\n",
    "def matching(dfA,dfB):\n",
    "    "
   ]
  },
  {
   "cell_type": "code",
   "execution_count": 38,
   "metadata": {},
   "outputs": [
    {
     "data": {
      "text/plain": [
       "[2, 3, 4]"
      ]
     },
     "execution_count": 38,
     "metadata": {},
     "output_type": "execute_result"
    }
   ],
   "source": [
    "list(set([1,2,3,4,5]) & set([2,3,4]))"
   ]
  },
  {
   "cell_type": "code",
   "execution_count": 45,
   "metadata": {},
   "outputs": [],
   "source": [
    "L_sender_first_name=pivot(\"sender_first_name\",df1,df2)"
   ]
  },
  {
   "cell_type": "code",
   "execution_count": 46,
   "metadata": {},
   "outputs": [
    {
     "data": {
      "text/plain": [
       "1439"
      ]
     },
     "execution_count": 46,
     "metadata": {},
     "output_type": "execute_result"
    }
   ],
   "source": [
    "len(L_sender_first_name)"
   ]
  },
  {
   "cell_type": "code",
   "execution_count": 52,
   "metadata": {},
   "outputs": [],
   "source": [
    "L=list(set(df1[\"sender_first_name\"].drop_duplicates()) & set(df2[\"sender_first_name\"].drop_duplicates()))"
   ]
  },
  {
   "cell_type": "code",
   "execution_count": 53,
   "metadata": {},
   "outputs": [
    {
     "data": {
      "text/plain": [
       "1439"
      ]
     },
     "execution_count": 53,
     "metadata": {},
     "output_type": "execute_result"
    }
   ],
   "source": [
    "len(L)"
   ]
  },
  {
   "cell_type": "code",
   "execution_count": 48,
   "metadata": {},
   "outputs": [
    {
     "data": {
      "text/plain": [
       "1726"
      ]
     },
     "execution_count": 48,
     "metadata": {},
     "output_type": "execute_result"
    }
   ],
   "source": [
    "df1[\"sender_first_name\"].drop_duplicates().count()"
   ]
  },
  {
   "cell_type": "code",
   "execution_count": 49,
   "metadata": {},
   "outputs": [
    {
     "data": {
      "text/plain": [
       "1551"
      ]
     },
     "execution_count": 49,
     "metadata": {},
     "output_type": "execute_result"
    }
   ],
   "source": [
    "df2[\"sender_first_name\"].drop_duplicates().count()"
   ]
  },
  {
   "cell_type": "code",
   "execution_count": 7,
   "metadata": {},
   "outputs": [
    {
     "data": {
      "text/html": [
       "<div>\n",
       "<style scoped>\n",
       "    .dataframe tbody tr th:only-of-type {\n",
       "        vertical-align: middle;\n",
       "    }\n",
       "\n",
       "    .dataframe tbody tr th {\n",
       "        vertical-align: top;\n",
       "    }\n",
       "\n",
       "    .dataframe thead th {\n",
       "        text-align: right;\n",
       "    }\n",
       "</style>\n",
       "<table border=\"1\" class=\"dataframe\">\n",
       "  <thead>\n",
       "    <tr style=\"text-align: right;\">\n",
       "      <th></th>\n",
       "      <th>tx_id</th>\n",
       "      <th>sender_account_id</th>\n",
       "      <th>receiver_account_id</th>\n",
       "      <th>tx_amount</th>\n",
       "      <th>timestamp</th>\n",
       "      <th>tx_type</th>\n",
       "      <th>sender_bank_id</th>\n",
       "      <th>sender_first_name</th>\n",
       "      <th>sender_last_name</th>\n",
       "      <th>sender_country_code</th>\n",
       "      <th>sender_birth_date</th>\n",
       "      <th>sender_zip_code</th>\n",
       "      <th>receiver_bank_id</th>\n",
       "      <th>receiver_first_name</th>\n",
       "      <th>receiver_last_name</th>\n",
       "      <th>receiver_country_code</th>\n",
       "      <th>receiver_birth_date</th>\n",
       "      <th>receiver_zip_code</th>\n",
       "      <th>is_alert_solo</th>\n",
       "      <th>is_alert_pooled</th>\n",
       "    </tr>\n",
       "  </thead>\n",
       "  <tbody>\n",
       "    <tr>\n",
       "      <th>0</th>\n",
       "      <td>3109</td>\n",
       "      <td>6822.0</td>\n",
       "      <td>NaN</td>\n",
       "      <td>229.97</td>\n",
       "      <td>2018-03-03</td>\n",
       "      <td>WIRE</td>\n",
       "      <td>A</td>\n",
       "      <td>Marie</td>\n",
       "      <td>Lee</td>\n",
       "      <td>FR</td>\n",
       "      <td>1937-08-23</td>\n",
       "      <td>27800</td>\n",
       "      <td>C</td>\n",
       "      <td>Maritn</td>\n",
       "      <td>Alvarez</td>\n",
       "      <td>FR</td>\n",
       "      <td>1930-08-29</td>\n",
       "      <td>89160</td>\n",
       "      <td>False</td>\n",
       "      <td>False</td>\n",
       "    </tr>\n",
       "    <tr>\n",
       "      <th>1</th>\n",
       "      <td>1829</td>\n",
       "      <td>NaN</td>\n",
       "      <td>9011.0</td>\n",
       "      <td>117.83</td>\n",
       "      <td>2018-03-03</td>\n",
       "      <td>WIRE</td>\n",
       "      <td>B</td>\n",
       "      <td>Kurt</td>\n",
       "      <td>Brignac</td>\n",
       "      <td>FR</td>\n",
       "      <td>1962-09-07</td>\n",
       "      <td>35660</td>\n",
       "      <td>A</td>\n",
       "      <td>Joseph</td>\n",
       "      <td>Gable</td>\n",
       "      <td>FR</td>\n",
       "      <td>1933-12-23</td>\n",
       "      <td>62116</td>\n",
       "      <td>False</td>\n",
       "      <td>False</td>\n",
       "    </tr>\n",
       "    <tr>\n",
       "      <th>2</th>\n",
       "      <td>1830</td>\n",
       "      <td>NaN</td>\n",
       "      <td>7140.0</td>\n",
       "      <td>117.83</td>\n",
       "      <td>2018-03-03</td>\n",
       "      <td>WIRE</td>\n",
       "      <td>B</td>\n",
       "      <td>Kurt</td>\n",
       "      <td>Brignac</td>\n",
       "      <td>FR</td>\n",
       "      <td>1962-09-07</td>\n",
       "      <td>35660</td>\n",
       "      <td>A</td>\n",
       "      <td>Shelley</td>\n",
       "      <td>Spencer</td>\n",
       "      <td>FR</td>\n",
       "      <td>1944-12-23</td>\n",
       "      <td>34360</td>\n",
       "      <td>False</td>\n",
       "      <td>False</td>\n",
       "    </tr>\n",
       "    <tr>\n",
       "      <th>3</th>\n",
       "      <td>1831</td>\n",
       "      <td>NaN</td>\n",
       "      <td>1822.0</td>\n",
       "      <td>526.02</td>\n",
       "      <td>2018-03-03</td>\n",
       "      <td>WIRE</td>\n",
       "      <td>C</td>\n",
       "      <td>Shelly</td>\n",
       "      <td>Jethva</td>\n",
       "      <td>CN</td>\n",
       "      <td>1961-06-29</td>\n",
       "      <td>65230</td>\n",
       "      <td>A</td>\n",
       "      <td>Ambrose</td>\n",
       "      <td>Cole</td>\n",
       "      <td>FR</td>\n",
       "      <td>1958-04-07</td>\n",
       "      <td>3800</td>\n",
       "      <td>False</td>\n",
       "      <td>False</td>\n",
       "    </tr>\n",
       "    <tr>\n",
       "      <th>4</th>\n",
       "      <td>1832</td>\n",
       "      <td>5390.0</td>\n",
       "      <td>NaN</td>\n",
       "      <td>35.79</td>\n",
       "      <td>2018-03-03</td>\n",
       "      <td>WIRE</td>\n",
       "      <td>A</td>\n",
       "      <td>Judy</td>\n",
       "      <td>James</td>\n",
       "      <td>FR</td>\n",
       "      <td>1942-04-08</td>\n",
       "      <td>42140</td>\n",
       "      <td>C</td>\n",
       "      <td>Jose</td>\n",
       "      <td>Fiume</td>\n",
       "      <td>FR</td>\n",
       "      <td>1981-08-28</td>\n",
       "      <td>66820</td>\n",
       "      <td>False</td>\n",
       "      <td>False</td>\n",
       "    </tr>\n",
       "  </tbody>\n",
       "</table>\n",
       "</div>"
      ],
      "text/plain": [
       "   tx_id  sender_account_id  receiver_account_id  tx_amount   timestamp  \\\n",
       "0   3109             6822.0                  NaN     229.97  2018-03-03   \n",
       "1   1829                NaN               9011.0     117.83  2018-03-03   \n",
       "2   1830                NaN               7140.0     117.83  2018-03-03   \n",
       "3   1831                NaN               1822.0     526.02  2018-03-03   \n",
       "4   1832             5390.0                  NaN      35.79  2018-03-03   \n",
       "\n",
       "  tx_type sender_bank_id sender_first_name sender_last_name  \\\n",
       "0    WIRE              A             Marie              Lee   \n",
       "1    WIRE              B              Kurt          Brignac   \n",
       "2    WIRE              B              Kurt          Brignac   \n",
       "3    WIRE              C            Shelly           Jethva   \n",
       "4    WIRE              A              Judy            James   \n",
       "\n",
       "  sender_country_code sender_birth_date  sender_zip_code receiver_bank_id  \\\n",
       "0                  FR        1937-08-23            27800                C   \n",
       "1                  FR        1962-09-07            35660                A   \n",
       "2                  FR        1962-09-07            35660                A   \n",
       "3                  CN        1961-06-29            65230                A   \n",
       "4                  FR        1942-04-08            42140                C   \n",
       "\n",
       "  receiver_first_name receiver_last_name receiver_country_code  \\\n",
       "0              Maritn            Alvarez                    FR   \n",
       "1              Joseph              Gable                    FR   \n",
       "2             Shelley            Spencer                    FR   \n",
       "3             Ambrose               Cole                    FR   \n",
       "4                Jose              Fiume                    FR   \n",
       "\n",
       "  receiver_birth_date  receiver_zip_code  is_alert_solo  is_alert_pooled  \n",
       "0          1930-08-29              89160          False            False  \n",
       "1          1933-12-23              62116          False            False  \n",
       "2          1944-12-23              34360          False            False  \n",
       "3          1958-04-07               3800          False            False  \n",
       "4          1981-08-28              66820          False            False  "
      ]
     },
     "execution_count": 7,
     "metadata": {},
     "output_type": "execute_result"
    }
   ],
   "source": [
    "df1.head()"
   ]
  },
  {
   "cell_type": "code",
   "execution_count": 17,
   "metadata": {},
   "outputs": [
    {
     "data": {
      "text/plain": [
       "(837981,)"
      ]
     },
     "execution_count": 17,
     "metadata": {},
     "output_type": "execute_result"
    }
   ],
   "source": [
    "df1[\"tx_id\"].drop_duplicates().shape"
   ]
  },
  {
   "cell_type": "code",
   "execution_count": 12,
   "metadata": {},
   "outputs": [],
   "source": [
    "df=df1[df1[\"sender_account_id\"]==6822]"
   ]
  },
  {
   "cell_type": "code",
   "execution_count": 14,
   "metadata": {},
   "outputs": [
    {
     "data": {
      "text/plain": [
       "(24, 20)"
      ]
     },
     "execution_count": 14,
     "metadata": {},
     "output_type": "execute_result"
    }
   ],
   "source": [
    "df.shape"
   ]
  },
  {
   "cell_type": "code",
   "execution_count": 9,
   "metadata": {},
   "outputs": [
    {
     "data": {
      "text/plain": [
       "(837981, 20)"
      ]
     },
     "execution_count": 9,
     "metadata": {},
     "output_type": "execute_result"
    }
   ],
   "source": [
    "df1.shape"
   ]
  },
  {
   "cell_type": "code",
   "execution_count": 11,
   "metadata": {},
   "outputs": [
    {
     "data": {
      "text/plain": [
       "(458066, 20)"
      ]
     },
     "execution_count": 11,
     "metadata": {},
     "output_type": "execute_result"
    }
   ],
   "source": [
    "df2.shape"
   ]
  },
  {
   "cell_type": "code",
   "execution_count": 8,
   "metadata": {},
   "outputs": [
    {
     "data": {
      "text/html": [
       "<div>\n",
       "<style scoped>\n",
       "    .dataframe tbody tr th:only-of-type {\n",
       "        vertical-align: middle;\n",
       "    }\n",
       "\n",
       "    .dataframe tbody tr th {\n",
       "        vertical-align: top;\n",
       "    }\n",
       "\n",
       "    .dataframe thead th {\n",
       "        text-align: right;\n",
       "    }\n",
       "</style>\n",
       "<table border=\"1\" class=\"dataframe\">\n",
       "  <thead>\n",
       "    <tr style=\"text-align: right;\">\n",
       "      <th></th>\n",
       "      <th>tx_id</th>\n",
       "      <th>sender_account_id</th>\n",
       "      <th>receiver_account_id</th>\n",
       "      <th>tx_amount</th>\n",
       "      <th>timestamp</th>\n",
       "      <th>tx_type</th>\n",
       "      <th>sender_bank_id</th>\n",
       "      <th>sender_first_name</th>\n",
       "      <th>sender_last_name</th>\n",
       "      <th>sender_country_code</th>\n",
       "      <th>sender_birth_date</th>\n",
       "      <th>sender_zip_code</th>\n",
       "      <th>receiver_bank_id</th>\n",
       "      <th>receiver_first_name</th>\n",
       "      <th>receiver_last_name</th>\n",
       "      <th>receiver_country_code</th>\n",
       "      <th>receiver_birth_date</th>\n",
       "      <th>receiver_zip_code</th>\n",
       "      <th>is_alert_solo</th>\n",
       "      <th>is_alert_pooled</th>\n",
       "    </tr>\n",
       "  </thead>\n",
       "  <tbody>\n",
       "    <tr>\n",
       "      <th>0</th>\n",
       "      <td>1364</td>\n",
       "      <td>NaN</td>\n",
       "      <td>595.0</td>\n",
       "      <td>129.41</td>\n",
       "      <td>2018-03-03</td>\n",
       "      <td>WIRE</td>\n",
       "      <td>C</td>\n",
       "      <td>Jonathan</td>\n",
       "      <td>Smith</td>\n",
       "      <td>FR</td>\n",
       "      <td>1944-08-29</td>\n",
       "      <td>13300</td>\n",
       "      <td>B</td>\n",
       "      <td>Shannon</td>\n",
       "      <td>Bailey</td>\n",
       "      <td>FR</td>\n",
       "      <td>1973-06-02</td>\n",
       "      <td>54210</td>\n",
       "      <td>False</td>\n",
       "      <td>False</td>\n",
       "    </tr>\n",
       "    <tr>\n",
       "      <th>1</th>\n",
       "      <td>4318</td>\n",
       "      <td>785.0</td>\n",
       "      <td>8854.0</td>\n",
       "      <td>129.66</td>\n",
       "      <td>2018-03-03</td>\n",
       "      <td>WIRE</td>\n",
       "      <td>B</td>\n",
       "      <td>Harry</td>\n",
       "      <td>Alfano</td>\n",
       "      <td>FR</td>\n",
       "      <td>1939-02-03</td>\n",
       "      <td>25250</td>\n",
       "      <td>B</td>\n",
       "      <td>John</td>\n",
       "      <td>Adkins</td>\n",
       "      <td>FR</td>\n",
       "      <td>1958-11-07</td>\n",
       "      <td>20171</td>\n",
       "      <td>False</td>\n",
       "      <td>False</td>\n",
       "    </tr>\n",
       "    <tr>\n",
       "      <th>2</th>\n",
       "      <td>4319</td>\n",
       "      <td>785.0</td>\n",
       "      <td>NaN</td>\n",
       "      <td>129.66</td>\n",
       "      <td>2018-03-03</td>\n",
       "      <td>WIRE</td>\n",
       "      <td>B</td>\n",
       "      <td>Harry</td>\n",
       "      <td>Alfano</td>\n",
       "      <td>FR</td>\n",
       "      <td>1939-02-03</td>\n",
       "      <td>25250</td>\n",
       "      <td>A</td>\n",
       "      <td>Jason</td>\n",
       "      <td>Arsenault</td>\n",
       "      <td>FR</td>\n",
       "      <td>1935-03-03</td>\n",
       "      <td>51240</td>\n",
       "      <td>False</td>\n",
       "      <td>False</td>\n",
       "    </tr>\n",
       "    <tr>\n",
       "      <th>3</th>\n",
       "      <td>2549</td>\n",
       "      <td>7795.0</td>\n",
       "      <td>NaN</td>\n",
       "      <td>189.25</td>\n",
       "      <td>2018-03-03</td>\n",
       "      <td>WIRE</td>\n",
       "      <td>B</td>\n",
       "      <td>Mark</td>\n",
       "      <td>Sauders</td>\n",
       "      <td>FR</td>\n",
       "      <td>1920-12-31</td>\n",
       "      <td>91640</td>\n",
       "      <td>C</td>\n",
       "      <td>Nicholas</td>\n",
       "      <td>Omersa</td>\n",
       "      <td>FR</td>\n",
       "      <td>1921-06-29</td>\n",
       "      <td>36290</td>\n",
       "      <td>False</td>\n",
       "      <td>False</td>\n",
       "    </tr>\n",
       "    <tr>\n",
       "      <th>4</th>\n",
       "      <td>4320</td>\n",
       "      <td>785.0</td>\n",
       "      <td>NaN</td>\n",
       "      <td>129.66</td>\n",
       "      <td>2018-03-03</td>\n",
       "      <td>WIRE</td>\n",
       "      <td>B</td>\n",
       "      <td>Harry</td>\n",
       "      <td>Alfano</td>\n",
       "      <td>FR</td>\n",
       "      <td>1939-02-03</td>\n",
       "      <td>25250</td>\n",
       "      <td>A</td>\n",
       "      <td>Wilhelmina</td>\n",
       "      <td>Eberhardt</td>\n",
       "      <td>FR</td>\n",
       "      <td>1941-04-25</td>\n",
       "      <td>77440</td>\n",
       "      <td>False</td>\n",
       "      <td>False</td>\n",
       "    </tr>\n",
       "  </tbody>\n",
       "</table>\n",
       "</div>"
      ],
      "text/plain": [
       "   tx_id  sender_account_id  receiver_account_id  tx_amount   timestamp  \\\n",
       "0   1364                NaN                595.0     129.41  2018-03-03   \n",
       "1   4318              785.0               8854.0     129.66  2018-03-03   \n",
       "2   4319              785.0                  NaN     129.66  2018-03-03   \n",
       "3   2549             7795.0                  NaN     189.25  2018-03-03   \n",
       "4   4320              785.0                  NaN     129.66  2018-03-03   \n",
       "\n",
       "  tx_type sender_bank_id sender_first_name sender_last_name  \\\n",
       "0    WIRE              C          Jonathan            Smith   \n",
       "1    WIRE              B             Harry           Alfano   \n",
       "2    WIRE              B             Harry           Alfano   \n",
       "3    WIRE              B              Mark          Sauders   \n",
       "4    WIRE              B             Harry           Alfano   \n",
       "\n",
       "  sender_country_code sender_birth_date  sender_zip_code receiver_bank_id  \\\n",
       "0                  FR        1944-08-29            13300                B   \n",
       "1                  FR        1939-02-03            25250                B   \n",
       "2                  FR        1939-02-03            25250                A   \n",
       "3                  FR        1920-12-31            91640                C   \n",
       "4                  FR        1939-02-03            25250                A   \n",
       "\n",
       "  receiver_first_name receiver_last_name receiver_country_code  \\\n",
       "0             Shannon             Bailey                    FR   \n",
       "1                John             Adkins                    FR   \n",
       "2               Jason          Arsenault                    FR   \n",
       "3            Nicholas             Omersa                    FR   \n",
       "4          Wilhelmina          Eberhardt                    FR   \n",
       "\n",
       "  receiver_birth_date  receiver_zip_code  is_alert_solo  is_alert_pooled  \n",
       "0          1973-06-02              54210          False            False  \n",
       "1          1958-11-07              20171          False            False  \n",
       "2          1935-03-03              51240          False            False  \n",
       "3          1921-06-29              36290          False            False  \n",
       "4          1941-04-25              77440          False            False  "
      ]
     },
     "execution_count": 8,
     "metadata": {},
     "output_type": "execute_result"
    }
   ],
   "source": [
    "df2.head()"
   ]
  }
 ],
 "metadata": {
  "kernelspec": {
   "display_name": "Python 3.11.0 64-bit",
   "language": "python",
   "name": "python3"
  },
  "language_info": {
   "codemirror_mode": {
    "name": "ipython",
    "version": 3
   },
   "file_extension": ".py",
   "mimetype": "text/x-python",
   "name": "python",
   "nbconvert_exporter": "python",
   "pygments_lexer": "ipython3",
   "version": "3.11.0"
  },
  "orig_nbformat": 4,
  "vscode": {
   "interpreter": {
    "hash": "aee8b7b246df8f9039afb4144a1f6fd8d2ca17a180786b69acc140d282b71a49"
   }
  }
 },
 "nbformat": 4,
 "nbformat_minor": 2
}
