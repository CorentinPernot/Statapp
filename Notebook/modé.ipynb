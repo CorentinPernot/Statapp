{
 "cells": [
  {
   "cell_type": "code",
   "execution_count": null,
   "metadata": {},
   "outputs": [],
   "source": []
  }
 ],
 "metadata": {
  "kernelspec": {
   "display_name": "jupyterlab-3.3.2",
   "language": "python",
   "name": "python3"
  },
  "language_info": {
   "name": "python",
   "version": "3.10.4"
  },
  "orig_nbformat": 4,
  "vscode": {
   "interpreter": {
    "hash": "85ed09903735e3d6542a11c86598924f4e7a66c1602c9126e1b3c5f04575a464"
   }
  }
 },
 "nbformat": 4,
 "nbformat_minor": 2
}
