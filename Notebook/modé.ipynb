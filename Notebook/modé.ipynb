{
 "cells": [
  {
   "cell_type": "code",
   "execution_count": 1,
   "metadata": {},
   "outputs": [],
   "source": [
    "import pandas as pd\n",
    "import numpy as np \n",
    "import seaborn as sns \n",
    "import matplotlib.pyplot as plt "
   ]
  },
  {
   "cell_type": "code",
   "execution_count": 2,
   "metadata": {},
   "outputs": [
    {
     "data": {
      "text/html": [
       "<div>\n",
       "<style scoped>\n",
       "    .dataframe tbody tr th:only-of-type {\n",
       "        vertical-align: middle;\n",
       "    }\n",
       "\n",
       "    .dataframe tbody tr th {\n",
       "        vertical-align: top;\n",
       "    }\n",
       "\n",
       "    .dataframe thead th {\n",
       "        text-align: right;\n",
       "    }\n",
       "</style>\n",
       "<table border=\"1\" class=\"dataframe\">\n",
       "  <thead>\n",
       "    <tr style=\"text-align: right;\">\n",
       "      <th></th>\n",
       "      <th>tx_id</th>\n",
       "      <th>sender_account_id</th>\n",
       "      <th>receiver_account_id</th>\n",
       "      <th>tx_amount</th>\n",
       "      <th>timestamp</th>\n",
       "      <th>tx_type</th>\n",
       "      <th>sender_bank_id</th>\n",
       "      <th>sender_first_name</th>\n",
       "      <th>sender_last_name</th>\n",
       "      <th>sender_country_code</th>\n",
       "      <th>...</th>\n",
       "      <th>reliability_sender_A</th>\n",
       "      <th>reliability_sender_B</th>\n",
       "      <th>ecarts_tx_received_A</th>\n",
       "      <th>ecarts_tx_received_B</th>\n",
       "      <th>ecarts_tx_sent_A</th>\n",
       "      <th>ecarts_tx_sent_B</th>\n",
       "      <th>jour_année_tx</th>\n",
       "      <th>jour_mois_tx</th>\n",
       "      <th>année_tx</th>\n",
       "      <th>mois_tx</th>\n",
       "    </tr>\n",
       "  </thead>\n",
       "  <tbody>\n",
       "    <tr>\n",
       "      <th>0</th>\n",
       "      <td>33859.0</td>\n",
       "      <td>6540.0</td>\n",
       "      <td>9883.0</td>\n",
       "      <td>586.61</td>\n",
       "      <td>2018-04-07</td>\n",
       "      <td>WIRE</td>\n",
       "      <td>A</td>\n",
       "      <td>Aaron</td>\n",
       "      <td>Behrmann</td>\n",
       "      <td>FR</td>\n",
       "      <td>...</td>\n",
       "      <td>1.000000</td>\n",
       "      <td>1.000000</td>\n",
       "      <td>40.656996</td>\n",
       "      <td>-71.348819</td>\n",
       "      <td>0.000000</td>\n",
       "      <td>219.870222</td>\n",
       "      <td>97.0</td>\n",
       "      <td>7.0</td>\n",
       "      <td>2018.0</td>\n",
       "      <td>4.0</td>\n",
       "    </tr>\n",
       "    <tr>\n",
       "      <th>1</th>\n",
       "      <td>40948.0</td>\n",
       "      <td>6540.0</td>\n",
       "      <td>9883.0</td>\n",
       "      <td>586.61</td>\n",
       "      <td>2018-04-14</td>\n",
       "      <td>WIRE</td>\n",
       "      <td>A</td>\n",
       "      <td>Aaron</td>\n",
       "      <td>Behrmann</td>\n",
       "      <td>FR</td>\n",
       "      <td>...</td>\n",
       "      <td>1.000000</td>\n",
       "      <td>1.000000</td>\n",
       "      <td>119.650647</td>\n",
       "      <td>-92.223342</td>\n",
       "      <td>0.000000</td>\n",
       "      <td>219.870222</td>\n",
       "      <td>104.0</td>\n",
       "      <td>14.0</td>\n",
       "      <td>2018.0</td>\n",
       "      <td>4.0</td>\n",
       "    </tr>\n",
       "    <tr>\n",
       "      <th>2</th>\n",
       "      <td>42015.0</td>\n",
       "      <td>6540.0</td>\n",
       "      <td>9883.0</td>\n",
       "      <td>586.61</td>\n",
       "      <td>2018-04-21</td>\n",
       "      <td>CHECK</td>\n",
       "      <td>A</td>\n",
       "      <td>Aaron</td>\n",
       "      <td>Behrmann</td>\n",
       "      <td>FR</td>\n",
       "      <td>...</td>\n",
       "      <td>1.000000</td>\n",
       "      <td>1.000000</td>\n",
       "      <td>40.656996</td>\n",
       "      <td>-95.501115</td>\n",
       "      <td>0.000000</td>\n",
       "      <td>219.870222</td>\n",
       "      <td>111.0</td>\n",
       "      <td>21.0</td>\n",
       "      <td>2018.0</td>\n",
       "      <td>4.0</td>\n",
       "    </tr>\n",
       "    <tr>\n",
       "      <th>3</th>\n",
       "      <td>50884.0</td>\n",
       "      <td>6540.0</td>\n",
       "      <td>9883.0</td>\n",
       "      <td>586.61</td>\n",
       "      <td>2018-04-28</td>\n",
       "      <td>WIRE</td>\n",
       "      <td>A</td>\n",
       "      <td>Aaron</td>\n",
       "      <td>Behrmann</td>\n",
       "      <td>FR</td>\n",
       "      <td>...</td>\n",
       "      <td>1.000000</td>\n",
       "      <td>1.000000</td>\n",
       "      <td>40.656996</td>\n",
       "      <td>-99.820685</td>\n",
       "      <td>0.000000</td>\n",
       "      <td>219.870222</td>\n",
       "      <td>118.0</td>\n",
       "      <td>28.0</td>\n",
       "      <td>2018.0</td>\n",
       "      <td>4.0</td>\n",
       "    </tr>\n",
       "    <tr>\n",
       "      <th>4</th>\n",
       "      <td>60406.0</td>\n",
       "      <td>6540.0</td>\n",
       "      <td>9883.0</td>\n",
       "      <td>586.61</td>\n",
       "      <td>2018-05-05</td>\n",
       "      <td>WIRE</td>\n",
       "      <td>A</td>\n",
       "      <td>Aaron</td>\n",
       "      <td>Behrmann</td>\n",
       "      <td>FR</td>\n",
       "      <td>...</td>\n",
       "      <td>1.000000</td>\n",
       "      <td>1.000000</td>\n",
       "      <td>40.656996</td>\n",
       "      <td>-99.908519</td>\n",
       "      <td>0.000000</td>\n",
       "      <td>219.870222</td>\n",
       "      <td>125.0</td>\n",
       "      <td>5.0</td>\n",
       "      <td>2018.0</td>\n",
       "      <td>5.0</td>\n",
       "    </tr>\n",
       "    <tr>\n",
       "      <th>...</th>\n",
       "      <td>...</td>\n",
       "      <td>...</td>\n",
       "      <td>...</td>\n",
       "      <td>...</td>\n",
       "      <td>...</td>\n",
       "      <td>...</td>\n",
       "      <td>...</td>\n",
       "      <td>...</td>\n",
       "      <td>...</td>\n",
       "      <td>...</td>\n",
       "      <td>...</td>\n",
       "      <td>...</td>\n",
       "      <td>...</td>\n",
       "      <td>...</td>\n",
       "      <td>...</td>\n",
       "      <td>...</td>\n",
       "      <td>...</td>\n",
       "      <td>...</td>\n",
       "      <td>...</td>\n",
       "      <td>...</td>\n",
       "      <td>...</td>\n",
       "    </tr>\n",
       "    <tr>\n",
       "      <th>1083393</th>\n",
       "      <td>1111899.0</td>\n",
       "      <td>NaN</td>\n",
       "      <td>3394.0</td>\n",
       "      <td>129.24</td>\n",
       "      <td>2021-05-22</td>\n",
       "      <td>CHECK</td>\n",
       "      <td>C</td>\n",
       "      <td>Zenobia</td>\n",
       "      <td>Janak</td>\n",
       "      <td>FR</td>\n",
       "      <td>...</td>\n",
       "      <td>1.000000</td>\n",
       "      <td>1.000000</td>\n",
       "      <td>-76.651672</td>\n",
       "      <td>-73.518564</td>\n",
       "      <td>-28.671560</td>\n",
       "      <td>0.000000</td>\n",
       "      <td>142.0</td>\n",
       "      <td>22.0</td>\n",
       "      <td>2021.0</td>\n",
       "      <td>5.0</td>\n",
       "    </tr>\n",
       "    <tr>\n",
       "      <th>1083394</th>\n",
       "      <td>1182395.0</td>\n",
       "      <td>NaN</td>\n",
       "      <td>3394.0</td>\n",
       "      <td>129.24</td>\n",
       "      <td>2021-07-31</td>\n",
       "      <td>WIRE</td>\n",
       "      <td>C</td>\n",
       "      <td>Zenobia</td>\n",
       "      <td>Janak</td>\n",
       "      <td>FR</td>\n",
       "      <td>...</td>\n",
       "      <td>1.000000</td>\n",
       "      <td>1.000000</td>\n",
       "      <td>-76.651672</td>\n",
       "      <td>-73.518564</td>\n",
       "      <td>-28.671560</td>\n",
       "      <td>0.000000</td>\n",
       "      <td>212.0</td>\n",
       "      <td>31.0</td>\n",
       "      <td>2021.0</td>\n",
       "      <td>7.0</td>\n",
       "    </tr>\n",
       "    <tr>\n",
       "      <th>1083395</th>\n",
       "      <td>1248997.0</td>\n",
       "      <td>NaN</td>\n",
       "      <td>3394.0</td>\n",
       "      <td>129.24</td>\n",
       "      <td>2021-10-09</td>\n",
       "      <td>WIRE</td>\n",
       "      <td>C</td>\n",
       "      <td>Zenobia</td>\n",
       "      <td>Janak</td>\n",
       "      <td>FR</td>\n",
       "      <td>...</td>\n",
       "      <td>1.000000</td>\n",
       "      <td>1.000000</td>\n",
       "      <td>-76.651672</td>\n",
       "      <td>-73.518564</td>\n",
       "      <td>-28.671560</td>\n",
       "      <td>0.000000</td>\n",
       "      <td>282.0</td>\n",
       "      <td>9.0</td>\n",
       "      <td>2021.0</td>\n",
       "      <td>10.0</td>\n",
       "    </tr>\n",
       "    <tr>\n",
       "      <th>1083396</th>\n",
       "      <td>1313587.0</td>\n",
       "      <td>NaN</td>\n",
       "      <td>3394.0</td>\n",
       "      <td>129.24</td>\n",
       "      <td>2021-12-18</td>\n",
       "      <td>CHECK</td>\n",
       "      <td>C</td>\n",
       "      <td>Zenobia</td>\n",
       "      <td>Janak</td>\n",
       "      <td>FR</td>\n",
       "      <td>...</td>\n",
       "      <td>1.000000</td>\n",
       "      <td>1.000000</td>\n",
       "      <td>-76.651672</td>\n",
       "      <td>-73.518564</td>\n",
       "      <td>-28.671560</td>\n",
       "      <td>0.000000</td>\n",
       "      <td>352.0</td>\n",
       "      <td>18.0</td>\n",
       "      <td>2021.0</td>\n",
       "      <td>12.0</td>\n",
       "    </tr>\n",
       "    <tr>\n",
       "      <th>1083397</th>\n",
       "      <td>975547.0</td>\n",
       "      <td>9565.0</td>\n",
       "      <td>NaN</td>\n",
       "      <td>19.12</td>\n",
       "      <td>2020-12-26</td>\n",
       "      <td>WIRE</td>\n",
       "      <td>B</td>\n",
       "      <td>Zoila</td>\n",
       "      <td>Guillory</td>\n",
       "      <td>FR</td>\n",
       "      <td>...</td>\n",
       "      <td>0.986577</td>\n",
       "      <td>0.976923</td>\n",
       "      <td>-96.545806</td>\n",
       "      <td>-96.082288</td>\n",
       "      <td>-89.447541</td>\n",
       "      <td>-96.456503</td>\n",
       "      <td>361.0</td>\n",
       "      <td>26.0</td>\n",
       "      <td>2020.0</td>\n",
       "      <td>12.0</td>\n",
       "    </tr>\n",
       "  </tbody>\n",
       "</table>\n",
       "<p>1083398 rows × 52 columns</p>\n",
       "</div>"
      ],
      "text/plain": [
       "             tx_id  sender_account_id  receiver_account_id  tx_amount  \\\n",
       "0          33859.0             6540.0               9883.0     586.61   \n",
       "1          40948.0             6540.0               9883.0     586.61   \n",
       "2          42015.0             6540.0               9883.0     586.61   \n",
       "3          50884.0             6540.0               9883.0     586.61   \n",
       "4          60406.0             6540.0               9883.0     586.61   \n",
       "...            ...                ...                  ...        ...   \n",
       "1083393  1111899.0                NaN               3394.0     129.24   \n",
       "1083394  1182395.0                NaN               3394.0     129.24   \n",
       "1083395  1248997.0                NaN               3394.0     129.24   \n",
       "1083396  1313587.0                NaN               3394.0     129.24   \n",
       "1083397   975547.0             9565.0                  NaN      19.12   \n",
       "\n",
       "          timestamp tx_type sender_bank_id sender_first_name sender_last_name  \\\n",
       "0        2018-04-07    WIRE              A             Aaron         Behrmann   \n",
       "1        2018-04-14    WIRE              A             Aaron         Behrmann   \n",
       "2        2018-04-21   CHECK              A             Aaron         Behrmann   \n",
       "3        2018-04-28    WIRE              A             Aaron         Behrmann   \n",
       "4        2018-05-05    WIRE              A             Aaron         Behrmann   \n",
       "...             ...     ...            ...               ...              ...   \n",
       "1083393  2021-05-22   CHECK              C           Zenobia            Janak   \n",
       "1083394  2021-07-31    WIRE              C           Zenobia            Janak   \n",
       "1083395  2021-10-09    WIRE              C           Zenobia            Janak   \n",
       "1083396  2021-12-18   CHECK              C           Zenobia            Janak   \n",
       "1083397  2020-12-26    WIRE              B             Zoila         Guillory   \n",
       "\n",
       "        sender_country_code  ... reliability_sender_A  reliability_sender_B  \\\n",
       "0                        FR  ...             1.000000              1.000000   \n",
       "1                        FR  ...             1.000000              1.000000   \n",
       "2                        FR  ...             1.000000              1.000000   \n",
       "3                        FR  ...             1.000000              1.000000   \n",
       "4                        FR  ...             1.000000              1.000000   \n",
       "...                     ...  ...                  ...                   ...   \n",
       "1083393                  FR  ...             1.000000              1.000000   \n",
       "1083394                  FR  ...             1.000000              1.000000   \n",
       "1083395                  FR  ...             1.000000              1.000000   \n",
       "1083396                  FR  ...             1.000000              1.000000   \n",
       "1083397                  FR  ...             0.986577              0.976923   \n",
       "\n",
       "        ecarts_tx_received_A ecarts_tx_received_B ecarts_tx_sent_A  \\\n",
       "0                  40.656996           -71.348819         0.000000   \n",
       "1                 119.650647           -92.223342         0.000000   \n",
       "2                  40.656996           -95.501115         0.000000   \n",
       "3                  40.656996           -99.820685         0.000000   \n",
       "4                  40.656996           -99.908519         0.000000   \n",
       "...                      ...                  ...              ...   \n",
       "1083393           -76.651672           -73.518564       -28.671560   \n",
       "1083394           -76.651672           -73.518564       -28.671560   \n",
       "1083395           -76.651672           -73.518564       -28.671560   \n",
       "1083396           -76.651672           -73.518564       -28.671560   \n",
       "1083397           -96.545806           -96.082288       -89.447541   \n",
       "\n",
       "        ecarts_tx_sent_B jour_année_tx  jour_mois_tx année_tx mois_tx  \n",
       "0             219.870222          97.0           7.0   2018.0     4.0  \n",
       "1             219.870222         104.0          14.0   2018.0     4.0  \n",
       "2             219.870222         111.0          21.0   2018.0     4.0  \n",
       "3             219.870222         118.0          28.0   2018.0     4.0  \n",
       "4             219.870222         125.0           5.0   2018.0     5.0  \n",
       "...                  ...           ...           ...      ...     ...  \n",
       "1083393         0.000000         142.0          22.0   2021.0     5.0  \n",
       "1083394         0.000000         212.0          31.0   2021.0     7.0  \n",
       "1083395         0.000000         282.0           9.0   2021.0    10.0  \n",
       "1083396         0.000000         352.0          18.0   2021.0    12.0  \n",
       "1083397       -96.456503         361.0          26.0   2020.0    12.0  \n",
       "\n",
       "[1083398 rows x 52 columns]"
      ]
     },
     "execution_count": 2,
     "metadata": {},
     "output_type": "execute_result"
    }
   ],
   "source": [
    "df=pd.read_csv('/Users/Corentin/Desktop/statapp/df_merge.csv', low_memory=False, index_col='Unnamed: 0')\n",
    "df.drop(df.index[1083398], inplace=True)\n",
    "df"
   ]
  },
  {
   "cell_type": "code",
   "execution_count": 3,
   "metadata": {},
   "outputs": [],
   "source": [
    "df['timestamp'] = pd.to_datetime(df.timestamp, format='%Y-%m-%d', errors = 'ignore')\n",
    "df['sender_birth_date'] = pd.to_datetime(df.sender_birth_date, format='%Y-%m-%d', errors = 'ignore')\n",
    "df['receiver_birth_date'] = pd.to_datetime(df.receiver_birth_date, format='%Y-%m-%d', errors = 'ignore')"
   ]
  },
  {
   "cell_type": "code",
   "execution_count": 4,
   "metadata": {},
   "outputs": [],
   "source": [
    "df.sort_values(by='timestamp', ascending=True, inplace=True)"
   ]
  },
  {
   "cell_type": "code",
   "execution_count": 5,
   "metadata": {},
   "outputs": [
    {
     "data": {
      "text/plain": [
       "False    1076270\n",
       "True        7128\n",
       "Name: is_alert_solo, dtype: int64"
      ]
     },
     "execution_count": 5,
     "metadata": {},
     "output_type": "execute_result"
    }
   ],
   "source": [
    "df['is_alert_solo'].value_counts()"
   ]
  },
  {
   "cell_type": "code",
   "execution_count": 6,
   "metadata": {},
   "outputs": [],
   "source": [
    "def filter_df(time, df_to_filter):\n",
    "    \" Fonction qui renvoie un df trié en ne prenant que les dates du passé \"\n",
    "    \" mettre le time sous forme 'yyyy-mm-dd' \"\n",
    "    df_1 = df_to_filter[df_to_filter['timestamp']<time].copy()\n",
    "    return df_1"
   ]
  },
  {
   "attachments": {},
   "cell_type": "markdown",
   "metadata": {},
   "source": [
    "## Preprocessing \n",
    "\n",
    "### Sélection des features\n",
    "\n"
   ]
  },
  {
   "cell_type": "code",
   "execution_count": 7,
   "metadata": {},
   "outputs": [
    {
     "data": {
      "text/plain": [
       "Index(['tx_id', 'sender_account_id', 'receiver_account_id', 'tx_amount',\n",
       "       'timestamp', 'tx_type', 'sender_bank_id', 'sender_first_name',\n",
       "       'sender_last_name', 'sender_country_code', 'sender_birth_date',\n",
       "       'sender_zip_code', 'receiver_bank_id', 'receiver_first_name',\n",
       "       'receiver_last_name', 'receiver_country_code', 'receiver_birth_date',\n",
       "       'receiver_zip_code', 'is_alert_solo', 'is_alert_pooled',\n",
       "       'count_cum_sender_A', 'median_cum_sender_A', 'mean_cum_sender_A',\n",
       "       'variance_cum_sender_A', 'nb_is_alert_solo_sender_A',\n",
       "       'count_cum_sender_B', 'median_cum_sender_B', 'mean_cum_sender_B',\n",
       "       'variance_cum_sender_B', 'nb_is_alert_solo_sender_B',\n",
       "       'count_cum_receiver_A', 'median_cum_receiver_A', 'mean_cum_receiver_A',\n",
       "       'variance_cum_receiver_A', 'nb_is_alert_solo_receiver_A',\n",
       "       'count_cum_receiver_B', 'median_cum_receiver_B', 'mean_cum_receiver_B',\n",
       "       'variance_cum_receiver_B', 'nb_is_alert_solo_receiver_B',\n",
       "       'reliability_receiver_A', 'reliability_receiver_B',\n",
       "       'reliability_sender_A', 'reliability_sender_B', 'ecarts_tx_received_A',\n",
       "       'ecarts_tx_received_B', 'ecarts_tx_sent_A', 'ecarts_tx_sent_B',\n",
       "       'jour_année_tx', 'jour_mois_tx', 'année_tx', 'mois_tx'],\n",
       "      dtype='object')"
      ]
     },
     "execution_count": 7,
     "metadata": {},
     "output_type": "execute_result"
    }
   ],
   "source": [
    "df.columns"
   ]
  },
  {
   "cell_type": "code",
   "execution_count": 8,
   "metadata": {},
   "outputs": [],
   "source": [
    "variables_to_keep = ['tx_amount','timestamp', 'tx_type',\n",
    "       \n",
    "       'sender_country_code', 'sender_birth_date',\n",
    "       'receiver_country_code', 'receiver_birth_date',\n",
    "\n",
    "       'jour_année_tx', 'jour_mois_tx', 'année_tx', 'mois_tx',\n",
    "\n",
    "       'count_cum_sender_A', 'median_cum_sender_A', 'mean_cum_sender_A',\n",
    "       'variance_cum_sender_A', 'nb_is_alert_solo_sender_A',\n",
    "\n",
    "       'count_cum_sender_B', 'median_cum_sender_B', 'mean_cum_sender_B',\n",
    "       'variance_cum_sender_B', 'nb_is_alert_solo_sender_B',\n",
    "\n",
    "       'count_cum_receiver_A', 'median_cum_receiver_A', 'mean_cum_receiver_A',\n",
    "       'variance_cum_receiver_A', 'nb_is_alert_solo_receiver_A',\n",
    "\n",
    "       'count_cum_receiver_B', 'median_cum_receiver_B', 'mean_cum_receiver_B',\n",
    "       'variance_cum_receiver_B', 'nb_is_alert_solo_receiver_B',\n",
    "\n",
    "       'reliability_receiver_A', 'reliability_receiver_B',\n",
    "       'reliability_sender_A', 'reliability_sender_B', \n",
    "\n",
    "       'ecarts_tx_received_A','ecarts_tx_received_B', \n",
    "       'ecarts_tx_sent_A', 'ecarts_tx_sent_B',\n",
    "\n",
    "       'sender_bank_id','receiver_bank_id',\n",
    "\n",
    "       'is_alert_solo', 'is_alert_pooled']\n",
    "\n",
    "variables_to_drop = ['tx_id', 'sender_account_id', 'receiver_account_id', 'sender_first_name',\n",
    "       'sender_last_name', 'sender_zip_code', 'receiver_first_name',\n",
    "       'receiver_last_name', 'receiver_zip_code']\n",
    "\n",
    "df_bis=df[variables_to_keep].copy()"
   ]
  },
  {
   "cell_type": "code",
   "execution_count": 9,
   "metadata": {},
   "outputs": [],
   "source": [
    "df_bis['is_alert_pooled']= df_bis['is_alert_pooled'].apply( lambda x : int(x))\n",
    "df_bis['is_alert_solo']= df_bis['is_alert_solo'].apply( lambda x : int(x))"
   ]
  },
  {
   "cell_type": "code",
   "execution_count": 10,
   "metadata": {},
   "outputs": [
    {
     "data": {
      "text/html": [
       "<div>\n",
       "<style scoped>\n",
       "    .dataframe tbody tr th:only-of-type {\n",
       "        vertical-align: middle;\n",
       "    }\n",
       "\n",
       "    .dataframe tbody tr th {\n",
       "        vertical-align: top;\n",
       "    }\n",
       "\n",
       "    .dataframe thead th {\n",
       "        text-align: right;\n",
       "    }\n",
       "</style>\n",
       "<table border=\"1\" class=\"dataframe\">\n",
       "  <thead>\n",
       "    <tr style=\"text-align: right;\">\n",
       "      <th></th>\n",
       "      <th>tx_amount</th>\n",
       "      <th>timestamp</th>\n",
       "      <th>sender_country_code</th>\n",
       "      <th>sender_birth_date</th>\n",
       "      <th>receiver_country_code</th>\n",
       "      <th>receiver_birth_date</th>\n",
       "      <th>jour_année_tx</th>\n",
       "      <th>jour_mois_tx</th>\n",
       "      <th>année_tx</th>\n",
       "      <th>mois_tx</th>\n",
       "      <th>...</th>\n",
       "      <th>reliability_sender_B</th>\n",
       "      <th>ecarts_tx_received_A</th>\n",
       "      <th>ecarts_tx_received_B</th>\n",
       "      <th>ecarts_tx_sent_A</th>\n",
       "      <th>ecarts_tx_sent_B</th>\n",
       "      <th>sender_bank_id</th>\n",
       "      <th>receiver_bank_id</th>\n",
       "      <th>is_alert_solo</th>\n",
       "      <th>is_alert_pooled</th>\n",
       "      <th>tx_type</th>\n",
       "    </tr>\n",
       "  </thead>\n",
       "  <tbody>\n",
       "    <tr>\n",
       "      <th>191519</th>\n",
       "      <td>10.00</td>\n",
       "      <td>2018-03-03</td>\n",
       "      <td>FR</td>\n",
       "      <td>1921-11-08</td>\n",
       "      <td>FR</td>\n",
       "      <td>1918-11-09</td>\n",
       "      <td>62.0</td>\n",
       "      <td>3.0</td>\n",
       "      <td>2018.0</td>\n",
       "      <td>3.0</td>\n",
       "      <td>...</td>\n",
       "      <td>1.0</td>\n",
       "      <td>-97.817547</td>\n",
       "      <td>-93.308575</td>\n",
       "      <td>0.0</td>\n",
       "      <td>-91.674992</td>\n",
       "      <td>B</td>\n",
       "      <td>A</td>\n",
       "      <td>0</td>\n",
       "      <td>0</td>\n",
       "      <td>1</td>\n",
       "    </tr>\n",
       "    <tr>\n",
       "      <th>643274</th>\n",
       "      <td>8.41</td>\n",
       "      <td>2018-03-03</td>\n",
       "      <td>FR</td>\n",
       "      <td>1931-04-14</td>\n",
       "      <td>FR</td>\n",
       "      <td>1919-12-25</td>\n",
       "      <td>62.0</td>\n",
       "      <td>3.0</td>\n",
       "      <td>2018.0</td>\n",
       "      <td>3.0</td>\n",
       "      <td>...</td>\n",
       "      <td>NaN</td>\n",
       "      <td>-87.971968</td>\n",
       "      <td>NaN</td>\n",
       "      <td>0.0</td>\n",
       "      <td>NaN</td>\n",
       "      <td>A</td>\n",
       "      <td>C</td>\n",
       "      <td>0</td>\n",
       "      <td>0</td>\n",
       "      <td>1</td>\n",
       "    </tr>\n",
       "    <tr>\n",
       "      <th>643275</th>\n",
       "      <td>8.41</td>\n",
       "      <td>2018-03-03</td>\n",
       "      <td>FR</td>\n",
       "      <td>1931-04-14</td>\n",
       "      <td>FR</td>\n",
       "      <td>1935-09-02</td>\n",
       "      <td>62.0</td>\n",
       "      <td>3.0</td>\n",
       "      <td>2018.0</td>\n",
       "      <td>3.0</td>\n",
       "      <td>...</td>\n",
       "      <td>NaN</td>\n",
       "      <td>-93.501275</td>\n",
       "      <td>NaN</td>\n",
       "      <td>0.0</td>\n",
       "      <td>NaN</td>\n",
       "      <td>A</td>\n",
       "      <td>C</td>\n",
       "      <td>0</td>\n",
       "      <td>0</td>\n",
       "      <td>0</td>\n",
       "    </tr>\n",
       "  </tbody>\n",
       "</table>\n",
       "<p>3 rows × 43 columns</p>\n",
       "</div>"
      ],
      "text/plain": [
       "        tx_amount  timestamp sender_country_code sender_birth_date  \\\n",
       "191519      10.00 2018-03-03                  FR        1921-11-08   \n",
       "643274       8.41 2018-03-03                  FR        1931-04-14   \n",
       "643275       8.41 2018-03-03                  FR        1931-04-14   \n",
       "\n",
       "       receiver_country_code receiver_birth_date  jour_année_tx  jour_mois_tx  \\\n",
       "191519                    FR          1918-11-09           62.0           3.0   \n",
       "643274                    FR          1919-12-25           62.0           3.0   \n",
       "643275                    FR          1935-09-02           62.0           3.0   \n",
       "\n",
       "        année_tx  mois_tx  ...  reliability_sender_B  ecarts_tx_received_A  \\\n",
       "191519    2018.0      3.0  ...                   1.0            -97.817547   \n",
       "643274    2018.0      3.0  ...                   NaN            -87.971968   \n",
       "643275    2018.0      3.0  ...                   NaN            -93.501275   \n",
       "\n",
       "        ecarts_tx_received_B  ecarts_tx_sent_A  ecarts_tx_sent_B  \\\n",
       "191519            -93.308575               0.0        -91.674992   \n",
       "643274                   NaN               0.0               NaN   \n",
       "643275                   NaN               0.0               NaN   \n",
       "\n",
       "        sender_bank_id  receiver_bank_id  is_alert_solo  is_alert_pooled  \\\n",
       "191519               B                 A              0                0   \n",
       "643274               A                 C              0                0   \n",
       "643275               A                 C              0                0   \n",
       "\n",
       "        tx_type  \n",
       "191519        1  \n",
       "643274        1  \n",
       "643275        0  \n",
       "\n",
       "[3 rows x 43 columns]"
      ]
     },
     "execution_count": 10,
     "metadata": {},
     "output_type": "execute_result"
    }
   ],
   "source": [
    "#Variable catégorielle tx_type\n",
    "\n",
    "tx_type_ = pd.get_dummies(df_bis['tx_type'],drop_first=True)\n",
    "df_bis= pd.concat([df_bis, tx_type_], axis=1)\n",
    "df_bis.drop(['tx_type'],axis=1,inplace=True)\n",
    "df_bis.rename(columns={'WIRE': 'tx_type', \n",
    "                           }, inplace=True)\n",
    "df_bis.head(3)\n"
   ]
  },
  {
   "cell_type": "code",
   "execution_count": 11,
   "metadata": {},
   "outputs": [
    {
     "data": {
      "text/html": [
       "<div>\n",
       "<style scoped>\n",
       "    .dataframe tbody tr th:only-of-type {\n",
       "        vertical-align: middle;\n",
       "    }\n",
       "\n",
       "    .dataframe tbody tr th {\n",
       "        vertical-align: top;\n",
       "    }\n",
       "\n",
       "    .dataframe thead th {\n",
       "        text-align: right;\n",
       "    }\n",
       "</style>\n",
       "<table border=\"1\" class=\"dataframe\">\n",
       "  <thead>\n",
       "    <tr style=\"text-align: right;\">\n",
       "      <th></th>\n",
       "      <th>sender_country_code</th>\n",
       "    </tr>\n",
       "  </thead>\n",
       "  <tbody>\n",
       "    <tr>\n",
       "      <th>0</th>\n",
       "      <td>AE</td>\n",
       "    </tr>\n",
       "    <tr>\n",
       "      <th>1</th>\n",
       "      <td>AF</td>\n",
       "    </tr>\n",
       "    <tr>\n",
       "      <th>2</th>\n",
       "      <td>AR</td>\n",
       "    </tr>\n",
       "    <tr>\n",
       "      <th>3</th>\n",
       "      <td>AT</td>\n",
       "    </tr>\n",
       "    <tr>\n",
       "      <th>4</th>\n",
       "      <td>AU</td>\n",
       "    </tr>\n",
       "    <tr>\n",
       "      <th>...</th>\n",
       "      <td>...</td>\n",
       "    </tr>\n",
       "    <tr>\n",
       "      <th>75</th>\n",
       "      <td>YE</td>\n",
       "    </tr>\n",
       "    <tr>\n",
       "      <th>76</th>\n",
       "      <td>ZA</td>\n",
       "    </tr>\n",
       "    <tr>\n",
       "      <th>77</th>\n",
       "      <td>ZM</td>\n",
       "    </tr>\n",
       "    <tr>\n",
       "      <th>78</th>\n",
       "      <td>ZW</td>\n",
       "    </tr>\n",
       "    <tr>\n",
       "      <th>79</th>\n",
       "      <td>NaN</td>\n",
       "    </tr>\n",
       "  </tbody>\n",
       "</table>\n",
       "<p>80 rows × 1 columns</p>\n",
       "</div>"
      ],
      "text/plain": [
       "   sender_country_code\n",
       "0                   AE\n",
       "1                   AF\n",
       "2                   AR\n",
       "3                   AT\n",
       "4                   AU\n",
       "..                 ...\n",
       "75                  YE\n",
       "76                  ZA\n",
       "77                  ZM\n",
       "78                  ZW\n",
       "79                 NaN\n",
       "\n",
       "[80 rows x 1 columns]"
      ]
     },
     "metadata": {},
     "output_type": "display_data"
    },
    {
     "data": {
      "text/html": [
       "<div>\n",
       "<style scoped>\n",
       "    .dataframe tbody tr th:only-of-type {\n",
       "        vertical-align: middle;\n",
       "    }\n",
       "\n",
       "    .dataframe tbody tr th {\n",
       "        vertical-align: top;\n",
       "    }\n",
       "\n",
       "    .dataframe thead th {\n",
       "        text-align: right;\n",
       "    }\n",
       "</style>\n",
       "<table border=\"1\" class=\"dataframe\">\n",
       "  <thead>\n",
       "    <tr style=\"text-align: right;\">\n",
       "      <th></th>\n",
       "      <th>receiver_country_code</th>\n",
       "    </tr>\n",
       "  </thead>\n",
       "  <tbody>\n",
       "    <tr>\n",
       "      <th>0</th>\n",
       "      <td>AE</td>\n",
       "    </tr>\n",
       "    <tr>\n",
       "      <th>1</th>\n",
       "      <td>AF</td>\n",
       "    </tr>\n",
       "    <tr>\n",
       "      <th>2</th>\n",
       "      <td>AR</td>\n",
       "    </tr>\n",
       "    <tr>\n",
       "      <th>3</th>\n",
       "      <td>AT</td>\n",
       "    </tr>\n",
       "    <tr>\n",
       "      <th>4</th>\n",
       "      <td>AU</td>\n",
       "    </tr>\n",
       "    <tr>\n",
       "      <th>...</th>\n",
       "      <td>...</td>\n",
       "    </tr>\n",
       "    <tr>\n",
       "      <th>78</th>\n",
       "      <td>YE</td>\n",
       "    </tr>\n",
       "    <tr>\n",
       "      <th>79</th>\n",
       "      <td>ZA</td>\n",
       "    </tr>\n",
       "    <tr>\n",
       "      <th>80</th>\n",
       "      <td>ZM</td>\n",
       "    </tr>\n",
       "    <tr>\n",
       "      <th>81</th>\n",
       "      <td>ZW</td>\n",
       "    </tr>\n",
       "    <tr>\n",
       "      <th>82</th>\n",
       "      <td>NaN</td>\n",
       "    </tr>\n",
       "  </tbody>\n",
       "</table>\n",
       "<p>83 rows × 1 columns</p>\n",
       "</div>"
      ],
      "text/plain": [
       "   receiver_country_code\n",
       "0                     AE\n",
       "1                     AF\n",
       "2                     AR\n",
       "3                     AT\n",
       "4                     AU\n",
       "..                   ...\n",
       "78                    YE\n",
       "79                    ZA\n",
       "80                    ZM\n",
       "81                    ZW\n",
       "82                   NaN\n",
       "\n",
       "[83 rows x 1 columns]"
      ]
     },
     "metadata": {},
     "output_type": "display_data"
    },
    {
     "data": {
      "text/html": [
       "<div>\n",
       "<style scoped>\n",
       "    .dataframe tbody tr th:only-of-type {\n",
       "        vertical-align: middle;\n",
       "    }\n",
       "\n",
       "    .dataframe tbody tr th {\n",
       "        vertical-align: top;\n",
       "    }\n",
       "\n",
       "    .dataframe thead th {\n",
       "        text-align: right;\n",
       "    }\n",
       "</style>\n",
       "<table border=\"1\" class=\"dataframe\">\n",
       "  <thead>\n",
       "    <tr style=\"text-align: right;\">\n",
       "      <th></th>\n",
       "      <th>sender_bank_id</th>\n",
       "    </tr>\n",
       "  </thead>\n",
       "  <tbody>\n",
       "    <tr>\n",
       "      <th>0</th>\n",
       "      <td>A</td>\n",
       "    </tr>\n",
       "    <tr>\n",
       "      <th>1</th>\n",
       "      <td>B</td>\n",
       "    </tr>\n",
       "    <tr>\n",
       "      <th>2</th>\n",
       "      <td>C</td>\n",
       "    </tr>\n",
       "  </tbody>\n",
       "</table>\n",
       "</div>"
      ],
      "text/plain": [
       "  sender_bank_id\n",
       "0              A\n",
       "1              B\n",
       "2              C"
      ]
     },
     "metadata": {},
     "output_type": "display_data"
    },
    {
     "data": {
      "text/html": [
       "<div>\n",
       "<style scoped>\n",
       "    .dataframe tbody tr th:only-of-type {\n",
       "        vertical-align: middle;\n",
       "    }\n",
       "\n",
       "    .dataframe tbody tr th {\n",
       "        vertical-align: top;\n",
       "    }\n",
       "\n",
       "    .dataframe thead th {\n",
       "        text-align: right;\n",
       "    }\n",
       "</style>\n",
       "<table border=\"1\" class=\"dataframe\">\n",
       "  <thead>\n",
       "    <tr style=\"text-align: right;\">\n",
       "      <th></th>\n",
       "      <th>receiver_bank_id</th>\n",
       "    </tr>\n",
       "  </thead>\n",
       "  <tbody>\n",
       "    <tr>\n",
       "      <th>0</th>\n",
       "      <td>A</td>\n",
       "    </tr>\n",
       "    <tr>\n",
       "      <th>1</th>\n",
       "      <td>B</td>\n",
       "    </tr>\n",
       "    <tr>\n",
       "      <th>2</th>\n",
       "      <td>C</td>\n",
       "    </tr>\n",
       "  </tbody>\n",
       "</table>\n",
       "</div>"
      ],
      "text/plain": [
       "  receiver_bank_id\n",
       "0                A\n",
       "1                B\n",
       "2                C"
      ]
     },
     "metadata": {},
     "output_type": "display_data"
    }
   ],
   "source": [
    "# Country_code \n",
    "from sklearn import preprocessing\n",
    "le = preprocessing.LabelEncoder()\n",
    "L=['sender_country_code','receiver_country_code', 'sender_bank_id','receiver_bank_id']\n",
    "for i in L: \n",
    "    le.fit(df_bis[i])\n",
    "    le.classes_\n",
    "    df_bis[i]= le.transform(df_bis[i])\n",
    "    display(pd.DataFrame(index= [j for j in range(len(df_bis[i].unique()))],\n",
    "                         data=le.inverse_transform([j for j in range(len(df_bis[i].unique()))]), columns= [i]))"
   ]
  },
  {
   "attachments": {},
   "cell_type": "markdown",
   "metadata": {},
   "source": [
    "## Gestion des valeurs manquantes "
   ]
  },
  {
   "cell_type": "code",
   "execution_count": 12,
   "metadata": {},
   "outputs": [],
   "source": [
    "# On enlève les transactions avec un montant nul \n",
    "df_bis = df_bis.drop(df_bis[df_bis.tx_amount==0].index)"
   ]
  },
  {
   "cell_type": "code",
   "execution_count": 13,
   "metadata": {},
   "outputs": [
    {
     "name": "stderr",
     "output_type": "stream",
     "text": [
      "/var/folders/ls/kz9r5k393xg8d3p1krqjx50m0000gn/T/ipykernel_12416/457886057.py:1: SettingWithCopyWarning: \n",
      "A value is trying to be set on a copy of a slice from a DataFrame\n",
      "\n",
      "See the caveats in the documentation: https://pandas.pydata.org/pandas-docs/stable/user_guide/indexing.html#returning-a-view-versus-a-copy\n",
      "  df_bis[['receiver_country_code','sender_country_code']].dropna(inplace=True)\n"
     ]
    }
   ],
   "source": [
    "df_bis[['receiver_country_code','sender_country_code']].dropna(inplace=True)"
   ]
  },
  {
   "attachments": {},
   "cell_type": "markdown",
   "metadata": {},
   "source": [
    "##### Gestion des valeurs manquantes  : \n",
    "- pour les valeurs count_cum qui compte le nbre de tx contenues dans A ou B en fonction de _A ou _B, on choisit de mettre la valeur 0 \n",
    "- pour la reliability concernant les personnes n'apparaissant pas dans A par exemple, on choisit de mettre la valeur 1 \n",
    "\n",
    "\n",
    "######  pour l'écart entre les montants passés et la tx on décide de mettre 0 quand il n'y a pas d'historique  "
   ]
  },
  {
   "cell_type": "code",
   "execution_count": 14,
   "metadata": {},
   "outputs": [],
   "source": [
    "for i in ['count_cum_receiver_A','count_cum_receiver_B','count_cum_sender_A','count_cum_sender_B']: \n",
    "    df_bis[i]=df_bis[i].fillna(0)\n",
    "\n",
    "for i in ['reliability_receiver_A','reliability_receiver_B','reliability_sender_A', 'reliability_sender_B']:\n",
    "    df_bis[i]=df_bis[i].fillna(1)\n",
    "    \n",
    "for i in ['ecarts_tx_received_A','ecarts_tx_received_B','ecarts_tx_sent_A', 'ecarts_tx_sent_B']:\n",
    "    df_bis[i]=df_bis[i].fillna(0)"
   ]
  },
  {
   "cell_type": "code",
   "execution_count": 15,
   "metadata": {},
   "outputs": [],
   "source": [
    "for i in ['count_cum_receiver_A','count_cum_receiver_B','count_cum_sender_A','count_cum_sender_B']:\n",
    "    df_bis[i]=df_bis[i].fillna(0)"
   ]
  },
  {
   "attachments": {},
   "cell_type": "markdown",
   "metadata": {},
   "source": [
    "On identifie les tx comme ayant des NaNs comme étant les tx pour lesquelles un client (de A) qui n'apparaît pas dans les données de la banque B. \n",
    "\n",
    "Pour les valeurs de médianes et de moyennes, nous faisons le choix de mettre la valeur de la tx, à savoir tx_amount. \n",
    "Pour les valeurs des variances, nous décidons de mettre 0. \n",
    "De même pour les valeurs de nb_is_alert_solo_receiver. "
   ]
  },
  {
   "cell_type": "code",
   "execution_count": 16,
   "metadata": {},
   "outputs": [],
   "source": [
    "for i in ['median_cum_sender_B','mean_cum_sender_B','median_cum_receiver_B','mean_cum_receiver_B', 'median_cum_sender_A','mean_cum_sender_A','median_cum_receiver_A','mean_cum_receiver_A']:\n",
    "    df_bis[i]=df_bis[i].fillna(df_bis['tx_amount'])\n",
    "\n",
    "\n",
    "df_bis[['variance_cum_sender_B', 'variance_cum_receiver_B']]= df_bis[['variance_cum_sender_B', 'variance_cum_receiver_B']].fillna(0)\n",
    "df_bis[['variance_cum_sender_A', 'variance_cum_receiver_A']]= df_bis[['variance_cum_sender_A', 'variance_cum_receiver_A']].fillna(0)\n",
    "\n",
    "df_bis[['nb_is_alert_solo_receiver_A','nb_is_alert_solo_sender_A']]= df_bis[['nb_is_alert_solo_receiver_A','nb_is_alert_solo_sender_A']].fillna(0)\n",
    "df_bis[['nb_is_alert_solo_receiver_B','nb_is_alert_solo_sender_B']]= df_bis[['nb_is_alert_solo_receiver_B','nb_is_alert_solo_sender_B']].fillna(0)"
   ]
  },
  {
   "attachments": {},
   "cell_type": "markdown",
   "metadata": {},
   "source": [
    "On modifie les écarts en reprenant le code de la partie précédente `Base_clients_enrichissement` en prenant en compte le remplacement des NaNs ci-dessus."
   ]
  },
  {
   "cell_type": "code",
   "execution_count": 17,
   "metadata": {},
   "outputs": [],
   "source": [
    "#Écart\n",
    "df_bis['ecarts_tx_received_A']= (df_bis.tx_amount - df_bis.median_cum_receiver_A)/df_bis.median_cum_receiver_A*100\n",
    "df_bis['ecarts_tx_received_B']= (df_bis.tx_amount - df_bis.median_cum_receiver_B)/df_bis.median_cum_receiver_B*100\n",
    "df_bis['ecarts_tx_sent_A']= (df_bis.tx_amount - df_bis.median_cum_sender_A)/df_bis.median_cum_sender_A*100\n",
    "df_bis['ecarts_tx_sent_B']= (df_bis.tx_amount - df_bis.median_cum_sender_B)/df_bis.median_cum_sender_B*100\n",
    "\n",
    "df_bis = df_bis.replace([np.inf, -np.inf], np.nan)\n",
    "\n",
    "# supprimer les lignes avec des valeurs manquantes (NaN)\n",
    "df_bis.dropna(inplace=True)"
   ]
  },
  {
   "cell_type": "code",
   "execution_count": 18,
   "metadata": {},
   "outputs": [
    {
     "data": {
      "text/html": [
       "<div>\n",
       "<style scoped>\n",
       "    .dataframe tbody tr th:only-of-type {\n",
       "        vertical-align: middle;\n",
       "    }\n",
       "\n",
       "    .dataframe tbody tr th {\n",
       "        vertical-align: top;\n",
       "    }\n",
       "\n",
       "    .dataframe thead th {\n",
       "        text-align: right;\n",
       "    }\n",
       "</style>\n",
       "<table border=\"1\" class=\"dataframe\">\n",
       "  <thead>\n",
       "    <tr style=\"text-align: right;\">\n",
       "      <th></th>\n",
       "      <th>ecarts_tx_sent_A</th>\n",
       "      <th>ecarts_tx_sent_B</th>\n",
       "      <th>ecarts_tx_received_A</th>\n",
       "      <th>ecarts_tx_received_B</th>\n",
       "    </tr>\n",
       "  </thead>\n",
       "  <tbody>\n",
       "    <tr>\n",
       "      <th>count</th>\n",
       "      <td>1.083359e+06</td>\n",
       "      <td>1.083359e+06</td>\n",
       "      <td>1.083359e+06</td>\n",
       "      <td>1.083359e+06</td>\n",
       "    </tr>\n",
       "    <tr>\n",
       "      <th>mean</th>\n",
       "      <td>8.354743e+04</td>\n",
       "      <td>1.431037e+05</td>\n",
       "      <td>1.761403e+05</td>\n",
       "      <td>1.317502e+05</td>\n",
       "    </tr>\n",
       "    <tr>\n",
       "      <th>std</th>\n",
       "      <td>3.636522e+06</td>\n",
       "      <td>4.546692e+06</td>\n",
       "      <td>4.181801e+06</td>\n",
       "      <td>3.493449e+06</td>\n",
       "    </tr>\n",
       "    <tr>\n",
       "      <th>min</th>\n",
       "      <td>-9.999997e+01</td>\n",
       "      <td>-9.999996e+01</td>\n",
       "      <td>-9.999998e+01</td>\n",
       "      <td>-9.999998e+01</td>\n",
       "    </tr>\n",
       "    <tr>\n",
       "      <th>25%</th>\n",
       "      <td>0.000000e+00</td>\n",
       "      <td>0.000000e+00</td>\n",
       "      <td>-7.629572e+01</td>\n",
       "      <td>-4.410902e+01</td>\n",
       "    </tr>\n",
       "    <tr>\n",
       "      <th>50%</th>\n",
       "      <td>0.000000e+00</td>\n",
       "      <td>0.000000e+00</td>\n",
       "      <td>-6.162932e+00</td>\n",
       "      <td>0.000000e+00</td>\n",
       "    </tr>\n",
       "    <tr>\n",
       "      <th>75%</th>\n",
       "      <td>0.000000e+00</td>\n",
       "      <td>0.000000e+00</td>\n",
       "      <td>1.892975e+02</td>\n",
       "      <td>2.522332e+01</td>\n",
       "    </tr>\n",
       "    <tr>\n",
       "      <th>max</th>\n",
       "      <td>4.210751e+08</td>\n",
       "      <td>6.468323e+08</td>\n",
       "      <td>4.169870e+08</td>\n",
       "      <td>4.210751e+08</td>\n",
       "    </tr>\n",
       "  </tbody>\n",
       "</table>\n",
       "</div>"
      ],
      "text/plain": [
       "       ecarts_tx_sent_A  ecarts_tx_sent_B  ecarts_tx_received_A  \\\n",
       "count      1.083359e+06      1.083359e+06          1.083359e+06   \n",
       "mean       8.354743e+04      1.431037e+05          1.761403e+05   \n",
       "std        3.636522e+06      4.546692e+06          4.181801e+06   \n",
       "min       -9.999997e+01     -9.999996e+01         -9.999998e+01   \n",
       "25%        0.000000e+00      0.000000e+00         -7.629572e+01   \n",
       "50%        0.000000e+00      0.000000e+00         -6.162932e+00   \n",
       "75%        0.000000e+00      0.000000e+00          1.892975e+02   \n",
       "max        4.210751e+08      6.468323e+08          4.169870e+08   \n",
       "\n",
       "       ecarts_tx_received_B  \n",
       "count          1.083359e+06  \n",
       "mean           1.317502e+05  \n",
       "std            3.493449e+06  \n",
       "min           -9.999998e+01  \n",
       "25%           -4.410902e+01  \n",
       "50%            0.000000e+00  \n",
       "75%            2.522332e+01  \n",
       "max            4.210751e+08  "
      ]
     },
     "execution_count": 18,
     "metadata": {},
     "output_type": "execute_result"
    }
   ],
   "source": [
    "df_bis[['ecarts_tx_sent_A','ecarts_tx_sent_B','ecarts_tx_received_A','ecarts_tx_received_B']].describe()"
   ]
  },
  {
   "cell_type": "code",
   "execution_count": 19,
   "metadata": {},
   "outputs": [
    {
     "data": {
      "text/html": [
       "<div>\n",
       "<style scoped>\n",
       "    .dataframe tbody tr th:only-of-type {\n",
       "        vertical-align: middle;\n",
       "    }\n",
       "\n",
       "    .dataframe tbody tr th {\n",
       "        vertical-align: top;\n",
       "    }\n",
       "\n",
       "    .dataframe thead th {\n",
       "        text-align: right;\n",
       "    }\n",
       "</style>\n",
       "<table border=\"1\" class=\"dataframe\">\n",
       "  <thead>\n",
       "    <tr style=\"text-align: right;\">\n",
       "      <th></th>\n",
       "      <th>tx_amount</th>\n",
       "      <th>timestamp</th>\n",
       "      <th>sender_country_code</th>\n",
       "      <th>sender_birth_date</th>\n",
       "      <th>receiver_country_code</th>\n",
       "      <th>receiver_birth_date</th>\n",
       "      <th>jour_année_tx</th>\n",
       "      <th>jour_mois_tx</th>\n",
       "      <th>année_tx</th>\n",
       "      <th>mois_tx</th>\n",
       "      <th>...</th>\n",
       "      <th>reliability_sender_B</th>\n",
       "      <th>ecarts_tx_received_A</th>\n",
       "      <th>ecarts_tx_received_B</th>\n",
       "      <th>ecarts_tx_sent_A</th>\n",
       "      <th>ecarts_tx_sent_B</th>\n",
       "      <th>sender_bank_id</th>\n",
       "      <th>receiver_bank_id</th>\n",
       "      <th>is_alert_solo</th>\n",
       "      <th>is_alert_pooled</th>\n",
       "      <th>tx_type</th>\n",
       "    </tr>\n",
       "  </thead>\n",
       "  <tbody>\n",
       "  </tbody>\n",
       "</table>\n",
       "<p>0 rows × 43 columns</p>\n",
       "</div>"
      ],
      "text/plain": [
       "Empty DataFrame\n",
       "Columns: [tx_amount, timestamp, sender_country_code, sender_birth_date, receiver_country_code, receiver_birth_date, jour_année_tx, jour_mois_tx, année_tx, mois_tx, count_cum_sender_A, median_cum_sender_A, mean_cum_sender_A, variance_cum_sender_A, nb_is_alert_solo_sender_A, count_cum_sender_B, median_cum_sender_B, mean_cum_sender_B, variance_cum_sender_B, nb_is_alert_solo_sender_B, count_cum_receiver_A, median_cum_receiver_A, mean_cum_receiver_A, variance_cum_receiver_A, nb_is_alert_solo_receiver_A, count_cum_receiver_B, median_cum_receiver_B, mean_cum_receiver_B, variance_cum_receiver_B, nb_is_alert_solo_receiver_B, reliability_receiver_A, reliability_receiver_B, reliability_sender_A, reliability_sender_B, ecarts_tx_received_A, ecarts_tx_received_B, ecarts_tx_sent_A, ecarts_tx_sent_B, sender_bank_id, receiver_bank_id, is_alert_solo, is_alert_pooled, tx_type]\n",
       "Index: []\n",
       "\n",
       "[0 rows x 43 columns]"
      ]
     },
     "execution_count": 19,
     "metadata": {},
     "output_type": "execute_result"
    }
   ],
   "source": [
    "df_bis[df_bis.isnull().any(axis=1)]"
   ]
  },
  {
   "cell_type": "code",
   "execution_count": 20,
   "metadata": {},
   "outputs": [
    {
     "data": {
      "text/plain": [
       "Index(['tx_amount', 'timestamp', 'sender_country_code', 'sender_birth_date',\n",
       "       'receiver_country_code', 'receiver_birth_date', 'jour_année_tx',\n",
       "       'jour_mois_tx', 'année_tx', 'mois_tx', 'count_cum_sender_A',\n",
       "       'median_cum_sender_A', 'mean_cum_sender_A', 'variance_cum_sender_A',\n",
       "       'nb_is_alert_solo_sender_A', 'count_cum_sender_B',\n",
       "       'median_cum_sender_B', 'mean_cum_sender_B', 'variance_cum_sender_B',\n",
       "       'nb_is_alert_solo_sender_B', 'count_cum_receiver_A',\n",
       "       'median_cum_receiver_A', 'mean_cum_receiver_A',\n",
       "       'variance_cum_receiver_A', 'nb_is_alert_solo_receiver_A',\n",
       "       'count_cum_receiver_B', 'median_cum_receiver_B', 'mean_cum_receiver_B',\n",
       "       'variance_cum_receiver_B', 'nb_is_alert_solo_receiver_B',\n",
       "       'reliability_receiver_A', 'reliability_receiver_B',\n",
       "       'reliability_sender_A', 'reliability_sender_B', 'ecarts_tx_received_A',\n",
       "       'ecarts_tx_received_B', 'ecarts_tx_sent_A', 'ecarts_tx_sent_B',\n",
       "       'sender_bank_id', 'receiver_bank_id', 'is_alert_solo',\n",
       "       'is_alert_pooled', 'tx_type'],\n",
       "      dtype='object')"
      ]
     },
     "execution_count": 20,
     "metadata": {},
     "output_type": "execute_result"
    }
   ],
   "source": [
    "df_bis.columns"
   ]
  },
  {
   "attachments": {},
   "cell_type": "markdown",
   "metadata": {},
   "source": [
    "## On va s'intéresser à `is_alert_pooled`"
   ]
  },
  {
   "cell_type": "code",
   "execution_count": 21,
   "metadata": {},
   "outputs": [],
   "source": [
    "from sklearn.preprocessing import StandardScaler\n",
    "from sklearn.preprocessing import MinMaxScaler\n",
    "from sklearn.preprocessing import RobustScaler\n",
    "from sklearn import metrics\n",
    "from sklearn.model_selection import train_test_split\n",
    "\n",
    "from sklearn.linear_model import LogisticRegression\n",
    "from sklearn.ensemble import RandomForestClassifier\n",
    "from sklearn.neighbors import KNeighborsClassifier\n",
    "from sklearn.metrics import classification_report,confusion_matrix"
   ]
  },
  {
   "cell_type": "code",
   "execution_count": 22,
   "metadata": {},
   "outputs": [],
   "source": [
    "import datetime \n",
    "\n",
    "def train_test_split_time(df_to_split,time,delta):\n",
    "    \" fonction qui prend en arg un data frame à split, une date à partir de laquelle on sépare train et test, ainsi qu'un horizon \"\n",
    "\n",
    "    time_1_month = time + datetime.timedelta(days=delta)\n",
    "    df = filter_df(time, df_to_split)\n",
    "\n",
    "    X_train=df.drop(['is_alert_pooled', 'sender_birth_date', 'receiver_birth_date','timestamp'],axis=1)\n",
    "    y_train= df['is_alert_pooled']\n",
    "\n",
    "    df4 = df_to_split[(df_to_split.timestamp<time_1_month)&(df_to_split.timestamp>=time)]\n",
    "    X_test = df4.drop(['is_alert_pooled','is_alert_pooled', 'sender_birth_date', 'receiver_birth_date','timestamp'],axis=1)\n",
    "    y_test = df4['is_alert_pooled']\n",
    "    print(\"% Test/(Test + Train) : \"+  str(len(X_test)/(len(X_train)+len(X_test))*100))\n",
    "\n",
    "    return(X_train, X_test, y_train, y_test)"
   ]
  },
  {
   "cell_type": "code",
   "execution_count": 47,
   "metadata": {},
   "outputs": [
    {
     "name": "stdout",
     "output_type": "stream",
     "text": [
      "% Test/(Test + Train) : 31.625843289145894\n"
     ]
    }
   ],
   "source": [
    "# On fixe une date t \n",
    "# On va prédire le caractère frauduleux de la tx en ne prenant que les tx passées \n",
    "import datetime\n",
    "\n",
    "#On fixe la date initiale\n",
    "time = datetime.datetime(2019, 5, 16)\n",
    "#On fixe l'horizon\n",
    "delta= 200\n",
    "\n",
    "X_train, X_test, y_train, y_test = train_test_split_time(df_bis,time,delta)\n",
    "\n",
    "X_t= X_train.copy()"
   ]
  },
  {
   "cell_type": "code",
   "execution_count": 48,
   "metadata": {},
   "outputs": [
    {
     "data": {
      "text/html": [
       "<div>\n",
       "<style scoped>\n",
       "    .dataframe tbody tr th:only-of-type {\n",
       "        vertical-align: middle;\n",
       "    }\n",
       "\n",
       "    .dataframe tbody tr th {\n",
       "        vertical-align: top;\n",
       "    }\n",
       "\n",
       "    .dataframe thead th {\n",
       "        text-align: right;\n",
       "    }\n",
       "</style>\n",
       "<table border=\"1\" class=\"dataframe\">\n",
       "  <thead>\n",
       "    <tr style=\"text-align: right;\">\n",
       "      <th></th>\n",
       "      <th>tx_amount</th>\n",
       "      <th>sender_country_code</th>\n",
       "      <th>receiver_country_code</th>\n",
       "      <th>jour_année_tx</th>\n",
       "      <th>jour_mois_tx</th>\n",
       "      <th>année_tx</th>\n",
       "      <th>mois_tx</th>\n",
       "      <th>count_cum_sender_A</th>\n",
       "      <th>median_cum_sender_A</th>\n",
       "      <th>mean_cum_sender_A</th>\n",
       "      <th>...</th>\n",
       "      <th>reliability_sender_A</th>\n",
       "      <th>reliability_sender_B</th>\n",
       "      <th>ecarts_tx_received_A</th>\n",
       "      <th>ecarts_tx_received_B</th>\n",
       "      <th>ecarts_tx_sent_A</th>\n",
       "      <th>ecarts_tx_sent_B</th>\n",
       "      <th>sender_bank_id</th>\n",
       "      <th>receiver_bank_id</th>\n",
       "      <th>is_alert_solo</th>\n",
       "      <th>tx_type</th>\n",
       "    </tr>\n",
       "  </thead>\n",
       "  <tbody>\n",
       "    <tr>\n",
       "      <th>count</th>\n",
       "      <td>338409.000000</td>\n",
       "      <td>338409.000000</td>\n",
       "      <td>338409.000000</td>\n",
       "      <td>338409.000000</td>\n",
       "      <td>338409.000000</td>\n",
       "      <td>338409.000000</td>\n",
       "      <td>338409.000000</td>\n",
       "      <td>338409.000000</td>\n",
       "      <td>3.384090e+05</td>\n",
       "      <td>3.384090e+05</td>\n",
       "      <td>...</td>\n",
       "      <td>338409.000000</td>\n",
       "      <td>338409.000000</td>\n",
       "      <td>3.384090e+05</td>\n",
       "      <td>3.384090e+05</td>\n",
       "      <td>3.384090e+05</td>\n",
       "      <td>3.384090e+05</td>\n",
       "      <td>338409.000000</td>\n",
       "      <td>338409.000000</td>\n",
       "      <td>338409.000000</td>\n",
       "      <td>338409.000000</td>\n",
       "    </tr>\n",
       "    <tr>\n",
       "      <th>mean</th>\n",
       "      <td>928.916289</td>\n",
       "      <td>28.317929</td>\n",
       "      <td>29.217414</td>\n",
       "      <td>170.377741</td>\n",
       "      <td>15.368678</td>\n",
       "      <td>2018.306635</td>\n",
       "      <td>6.126814</td>\n",
       "      <td>50.927803</td>\n",
       "      <td>1.849975e+03</td>\n",
       "      <td>6.394477e+03</td>\n",
       "      <td>...</td>\n",
       "      <td>0.993647</td>\n",
       "      <td>0.996008</td>\n",
       "      <td>1.387115e+03</td>\n",
       "      <td>1.009932e+03</td>\n",
       "      <td>6.294100e+02</td>\n",
       "      <td>1.046648e+03</td>\n",
       "      <td>0.831450</td>\n",
       "      <td>0.755834</td>\n",
       "      <td>0.006643</td>\n",
       "      <td>0.832640</td>\n",
       "    </tr>\n",
       "    <tr>\n",
       "      <th>std</th>\n",
       "      <td>6985.622193</td>\n",
       "      <td>4.083205</td>\n",
       "      <td>3.542846</td>\n",
       "      <td>101.954315</td>\n",
       "      <td>8.842213</td>\n",
       "      <td>0.461097</td>\n",
       "      <td>3.342354</td>\n",
       "      <td>72.138643</td>\n",
       "      <td>5.238110e+04</td>\n",
       "      <td>1.475459e+05</td>\n",
       "      <td>...</td>\n",
       "      <td>0.025915</td>\n",
       "      <td>0.020696</td>\n",
       "      <td>2.310024e+04</td>\n",
       "      <td>2.038211e+04</td>\n",
       "      <td>2.058594e+04</td>\n",
       "      <td>2.191131e+04</td>\n",
       "      <td>0.857799</td>\n",
       "      <td>0.838095</td>\n",
       "      <td>0.081233</td>\n",
       "      <td>0.373297</td>\n",
       "    </tr>\n",
       "    <tr>\n",
       "      <th>min</th>\n",
       "      <td>1.840000</td>\n",
       "      <td>0.000000</td>\n",
       "      <td>1.000000</td>\n",
       "      <td>5.000000</td>\n",
       "      <td>1.000000</td>\n",
       "      <td>2018.000000</td>\n",
       "      <td>1.000000</td>\n",
       "      <td>1.000000</td>\n",
       "      <td>1.840000e+00</td>\n",
       "      <td>1.840000e+00</td>\n",
       "      <td>...</td>\n",
       "      <td>0.000000</td>\n",
       "      <td>0.000000</td>\n",
       "      <td>-9.999998e+01</td>\n",
       "      <td>-9.999996e+01</td>\n",
       "      <td>-9.999978e+01</td>\n",
       "      <td>-9.999996e+01</td>\n",
       "      <td>0.000000</td>\n",
       "      <td>0.000000</td>\n",
       "      <td>0.000000</td>\n",
       "      <td>0.000000</td>\n",
       "    </tr>\n",
       "    <tr>\n",
       "      <th>25%</th>\n",
       "      <td>24.960000</td>\n",
       "      <td>28.000000</td>\n",
       "      <td>29.000000</td>\n",
       "      <td>89.000000</td>\n",
       "      <td>8.000000</td>\n",
       "      <td>2018.000000</td>\n",
       "      <td>3.000000</td>\n",
       "      <td>12.000000</td>\n",
       "      <td>2.718000e+01</td>\n",
       "      <td>2.717000e+01</td>\n",
       "      <td>...</td>\n",
       "      <td>1.000000</td>\n",
       "      <td>1.000000</td>\n",
       "      <td>-7.603704e+01</td>\n",
       "      <td>-4.699778e+01</td>\n",
       "      <td>0.000000e+00</td>\n",
       "      <td>0.000000e+00</td>\n",
       "      <td>0.000000</td>\n",
       "      <td>0.000000</td>\n",
       "      <td>0.000000</td>\n",
       "      <td>1.000000</td>\n",
       "    </tr>\n",
       "    <tr>\n",
       "      <th>50%</th>\n",
       "      <td>158.830000</td>\n",
       "      <td>28.000000</td>\n",
       "      <td>29.000000</td>\n",
       "      <td>146.000000</td>\n",
       "      <td>15.000000</td>\n",
       "      <td>2018.000000</td>\n",
       "      <td>5.000000</td>\n",
       "      <td>30.000000</td>\n",
       "      <td>1.606600e+02</td>\n",
       "      <td>1.605800e+02</td>\n",
       "      <td>...</td>\n",
       "      <td>1.000000</td>\n",
       "      <td>1.000000</td>\n",
       "      <td>-5.841362e+00</td>\n",
       "      <td>0.000000e+00</td>\n",
       "      <td>0.000000e+00</td>\n",
       "      <td>0.000000e+00</td>\n",
       "      <td>1.000000</td>\n",
       "      <td>0.000000</td>\n",
       "      <td>0.000000</td>\n",
       "      <td>1.000000</td>\n",
       "    </tr>\n",
       "    <tr>\n",
       "      <th>75%</th>\n",
       "      <td>443.380000</td>\n",
       "      <td>28.000000</td>\n",
       "      <td>29.000000</td>\n",
       "      <td>258.000000</td>\n",
       "      <td>23.000000</td>\n",
       "      <td>2019.000000</td>\n",
       "      <td>9.000000</td>\n",
       "      <td>56.000000</td>\n",
       "      <td>4.489200e+02</td>\n",
       "      <td>4.489200e+02</td>\n",
       "      <td>...</td>\n",
       "      <td>1.000000</td>\n",
       "      <td>1.000000</td>\n",
       "      <td>1.873245e+02</td>\n",
       "      <td>2.393239e+01</td>\n",
       "      <td>0.000000e+00</td>\n",
       "      <td>0.000000e+00</td>\n",
       "      <td>2.000000</td>\n",
       "      <td>2.000000</td>\n",
       "      <td>0.000000</td>\n",
       "      <td>1.000000</td>\n",
       "    </tr>\n",
       "    <tr>\n",
       "      <th>max</th>\n",
       "      <td>434008.620000</td>\n",
       "      <td>79.000000</td>\n",
       "      <td>82.000000</td>\n",
       "      <td>363.000000</td>\n",
       "      <td>31.000000</td>\n",
       "      <td>2019.000000</td>\n",
       "      <td>12.000000</td>\n",
       "      <td>870.000000</td>\n",
       "      <td>1.459243e+07</td>\n",
       "      <td>1.121475e+07</td>\n",
       "      <td>...</td>\n",
       "      <td>1.000000</td>\n",
       "      <td>1.000000</td>\n",
       "      <td>2.739100e+06</td>\n",
       "      <td>3.844086e+06</td>\n",
       "      <td>4.334749e+06</td>\n",
       "      <td>2.339465e+06</td>\n",
       "      <td>2.000000</td>\n",
       "      <td>2.000000</td>\n",
       "      <td>1.000000</td>\n",
       "      <td>1.000000</td>\n",
       "    </tr>\n",
       "  </tbody>\n",
       "</table>\n",
       "<p>8 rows × 39 columns</p>\n",
       "</div>"
      ],
      "text/plain": [
       "           tx_amount  sender_country_code  receiver_country_code  \\\n",
       "count  338409.000000        338409.000000          338409.000000   \n",
       "mean      928.916289            28.317929              29.217414   \n",
       "std      6985.622193             4.083205               3.542846   \n",
       "min         1.840000             0.000000               1.000000   \n",
       "25%        24.960000            28.000000              29.000000   \n",
       "50%       158.830000            28.000000              29.000000   \n",
       "75%       443.380000            28.000000              29.000000   \n",
       "max    434008.620000            79.000000              82.000000   \n",
       "\n",
       "       jour_année_tx   jour_mois_tx       année_tx        mois_tx  \\\n",
       "count  338409.000000  338409.000000  338409.000000  338409.000000   \n",
       "mean      170.377741      15.368678    2018.306635       6.126814   \n",
       "std       101.954315       8.842213       0.461097       3.342354   \n",
       "min         5.000000       1.000000    2018.000000       1.000000   \n",
       "25%        89.000000       8.000000    2018.000000       3.000000   \n",
       "50%       146.000000      15.000000    2018.000000       5.000000   \n",
       "75%       258.000000      23.000000    2019.000000       9.000000   \n",
       "max       363.000000      31.000000    2019.000000      12.000000   \n",
       "\n",
       "       count_cum_sender_A  median_cum_sender_A  mean_cum_sender_A  ...  \\\n",
       "count       338409.000000         3.384090e+05       3.384090e+05  ...   \n",
       "mean            50.927803         1.849975e+03       6.394477e+03  ...   \n",
       "std             72.138643         5.238110e+04       1.475459e+05  ...   \n",
       "min              1.000000         1.840000e+00       1.840000e+00  ...   \n",
       "25%             12.000000         2.718000e+01       2.717000e+01  ...   \n",
       "50%             30.000000         1.606600e+02       1.605800e+02  ...   \n",
       "75%             56.000000         4.489200e+02       4.489200e+02  ...   \n",
       "max            870.000000         1.459243e+07       1.121475e+07  ...   \n",
       "\n",
       "       reliability_sender_A  reliability_sender_B  ecarts_tx_received_A  \\\n",
       "count         338409.000000         338409.000000          3.384090e+05   \n",
       "mean               0.993647              0.996008          1.387115e+03   \n",
       "std                0.025915              0.020696          2.310024e+04   \n",
       "min                0.000000              0.000000         -9.999998e+01   \n",
       "25%                1.000000              1.000000         -7.603704e+01   \n",
       "50%                1.000000              1.000000         -5.841362e+00   \n",
       "75%                1.000000              1.000000          1.873245e+02   \n",
       "max                1.000000              1.000000          2.739100e+06   \n",
       "\n",
       "       ecarts_tx_received_B  ecarts_tx_sent_A  ecarts_tx_sent_B  \\\n",
       "count          3.384090e+05      3.384090e+05      3.384090e+05   \n",
       "mean           1.009932e+03      6.294100e+02      1.046648e+03   \n",
       "std            2.038211e+04      2.058594e+04      2.191131e+04   \n",
       "min           -9.999996e+01     -9.999978e+01     -9.999996e+01   \n",
       "25%           -4.699778e+01      0.000000e+00      0.000000e+00   \n",
       "50%            0.000000e+00      0.000000e+00      0.000000e+00   \n",
       "75%            2.393239e+01      0.000000e+00      0.000000e+00   \n",
       "max            3.844086e+06      4.334749e+06      2.339465e+06   \n",
       "\n",
       "       sender_bank_id  receiver_bank_id  is_alert_solo        tx_type  \n",
       "count   338409.000000     338409.000000  338409.000000  338409.000000  \n",
       "mean         0.831450          0.755834       0.006643       0.832640  \n",
       "std          0.857799          0.838095       0.081233       0.373297  \n",
       "min          0.000000          0.000000       0.000000       0.000000  \n",
       "25%          0.000000          0.000000       0.000000       1.000000  \n",
       "50%          1.000000          0.000000       0.000000       1.000000  \n",
       "75%          2.000000          2.000000       0.000000       1.000000  \n",
       "max          2.000000          2.000000       1.000000       1.000000  \n",
       "\n",
       "[8 rows x 39 columns]"
      ]
     },
     "execution_count": 48,
     "metadata": {},
     "output_type": "execute_result"
    }
   ],
   "source": [
    "X_train.describe()"
   ]
  },
  {
   "attachments": {},
   "cell_type": "markdown",
   "metadata": {},
   "source": [
    "### Scaling \n",
    "\n",
    "`RobustScaler` est insensible aux outliers \n",
    "On note IQR : l'écart interquartile (Q3 -Q1) \n",
    "On a : \n",
    "\n",
    "$$ X_{scaled}=\\frac{X - médiane}{IQR} $$\n",
    "\n",
    "Et la médiane est beaucoup moins sensible aux outliers\n",
    "\n",
    "\n",
    "Sauf que les outliers nous intéresse donc on préfère utiliser le `StandardScaler`\n",
    "\n",
    "`StandardScaler` standardise chaque variable X : \n",
    "- la moyenne est nulle \n",
    "- l'écart type est égale à 1\n",
    "\n",
    "    $$ X_{scaled}=\\frac{X - \\mu_X}{\\sigma_X} $$"
   ]
  },
  {
   "cell_type": "code",
   "execution_count": 49,
   "metadata": {},
   "outputs": [],
   "source": [
    "scaler = StandardScaler()\n",
    "\n",
    "X_train = scaler.fit_transform(X_train) #fit_transform is a easy way to do the following normally \n",
    "X_test= scaler.transform(X_test)\n",
    "\n",
    "X_train = pd.DataFrame(scaler.fit_transform(X_train),  columns= X_t.columns)\n",
    "X_test = pd.DataFrame(scaler.transform(X_test),  columns= X_t.columns)"
   ]
  },
  {
   "cell_type": "code",
   "execution_count": 50,
   "metadata": {},
   "outputs": [
    {
     "data": {
      "text/plain": [
       "<AxesSubplot:>"
      ]
     },
     "execution_count": 50,
     "metadata": {},
     "output_type": "execute_result"
    },
    {
     "data": {
      "image/png": "[encoded data removed]",
      "text/plain": [
       "<Figure size 720x576 with 2 Axes>"
      ]
     },
     "metadata": {
      "needs_background": "light"
     },
     "output_type": "display_data"
    }
   ],
   "source": [
    "#Affichage visualisation classique des corrélations entre features\n",
    "f, ax = plt.subplots(figsize=(10, 8))\n",
    "# palette de couleurs de la colormap\n",
    "cmap = sns.color_palette(\"vlag\", as_cmap=True)\n",
    "\n",
    "sns.heatmap(X_train.corr(), cmap= cmap, linewidths=.3, vmin=-1, vmax=1)"
   ]
  },
  {
   "cell_type": "code",
   "execution_count": 51,
   "metadata": {},
   "outputs": [
    {
     "name": "stdout",
     "output_type": "stream",
     "text": [
      "              precision    recall  f1-score   support\n",
      "\n",
      "           0       1.00      1.00      1.00    156306\n",
      "           1       1.00      0.88      0.94       222\n",
      "\n",
      "    accuracy                           1.00    156528\n",
      "   macro avg       1.00      0.94      0.97    156528\n",
      "weighted avg       1.00      1.00      1.00    156528\n",
      "\n",
      "[[156306      0]\n",
      " [    26    196]]\n"
     ]
    },
    {
     "data": {
      "text/plain": [
       "<AxesSubplot:>"
      ]
     },
     "execution_count": 51,
     "metadata": {},
     "output_type": "execute_result"
    },
    {
     "data": {
      "image/png": "[encoded data removed]",
      "text/plain": [
       "<Figure size 432x288 with 2 Axes>"
      ]
     },
     "metadata": {
      "needs_background": "light"
     },
     "output_type": "display_data"
    }
   ],
   "source": [
    "model = RandomForestClassifier()# n_estimators=50, max_depth=10, max_features = 15) \n",
    "\n",
    "model.fit(X_train, y_train) \n",
    "\n",
    "predictions= model.predict(X_test)\n",
    "\n",
    "print(classification_report(y_test,predictions))\n",
    "print(confusion_matrix(y_test,predictions))\n",
    "sns.heatmap(confusion_matrix(y_test,predictions),annot=True)\n",
    "#sns.heatmap(confusion_matrix(y_train,model.predict(X_train)),annot=True)"
   ]
  },
  {
   "cell_type": "code",
   "execution_count": 52,
   "metadata": {},
   "outputs": [
    {
     "data": {
      "image/png": "[encoded data removed]",
      "text/plain": [
       "<Figure size 504x576 with 1 Axes>"
      ]
     },
     "metadata": {
      "needs_background": "light"
     },
     "output_type": "display_data"
    }
   ],
   "source": [
    "#RFClassifier\n",
    "importances = model.feature_importances_\n",
    "\n",
    "indices = np.argsort(importances)\n",
    "\n",
    "\n",
    "fig, ax = plt.subplots(figsize=(7,8))\n",
    "ax.barh(range(len(importances)), importances[indices]*100)\n",
    "ax.set_yticks(range(len(importances)), colors='royalblue')\n",
    "_ = ax.set_yticklabels(np.array(X_t.columns)[indices])\n",
    "plt.grid()\n",
    "plt.title(\"Importance de chacune des features sur is_alert_pooled en %\")\n",
    "plt.show()"
   ]
  },
  {
   "attachments": {},
   "cell_type": "markdown",
   "metadata": {},
   "source": [
    "## XGB"
   ]
  },
  {
   "cell_type": "code",
   "execution_count": 30,
   "metadata": {},
   "outputs": [
    {
     "name": "stdout",
     "output_type": "stream",
     "text": [
      "Requirement already satisfied: xgboost in /opt/anaconda3/envs/jupyterlab-3.3.2/lib/python3.10/site-packages (1.7.4)\n",
      "Requirement already satisfied: numpy in /opt/anaconda3/envs/jupyterlab-3.3.2/lib/python3.10/site-packages (from xgboost) (1.23.1)\n",
      "Requirement already satisfied: scipy in /opt/anaconda3/envs/jupyterlab-3.3.2/lib/python3.10/site-packages (from xgboost) (1.8.1)\n"
     ]
    }
   ],
   "source": [
    "!pip install xgboost"
   ]
  },
  {
   "cell_type": "code",
   "execution_count": 31,
   "metadata": {},
   "outputs": [],
   "source": [
    "import xgboost as xgb"
   ]
  },
  {
   "cell_type": "code",
   "execution_count": 53,
   "metadata": {},
   "outputs": [
    {
     "name": "stdout",
     "output_type": "stream",
     "text": [
      "              precision    recall  f1-score   support\n",
      "\n",
      "           0       1.00      1.00      1.00    156306\n",
      "           1       1.00      0.95      0.98       222\n",
      "\n",
      "    accuracy                           1.00    156528\n",
      "   macro avg       1.00      0.98      0.99    156528\n",
      "weighted avg       1.00      1.00      1.00    156528\n",
      "\n",
      "[[156306      0]\n",
      " [    10    212]]\n"
     ]
    },
    {
     "data": {
      "text/plain": [
       "<AxesSubplot:>"
      ]
     },
     "execution_count": 53,
     "metadata": {},
     "output_type": "execute_result"
    },
    {
     "data": {
      "image/png": "[encoded data removed]",
      "text/plain": [
       "<Figure size 432x288 with 2 Axes>"
      ]
     },
     "metadata": {
      "needs_background": "light"
     },
     "output_type": "display_data"
    }
   ],
   "source": [
    "model = xgb.XGBClassifier()\n",
    "\n",
    "model.fit(X_train, y_train) \n",
    "\n",
    "predictions= model.predict(X_test)\n",
    "\n",
    "print(classification_report(y_test,predictions))\n",
    "print(confusion_matrix(y_test,predictions))\n",
    "sns.heatmap(confusion_matrix(y_test,predictions),annot=True)"
   ]
  },
  {
   "cell_type": "code",
   "execution_count": 54,
   "metadata": {},
   "outputs": [
    {
     "data": {
      "image/png": "[encoded data removed]",
      "text/plain": [
       "<Figure size 504x576 with 1 Axes>"
      ]
     },
     "metadata": {
      "needs_background": "light"
     },
     "output_type": "display_data"
    }
   ],
   "source": [
    "#XGB\n",
    "importances = model.feature_importances_\n",
    "\n",
    "indices = np.argsort(importances)\n",
    "\n",
    "\n",
    "fig, ax = plt.subplots(figsize=(7,8))\n",
    "ax.barh(range(len(importances)), importances[indices]*100)\n",
    "ax.set_yticks(range(len(importances)), colors='royalblue')\n",
    "_ = ax.set_yticklabels(np.array(X_t.columns)[indices])\n",
    "plt.grid()\n",
    "plt.title(\"Importance de chacune des features sur is_alert_pooled en %\")\n",
    "plt.show()"
   ]
  },
  {
   "cell_type": "code",
   "execution_count": 56,
   "metadata": {},
   "outputs": [],
   "source": [
    "from sklearn.model_selection import RandomizedSearchCV \n",
    "from sklearn.model_selection import GridSearchCV \n",
    "from sklearn.metrics import make_scorer\n",
    "from sklearn.model_selection import cross_val_score\n",
    "from sklearn.metrics import recall_score, precision_score, f1_score, accuracy_score, roc_auc_score"
   ]
  },
  {
   "cell_type": "code",
   "execution_count": 57,
   "metadata": {},
   "outputs": [],
   "source": [
    "recall=make_scorer(recall_score)\n",
    "precision=make_scorer(precision_score)\n",
    "f1=make_scorer(f1_score)"
   ]
  },
  {
   "cell_type": "code",
   "execution_count": 60,
   "metadata": {},
   "outputs": [],
   "source": [
    "def score_cv(model, X_train,y_train,cv):\n",
    "    \" Objectif : renvoyer un df contenant la moyenne des scores recall et précision\"\n",
    "    \" On prend en argument un modèle, X_train, y_train, et un nombre correspondant au nombre de splits souhaités\" \n",
    "    \n",
    "    scores_recall = cross_val_score(model, X_train, y_train, cv=cv, scoring=recall)\n",
    "    scores_precision= cross_val_score(model, X_train, y_train, cv=cv, scoring=precision)\n",
    "    scores_f1= cross_val_score(model, X_train, y_train, cv=cv, scoring=f1)\n",
    "    df_score_cv=pd.DataFrame({'Moyennes' : [scores_recall.mean(), scores_precision.mean() , scores_f1.mean()],\n",
    "                          'Ecart-Type': [scores_recall.std(), scores_precision.std(), scores_f1.std()] },\n",
    "                        index=['Recall', 'Precision','f1'])\n",
    "    return df_score_cv "
   ]
  },
  {
   "cell_type": "code",
   "execution_count": 61,
   "metadata": {},
   "outputs": [
    {
     "name": "stdout",
     "output_type": "stream",
     "text": [
      "Fitting 5 folds for each of 1 candidates, totalling 5 fits\n"
     ]
    },
    {
     "ename": "KeyboardInterrupt",
     "evalue": "",
     "output_type": "error",
     "traceback": [
      "\u001b[0;31m---------------------------------------------------------------------------\u001b[0m",
      "\u001b[0;31mKeyboardInterrupt\u001b[0m                         Traceback (most recent call last)",
      "\u001b[1;32m/Users/Corentin/Statapp-2/Notebook/modé.ipynb Cell 44\u001b[0m in \u001b[0;36m<cell line: 28>\u001b[0;34m()\u001b[0m\n\u001b[1;32m     <a href='vscode-notebook-cell:/Users/Corentin/Statapp-2/Notebook/mod%C3%A9.ipynb#X53sZmlsZQ%3D%3D?line=23'>24</a>\u001b[0m search\u001b[39m=\u001b[39m RandomizedSearchCV(estimator \u001b[39m=\u001b[39m clf, param_distributions \u001b[39m=\u001b[39m param_grid, \n\u001b[1;32m     <a href='vscode-notebook-cell:/Users/Corentin/Statapp-2/Notebook/mod%C3%A9.ipynb#X53sZmlsZQ%3D%3D?line=24'>25</a>\u001b[0m                                 n_iter \u001b[39m=\u001b[39m \u001b[39m1\u001b[39m, cv \u001b[39m=\u001b[39m \u001b[39mNone\u001b[39;00m, verbose\u001b[39m=\u001b[39m\u001b[39m2\u001b[39m, random_state\u001b[39m=\u001b[39m\u001b[39m1\u001b[39m, n_jobs \u001b[39m=\u001b[39m \u001b[39m-\u001b[39m\u001b[39m1\u001b[39m,scoring\u001b[39m=\u001b[39mf1)\n\u001b[1;32m     <a href='vscode-notebook-cell:/Users/Corentin/Statapp-2/Notebook/mod%C3%A9.ipynb#X53sZmlsZQ%3D%3D?line=25'>26</a>\u001b[0m \u001b[39m#On va tester des modèles différents, chacun d'entre eux aura des paramètres séléctionnés au hasard parmi ceux de \u001b[39;00m\n\u001b[1;32m     <a href='vscode-notebook-cell:/Users/Corentin/Statapp-2/Notebook/mod%C3%A9.ipynb#X53sZmlsZQ%3D%3D?line=26'>27</a>\u001b[0m \u001b[39m#param_grid. On choisit le f1 comme score à maximiser.\u001b[39;00m\n\u001b[0;32m---> <a href='vscode-notebook-cell:/Users/Corentin/Statapp-2/Notebook/mod%C3%A9.ipynb#X53sZmlsZQ%3D%3D?line=27'>28</a>\u001b[0m search\u001b[39m.\u001b[39;49mfit(X_train,y_train)\n",
      "File \u001b[0;32m/opt/anaconda3/envs/jupyterlab-3.3.2/lib/python3.10/site-packages/sklearn/model_selection/_search.py:875\u001b[0m, in \u001b[0;36mBaseSearchCV.fit\u001b[0;34m(self, X, y, groups, **fit_params)\u001b[0m\n\u001b[1;32m    869\u001b[0m     results \u001b[39m=\u001b[39m \u001b[39mself\u001b[39m\u001b[39m.\u001b[39m_format_results(\n\u001b[1;32m    870\u001b[0m         all_candidate_params, n_splits, all_out, all_more_results\n\u001b[1;32m    871\u001b[0m     )\n\u001b[1;32m    873\u001b[0m     \u001b[39mreturn\u001b[39;00m results\n\u001b[0;32m--> 875\u001b[0m \u001b[39mself\u001b[39;49m\u001b[39m.\u001b[39;49m_run_search(evaluate_candidates)\n\u001b[1;32m    877\u001b[0m \u001b[39m# multimetric is determined here because in the case of a callable\u001b[39;00m\n\u001b[1;32m    878\u001b[0m \u001b[39m# self.scoring the return type is only known after calling\u001b[39;00m\n\u001b[1;32m    879\u001b[0m first_test_score \u001b[39m=\u001b[39m all_out[\u001b[39m0\u001b[39m][\u001b[39m\"\u001b[39m\u001b[39mtest_scores\u001b[39m\u001b[39m\"\u001b[39m]\n",
      "File \u001b[0;32m/opt/anaconda3/envs/jupyterlab-3.3.2/lib/python3.10/site-packages/sklearn/model_selection/_search.py:1749\u001b[0m, in \u001b[0;36mRandomizedSearchCV._run_search\u001b[0;34m(self, evaluate_candidates)\u001b[0m\n\u001b[1;32m   1747\u001b[0m \u001b[39mdef\u001b[39;00m \u001b[39m_run_search\u001b[39m(\u001b[39mself\u001b[39m, evaluate_candidates):\n\u001b[1;32m   1748\u001b[0m     \u001b[39m\"\"\"Search n_iter candidates from param_distributions\"\"\"\u001b[39;00m\n\u001b[0;32m-> 1749\u001b[0m     evaluate_candidates(\n\u001b[1;32m   1750\u001b[0m         ParameterSampler(\n\u001b[1;32m   1751\u001b[0m             \u001b[39mself\u001b[39;49m\u001b[39m.\u001b[39;49mparam_distributions, \u001b[39mself\u001b[39;49m\u001b[39m.\u001b[39;49mn_iter, random_state\u001b[39m=\u001b[39;49m\u001b[39mself\u001b[39;49m\u001b[39m.\u001b[39;49mrandom_state\n\u001b[1;32m   1752\u001b[0m         )\n\u001b[1;32m   1753\u001b[0m     )\n",
      "File \u001b[0;32m/opt/anaconda3/envs/jupyterlab-3.3.2/lib/python3.10/site-packages/sklearn/model_selection/_search.py:822\u001b[0m, in \u001b[0;36mBaseSearchCV.fit.<locals>.evaluate_candidates\u001b[0;34m(candidate_params, cv, more_results)\u001b[0m\n\u001b[1;32m    814\u001b[0m \u001b[39mif\u001b[39;00m \u001b[39mself\u001b[39m\u001b[39m.\u001b[39mverbose \u001b[39m>\u001b[39m \u001b[39m0\u001b[39m:\n\u001b[1;32m    815\u001b[0m     \u001b[39mprint\u001b[39m(\n\u001b[1;32m    816\u001b[0m         \u001b[39m\"\u001b[39m\u001b[39mFitting \u001b[39m\u001b[39m{0}\u001b[39;00m\u001b[39m folds for each of \u001b[39m\u001b[39m{1}\u001b[39;00m\u001b[39m candidates,\u001b[39m\u001b[39m\"\u001b[39m\n\u001b[1;32m    817\u001b[0m         \u001b[39m\"\u001b[39m\u001b[39m totalling \u001b[39m\u001b[39m{2}\u001b[39;00m\u001b[39m fits\u001b[39m\u001b[39m\"\u001b[39m\u001b[39m.\u001b[39mformat(\n\u001b[1;32m    818\u001b[0m             n_splits, n_candidates, n_candidates \u001b[39m*\u001b[39m n_splits\n\u001b[1;32m    819\u001b[0m         )\n\u001b[1;32m    820\u001b[0m     )\n\u001b[0;32m--> 822\u001b[0m out \u001b[39m=\u001b[39m parallel(\n\u001b[1;32m    823\u001b[0m     delayed(_fit_and_score)(\n\u001b[1;32m    824\u001b[0m         clone(base_estimator),\n\u001b[1;32m    825\u001b[0m         X,\n\u001b[1;32m    826\u001b[0m         y,\n\u001b[1;32m    827\u001b[0m         train\u001b[39m=\u001b[39;49mtrain,\n\u001b[1;32m    828\u001b[0m         test\u001b[39m=\u001b[39;49mtest,\n\u001b[1;32m    829\u001b[0m         parameters\u001b[39m=\u001b[39;49mparameters,\n\u001b[1;32m    830\u001b[0m         split_progress\u001b[39m=\u001b[39;49m(split_idx, n_splits),\n\u001b[1;32m    831\u001b[0m         candidate_progress\u001b[39m=\u001b[39;49m(cand_idx, n_candidates),\n\u001b[1;32m    832\u001b[0m         \u001b[39m*\u001b[39;49m\u001b[39m*\u001b[39;49mfit_and_score_kwargs,\n\u001b[1;32m    833\u001b[0m     )\n\u001b[1;32m    834\u001b[0m     \u001b[39mfor\u001b[39;49;00m (cand_idx, parameters), (split_idx, (train, test)) \u001b[39min\u001b[39;49;00m product(\n\u001b[1;32m    835\u001b[0m         \u001b[39menumerate\u001b[39;49m(candidate_params), \u001b[39menumerate\u001b[39;49m(cv\u001b[39m.\u001b[39;49msplit(X, y, groups))\n\u001b[1;32m    836\u001b[0m     )\n\u001b[1;32m    837\u001b[0m )\n\u001b[1;32m    839\u001b[0m \u001b[39mif\u001b[39;00m \u001b[39mlen\u001b[39m(out) \u001b[39m<\u001b[39m \u001b[39m1\u001b[39m:\n\u001b[1;32m    840\u001b[0m     \u001b[39mraise\u001b[39;00m \u001b[39mValueError\u001b[39;00m(\n\u001b[1;32m    841\u001b[0m         \u001b[39m\"\u001b[39m\u001b[39mNo fits were performed. \u001b[39m\u001b[39m\"\u001b[39m\n\u001b[1;32m    842\u001b[0m         \u001b[39m\"\u001b[39m\u001b[39mWas the CV iterator empty? \u001b[39m\u001b[39m\"\u001b[39m\n\u001b[1;32m    843\u001b[0m         \u001b[39m\"\u001b[39m\u001b[39mWere there no candidates?\u001b[39m\u001b[39m\"\u001b[39m\n\u001b[1;32m    844\u001b[0m     )\n",
      "File \u001b[0;32m/opt/anaconda3/envs/jupyterlab-3.3.2/lib/python3.10/site-packages/joblib/parallel.py:1061\u001b[0m, in \u001b[0;36mParallel.__call__\u001b[0;34m(self, iterable)\u001b[0m\n\u001b[1;32m   1058\u001b[0m     \u001b[39mself\u001b[39m\u001b[39m.\u001b[39m_iterating \u001b[39m=\u001b[39m \u001b[39mFalse\u001b[39;00m\n\u001b[1;32m   1060\u001b[0m \u001b[39mwith\u001b[39;00m \u001b[39mself\u001b[39m\u001b[39m.\u001b[39m_backend\u001b[39m.\u001b[39mretrieval_context():\n\u001b[0;32m-> 1061\u001b[0m     \u001b[39mself\u001b[39;49m\u001b[39m.\u001b[39;49mretrieve()\n\u001b[1;32m   1062\u001b[0m \u001b[39m# Make sure that we get a last message telling us we are done\u001b[39;00m\n\u001b[1;32m   1063\u001b[0m elapsed_time \u001b[39m=\u001b[39m time\u001b[39m.\u001b[39mtime() \u001b[39m-\u001b[39m \u001b[39mself\u001b[39m\u001b[39m.\u001b[39m_start_time\n",
      "File \u001b[0;32m/opt/anaconda3/envs/jupyterlab-3.3.2/lib/python3.10/site-packages/joblib/parallel.py:938\u001b[0m, in \u001b[0;36mParallel.retrieve\u001b[0;34m(self)\u001b[0m\n\u001b[1;32m    936\u001b[0m \u001b[39mtry\u001b[39;00m:\n\u001b[1;32m    937\u001b[0m     \u001b[39mif\u001b[39;00m \u001b[39mgetattr\u001b[39m(\u001b[39mself\u001b[39m\u001b[39m.\u001b[39m_backend, \u001b[39m'\u001b[39m\u001b[39msupports_timeout\u001b[39m\u001b[39m'\u001b[39m, \u001b[39mFalse\u001b[39;00m):\n\u001b[0;32m--> 938\u001b[0m         \u001b[39mself\u001b[39m\u001b[39m.\u001b[39m_output\u001b[39m.\u001b[39mextend(job\u001b[39m.\u001b[39;49mget(timeout\u001b[39m=\u001b[39;49m\u001b[39mself\u001b[39;49m\u001b[39m.\u001b[39;49mtimeout))\n\u001b[1;32m    939\u001b[0m     \u001b[39melse\u001b[39;00m:\n\u001b[1;32m    940\u001b[0m         \u001b[39mself\u001b[39m\u001b[39m.\u001b[39m_output\u001b[39m.\u001b[39mextend(job\u001b[39m.\u001b[39mget())\n",
      "File \u001b[0;32m/opt/anaconda3/envs/jupyterlab-3.3.2/lib/python3.10/site-packages/joblib/_parallel_backends.py:542\u001b[0m, in \u001b[0;36mLokyBackend.wrap_future_result\u001b[0;34m(future, timeout)\u001b[0m\n\u001b[1;32m    539\u001b[0m \u001b[39m\"\"\"Wrapper for Future.result to implement the same behaviour as\u001b[39;00m\n\u001b[1;32m    540\u001b[0m \u001b[39mAsyncResults.get from multiprocessing.\"\"\"\u001b[39;00m\n\u001b[1;32m    541\u001b[0m \u001b[39mtry\u001b[39;00m:\n\u001b[0;32m--> 542\u001b[0m     \u001b[39mreturn\u001b[39;00m future\u001b[39m.\u001b[39;49mresult(timeout\u001b[39m=\u001b[39;49mtimeout)\n\u001b[1;32m    543\u001b[0m \u001b[39mexcept\u001b[39;00m CfTimeoutError \u001b[39mas\u001b[39;00m e:\n\u001b[1;32m    544\u001b[0m     \u001b[39mraise\u001b[39;00m \u001b[39mTimeoutError\u001b[39;00m \u001b[39mfrom\u001b[39;00m \u001b[39me\u001b[39;00m\n",
      "File \u001b[0;32m/opt/anaconda3/envs/jupyterlab-3.3.2/lib/python3.10/concurrent/futures/_base.py:441\u001b[0m, in \u001b[0;36mFuture.result\u001b[0;34m(self, timeout)\u001b[0m\n\u001b[1;32m    438\u001b[0m \u001b[39melif\u001b[39;00m \u001b[39mself\u001b[39m\u001b[39m.\u001b[39m_state \u001b[39m==\u001b[39m FINISHED:\n\u001b[1;32m    439\u001b[0m     \u001b[39mreturn\u001b[39;00m \u001b[39mself\u001b[39m\u001b[39m.\u001b[39m__get_result()\n\u001b[0;32m--> 441\u001b[0m \u001b[39mself\u001b[39;49m\u001b[39m.\u001b[39;49m_condition\u001b[39m.\u001b[39;49mwait(timeout)\n\u001b[1;32m    443\u001b[0m \u001b[39mif\u001b[39;00m \u001b[39mself\u001b[39m\u001b[39m.\u001b[39m_state \u001b[39min\u001b[39;00m [CANCELLED, CANCELLED_AND_NOTIFIED]:\n\u001b[1;32m    444\u001b[0m     \u001b[39mraise\u001b[39;00m CancelledError()\n",
      "File \u001b[0;32m/opt/anaconda3/envs/jupyterlab-3.3.2/lib/python3.10/threading.py:320\u001b[0m, in \u001b[0;36mCondition.wait\u001b[0;34m(self, timeout)\u001b[0m\n\u001b[1;32m    318\u001b[0m \u001b[39mtry\u001b[39;00m:    \u001b[39m# restore state no matter what (e.g., KeyboardInterrupt)\u001b[39;00m\n\u001b[1;32m    319\u001b[0m     \u001b[39mif\u001b[39;00m timeout \u001b[39mis\u001b[39;00m \u001b[39mNone\u001b[39;00m:\n\u001b[0;32m--> 320\u001b[0m         waiter\u001b[39m.\u001b[39;49macquire()\n\u001b[1;32m    321\u001b[0m         gotit \u001b[39m=\u001b[39m \u001b[39mTrue\u001b[39;00m\n\u001b[1;32m    322\u001b[0m     \u001b[39melse\u001b[39;00m:\n",
      "\u001b[0;31mKeyboardInterrupt\u001b[0m: "
     ]
    }
   ],
   "source": [
    "#Paramètres \n",
    "n_estimators =[100, 200, 400, 600, 800, 1000, 1200, 1400, 1600, 1800, 2000] #nombre d'arbres dans la forêt\n",
    "max_features = ['sqrt', 'log2', None] #nombre max de features, je me sers de la doc sklearn pour connaître les valeurs possibles \n",
    "max_depth= [10, 20, 30, 40, 50, 60, 70, 80, 90, 100, None] #profondeur des arbres\n",
    "min_samples_leaf=[1, 2, 4, 10, 50, 100 , 200, 500, 1000] #nombre d'observations mini représenté par chaque feuille\n",
    "min_samples_split= [2, 5, 10, 100 ,200 , 500, 1000] #nombre mini d'observations requises pour diviser un noeud \n",
    "bootstrap=[True, False] #bootstrap resampling\n",
    "\n",
    "\n",
    "param_grid={'n_estimators': n_estimators,\n",
    "            'max_features': max_features,\n",
    "            'max_depth': max_depth,\n",
    "            'min_samples_leaf': min_samples_leaf,\n",
    "            'min_samples_split': min_samples_split,\n",
    "            'bootstrap': bootstrap}\n",
    "\n",
    "#Modèle\n",
    "clf=RandomForestClassifier(random_state=1)\n",
    "\n",
    "# On tire ces paramètres aléatoirement parmis les valeurs proposées\n",
    "# On évalue ces modèles par cross validation  \n",
    "# On essaie n_itre tirages différents pour les paramètres\n",
    "\n",
    "search= RandomizedSearchCV(estimator = clf, param_distributions = param_grid, \n",
    "                                n_iter = 1, cv = None, verbose=2, random_state=1, n_jobs = -1,scoring=f1)\n",
    "#On va tester des modèles différents, chacun d'entre eux aura des paramètres séléctionnés au hasard parmi ceux de \n",
    "#param_grid. On choisit le f1 comme score à maximiser.\n",
    "search.fit(X_train,y_train)"
   ]
  },
  {
   "cell_type": "code",
   "execution_count": null,
   "metadata": {},
   "outputs": [],
   "source": [
    "search.best_params_"
   ]
  },
  {
   "cell_type": "code",
   "execution_count": 63,
   "metadata": {},
   "outputs": [],
   "source": [
    "clf=RandomForestClassifier(random_state=1)\n",
    "param_grid={'n_estimators':[ 1200],\n",
    "            'max_features': ['log2'],\n",
    "            'max_depth': [60],\n",
    "            'min_samples_leaf': [ 2, 4],\n",
    "            'min_samples_split': [ 5],\n",
    "            'bootstrap': [False]}\n",
    "\n",
    "grid_search = GridSearchCV(clf,param_grid, cv = 2, n_jobs = -1, scoring=recall)\n",
    "grid_search.fit(X_train, y_train)"
   ]
  },
  {
   "cell_type": "code",
   "execution_count": null,
   "metadata": {},
   "outputs": [],
   "source": [
    "grid_search.best_estimator_"
   ]
  },
  {
   "cell_type": "code",
   "execution_count": null,
   "metadata": {},
   "outputs": [],
   "source": [
    "grid_search.best_params_"
   ]
  },
  {
   "cell_type": "code",
   "execution_count": null,
   "metadata": {},
   "outputs": [],
   "source": [
    "best_RF_clf= grid_search.best_estimator_ "
   ]
  },
  {
   "cell_type": "code",
   "execution_count": null,
   "metadata": {},
   "outputs": [],
   "source": [
    "resultats=score_cv(best_RF_clf,X_train,y_train,cv=5)\n",
    "display(resultats)"
   ]
  },
  {
   "attachments": {},
   "cell_type": "markdown",
   "metadata": {},
   "source": [
    "# Uniquement sur les informations de A maintenant\n",
    "\n",
    "On ne garde que les variables relatives aux informations de A. Compte tenu du sujet, nous devrions obtenir de moins bons résultats qu'avec les informations de A ET de B. "
   ]
  },
  {
   "cell_type": "code",
   "execution_count": 36,
   "metadata": {},
   "outputs": [],
   "source": [
    "df_A=pd.read_csv('/Users/Corentin/Desktop/statapp/transactions_A.csv')\n",
    "df_B=pd.read_csv('/Users/Corentin/Desktop/statapp/transactions_B.csv')\n",
    "\n",
    "L1 = list(df_A['tx_id'].values) "
   ]
  },
  {
   "cell_type": "code",
   "execution_count": 37,
   "metadata": {},
   "outputs": [],
   "source": [
    "# On fait le tri dans les variables \n",
    "variables_to_keep = ['tx_amount','timestamp', 'tx_type',\n",
    "       \n",
    "       'sender_country_code', 'sender_birth_date',\n",
    "       'receiver_country_code', 'receiver_birth_date',\n",
    "\n",
    "       'jour_année_tx', 'jour_mois_tx', 'année_tx', 'mois_tx',\n",
    "\n",
    "       'count_cum_sender_A', 'median_cum_sender_A', 'mean_cum_sender_A',\n",
    "       'variance_cum_sender_A', 'nb_is_alert_solo_sender_A',\n",
    "\n",
    "       'count_cum_receiver_A', 'median_cum_receiver_A', 'mean_cum_receiver_A',\n",
    "       'variance_cum_receiver_A', 'nb_is_alert_solo_receiver_A',\n",
    "\n",
    "       'reliability_receiver_A', \n",
    "       'reliability_sender_A', \n",
    "\n",
    "       'ecarts_tx_received_A',\n",
    "       'ecarts_tx_sent_A',\n",
    "\n",
    "       'sender_bank_id','receiver_bank_id',\n",
    "\n",
    "       'is_alert_solo', 'is_alert_pooled']\n",
    "\n",
    "variables_to_drop = ['tx_id', 'sender_account_id', 'receiver_account_id', 'sender_first_name',\n",
    "       'sender_last_name', 'sender_zip_code', 'receiver_bank_id', 'receiver_first_name',\n",
    "       'receiver_last_name', 'receiver_zip_code',\n",
    "       'count_cum_sender_B', 'median_cum_sender_B', 'mean_cum_sender_B',\n",
    "       'variance_cum_sender_B', 'nb_is_alert_solo_sender_B',\n",
    "       'count_cum_receiver_B', 'median_cum_receiver_B', 'mean_cum_receiver_B',\n",
    "       'variance_cum_receiver_B', 'nb_is_alert_solo_receiver_B',\n",
    "       'reliability_receiver_B','reliability_sender_B', 'ecarts_tx_received_B', 'ecarts_tx_sent_B']\n",
    "\n",
    "df_bis2= df_bis[variables_to_keep].copy()\n",
    "\n"
   ]
  },
  {
   "cell_type": "code",
   "execution_count": 38,
   "metadata": {},
   "outputs": [
    {
     "name": "stdout",
     "output_type": "stream",
     "text": [
      "837951\n",
      "% Test/(Test + Train) : 31.645156062958375\n"
     ]
    }
   ],
   "source": [
    "#On fixe la date initiale\n",
    "time = datetime.datetime(2019, 5, 16)\n",
    "#On fixe l'horizon\n",
    "delta= 200\n",
    "\n",
    "#On enlève les différentes banques \n",
    "df3 = df_bis2[(df_bis2['sender_bank_id']== 0 )|((df_bis2['receiver_bank_id'] == 0 ))]\n",
    "\n",
    "print(len(df3))\n",
    "\n",
    "X_train, X_test, y_train, y_test = train_test_split_time(df3,time,delta)\n",
    "\n",
    "\n",
    "X_t= X_train.copy()\n",
    "\n",
    "scaler = StandardScaler()\n",
    "\n",
    "X_train = scaler.fit_transform(X_train) #fit_transform is a easy way to do the following normally \n",
    "X_test= scaler.transform(X_test)"
   ]
  },
  {
   "cell_type": "code",
   "execution_count": 39,
   "metadata": {},
   "outputs": [
    {
     "name": "stdout",
     "output_type": "stream",
     "text": [
      "              precision    recall  f1-score   support\n",
      "\n",
      "           0       1.00      1.00      1.00    120891\n",
      "           1       1.00      0.96      0.98       184\n",
      "\n",
      "    accuracy                           1.00    121075\n",
      "   macro avg       1.00      0.98      0.99    121075\n",
      "weighted avg       1.00      1.00      1.00    121075\n",
      "\n",
      "[[120891      0]\n",
      " [     7    177]]\n"
     ]
    },
    {
     "data": {
      "text/plain": [
       "<AxesSubplot:>"
      ]
     },
     "execution_count": 39,
     "metadata": {},
     "output_type": "execute_result"
    },
    {
     "data": {
      "image/png": "[encoded data removed]",
      "text/plain": [
       "<Figure size 432x288 with 2 Axes>"
      ]
     },
     "metadata": {
      "needs_background": "light"
     },
     "output_type": "display_data"
    }
   ],
   "source": [
    "model = RandomForestClassifier(n_estimators=50, max_depth=10 ) \n",
    "\n",
    "model.fit(X_train, y_train) \n",
    "\n",
    "predictions= model.predict(X_test)\n",
    "\n",
    "print(classification_report(y_test,predictions))\n",
    "print(confusion_matrix(y_test,predictions))\n",
    "sns.heatmap(confusion_matrix(y_test,predictions),annot=True)"
   ]
  },
  {
   "cell_type": "code",
   "execution_count": 40,
   "metadata": {},
   "outputs": [
    {
     "data": {
      "image/png": "[encoded data removed]",
      "text/plain": [
       "<Figure size 504x576 with 1 Axes>"
      ]
     },
     "metadata": {
      "needs_background": "light"
     },
     "output_type": "display_data"
    }
   ],
   "source": [
    "#RFClassifier\n",
    "importances = model.feature_importances_\n",
    "\n",
    "indices = np.argsort(importances)\n",
    "\n",
    "\n",
    "fig, ax = plt.subplots(figsize=(7,8))\n",
    "ax.barh(range(len(importances)), importances[indices]*100)\n",
    "ax.set_yticks(range(len(importances)), colors='royalblue')\n",
    "_ = ax.set_yticklabels(np.array(X_t.columns)[indices])\n",
    "plt.grid()\n",
    "plt.title(\"Importance de chacune des features sur is_alert_pooled en %\")\n",
    "plt.show()"
   ]
  },
  {
   "cell_type": "code",
   "execution_count": 41,
   "metadata": {},
   "outputs": [
    {
     "name": "stdout",
     "output_type": "stream",
     "text": [
      "              precision    recall  f1-score   support\n",
      "\n",
      "           0       1.00      1.00      1.00    120891\n",
      "           1       1.00      0.96      0.98       184\n",
      "\n",
      "    accuracy                           1.00    121075\n",
      "   macro avg       1.00      0.98      0.99    121075\n",
      "weighted avg       1.00      1.00      1.00    121075\n",
      "\n",
      "[[120891      0]\n",
      " [     7    177]]\n"
     ]
    },
    {
     "data": {
      "text/plain": [
       "<AxesSubplot:>"
      ]
     },
     "execution_count": 41,
     "metadata": {},
     "output_type": "execute_result"
    },
    {
     "data": {
      "image/png": "[encoded data removed]",
      "text/plain": [
       "<Figure size 432x288 with 2 Axes>"
      ]
     },
     "metadata": {
      "needs_background": "light"
     },
     "output_type": "display_data"
    }
   ],
   "source": [
    "#xgb \n",
    "model = xgb.XGBClassifier()\n",
    "\n",
    "model.fit(X_train, y_train) \n",
    "\n",
    "predictions= model.predict(X_test)\n",
    "\n",
    "print(classification_report(y_test,predictions))\n",
    "print(confusion_matrix(y_test,predictions))\n",
    "sns.heatmap(confusion_matrix(y_test,predictions),annot=True)"
   ]
  },
  {
   "cell_type": "code",
   "execution_count": 42,
   "metadata": {},
   "outputs": [
    {
     "data": {
      "image/png": "[encoded data removed]",
      "text/plain": [
       "<Figure size 504x576 with 1 Axes>"
      ]
     },
     "metadata": {
      "needs_background": "light"
     },
     "output_type": "display_data"
    }
   ],
   "source": [
    "#xgb\n",
    "importances = model.feature_importances_\n",
    "\n",
    "indices = np.argsort(importances)\n",
    "\n",
    "\n",
    "fig, ax = plt.subplots(figsize=(7,8))\n",
    "ax.barh(range(len(importances)), importances[indices]*100)\n",
    "ax.set_yticks(range(len(importances)), colors='royalblue')\n",
    "_ = ax.set_yticklabels(np.array(X_t.columns)[indices])\n",
    "plt.grid()\n",
    "plt.title(\"Importance de chacune des features sur is_alert_pooled en %\")\n",
    "plt.show()"
   ]
  },
  {
   "attachments": {},
   "cell_type": "markdown",
   "metadata": {},
   "source": [
    "## On s'intéresse maintenant à `is_alert_solo`"
   ]
  },
  {
   "cell_type": "code",
   "execution_count": 263,
   "metadata": {},
   "outputs": [],
   "source": [
    "X_train=df_3.drop(['is_alert_solo','is_alert_pooled', 'sender_birth_date', 'receiver_birth_date','timestamp', \n",
    "                   'reliability_receiver_A', 'reliability_receiver_B','reliability_sender_A', 'reliability_sender_B',],axis=1)\n",
    "y_train= df_3['is_alert_solo']\n",
    "\n",
    "X_t=X_train.copy()"
   ]
  },
  {
   "cell_type": "code",
   "execution_count": 264,
   "metadata": {},
   "outputs": [
    {
     "name": "stdout",
     "output_type": "stream",
     "text": [
      "% Test/(Test + Train) : 31.625843289145894\n"
     ]
    }
   ],
   "source": [
    "# On ne prend que les valeurs du mois prochain \n",
    "df4 = df_bis[(df_bis.timestamp<time_1_month)&(df_bis.timestamp>=time)]\n",
    "\n",
    "X_test = df4.drop(['is_alert_solo','is_alert_pooled', 'sender_birth_date', 'receiver_birth_date','timestamp', \n",
    "                   'reliability_receiver_A', 'reliability_receiver_B','reliability_sender_A', 'reliability_sender_B',],axis=1)\n",
    "y_test = df4['is_alert_solo']\n",
    "\n",
    "print(\"% Test/(Test + Train) : \"+  str(len(X_test)/(len(X_train)+len(X_test))*100))"
   ]
  },
  {
   "cell_type": "code",
   "execution_count": 265,
   "metadata": {},
   "outputs": [
    {
     "name": "stdout",
     "output_type": "stream",
     "text": [
      "              precision    recall  f1-score   support\n",
      "\n",
      "           0       0.99      1.00      1.00    155524\n",
      "           1       0.66      0.03      0.06      1004\n",
      "\n",
      "    accuracy                           0.99    156528\n",
      "   macro avg       0.83      0.52      0.53    156528\n",
      "weighted avg       0.99      0.99      0.99    156528\n",
      "\n",
      "[[155508     16]\n",
      " [   973     31]]\n"
     ]
    },
    {
     "data": {
      "text/plain": [
       "<AxesSubplot:>"
      ]
     },
     "execution_count": 265,
     "metadata": {},
     "output_type": "execute_result"
    },
    {
     "data": {
      "image/png": "[encoded data removed]",
      "text/plain": [
       "<Figure size 432x288 with 2 Axes>"
      ]
     },
     "metadata": {
      "needs_background": "light"
     },
     "output_type": "display_data"
    }
   ],
   "source": [
    "scaler = StandardScaler()\n",
    "\n",
    "X_train = scaler.fit_transform(X_train) #fit_transform is a easy way to do the following normally \n",
    "X_test= scaler.transform(X_test)\n",
    "\n",
    "model = RandomForestClassifier(n_estimators=50, max_depth=10 ) \n",
    "\n",
    "model.fit(X_train, y_train) \n",
    "\n",
    "predictions= model.predict(X_test)\n",
    "\n",
    "print(classification_report(y_test,predictions))\n",
    "print(confusion_matrix(y_test,predictions))\n",
    "sns.heatmap(confusion_matrix(y_test,predictions),annot=True)"
   ]
  },
  {
   "cell_type": "code",
   "execution_count": null,
   "metadata": {},
   "outputs": [],
   "source": []
  },
  {
   "cell_type": "code",
   "execution_count": null,
   "metadata": {},
   "outputs": [],
   "source": []
  },
  {
   "cell_type": "code",
   "execution_count": null,
   "metadata": {},
   "outputs": [],
   "source": []
  },
  {
   "cell_type": "code",
   "execution_count": null,
   "metadata": {},
   "outputs": [],
   "source": []
  }
 ],
 "metadata": {
  "kernelspec": {
   "display_name": "jupyterlab-3.3.2",
   "language": "python",
   "name": "python3"
  },
  "language_info": {
   "codemirror_mode": {
    "name": "ipython",
    "version": 3
   },
   "file_extension": ".py",
   "mimetype": "text/x-python",
   "name": "python",
   "nbconvert_exporter": "python",
   "pygments_lexer": "ipython3",
   "version": "3.10.4"
  },
  "orig_nbformat": 4,
  "vscode": {
   "interpreter": {
    "hash": "85ed09903735e3d6542a11c86598924f4e7a66c1602c9126e1b3c5f04575a464"
   }
  }
 },
 "nbformat": 4,
 "nbformat_minor": 2
}
