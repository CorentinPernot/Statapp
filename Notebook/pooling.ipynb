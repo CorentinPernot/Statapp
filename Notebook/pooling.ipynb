{
 "cells": [
  {
   "cell_type": "code",
   "execution_count": 6,
   "metadata": {},
   "outputs": [],
   "source": [
    "import pandas as pd\n",
    "import numpy as np\n",
    "import matplotlib.pyplot as plt"
   ]
  },
  {
   "cell_type": "code",
   "execution_count": 10,
   "metadata": {},
   "outputs": [
    {
     "ename": "ModuleNotFoundError",
     "evalue": "No module named 'rapidfuzz'",
     "output_type": "error",
     "traceback": [
      "\u001b[0;31m---------------------------------------------------------------------------\u001b[0m",
      "\u001b[0;31mModuleNotFoundError\u001b[0m                       Traceback (most recent call last)",
      "Cell \u001b[0;32mIn[10], line 1\u001b[0m\n\u001b[0;32m----> 1\u001b[0m \u001b[39mimport\u001b[39;00m \u001b[39mrapidfuzz\u001b[39;00m\n",
      "\u001b[0;31mModuleNotFoundError\u001b[0m: No module named 'rapidfuzz'"
     ]
    }
   ],
   "source": [
    "import rapidfuzz"
   ]
  },
  {
   "cell_type": "code",
   "execution_count": 9,
   "metadata": {},
   "outputs": [
    {
     "ename": "ModuleNotFoundError",
     "evalue": "No module named 'rapidfuzz'",
     "output_type": "error",
     "traceback": [
      "\u001b[0;31m---------------------------------------------------------------------------\u001b[0m",
      "\u001b[0;31mModuleNotFoundError\u001b[0m                       Traceback (most recent call last)",
      "Cell \u001b[0;32mIn[9], line 1\u001b[0m\n\u001b[0;32m----> 1\u001b[0m \u001b[39mfrom\u001b[39;00m \u001b[39mrapidfuzz\u001b[39;00m \u001b[39mimport\u001b[39;00m levenshtein\n",
      "\u001b[0;31mModuleNotFoundError\u001b[0m: No module named 'rapidfuzz'"
     ]
    }
   ],
   "source": [
    "from rapidfuzz import levenshtein\n"
   ]
  },
  {
   "cell_type": "code",
   "execution_count": 5,
   "metadata": {},
   "outputs": [
    {
     "name": "stdout",
     "output_type": "stream",
     "text": [
      "\u001b[33mWARNING: Package(s) not found: Levenshtein\u001b[0m\u001b[33m\n",
      "\u001b[0mNote: you may need to restart the kernel to use updated packages.\n"
     ]
    }
   ],
   "source": [
    "pip show Levenshtein\n"
   ]
  },
  {
   "cell_type": "code",
   "execution_count": 232,
   "metadata": {},
   "outputs": [],
   "source": [
    "df1=pd.read_csv(\"/Users/corentinpla/Documents/Statap/transactions_A.csv\")\n",
    "df2=pd.read_csv(\"/Users/corentinpla/Documents/Statap/transactions_B.csv\")"
   ]
  },
  {
   "cell_type": "code",
   "execution_count": 233,
   "metadata": {},
   "outputs": [],
   "source": [
    "df1=df1.drop(['tx_id','is_alert_solo','is_alert_pooled'],axis=1)\n",
    "df2=df2.drop(['tx_id','is_alert_solo','is_alert_pooled'],axis=1)"
   ]
  },
  {
   "cell_type": "code",
   "execution_count": 234,
   "metadata": {},
   "outputs": [],
   "source": [
    "df1[\"sender_zip_code\"]=df1[\"sender_zip_code\"].apply(lambda x:str(x))\n",
    "df1[\"sender_account_id\"]=df1[\"sender_account_id\"].apply(lambda x:str(x))\n",
    "df1[\"receiver_account_id\"]=df1[\"receiver_account_id\"].apply(lambda x:str(x))\n",
    "df1[\"receiver_zip_code\"]=df1[\"receiver_zip_code\"].apply(lambda x:str(x))\n",
    "df1[\"tx_amount\"]=df1[\"tx_amount\"].apply(lambda x:str(x))\n",
    "\n",
    "df2[\"sender_zip_code\"]=df2[\"sender_zip_code\"].apply(lambda x:str(x))\n",
    "df2[\"sender_account_id\"]=df2[\"sender_account_id\"].apply(lambda x:str(x))\n",
    "df2[\"receiver_account_id\"]=df2[\"receiver_account_id\"].apply(lambda x:str(x))\n",
    "df2[\"receiver_zip_code\"]=df2[\"receiver_zip_code\"].apply(lambda x:str(x))\n",
    "df2[\"tx_amount\"]=df2[\"tx_amount\"].apply(lambda x:str(x))"
   ]
  },
  {
   "cell_type": "code",
   "execution_count": 235,
   "metadata": {},
   "outputs": [],
   "source": [
    "df1_bis=df1.copy()\n",
    "df2_bis=df2.copy()"
   ]
  },
  {
   "cell_type": "code",
   "execution_count": 236,
   "metadata": {},
   "outputs": [
    {
     "data": {
      "text/plain": [
       "sender_account_id        object\n",
       "receiver_account_id      object\n",
       "tx_amount                object\n",
       "timestamp                object\n",
       "tx_type                  object\n",
       "sender_bank_id           object\n",
       "sender_first_name        object\n",
       "sender_last_name         object\n",
       "sender_country_code      object\n",
       "sender_birth_date        object\n",
       "sender_zip_code          object\n",
       "receiver_bank_id         object\n",
       "receiver_first_name      object\n",
       "receiver_last_name       object\n",
       "receiver_country_code    object\n",
       "receiver_birth_date      object\n",
       "receiver_zip_code        object\n",
       "dtype: object"
      ]
     },
     "execution_count": 236,
     "metadata": {},
     "output_type": "execute_result"
    }
   ],
   "source": [
    "df1_bis.dtypes"
   ]
  },
  {
   "cell_type": "code",
   "execution_count": 237,
   "metadata": {},
   "outputs": [],
   "source": [
    "def levenshtein(seq1, seq2):\n",
    "    seq1=str(seq1)\n",
    "    seq2=str(seq2)\n",
    "    size_x = len(seq1) + 1\n",
    "    size_y = len(seq2) + 1\n",
    "    matrix = np.zeros ((size_x, size_y))\n",
    "    for x in range(size_x):\n",
    "        matrix [x, 0] = x\n",
    "    for y in range(size_y):\n",
    "        matrix [0, y] = y\n",
    "\n",
    "    for x in range(1, size_x):\n",
    "        for y in range(1, size_y):\n",
    "            if seq1[x-1] == seq2[y-1]:\n",
    "                matrix [x,y] = min(\n",
    "                    matrix[x-1, y] + 1,\n",
    "                    matrix[x-1, y-1],\n",
    "                    matrix[x, y-1] + 1\n",
    "                )\n",
    "            else:\n",
    "                matrix [x,y] = min(\n",
    "                    matrix[x-1,y] + 1,\n",
    "                    matrix[x-1,y-1] + 1,\n",
    "                    matrix[x,y-1] + 1\n",
    "                )\n",
    "    return (matrix[size_x - 1, size_y - 1])\n"
   ]
  },
  {
   "cell_type": "code",
   "execution_count": 238,
   "metadata": {},
   "outputs": [],
   "source": [
    "def pivot(piv,df_A,df_B):\n",
    "    L_df=[]\n",
    "    L_A=df_A[piv].drop_duplicates()\n",
    "    L_B=df_B[piv].drop_duplicates()\n",
    "    L_piv=list(set(L_A) & set(L_B))\n",
    "\n",
    "\n",
    "    for x in  (L_piv):\n",
    "        df_A_piv=df_A[df_A[piv]==x]\n",
    "        df_B_piv=df_B[df_B[piv]==x]\n",
    "        L_df.append((df_A_piv,df_B_piv))\n",
    "    \n",
    "    return (L_df)\n",
    "\n"
   ]
  },
  {
   "cell_type": "code",
   "execution_count": 174,
   "metadata": {},
   "outputs": [],
   "source": [
    "#dfA et dfB sont déjà des sub dataframes \n",
    "def get_string(dfA,dfB,pivot):\n",
    "    dfA=dfA.drop(pivot,axis=1)\n",
    "    dfB=dfB.drop(pivot,axis=1)\n",
    "    n=len(dfA.columns)\n",
    "    dfA[\"s\"]=dfA[dfA.columns[0]]\n",
    "    dfB[\"s\"]=dfB[dfB.columns[0]]\n",
    "\n",
    "    for k in range  (1,n) :\n",
    "        dfA[\"s\"]=dfA[\"s\"]+dfA[dfA.columns[k]]\n",
    "        dfB[\"s\"]=dfB[\"s\"]+dfB[dfB.columns[k]]\n",
    "    \n",
    "    return(dfA,dfB)\n",
    "    \n"
   ]
  },
  {
   "cell_type": "code",
   "execution_count": 240,
   "metadata": {},
   "outputs": [],
   "source": [
    "#dfA et dfB sub dataframes qui ont la colonne s\n",
    "def get_distance_levenstein(dfA,dfB,rowA,rowB):\n",
    "    sA=dfA.at[rowA,\"s\"]\n",
    "    sB=dfB.at[rowB,\"s\"]\n",
    "    return(levenshtein(sA,sB))\n",
    "    "
   ]
  },
  {
   "cell_type": "code",
   "execution_count": 287,
   "metadata": {},
   "outputs": [],
   "source": [
    "def get_min_levenstein(dfA,dfB,rowA):\n",
    "    min =get_distance_levenstein(dfA,dfB,rowA,0)\n",
    "    dist=0\n",
    "    ind=0\n",
    "    for y in dfB.index :\n",
    "        dist =get_distance_levenstein(dfA,dfB,rowA,y)\n",
    "        if dist <min :\n",
    "            min=dist \n",
    "            ind=y\n",
    "        \n",
    "    return(ind,dist)\n",
    "        \n",
    "\n"
   ]
  },
  {
   "cell_type": "code",
   "execution_count": 159,
   "metadata": {},
   "outputs": [],
   "source": [
    "#Execution finale \n",
    "#création de la colonns string"
   ]
  },
  {
   "cell_type": "code",
   "execution_count": 242,
   "metadata": {},
   "outputs": [],
   "source": [
    "#liste des pivots \n",
    "L_pivot=pivot(\"sender_last_name\",df1_bis,df2_bis)"
   ]
  },
  {
   "cell_type": "code",
   "execution_count": 279,
   "metadata": {},
   "outputs": [],
   "source": [
    "#subliste des pivots \n",
    "L_pivot_pivot=[]\n",
    "for k in range (len(L_pivot)):\n",
    "    L_pivot_pivot=L_pivot_pivot+pivot(\"sender_first_name\",L_pivot[k][0],L_pivot[k][1])\n"
   ]
  },
  {
   "cell_type": "code",
   "execution_count": 283,
   "metadata": {},
   "outputs": [
    {
     "data": {
      "text/html": [
       "<div>\n",
       "<style scoped>\n",
       "    .dataframe tbody tr th:only-of-type {\n",
       "        vertical-align: middle;\n",
       "    }\n",
       "\n",
       "    .dataframe tbody tr th {\n",
       "        vertical-align: top;\n",
       "    }\n",
       "\n",
       "    .dataframe thead th {\n",
       "        text-align: right;\n",
       "    }\n",
       "</style>\n",
       "<table border=\"1\" class=\"dataframe\">\n",
       "  <thead>\n",
       "    <tr style=\"text-align: right;\">\n",
       "      <th></th>\n",
       "      <th>sender_account_id</th>\n",
       "      <th>receiver_account_id</th>\n",
       "      <th>tx_amount</th>\n",
       "      <th>timestamp</th>\n",
       "      <th>tx_type</th>\n",
       "      <th>sender_bank_id</th>\n",
       "      <th>sender_first_name</th>\n",
       "      <th>sender_last_name</th>\n",
       "      <th>sender_country_code</th>\n",
       "      <th>sender_birth_date</th>\n",
       "      <th>sender_zip_code</th>\n",
       "      <th>receiver_bank_id</th>\n",
       "      <th>receiver_first_name</th>\n",
       "      <th>receiver_last_name</th>\n",
       "      <th>receiver_country_code</th>\n",
       "      <th>receiver_birth_date</th>\n",
       "      <th>receiver_zip_code</th>\n",
       "    </tr>\n",
       "  </thead>\n",
       "  <tbody>\n",
       "    <tr>\n",
       "      <th>1246</th>\n",
       "      <td>5032.0</td>\n",
       "      <td>nan</td>\n",
       "      <td>19.7</td>\n",
       "      <td>2018-03-03</td>\n",
       "      <td>CHECK</td>\n",
       "      <td>A</td>\n",
       "      <td>Herbert</td>\n",
       "      <td>Justice</td>\n",
       "      <td>FR</td>\n",
       "      <td>1945-11-19</td>\n",
       "      <td>25370</td>\n",
       "      <td>B</td>\n",
       "      <td>Jessica</td>\n",
       "      <td>Thode</td>\n",
       "      <td>FR</td>\n",
       "      <td>1924-05-06</td>\n",
       "      <td>21450</td>\n",
       "    </tr>\n",
       "    <tr>\n",
       "      <th>1247</th>\n",
       "      <td>5032.0</td>\n",
       "      <td>nan</td>\n",
       "      <td>19.7</td>\n",
       "      <td>2018-03-03</td>\n",
       "      <td>WIRE</td>\n",
       "      <td>A</td>\n",
       "      <td>Herbert</td>\n",
       "      <td>Justice</td>\n",
       "      <td>FR</td>\n",
       "      <td>1945-11-19</td>\n",
       "      <td>25370</td>\n",
       "      <td>C</td>\n",
       "      <td>Kathleen</td>\n",
       "      <td>Conigliaro</td>\n",
       "      <td>FR</td>\n",
       "      <td>1922-02-28</td>\n",
       "      <td>43430</td>\n",
       "    </tr>\n",
       "    <tr>\n",
       "      <th>1248</th>\n",
       "      <td>5032.0</td>\n",
       "      <td>nan</td>\n",
       "      <td>19.7</td>\n",
       "      <td>2018-03-03</td>\n",
       "      <td>WIRE</td>\n",
       "      <td>A</td>\n",
       "      <td>Herbert</td>\n",
       "      <td>Justice</td>\n",
       "      <td>FR</td>\n",
       "      <td>1945-11-19</td>\n",
       "      <td>25370</td>\n",
       "      <td>C</td>\n",
       "      <td>Eddie</td>\n",
       "      <td>Hernandez</td>\n",
       "      <td>FR</td>\n",
       "      <td>1928-01-27</td>\n",
       "      <td>38440</td>\n",
       "    </tr>\n",
       "    <tr>\n",
       "      <th>1250</th>\n",
       "      <td>5032.0</td>\n",
       "      <td>8863.0</td>\n",
       "      <td>19.7</td>\n",
       "      <td>2018-03-03</td>\n",
       "      <td>WIRE</td>\n",
       "      <td>A</td>\n",
       "      <td>Herbert</td>\n",
       "      <td>Justice</td>\n",
       "      <td>FR</td>\n",
       "      <td>1945-11-19</td>\n",
       "      <td>25370</td>\n",
       "      <td>A</td>\n",
       "      <td>Linda</td>\n",
       "      <td>Cooper</td>\n",
       "      <td>FR</td>\n",
       "      <td>1934-04-28</td>\n",
       "      <td>21450</td>\n",
       "    </tr>\n",
       "    <tr>\n",
       "      <th>1251</th>\n",
       "      <td>5032.0</td>\n",
       "      <td>3652.0</td>\n",
       "      <td>19.7</td>\n",
       "      <td>2018-03-03</td>\n",
       "      <td>WIRE</td>\n",
       "      <td>A</td>\n",
       "      <td>Herbert</td>\n",
       "      <td>Justice</td>\n",
       "      <td>FR</td>\n",
       "      <td>1945-11-19</td>\n",
       "      <td>25370</td>\n",
       "      <td>A</td>\n",
       "      <td>Maxine</td>\n",
       "      <td>Merriman</td>\n",
       "      <td>FR</td>\n",
       "      <td>1955-02-27</td>\n",
       "      <td>67700</td>\n",
       "    </tr>\n",
       "  </tbody>\n",
       "</table>\n",
       "</div>"
      ],
      "text/plain": [
       "     sender_account_id receiver_account_id tx_amount   timestamp tx_type  \\\n",
       "1246            5032.0                 nan      19.7  2018-03-03   CHECK   \n",
       "1247            5032.0                 nan      19.7  2018-03-03    WIRE   \n",
       "1248            5032.0                 nan      19.7  2018-03-03    WIRE   \n",
       "1250            5032.0              8863.0      19.7  2018-03-03    WIRE   \n",
       "1251            5032.0              3652.0      19.7  2018-03-03    WIRE   \n",
       "\n",
       "     sender_bank_id sender_first_name sender_last_name sender_country_code  \\\n",
       "1246              A           Herbert          Justice                  FR   \n",
       "1247              A           Herbert          Justice                  FR   \n",
       "1248              A           Herbert          Justice                  FR   \n",
       "1250              A           Herbert          Justice                  FR   \n",
       "1251              A           Herbert          Justice                  FR   \n",
       "\n",
       "     sender_birth_date sender_zip_code receiver_bank_id receiver_first_name  \\\n",
       "1246        1945-11-19           25370                B             Jessica   \n",
       "1247        1945-11-19           25370                C            Kathleen   \n",
       "1248        1945-11-19           25370                C               Eddie   \n",
       "1250        1945-11-19           25370                A               Linda   \n",
       "1251        1945-11-19           25370                A              Maxine   \n",
       "\n",
       "     receiver_last_name receiver_country_code receiver_birth_date  \\\n",
       "1246              Thode                    FR          1924-05-06   \n",
       "1247         Conigliaro                    FR          1922-02-28   \n",
       "1248          Hernandez                    FR          1928-01-27   \n",
       "1250             Cooper                    FR          1934-04-28   \n",
       "1251           Merriman                    FR          1955-02-27   \n",
       "\n",
       "     receiver_zip_code  \n",
       "1246             21450  \n",
       "1247             43430  \n",
       "1248             38440  \n",
       "1250             21450  \n",
       "1251             67700  "
      ]
     },
     "execution_count": 283,
     "metadata": {},
     "output_type": "execute_result"
    }
   ],
   "source": [
    "L_pivot_pivot[k][0].head()"
   ]
  },
  {
   "cell_type": "code",
   "execution_count": 299,
   "metadata": {},
   "outputs": [
    {
     "name": "stdout",
     "output_type": "stream",
     "text": [
      "(148, 17) (34, 17)\n",
      "(148, 17) (34, 17)\n",
      "(63, 17) (85, 17)\n",
      "(63, 17) (85, 17)\n",
      "(6, 17) (6, 17)\n",
      "(6, 17) (6, 17)\n",
      "(194, 17) (40, 17)\n",
      "(194, 17) (40, 17)\n",
      "(12, 17) (1, 17)\n",
      "(12, 17) (1, 17)\n",
      "(78, 17) (19, 17)\n",
      "(78, 17) (19, 17)\n",
      "(760, 17) (157, 17)\n",
      "(760, 17) (157, 17)\n"
     ]
    },
    {
     "ename": "KeyboardInterrupt",
     "evalue": "",
     "output_type": "error",
     "traceback": [
      "\u001b[0;31m---------------------------------------------------------------------------\u001b[0m",
      "\u001b[0;31mKeyboardInterrupt\u001b[0m                         Traceback (most recent call last)",
      "Cell \u001b[0;32mIn[299], line 15\u001b[0m\n\u001b[1;32m     13\u001b[0m df2_bis\u001b[39m=\u001b[39mdf2_bis\u001b[39m.\u001b[39mdrop(columns\u001b[39m=\u001b[39m\u001b[39m\"\u001b[39m\u001b[39mindex\u001b[39m\u001b[39m\"\u001b[39m)\n\u001b[1;32m     14\u001b[0m \u001b[39mfor\u001b[39;00m k \u001b[39min\u001b[39;00m \u001b[39mrange\u001b[39m (df1_bis\u001b[39m.\u001b[39mshape[\u001b[39m0\u001b[39m]):\n\u001b[0;32m---> 15\u001b[0m     dist\u001b[39m.\u001b[39mappend(get_min_levenstein(df1_bis,df2_bis,k))\n",
      "Cell \u001b[0;32mIn[287], line 6\u001b[0m, in \u001b[0;36mget_min_levenstein\u001b[0;34m(dfA, dfB, rowA)\u001b[0m\n\u001b[1;32m      4\u001b[0m ind\u001b[39m=\u001b[39m\u001b[39m0\u001b[39m\n\u001b[1;32m      5\u001b[0m \u001b[39mfor\u001b[39;00m y \u001b[39min\u001b[39;00m dfB\u001b[39m.\u001b[39mindex :\n\u001b[0;32m----> 6\u001b[0m     dist \u001b[39m=\u001b[39mget_distance_levenstein(dfA,dfB,rowA,y)\n\u001b[1;32m      7\u001b[0m     \u001b[39mif\u001b[39;00m dist \u001b[39m<\u001b[39m\u001b[39mmin\u001b[39m :\n\u001b[1;32m      8\u001b[0m         \u001b[39mmin\u001b[39m\u001b[39m=\u001b[39mdist \n",
      "Cell \u001b[0;32mIn[240], line 5\u001b[0m, in \u001b[0;36mget_distance_levenstein\u001b[0;34m(dfA, dfB, rowA, rowB)\u001b[0m\n\u001b[1;32m      3\u001b[0m sA\u001b[39m=\u001b[39mdfA\u001b[39m.\u001b[39mat[rowA,\u001b[39m\"\u001b[39m\u001b[39ms\u001b[39m\u001b[39m\"\u001b[39m]\n\u001b[1;32m      4\u001b[0m sB\u001b[39m=\u001b[39mdfB\u001b[39m.\u001b[39mat[rowB,\u001b[39m\"\u001b[39m\u001b[39ms\u001b[39m\u001b[39m\"\u001b[39m]\n\u001b[0;32m----> 5\u001b[0m \u001b[39mreturn\u001b[39;00m(levenshtein(sA,sB))\n",
      "Cell \u001b[0;32mIn[237], line 21\u001b[0m, in \u001b[0;36mlevenshtein\u001b[0;34m(seq1, seq2)\u001b[0m\n\u001b[1;32m     15\u001b[0m             matrix [x,y] \u001b[39m=\u001b[39m \u001b[39mmin\u001b[39m(\n\u001b[1;32m     16\u001b[0m                 matrix[x\u001b[39m-\u001b[39m\u001b[39m1\u001b[39m, y] \u001b[39m+\u001b[39m \u001b[39m1\u001b[39m,\n\u001b[1;32m     17\u001b[0m                 matrix[x\u001b[39m-\u001b[39m\u001b[39m1\u001b[39m, y\u001b[39m-\u001b[39m\u001b[39m1\u001b[39m],\n\u001b[1;32m     18\u001b[0m                 matrix[x, y\u001b[39m-\u001b[39m\u001b[39m1\u001b[39m] \u001b[39m+\u001b[39m \u001b[39m1\u001b[39m\n\u001b[1;32m     19\u001b[0m             )\n\u001b[1;32m     20\u001b[0m         \u001b[39melse\u001b[39;00m:\n\u001b[0;32m---> 21\u001b[0m             matrix [x,y] \u001b[39m=\u001b[39m \u001b[39mmin\u001b[39;49m(\n\u001b[1;32m     22\u001b[0m                 matrix[x\u001b[39m-\u001b[39;49m\u001b[39m1\u001b[39;49m,y] \u001b[39m+\u001b[39;49m \u001b[39m1\u001b[39;49m,\n\u001b[1;32m     23\u001b[0m                 matrix[x\u001b[39m-\u001b[39;49m\u001b[39m1\u001b[39;49m,y\u001b[39m-\u001b[39;49m\u001b[39m1\u001b[39;49m] \u001b[39m+\u001b[39;49m \u001b[39m1\u001b[39;49m,\n\u001b[1;32m     24\u001b[0m                 matrix[x,y\u001b[39m-\u001b[39;49m\u001b[39m1\u001b[39;49m] \u001b[39m+\u001b[39;49m \u001b[39m1\u001b[39;49m\n\u001b[1;32m     25\u001b[0m             )\n\u001b[1;32m     26\u001b[0m \u001b[39mreturn\u001b[39;00m (matrix[size_x \u001b[39m-\u001b[39m \u001b[39m1\u001b[39m, size_y \u001b[39m-\u001b[39m \u001b[39m1\u001b[39m])\n",
      "\u001b[0;31mKeyboardInterrupt\u001b[0m: "
     ]
    }
   ],
   "source": [
    "dist=[]\n",
    "for i in range (len(L_pivot_pivot)):\n",
    "    df1_bis=L_pivot_pivot[i][0]\n",
    "    df2_bis=L_pivot_pivot[i][1]\n",
    "    print (df1_bis.shape, df2_bis.shape)\n",
    "    df1_bis,df2_bis= get_string(df1_bis,df2_bis,\"sender_last_name\")\n",
    "    print (df1_bis.shape, df2_bis.shape)\n",
    "    df1_bis=df1_bis.drop(columns=\"sender_first_name\")\n",
    "    df2_bis=df2_bis.drop(columns=\"sender_first_name\")\n",
    "    df1_bis=df1_bis.reset_index()\n",
    "    df2_bis=df2_bis.reset_index()\n",
    "    df1_bis=df1_bis.drop(columns=\"index\")\n",
    "    df2_bis=df2_bis.drop(columns=\"index\")\n",
    "    for k in range (df1_bis.shape[0]):\n",
    "        dist.append(get_min_levenstein(df1_bis,df2_bis,k))\n"
   ]
  },
  {
   "cell_type": "code",
   "execution_count": 300,
   "metadata": {},
   "outputs": [],
   "source": [
    "L_plot=[]\n",
    "for k in range (len(dist)):\n",
    "    L_plot.append(dist[k][1])\n"
   ]
  },
  {
   "cell_type": "code",
   "execution_count": 301,
   "metadata": {},
   "outputs": [],
   "source": [
    "L_plot.sort()"
   ]
  },
  {
   "cell_type": "code",
   "execution_count": 302,
   "metadata": {},
   "outputs": [
    {
     "data": {
      "text/plain": [
       "[<matplotlib.lines.Line2D at 0x40cf23210>]"
      ]
     },
     "execution_count": 302,
     "metadata": {},
     "output_type": "execute_result"
    },
    {
     "data": {
      "image/png": "[encoded data removed]",
      "text/plain": [
       "<Figure size 640x480 with 1 Axes>"
      ]
     },
     "metadata": {},
     "output_type": "display_data"
    }
   ],
   "source": [
    "plt.plot(L_plot)"
   ]
  }
 ],
 "metadata": {
  "kernelspec": {
   "display_name": "Python 3.11.0 64-bit",
   "language": "python",
   "name": "python3"
  },
  "language_info": {
   "codemirror_mode": {
    "name": "ipython",
    "version": 3
   },
   "file_extension": ".py",
   "mimetype": "text/x-python",
   "name": "python",
   "nbconvert_exporter": "python",
   "pygments_lexer": "ipython3",
   "version": "3.11.0"
  },
  "orig_nbformat": 4,
  "vscode": {
   "interpreter": {
    "hash": "aee8b7b246df8f9039afb4144a1f6fd8d2ca17a180786b69acc140d282b71a49"
   }
  }
 },
 "nbformat": 4,
 "nbformat_minor": 2
}
