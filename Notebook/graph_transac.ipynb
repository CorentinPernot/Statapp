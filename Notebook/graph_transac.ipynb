{
 "cells": [
  {
   "cell_type": "code",
   "execution_count": 1,
   "metadata": {},
   "outputs": [],
   "source": [
    "import pandas as pd\n",
    "import numpy as np\n",
    "import matplotlib.pyplot as plt\n",
    "from collections import Counter\n",
    "from sklearn.model_selection import train_test_split\n",
    "from sklearn.preprocessing import LabelEncoder\n",
    "import networkx as nx\n",
    "import torch\n",
    "import torch.nn as nn\n",
    "import torch.nn.functional as F"
   ]
  },
  {
   "cell_type": "code",
   "execution_count": 81,
   "metadata": {},
   "outputs": [],
   "source": [
    "import community as com"
   ]
  },
  {
   "cell_type": "code",
   "execution_count": 145,
   "metadata": {},
   "outputs": [],
   "source": [
    "df_A=pd.read_csv(\"/Users/corentinpla/Documents/C-2-Statap/transactions_A.csv\")\n",
    "df_B=pd.read_csv(\"/Users/corentinpla/Documents/C-2-Statap/transactions_B.csv\")"
   ]
  },
  {
   "cell_type": "code",
   "execution_count": 146,
   "metadata": {},
   "outputs": [],
   "source": [
    "df_concat=pd.concat([df_A,df_B])"
   ]
  },
  {
   "cell_type": "code",
   "execution_count": 147,
   "metadata": {},
   "outputs": [],
   "source": [
    "def filter_df(time, df_to_filter):\n",
    "    \" Fonction qui renvoie un df trié en ne prenant que les dates du passé \"\n",
    "    \" mettre le time sous forme 'yyyy-mm-dd' \"\n",
    "    df_1 = df_to_filter[df_to_filter['timestamp']<time].copy()\n",
    "    return df_1"
   ]
  },
  {
   "cell_type": "code",
   "execution_count": 148,
   "metadata": {},
   "outputs": [],
   "source": [
    "df_concat_test=filter_df(\"2018-03-04\",df_concat)"
   ]
  },
  {
   "cell_type": "code",
   "execution_count": 149,
   "metadata": {},
   "outputs": [],
   "source": [
    "#plot du graph \n",
    "#graphe NON orienté, aucune différence entre sender et receiver \n",
    "clients = (df_concat_test[\"sender_account_id\"]+df_concat_test[\"receiver_account_id\"]).unique()\n",
    "df_concat_test[\"nb_transaction\"]=1\n",
    "\n",
    "\n",
    "G_1=nx.MultiGraph()\n",
    "\n",
    "#création des noeuds du graph:\n",
    "G_1.add_nodes_from(clients)"
   ]
  },
  {
   "cell_type": "code",
   "execution_count": 152,
   "metadata": {},
   "outputs": [
    {
     "data": {
      "text/plain": [
       "(4794, 21)"
      ]
     },
     "execution_count": 152,
     "metadata": {},
     "output_type": "execute_result"
    }
   ],
   "source": [
    "df_concat_test.shape"
   ]
  },
  {
   "cell_type": "code",
   "execution_count": 150,
   "metadata": {},
   "outputs": [],
   "source": [
    "#add edge \n",
    "for index,row in df_concat_test.iterrows ():\n",
    "    a+=1\n",
    "\n",
    "    amount=row[\"tx_amount\"]\n",
    "    G_1.add_edge(row['sender_account_id'],row[\"receiver_account_id\"],amount = amount)"
   ]
  },
  {
   "cell_type": "code",
   "execution_count": 151,
   "metadata": {},
   "outputs": [
    {
     "name": "stdout",
     "output_type": "stream",
     "text": [
      "Number of nodes: 7240\n",
      "Number of edges: 4794\n"
     ]
    }
   ],
   "source": [
    "# Get the number of nodes and edges in the graph\n",
    "num_nodes = G_1.number_of_nodes()\n",
    "num_edges = G_1.number_of_edges()\n",
    "\n",
    "# Print the number of nodes and edges\n",
    "print(\"Number of nodes:\", num_nodes)\n",
    "print(\"Number of edges:\", num_edges)"
   ]
  },
  {
   "cell_type": "code",
   "execution_count": 153,
   "metadata": {},
   "outputs": [
    {
     "name": "stderr",
     "output_type": "stream",
     "text": [
      "/var/folders/54/ygl2prm92g7c7p73tl2p1y5w0000gn/T/ipykernel_15851/1709856063.py:1: FutureWarning: adjacency_matrix will return a scipy.sparse array instead of a matrix in Networkx 3.0.\n",
      "  adj_matrix = nx.adjacency_matrix(G_1).todense()\n"
     ]
    }
   ],
   "source": [
    "adj_matrix = nx.adjacency_matrix(G_1).todense()"
   ]
  },
  {
   "cell_type": "code",
   "execution_count": null,
   "metadata": {},
   "outputs": [],
   "source": [
    "# Create graph from adjacency matrix\n",
    "G_1_graph = nx.from_numpy_matrix(adj_matrix)\n",
    "\n",
    "# Draw graph\n",
    "nx.draw(G_1_graph, with_labels=True)"
   ]
  },
  {
   "cell_type": "code",
   "execution_count": 103,
   "metadata": {},
   "outputs": [],
   "source": [
    "#ML\n",
    "#création du graph\n",
    "#graph orienté \n",
    "G=nx.MultiGraph()\n",
    "\n",
    "#création des noeuds du graph:\n",
    "G.add_nodes_from(df_concat_test[\"sender_account_id\"].unique(), type='sender')\n",
    "G.add_nodes_from(df_concat_test[\"receiver_account_id\"].unique(), type='receiver')"
   ]
  },
  {
   "cell_type": "code",
   "execution_count": null,
   "metadata": {},
   "outputs": [],
   "source": [
    "#add edge \n",
    "a=0\n",
    "for index,row in df_concat_test.iterrows ():\n",
    "    a+=1\n",
    "    print(a)\n",
    "    amount=row[\"tx_amount\"]\n",
    "\n",
    "    G.add_edge(row['sender_account_id'],row[\"receiver_account_id\"],amount = amount)"
   ]
  },
  {
   "cell_type": "code",
   "execution_count": 105,
   "metadata": {},
   "outputs": [
    {
     "name": "stdout",
     "output_type": "stream",
     "text": [
      "Number of nodes: 6411\n",
      "Number of edges: 4794\n"
     ]
    }
   ],
   "source": [
    "# Get the number of nodes and edges in the graph\n",
    "num_nodes = G.number_of_nodes()\n",
    "num_edges = G.number_of_edges()\n",
    "\n",
    "# Print the number of nodes and edges\n",
    "print(\"Number of nodes:\", num_nodes)\n",
    "print(\"Number of edges:\", num_edges)"
   ]
  },
  {
   "cell_type": "code",
   "execution_count": 107,
   "metadata": {},
   "outputs": [
    {
     "name": "stderr",
     "output_type": "stream",
     "text": [
      "/var/folders/54/ygl2prm92g7c7p73tl2p1y5w0000gn/T/ipykernel_15851/3877731308.py:1: FutureWarning: adjacency_matrix will return a scipy.sparse array instead of a matrix in Networkx 3.0.\n",
      "  adj_matrix = nx.adjacency_matrix(G).todense()\n"
     ]
    }
   ],
   "source": [
    "adj_matrix = nx.adjacency_matrix(G).todense()"
   ]
  },
  {
   "cell_type": "code",
   "execution_count": 108,
   "metadata": {},
   "outputs": [
    {
     "data": {
      "text/plain": [
       "(6411, 6411)"
      ]
     },
     "execution_count": 108,
     "metadata": {},
     "output_type": "execute_result"
    }
   ],
   "source": [
    "adj_matrix.shape"
   ]
  },
  {
   "cell_type": "code",
   "execution_count": null,
   "metadata": {},
   "outputs": [],
   "source": [
    "import networkx as nx\n",
    "import numpy as np\n",
    "\n",
    "# Define adjacency matrix\n",
    "\n",
    "\n",
    "# Create graph from adjacency matrix\n",
    "G = nx.from_numpy_matrix(adj_matrix)\n",
    "\n",
    "# Draw graph\n",
    "nx.draw(G, with_labels=True)"
   ]
  }
 ],
 "metadata": {
  "kernelspec": {
   "display_name": "Python 3.9.13 ('base')",
   "language": "python",
   "name": "python3"
  },
  "language_info": {
   "codemirror_mode": {
    "name": "ipython",
    "version": 3
   },
   "file_extension": ".py",
   "mimetype": "text/x-python",
   "name": "python",
   "nbconvert_exporter": "python",
   "pygments_lexer": "ipython3",
   "version": "3.9.13"
  },
  "orig_nbformat": 4,
  "vscode": {
   "interpreter": {
    "hash": "ab9821ecc98de011741dfaec3c017883b962b1388b9630c30169ab308e0d1578"
   }
  }
 },
 "nbformat": 4,
 "nbformat_minor": 2
}
