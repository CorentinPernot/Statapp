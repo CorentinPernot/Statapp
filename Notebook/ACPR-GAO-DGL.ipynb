{
 "cells": [
  {
   "cell_type": "code",
   "execution_count": 1,
   "id": "a7ce30c5",
   "metadata": {},
   "outputs": [
    {
     "ename": "ModuleNotFoundError",
     "evalue": "No module named 'dgl'",
     "output_type": "error",
     "traceback": [
      "\u001b[0;31m---------------------------------------------------------------------------\u001b[0m",
      "\u001b[0;31mModuleNotFoundError\u001b[0m                       Traceback (most recent call last)",
      "\u001b[0;32m/var/folders/54/ygl2prm92g7c7p73tl2p1y5w0000gn/T/ipykernel_17569/3024114406.py\u001b[0m in \u001b[0;36m<module>\u001b[0;34m\u001b[0m\n\u001b[1;32m     12\u001b[0m \u001b[0;32mfrom\u001b[0m \u001b[0mtyping\u001b[0m \u001b[0;32mimport\u001b[0m \u001b[0mUnion\u001b[0m\u001b[0;34m,\u001b[0m \u001b[0mLiteral\u001b[0m\u001b[0;34m\u001b[0m\u001b[0;34m\u001b[0m\u001b[0m\n\u001b[1;32m     13\u001b[0m \u001b[0;32mimport\u001b[0m \u001b[0msys\u001b[0m\u001b[0;34m\u001b[0m\u001b[0;34m\u001b[0m\u001b[0m\n\u001b[0;32m---> 14\u001b[0;31m \u001b[0;32mimport\u001b[0m \u001b[0mdgl\u001b[0m\u001b[0;34m\u001b[0m\u001b[0;34m\u001b[0m\u001b[0m\n\u001b[0m\u001b[1;32m     15\u001b[0m \u001b[0;32mimport\u001b[0m \u001b[0mtensorflow\u001b[0m \u001b[0;32mas\u001b[0m \u001b[0mtf\u001b[0m\u001b[0;34m\u001b[0m\u001b[0;34m\u001b[0m\u001b[0m\n\u001b[1;32m     16\u001b[0m \u001b[0;32mimport\u001b[0m \u001b[0mmatplotlib\u001b[0m\u001b[0;34m.\u001b[0m\u001b[0mpyplot\u001b[0m \u001b[0;32mas\u001b[0m \u001b[0mplt\u001b[0m\u001b[0;34m\u001b[0m\u001b[0;34m\u001b[0m\u001b[0m\n",
      "\u001b[0;31mModuleNotFoundError\u001b[0m: No module named 'dgl'"
     ]
    }
   ],
   "source": [
    "%load_ext autoreload\n",
    "%autoreload 2\n",
    "\n",
    "import os\n",
    "os.environ['DGLBACKEND'] = 'tensorflow'\n",
    "\n",
    "import pandas as pd\n",
    "import numpy as np\n",
    "import plotly.express as px\n",
    "from tqdm.auto import tqdm\n",
    "import os\n",
    "from typing import Union, Literal\n",
    "import sys\n",
    "import dgl\n",
    "import tensorflow as tf\n",
    "import matplotlib.pyplot as plt\n",
    "\n",
    "PROCESSED_DATA_PATH='../3_processed_data'\n",
    "#chargement des dataframes \n",
    "\n",
    "base_ctc=pd.read_parquet(os.path.join(PROCESSED_DATA_PATH, 'customer_A.parquet')) #base client A sans pooling \n",
    "base_trs=pd.read_parquet(os.path.join(PROCESSED_DATA_PATH, 'transaction_A.parquet')) #transaction A sans pooling \n",
    "pooled_ctc=pd.read_parquet(os.path.join(PROCESSED_DATA_PATH, 'customer_A_pooled.parquet')) #base client A pooled \n",
    "pooled_trs=pd.read_parquet(os.path.join(PROCESSED_DATA_PATH, 'transaction_A_pooled.parquet')) #base client A pooled "
   ]
  },
  {
   "cell_type": "code",
   "execution_count": 2,
   "id": "94df63f4",
   "metadata": {
    "scrolled": true
   },
   "outputs": [
    {
     "data": {
      "text/plain": [
       "array(['2018-03-03', '2018-03-10', '2018-03-17', '2018-03-24',\n",
       "       '2018-03-31', '2018-04-07', '2018-04-14', '2018-04-21',\n",
       "       '2018-04-28', '2018-05-05', '2018-05-12', '2018-05-19',\n",
       "       '2018-05-26', '2018-06-02', '2018-06-09', '2018-06-16',\n",
       "       '2018-06-23', '2018-06-30', '2018-07-07', '2018-07-14',\n",
       "       '2018-07-21', '2018-07-28', '2018-08-04', '2018-08-11',\n",
       "       '2018-08-18', '2018-08-25', '2018-09-01', '2018-09-08',\n",
       "       '2018-09-15', '2018-09-22', '2018-09-29', '2018-10-06',\n",
       "       '2018-10-13', '2018-10-20', '2018-10-27', '2018-11-03',\n",
       "       '2018-11-10', '2018-11-17', '2018-11-24', '2018-12-01',\n",
       "       '2018-12-08', '2018-12-15', '2018-12-22', '2018-12-29',\n",
       "       '2019-01-05', '2019-01-12', '2019-01-19', '2019-01-26',\n",
       "       '2019-02-02', '2019-02-09', '2019-02-16', '2019-02-23',\n",
       "       '2019-03-02', '2019-03-09', '2019-03-16', '2019-03-23',\n",
       "       '2019-03-30', '2019-04-06', '2019-04-13', '2019-04-20',\n",
       "       '2019-04-27', '2019-05-04', '2019-05-11', '2019-05-18',\n",
       "       '2019-05-25', '2019-06-01', '2019-06-08', '2019-06-15',\n",
       "       '2019-06-22', '2019-06-29', '2019-07-06', '2019-07-13',\n",
       "       '2019-07-20', '2019-07-27', '2019-08-03', '2019-08-10',\n",
       "       '2019-08-17', '2019-08-24', '2019-08-31', '2019-09-07',\n",
       "       '2019-09-14', '2019-09-21', '2019-09-28', '2019-10-05',\n",
       "       '2019-10-12', '2019-10-19', '2019-10-26', '2019-11-02',\n",
       "       '2019-11-09', '2019-11-16', '2019-11-23', '2019-11-30',\n",
       "       '2019-12-07', '2019-12-14', '2019-12-21', '2019-12-28',\n",
       "       '2020-01-04', '2020-01-11', '2020-01-18', '2020-01-25',\n",
       "       '2020-02-01', '2020-02-08', '2020-02-15', '2020-02-22',\n",
       "       '2020-02-29', '2020-03-07', '2020-03-14', '2020-03-21',\n",
       "       '2020-03-28', '2020-04-04', '2020-04-11', '2020-04-18',\n",
       "       '2020-04-25', '2020-05-02', '2020-05-09', '2020-05-16',\n",
       "       '2020-05-23', '2020-05-30', '2020-06-06', '2020-06-13',\n",
       "       '2020-06-20', '2020-06-27', '2020-07-04', '2020-07-11',\n",
       "       '2020-07-18', '2020-07-25', '2020-08-01', '2020-08-08',\n",
       "       '2020-08-15', '2020-08-22', '2020-08-29', '2020-09-05',\n",
       "       '2020-09-12', '2020-09-19', '2020-09-26', '2020-10-03',\n",
       "       '2020-10-10', '2020-10-17', '2020-10-24', '2020-10-31',\n",
       "       '2020-11-07', '2020-11-14', '2020-11-21', '2020-11-28',\n",
       "       '2020-12-05', '2020-12-12', '2020-12-19', '2020-12-26',\n",
       "       '2021-01-02', '2021-01-09', '2021-01-16', '2021-01-23',\n",
       "       '2021-01-30', '2021-02-06', '2021-02-13', '2021-02-20',\n",
       "       '2021-02-27', '2021-03-06', '2021-03-13', '2021-03-20',\n",
       "       '2021-03-27', '2021-04-03', '2021-04-10', '2021-04-17',\n",
       "       '2021-04-24', '2021-05-01', '2021-05-08', '2021-05-15',\n",
       "       '2021-05-22', '2021-05-29', '2021-06-05', '2021-06-12',\n",
       "       '2021-06-19', '2021-06-26', '2021-07-03', '2021-07-10',\n",
       "       '2021-07-17', '2021-07-24', '2021-07-31', '2021-08-07',\n",
       "       '2021-08-14', '2021-08-21', '2021-08-28', '2021-09-04',\n",
       "       '2021-09-11', '2021-09-18', '2021-09-25', '2021-10-02',\n",
       "       '2021-10-09', '2021-10-16', '2021-10-23', '2021-10-30',\n",
       "       '2021-11-06', '2021-11-13', '2021-11-20', '2021-11-27',\n",
       "       '2021-12-04', '2021-12-11', '2021-12-18', '2021-12-25'],\n",
       "      dtype=object)"
      ]
     },
     "execution_count": 2,
     "metadata": {},
     "output_type": "execute_result"
    }
   ],
   "source": [
    "#x : toutes les dates de transaction\n",
    "x = base_trs['timestamp'].unique()\n",
    "x.sort()\n",
    "x"
   ]
  },
  {
   "cell_type": "code",
   "execution_count": 3,
   "id": "3ab5c2e9",
   "metadata": {},
   "outputs": [
    {
     "data": {
      "text/plain": [
       "837981"
      ]
     },
     "execution_count": 3,
     "metadata": {},
     "output_type": "execute_result"
    }
   ],
   "source": [
    "#count transaction where sender OR receiver is from bank A on non pooled dataframes\n",
    "((base_trs['sender_bank_id'] == 'A')|(base_trs['receiver_bank_id'] == 'A')).sum()"
   ]
  },
  {
   "cell_type": "code",
   "execution_count": 4,
   "id": "81960a3a",
   "metadata": {},
   "outputs": [
    {
     "data": {
      "text/plain": [
       "837981"
      ]
     },
     "execution_count": 4,
     "metadata": {},
     "output_type": "execute_result"
    }
   ],
   "source": [
    "#count transaction where sender OR receiver is from bank A on pooled dataframes\n",
    "((pooled_trs['sender_bank_id'] == 'A')|(pooled_trs['receiver_bank_id'] == 'A')).sum()"
   ]
  },
  {
   "cell_type": "code",
   "execution_count": 5,
   "id": "fca4c66a",
   "metadata": {},
   "outputs": [],
   "source": [
    "def to_dgl_graph(trs, ctc, label_field='is_alert_solo'):\n",
    "    #trs : base transaction \n",
    "    #ctc : base client \n",
    "    ## Reindexation\n",
    "    n_trs, n_ctc=trs.shape[0], ctc.shape[0]\n",
    "    node_index = dict(zip(trs['transaction_global_id'].values, np.array(list(range(n_trs)))))\n",
    "    node_index.update(dict(zip(ctc['global_id'].values, n_trs + np.array(list(range(n_ctc))))))\n",
    "    \n",
    "    trs['transaction_global_id']=trs['transaction_global_id'].apply(lambda x:node_index[x])\n",
    "    trs['sender_global_id']=trs['sender_global_id'].apply(lambda x:node_index[x])\n",
    "    trs['receiver_global_id']=trs['receiver_global_id'].apply(lambda x:node_index[x])\n",
    "    \n",
    "    trs['right_bank_id']= ((trs['sender_bank_id']=='A')|(trs['receiver_bank_id']=='A'))\n",
    "    ctc['right_bank_id']= (ctc['bank_id']!='D')\n",
    "    \n",
    "    rate = 0.02 #trs[label_field].sum()/trs[label_field].shape[0]\n",
    "    trs['sample_weights']=trs[label_field].apply(lambda x : 1-rate if x else rate)\n",
    "    trs[trs['right_bank_id']==False]['sample_weights']=0\n",
    "    \n",
    "    ## Labels and masks\n",
    "    ctc['is_alert_solo'], ctc['is_alert_pooled'], ctc['timestamp'], ctc['sample_weights']=0, 0, '1100-01-01', 0 \n",
    "    labels=np.concatenate([trs[label_field].values, ctc[label_field].values])\n",
    "    sample_weights=np.concatenate([trs['sample_weights'].values, ctc['sample_weights'].values])\n",
    "    mask = np.concatenate([trs['timestamp'].values, ctc['timestamp'].values])\n",
    "    \n",
    "    A_mask=np.concatenate([trs['right_bank_id'].values, ctc['right_bank_id'].values])\n",
    "    for i, elt in enumerate(A_mask):\n",
    "        if not(elt):\n",
    "            mask[i]='1000-01-01'\n",
    "            \n",
    "#     mask[A_mask]='1000-01-01'\n",
    "    \n",
    "    test_date=\"2021-06-01\"\n",
    "    ctc_mask=mask<='1000-01-01'\n",
    "    \n",
    "    train_mask = tf.constant((mask<test_date)&(mask>='1000-01-01'), dtype=bool)\n",
    "#     train_mask = tf.constant((mask<'2222-22-22')&(mask>='1000-01-01'), dtype=bool)\n",
    "    test_mask = tf.constant((mask>=test_date), dtype=bool)\n",
    "    val_mask = tf.constant((mask>=test_date), dtype=bool)\n",
    "    \n",
    "#     train_mask = train_mask | test_mask\n",
    "    sample_weights[test_mask]=0\n",
    "    ## Features\n",
    "    trs_features=trs[['tx_amount', 'timestamp', 'tx_type']].copy()\n",
    "    ctc_features=ctc[['global_id', 'country_code', 'bank_id']].copy()\n",
    "    \n",
    "    # trs_features\n",
    "    trs_features['month'] = trs_features['timestamp'].apply(lambda x : int(x.split('-')[1]))\n",
    "    \n",
    "    tx_type=dict(zip(trs_features['tx_type'].unique(), range(trs_features['tx_type'].nunique())))\n",
    "    trs_features['tx_type'] = trs_features['tx_type'].apply(lambda x : tx_type[x])\n",
    "    trs_features['tx_amount'] = trs_features['tx_amount'].apply(lambda x: np.log(1+x)*5//1)\n",
    "    trs_features=trs_features[['tx_amount', 'month', 'tx_type']].values\n",
    "     \n",
    "    # ctc_features\n",
    "    country_code=dict(zip(ctc_features['country_code'].unique(), range(ctc_features['country_code'].nunique()+1)))\n",
    "#     print(country_code)\n",
    "    bank_id=dict(zip(ctc_features['bank_id'].unique(), range(ctc_features['bank_id'].nunique()+1)))\n",
    "    ctc_id=dict(zip(ctc_features['global_id'].unique(), range(ctc_features['global_id'].nunique()+1)))\n",
    "    ctc_features['country_code'] = ctc_features['country_code'].apply(lambda x : country_code[x])\n",
    "    ctc_features['bank_id'] = ctc_features['bank_id'].apply(lambda x : bank_id[x])\n",
    "    ctc_features['global_id'] = ctc_features['global_id'].apply(lambda x : ctc_id[x])\n",
    "    ctc_features=ctc_features[[\n",
    "        'global_id',\n",
    "        'country_code', \n",
    "        'bank_id'\n",
    "    ]].values\n",
    "    \n",
    "    \n",
    "    src_edges=np.concatenate([ #source\n",
    "        trs['sender_global_id'].values,\n",
    "        trs['transaction_global_id'].values,\n",
    "        trs['receiver_global_id'].values,\n",
    "        trs['transaction_global_id'].values,\n",
    "    ])\n",
    "    \n",
    "    tar_edges=np.concatenate([ #target\n",
    "        trs['transaction_global_id'].values,\n",
    "        trs['receiver_global_id'].values,\n",
    "        trs['transaction_global_id'].values,\n",
    "        trs['sender_global_id'].values,\n",
    "    ])\n",
    "#     print(tf.constant(tar_edges, dtype=tf.int32))\n",
    "    g = dgl.graph((tf.constant(src_edges, dtype=tf.int32),tf.constant(tar_edges, dtype=tf.int32))) #tf.constant : tensor\n",
    "    g.ndata['train_mask'], g.ndata['val_mask'], g.ndata['test_mask'] = train_mask, val_mask, test_mask #g.ndata défini à l'échelle du graph en entier ? \n",
    "    g.ndata['label']=tf.constant(labels, dtype=tf.int32)\n",
    "    g.ndata['sample_weights']=tf.constant(sample_weights)\n",
    "#     g.ndata['trc_features']=tf.constant(trs_features, dtype=tf.int32)\n",
    "#     g.ndata['ctc_features']=tf.constant(ctc_features, dtype=tf.int32)\n",
    "    return g, tf.constant(trs_features, dtype=tf.int32), tf.constant(ctc_features, dtype=tf.int32)"
   ]
  },
  {
   "cell_type": "code",
   "execution_count": 6,
   "id": "9b22c469",
   "metadata": {},
   "outputs": [],
   "source": [
    "class SingleGraphModel(tf.keras.Model):\n",
    "    def __init__(self\n",
    "                ):\n",
    "        '''Define here your graph and layers'''\n",
    "        super(SingleGraphModel, self).__init__()\n",
    "        pass\n",
    "    \n",
    "    def call(self, indices):\n",
    "        '''Define here your operations'''\n",
    "        pass\n",
    "    \n",
    "    def split_indices(self):\n",
    "        '''Utils to split indices into train, val and test indices based on dgl graph content'''\n",
    "        indices=np.arange(len(self.g.ndata['train_mask']))\n",
    "        self.train_indices=indices[self.g.ndata['train_mask'].numpy()]\n",
    "        self.val_indices=indices[self.g.ndata['val_mask'].numpy()]\n",
    "        self.test_indices=indices[self.g.ndata['test_mask'].numpy()]\n",
    "        return self.train_indices, self.val_indices, self.test_indices\n",
    "    \n",
    "    def batch_split(self, X, batch_size=1, do_shuffle=True):\n",
    "        X_batch=X\n",
    "        s=len(X_batch)-1\n",
    "        if do_shuffle:\n",
    "            np.random.shuffle(X_batch)\n",
    "        return [X_batch[i*batch_size:(i+1)*batch_size] for i in range(s//batch_size + 1)]\n",
    "\n",
    "#Batch splitting is the process of dividing a larger dataset or array of data into smaller, more manageable batches or subsets. \n",
    "#This technique is often used in machine learning and deep learning to efficiently train models on large datasets.\n",
    "    \n",
    "    def soft_compile(self, loss, optimizer, metrics={}, val_metrics={}):\n",
    "        self.loss=loss\n",
    "        self.optimizer=optimizer\n",
    "        self.metrics_dict=metrics\n",
    "        self.val_metrics_dict=val_metrics\n",
    "    \n",
    "    def make_history(self, inner=False):\n",
    "        history={'loss':[]}\n",
    "        history.update({metric:[] for metric in self.metrics_dict})\n",
    "        if not(inner):\n",
    "            history['lr']=[]\n",
    "            history['val_loss']=[]\n",
    "            history.update({'val_'+metric:[] for metric in self.metrics_dict})\n",
    "        return history\n",
    "#his is a method of a class that creates and returns a dictionary called \"history\" to keep track of the training and validation metrics of a neural network model during the training process. \n",
    "# The method takes an optional argument called \"inner\" which is set to False by default. \n",
    "# If \"inner\" is False, additional validation metrics will be added to the dictionary.\n",
    "        \n",
    "    def compute_metrics(self,true, pred, prefix=\"\"):\n",
    "        return {prefix+metric:np.round(self.metrics_dict[metric](true,pred).numpy(), 4) for metric in self.metrics_dict}\n",
    "    \n",
    "    def compute_val_metrics(self,true, pred, prefix=\"\"):\n",
    "        return {prefix+metric:np.round(self.val_metrics_dict[metric](true,pred).numpy(), 4) for metric in self.val_metrics_dict}\n",
    "    \n",
    "    def update_history(self, history, new_values):\n",
    "        for value in new_values:\n",
    "            history[value].append(new_values[value])\n",
    "        return history\n",
    "    \n",
    "    def has_improved(self, history, quantity='loss', direction='min', margin=0, patience=10, ratio=0, min_lr=0):\n",
    "        check_array=np.array(history[quantity])\n",
    "        if len(check_array) <= patience:\n",
    "            return True\n",
    "        check_array=check_array[-patience:]\n",
    "        \n",
    "        if direction=='min':\n",
    "            if check_array[0] - margin < np.min(check_array):\n",
    "                return False\n",
    "        if direction=='max':\n",
    "            if check_array[0] + margin > np.max(check_array):\n",
    "                return False\n",
    "        return True\n",
    "    \n",
    "    def train(self, epochs, batch_size, reduce_lr=None, early_stopping=None):\n",
    "        train_indices, val_indices, test_indices=self.split_indices()\n",
    "        labels=self.g.ndata['label'].numpy()\n",
    "        sample_weights=self.g.ndata['sample_weights'].numpy() #c quoi sample_weight ? \n",
    "        \n",
    "        history=self.make_history()\n",
    "        epoch_iterator=tqdm(range(epochs))\n",
    "        \n",
    "        reduce_lr_count=0\n",
    "        \n",
    "        for epoch in epoch_iterator:\n",
    "            reduce_lr_count+=1\n",
    "            # Update\n",
    "            batch_history=self.make_history(inner=True)\n",
    "            batch_iterator=tqdm(self.batch_split(train_indices, batch_size=batch_size, do_shuffle=True), desc=f\"Epoch {epoch}\", leave=False)\n",
    "#batch_iterator is a loop that iterates through mini-batches of data during training. \n",
    "#It is created by splitting the training indices into batches of size batch_size using the batch_split function.\n",
    " \n",
    "            for batch in batch_iterator:\n",
    "#                 print(batch)\n",
    "#This block of code is the main training loop of a model, where the model is being trained on the training data in batches of a specified size.\n",
    "\n",
    "                with tf.GradientTape() as tape:    \n",
    "                    logits=self.call(batch)\n",
    "                    weights=sample_weights[batch]\n",
    "                    weights=weights/tf.reduce_sum(weights)\n",
    "                    loss=self.loss(labels[batch], logits) * tf.cast(weights, dtype=tf.float32)\n",
    "                    loss=10*tf.reduce_sum(loss)\n",
    "#                     loss=self.loss(labels[batch], logits)\n",
    "#                     loss=tf.reduce_mean(loss)\n",
    "                    metrics=self.compute_metrics(labels[batch], logits)\n",
    "                    metrics['loss']=loss.numpy()\n",
    "                    grads = tape.gradient(loss, self.trainable_weights)\n",
    "                    self.optimizer.apply_gradients(zip(grads, self.trainable_weights))\n",
    "                batch_history=self.update_history(batch_history, metrics)\n",
    "                averaged_batch_history={metric:np.round(np.mean(batch_history[metric]), 4) for metric in batch_history}\n",
    "                batch_iterator.set_postfix_str(str(averaged_batch_history))\n",
    "                \n",
    "            # Validation\n",
    "            averaged_batch_history['lr']=self.optimizer.learning_rate.numpy()\n",
    "            val_logits=self.call(val_indices)\n",
    "            averaged_batch_history['val_loss']=tf.reduce_sum(self.loss(labels[val_indices], val_logits)).numpy()\n",
    "            val_metrics=self.compute_val_metrics(labels[val_indices], val_logits, prefix='val_')\n",
    "            averaged_batch_history.update(val_metrics)\n",
    "            print(f\"Epoch {epoch} : \" + str(averaged_batch_history))\n",
    "            \n",
    "            history = self.update_history(history, averaged_batch_history)\n",
    "            # Callbacks\n",
    "            #This callback reduces the learning rate of the optimizer when the training performance of the model plateaus.\n",
    "            #It takes a few arguments: patience (number of epochs with no improvement after which learning rate will be reduced), min_lr (minimum learning rate to be reached), and ratio (factor by which the learning rate will be reduced).\n",
    "            if reduce_lr:\n",
    "                has_improved=self.has_improved(history, **reduce_lr)\n",
    "                if not(has_improved) and reduce_lr_count>=reduce_lr['patience']:\n",
    "                    lr=self.optimizer.learning_rate.numpy()\n",
    "                    if lr >= reduce_lr['min_lr'] * reduce_lr['ratio']:\n",
    "                        print(f\"Reducing learning rate from {lr} to {lr * reduce_lr['ratio']}\")\n",
    "                        self.optimizer = tf.keras.optimizers.Adam(lr * reduce_lr['ratio'])\n",
    "                        reduce_lr_count=0\n",
    "             \n",
    "            if early_stopping:\n",
    "                has_improved=self.has_improved(history, **early_stopping)\n",
    "                if not(has_improved):\n",
    "                    print(\"***************************************************************************\")\n",
    "                    break        \n",
    "        return history    "
   ]
  },
  {
   "cell_type": "code",
   "execution_count": 7,
   "id": "06e0842d",
   "metadata": {},
   "outputs": [],
   "source": [
    "from dgl.nn.tensorflow import GraphConv, GATConv\n",
    "\n",
    "class CatEncoder(tf.keras.Model):\n",
    "    def __init__(self, feature_set, d_model):\n",
    "        super(CatEncoder, self).__init__()\n",
    "        self.feature_set=feature_set\n",
    "        self.n_features=self.feature_set.shape[1]\n",
    "        self.embedding_layers=[tf.keras.layers.Embedding(np.max(feature_set[:,i])+1, d_model) for i in range(self.n_features)]\n",
    "        \n",
    "    def call(self, x):\n",
    "        encoded_features=[self.embedding_layers[i](self.feature_set[:,i]) for i in range(self.n_features)]\n",
    "        return tf.reduce_sum(encoded_features, axis=0)\n",
    "\n",
    "#Embedding is a technique to represent categorical variables as continuous vectors in a high-dimensional space. \n",
    "#Mapping from discrete categorical variables to continuous vectors.\n",
    "#The result of summing the embedded features is a tensor of shape (batch_size, d_model), \n",
    "# where batch_size is the number of samples in the batch, and d_model is the dimensionality of the embedding space. \n",
    "# This tensor represents the encoded features for the categorical variables.\n",
    "    \n",
    "class AttentionBlock(tf.keras.Model):\n",
    "    def __init__(self,in_feats, out_feats, num_heads, feat_drop=0.0, attn_drop=0.0, negative_slope=0.2, residual=False, activation=None, allow_zero_in_degree=False):\n",
    "        super(AttentionBlock, self).__init__()\n",
    "        self.gat_conv=GATConv(in_feats, out_feats, num_heads, feat_drop, attn_drop, negative_slope, residual, activation, allow_zero_in_degree)\n",
    "        self.reshape=tf.keras.layers.Reshape((out_feats*num_heads,))\n",
    "        self.out=tf.keras.layers.Dense(out_feats, activation='relu')\n",
    "        \n",
    "    def call(self, g, x):\n",
    "        y=self.gat_conv(g, x)\n",
    "        y=self.reshape(y)\n",
    "        y=self.out(y)\n",
    "        return y\n",
    "\n",
    "#The GAT block takes as input a graph g and a node feature tensor x, and applies a graph attention layer using the GATConv class. \n",
    "#The graph attention layer outputs a new node feature tensor y.\n",
    "#A node feature tensor is a data structure that stores information associated with each node in a graph. \n",
    "#In machine learning applications, node feature tensors are commonly used to represent the attributes or properties of each node in a graph.\n",
    "\n",
    "#In the context of graph neural networks, each node in a graph is associated with a feature vector that encodes the relevant information about the node. \n",
    "#The feature vector can contain a wide variety of information, such as text, image, or numerical data, depending on the specific application. \n",
    "#Node feature tensors are typically represented as a matrix, where each row corresponds to a node in the graph and each column corresponds to a feature dimension. \n",
    "#The values in the matrix represent the feature values associated with each node.\n",
    "\n",
    "\n",
    "#The reshape layer is then used to reshape y from a 3D tensor of shape (batch_size, num_nodes, out_feats*num_heads) to a 2D tensor of shape (batch_size, out_feats*num_heads).\n",
    "\n",
    "#Finally, the out layer applies a fully-connected layer to map the feature tensor to a new feature space, which is then passed as output.\n",
    "\n",
    "#The parameters of the AttentionBlock are:\n",
    "\n",
    "#in_feats: the number of input node features.\n",
    "#out_feats: the number of output node features.\n",
    "#num_heads: the number of attention heads.\n",
    "#feat_drop: the dropout rate applied to the input features.\n",
    "#attn_drop: the dropout rate applied to the attention coefficients.\n",
    "#negative_slope: the negative slope of the LeakyReLU activation function used in the GATConv layer.\n",
    "#residual: whether to use residual connection or not.\n",
    "#activation: the activation function applied to the output features.\n",
    "#allow_zero_in_degree: whether to allow nodes with zero in-degree in the graph.\n",
    "    \n",
    "class GCN_ACPR(SingleGraphModel):\n",
    "    def __init__(self, g,trs_features, ctc_features, d_model, dff, n_layers, class_num):\n",
    "        super(GCN_ACPR, self).__init__()\n",
    "        self.g = g\n",
    "        self.trs_features=CatEncoder(trs_features, d_model)\n",
    "        self.ctc_features=CatEncoder(ctc_features, d_model)\n",
    "        self.embedding=tf.keras.layers.Dense(d_model, activation='relu')\n",
    "        \n",
    "#         self.gcn_layers=[GraphConv(d_model, d_model, activation=tf.nn.relu, allow_zero_in_degree=True) for _ in range(n_layers)]\n",
    "#         self.gcn_layers=[AttentionBlock(d_model, d_model, num_heads=num_heads, activation=tf.nn.relu,residual=False, allow_zero_in_degree=True) for _ in range(n_layers)]\n",
    "        self.classifier = tf.keras.layers.Dense(class_num, activation='sigmoid')\n",
    "    \n",
    "    def call(self, indices, training=True):\n",
    "        hidden_states = tf.concat(\n",
    "            [\n",
    "                self.trs_features(0),\n",
    "                self.ctc_features(0)\n",
    "            ], axis = 0\n",
    "        )\n",
    "        hidden_states = self.embedding(hidden_states)\n",
    "#         for layer in self.gcn_layers:\n",
    "#             hidden_states += layer(self.g, hidden_states, training=training)\n",
    "        logits = self.classifier(hidden_states)\n",
    "        return tf.gather(logits, indices)[:,0]\n",
    "\n",
    "#This code defines a graph neural network model named GCN_ACPR that inherits from the SingleGraphModel class. \n",
    "#The model takes as input a graph (g), and two sets of categorical features (trs_features and ctc_features) that are passed through a CatEncoder class to obtain their embeddings. \n",
    "#The embeddings of the two sets of features are concatenated and passed through a Dense layer with a relu activation function to get the initial hidden states of the nodes.\n",
    "\n",
    "#Next, the hidden states are passed through a stack of graph convolutional layers (which are commented out in the code) or attention blocks (AttentionBlock). \n",
    "#Finally, the output of the last layer is passed through a Dense layer with a sigmoid activation function to obtain the predicted probability for \n",
    "#each node belonging to a specific class. The call method takes an argument indices, which represents the indices of the nodes for which the output is required. \n",
    "#These nodes are selected from the output logits tensor using the tf.gather method."
   ]
  },
  {
   "cell_type": "markdown",
   "id": "81d82400",
   "metadata": {},
   "source": [
    "## Dataset Label"
   ]
  },
  {
   "cell_type": "code",
   "execution_count": 8,
   "id": "d1163867",
   "metadata": {},
   "outputs": [],
   "source": [
    "d_model= 32\n",
    "n_layers = 2\n",
    "n_classes = 1\n",
    "num_heads=4\n",
    "dff=64\n",
    "\n",
    "epochs=400\n",
    "batch_size=16384*2\n",
    "\n",
    "\n",
    "reduce_lr={\n",
    "    'quantity':'val_auc',\n",
    "    'direction' : 'max',\n",
    "    'margin':0.001,\n",
    "    'patience':4,\n",
    "    'ratio':0.1,\n",
    "    'min_lr':1e-6\n",
    "}\n",
    "\n",
    "early_stopping={\n",
    "    'quantity':'val_auc',\n",
    "    'direction' : 'max',\n",
    "    'margin':0.001,\n",
    "    'patience':9\n",
    "}\n"
   ]
  },
  {
   "cell_type": "markdown",
   "id": "4774b99d",
   "metadata": {},
   "source": [
    "## Solo Solo"
   ]
  },
  {
   "cell_type": "code",
   "execution_count": 9,
   "id": "2bbacbe9",
   "metadata": {},
   "outputs": [],
   "source": [
    "g, trs_features, ctc_features = to_dgl_graph(base_trs.copy(), base_ctc.copy(), label_field='is_alert_solo')"
   ]
  },
  {
   "cell_type": "code",
   "execution_count": 10,
   "id": "12d01953",
   "metadata": {},
   "outputs": [],
   "source": [
    "# g = dataset[0]\n",
    "\n",
    "model_solo_solo = GCN_ACPR(g, trs_features, ctc_features, d_model, dff, n_layers, n_classes)\n",
    "# model = GAT(g, d_maodel, n_layers, n_classes, num_heads)\n",
    "\n",
    "model_solo_solo.soft_compile(\n",
    "#     loss=tf.keras.losses.SparseCategoricalCrossentropy(from_logits=True, reduction='none'),\n",
    "    loss=tf.keras.losses.BinaryCrossentropy(from_logits=False, reduction='none'),\n",
    "    optimizer=tf.keras.optimizers.Adam(0.01),#, 1e-8),\n",
    "#     metrics={'accuracy':tf.keras.metrics.SparseCategoricalAccuracy()}\n",
    "    metrics={'accuracy':tf.keras.metrics.BinaryAccuracy(),\n",
    "             'auc' : tf.keras.metrics.AUC(),\n",
    "             'precision' : tf.keras.metrics.Precision(),\n",
    "             'recall' : tf.keras.metrics.Recall(),\n",
    "            },\n",
    "    val_metrics={'accuracy':tf.keras.metrics.BinaryAccuracy(),\n",
    "             'auc' : tf.keras.metrics.AUC(),\n",
    "             'precision' : tf.keras.metrics.Precision(),\n",
    "             'recall' : tf.keras.metrics.Recall(),\n",
    "            }\n",
    ")"
   ]
  },
  {
   "cell_type": "code",
   "execution_count": 11,
   "id": "a0d1c288",
   "metadata": {
    "scrolled": false
   },
   "outputs": [
    {
     "data": {
      "application/vnd.jupyter.widget-view+json": {
       "model_id": "986cbdca0a7e497aac4f57726c0cc193",
       "version_major": 2,
       "version_minor": 0
      },
      "text/plain": [
       "  0%|          | 0/400 [00:00<?, ?it/s]"
      ]
     },
     "metadata": {},
     "output_type": "display_data"
    },
    {
     "data": {
      "application/vnd.jupyter.widget-view+json": {
       "model_id": "",
       "version_major": 2,
       "version_minor": 0
      },
      "text/plain": [
       "Epoch 0:   0%|          | 0/23 [00:00<?, ?it/s]"
      ]
     },
     "metadata": {},
     "output_type": "display_data"
    },
    {
     "name": "stdout",
     "output_type": "stream",
     "text": [
      "Epoch 0 : {'loss': 1.8675, 'accuracy': 0.8633, 'auc': 0.5022, 'precision': 0.0067, 'recall': 0.1355, 'lr': 0.01, 'val_loss': 0.06526256, 'val_accuracy': 0.9937, 'val_auc': 0.5155, 'val_precision': 0.0, 'val_recall': 0.0}\n"
     ]
    },
    {
     "data": {
      "application/vnd.jupyter.widget-view+json": {
       "model_id": "",
       "version_major": 2,
       "version_minor": 0
      },
      "text/plain": [
       "Epoch 1:   0%|          | 0/23 [00:00<?, ?it/s]"
      ]
     },
     "metadata": {},
     "output_type": "display_data"
    },
    {
     "name": "stdout",
     "output_type": "stream",
     "text": [
      "Epoch 1 : {'loss': 0.5529, 'accuracy': 0.9697, 'auc': 0.5058, 'precision': 0.007, 'recall': 0.0263, 'lr': 0.01, 'val_loss': 0.037818637, 'val_accuracy': 0.9937, 'val_auc': 0.5319, 'val_precision': 0.5102, 'val_recall': 0.0156}\n"
     ]
    },
    {
     "data": {
      "application/vnd.jupyter.widget-view+json": {
       "model_id": "",
       "version_major": 2,
       "version_minor": 0
      },
      "text/plain": [
       "Epoch 2:   0%|          | 0/23 [00:00<?, ?it/s]"
      ]
     },
     "metadata": {},
     "output_type": "display_data"
    },
    {
     "name": "stdout",
     "output_type": "stream",
     "text": [
      "Epoch 2 : {'loss': 0.4029, 'accuracy': 0.9794, 'auc': 0.5137, 'precision': 0.0106, 'recall': 0.0233, 'lr': 0.01, 'val_loss': 0.03758493, 'val_accuracy': 0.9937, 'val_auc': 0.5355, 'val_precision': 0.5102, 'val_recall': 0.0208}\n"
     ]
    },
    {
     "data": {
      "application/vnd.jupyter.widget-view+json": {
       "model_id": "",
       "version_major": 2,
       "version_minor": 0
      },
      "text/plain": [
       "Epoch 3:   0%|          | 0/23 [00:00<?, ?it/s]"
      ]
     },
     "metadata": {},
     "output_type": "display_data"
    },
    {
     "name": "stdout",
     "output_type": "stream",
     "text": [
      "Epoch 3 : {'loss': 0.3755, 'accuracy': 0.9834, 'auc': 0.5224, 'precision': 0.0151, 'recall': 0.0241, 'lr': 0.01, 'val_loss': 0.03755763, 'val_accuracy': 0.9937, 'val_auc': 0.5335, 'val_precision': 0.5102, 'val_recall': 0.0234}\n"
     ]
    },
    {
     "data": {
      "application/vnd.jupyter.widget-view+json": {
       "model_id": "",
       "version_major": 2,
       "version_minor": 0
      },
      "text/plain": [
       "Epoch 4:   0%|          | 0/23 [00:00<?, ?it/s]"
      ]
     },
     "metadata": {},
     "output_type": "display_data"
    },
    {
     "name": "stdout",
     "output_type": "stream",
     "text": [
      "Epoch 4 : {'loss': 0.4034, 'accuracy': 0.9857, 'auc': 0.5275, 'precision': 0.0195, 'recall': 0.0246, 'lr': 0.01, 'val_loss': 0.03755282, 'val_accuracy': 0.9937, 'val_auc': 0.5334, 'val_precision': 0.5102, 'val_recall': 0.0249}\n"
     ]
    },
    {
     "data": {
      "application/vnd.jupyter.widget-view+json": {
       "model_id": "",
       "version_major": 2,
       "version_minor": 0
      },
      "text/plain": [
       "Epoch 5:   0%|          | 0/23 [00:00<?, ?it/s]"
      ]
     },
     "metadata": {},
     "output_type": "display_data"
    },
    {
     "name": "stdout",
     "output_type": "stream",
     "text": [
      "Epoch 5 : {'loss': 0.3745, 'accuracy': 0.9871, 'auc': 0.5302, 'precision': 0.0238, 'recall': 0.0248, 'lr': 0.01, 'val_loss': 0.037557893, 'val_accuracy': 0.9937, 'val_auc': 0.5373, 'val_precision': 0.5082, 'val_recall': 0.0258}\n"
     ]
    },
    {
     "data": {
      "application/vnd.jupyter.widget-view+json": {
       "model_id": "",
       "version_major": 2,
       "version_minor": 0
      },
      "text/plain": [
       "Epoch 6:   0%|          | 0/23 [00:00<?, ?it/s]"
      ]
     },
     "metadata": {},
     "output_type": "display_data"
    },
    {
     "name": "stdout",
     "output_type": "stream",
     "text": [
      "Epoch 6 : {'loss': 0.3747, 'accuracy': 0.9881, 'auc': 0.5335, 'precision': 0.0281, 'recall': 0.025, 'lr': 0.01, 'val_loss': 0.03753485, 'val_accuracy': 0.9937, 'val_auc': 0.5366, 'val_precision': 0.5068, 'val_recall': 0.0264}\n"
     ]
    },
    {
     "data": {
      "application/vnd.jupyter.widget-view+json": {
       "model_id": "",
       "version_major": 2,
       "version_minor": 0
      },
      "text/plain": [
       "Epoch 7:   0%|          | 0/23 [00:00<?, ?it/s]"
      ]
     },
     "metadata": {},
     "output_type": "display_data"
    },
    {
     "name": "stdout",
     "output_type": "stream",
     "text": [
      "Epoch 7 : {'loss': 0.3841, 'accuracy': 0.9888, 'auc': 0.5353, 'precision': 0.0319, 'recall': 0.0248, 'lr': 0.01, 'val_loss': 0.037561323, 'val_accuracy': 0.9937, 'val_auc': 0.5358, 'val_precision': 0.5045, 'val_recall': 0.0265}\n"
     ]
    },
    {
     "data": {
      "application/vnd.jupyter.widget-view+json": {
       "model_id": "",
       "version_major": 2,
       "version_minor": 0
      },
      "text/plain": [
       "Epoch 8:   0%|          | 0/23 [00:00<?, ?it/s]"
      ]
     },
     "metadata": {},
     "output_type": "display_data"
    },
    {
     "name": "stdout",
     "output_type": "stream",
     "text": [
      "Epoch 8 : {'loss': 0.3839, 'accuracy': 0.9894, 'auc': 0.5365, 'precision': 0.0356, 'recall': 0.0246, 'lr': 0.01, 'val_loss': 0.03754641, 'val_accuracy': 0.9937, 'val_auc': 0.5359, 'val_precision': 0.5026, 'val_recall': 0.0266}\n",
      "Reducing learning rate from 0.009999999776482582 to 0.0009999999776482583\n"
     ]
    },
    {
     "data": {
      "application/vnd.jupyter.widget-view+json": {
       "model_id": "",
       "version_major": 2,
       "version_minor": 0
      },
      "text/plain": [
       "Epoch 9:   0%|          | 0/23 [00:00<?, ?it/s]"
      ]
     },
     "metadata": {},
     "output_type": "display_data"
    },
    {
     "name": "stdout",
     "output_type": "stream",
     "text": [
      "Epoch 9 : {'loss': 0.3931, 'accuracy': 0.9898, 'auc': 0.5372, 'precision': 0.0394, 'recall': 0.0245, 'lr': 0.0009999999776482583, 'val_loss': 0.037538428, 'val_accuracy': 0.9937, 'val_auc': 0.5354, 'val_precision': 0.5035, 'val_recall': 0.0271}\n"
     ]
    },
    {
     "data": {
      "application/vnd.jupyter.widget-view+json": {
       "model_id": "",
       "version_major": 2,
       "version_minor": 0
      },
      "text/plain": [
       "Epoch 10:   0%|          | 0/23 [00:00<?, ?it/s]"
      ]
     },
     "metadata": {},
     "output_type": "display_data"
    },
    {
     "name": "stdout",
     "output_type": "stream",
     "text": [
      "Epoch 10 : {'loss': 0.4184, 'accuracy': 0.9901, 'auc': 0.5377, 'precision': 0.0433, 'recall': 0.0246, 'lr': 0.0009999999776482583, 'val_loss': 0.037535124, 'val_accuracy': 0.9937, 'val_auc': 0.5348, 'val_precision': 0.5042, 'val_recall': 0.0273}\n"
     ]
    },
    {
     "data": {
      "application/vnd.jupyter.widget-view+json": {
       "model_id": "",
       "version_major": 2,
       "version_minor": 0
      },
      "text/plain": [
       "Epoch 11:   0%|          | 0/23 [00:00<?, ?it/s]"
      ]
     },
     "metadata": {},
     "output_type": "display_data"
    },
    {
     "name": "stdout",
     "output_type": "stream",
     "text": [
      "Epoch 11 : {'loss': 0.4051, 'accuracy': 0.9904, 'auc': 0.5384, 'precision': 0.0471, 'recall': 0.0246, 'lr': 0.0009999999776482583, 'val_loss': 0.03756266, 'val_accuracy': 0.9937, 'val_auc': 0.5346, 'val_precision': 0.5048, 'val_recall': 0.0275}\n"
     ]
    },
    {
     "data": {
      "application/vnd.jupyter.widget-view+json": {
       "model_id": "",
       "version_major": 2,
       "version_minor": 0
      },
      "text/plain": [
       "Epoch 12:   0%|          | 0/23 [00:00<?, ?it/s]"
      ]
     },
     "metadata": {},
     "output_type": "display_data"
    },
    {
     "name": "stdout",
     "output_type": "stream",
     "text": [
      "Epoch 12 : {'loss': 0.3833, 'accuracy': 0.9906, 'auc': 0.5388, 'precision': 0.0509, 'recall': 0.0247, 'lr': 0.0009999999776482583, 'val_loss': 0.037542425, 'val_accuracy': 0.9937, 'val_auc': 0.5347, 'val_precision': 0.5052, 'val_recall': 0.0277}\n",
      "Reducing learning rate from 0.0009999999776482583 to 9.999999776482583e-05\n"
     ]
    },
    {
     "data": {
      "application/vnd.jupyter.widget-view+json": {
       "model_id": "",
       "version_major": 2,
       "version_minor": 0
      },
      "text/plain": [
       "Epoch 13:   0%|          | 0/23 [00:00<?, ?it/s]"
      ]
     },
     "metadata": {},
     "output_type": "display_data"
    },
    {
     "name": "stdout",
     "output_type": "stream",
     "text": [
      "Epoch 13 : {'loss': 0.3826, 'accuracy': 0.9908, 'auc': 0.5392, 'precision': 0.0547, 'recall': 0.0248, 'lr': 9.999999776482583e-05, 'val_loss': 0.03754563, 'val_accuracy': 0.9937, 'val_auc': 0.5348, 'val_precision': 0.5057, 'val_recall': 0.0279}\n",
      "***************************************************************************\n"
     ]
    }
   ],
   "source": [
    "graph_history_solo_solo = model_solo_solo.train(epochs=epochs,batch_size=batch_size, reduce_lr=reduce_lr, early_stopping=early_stopping)"
   ]
  },
  {
   "cell_type": "code",
   "execution_count": null,
   "id": "2939cf10",
   "metadata": {},
   "outputs": [],
   "source": [
    "from sklearn.metrics import precision_recall_curve, roc_curve, roc_auc_score\n",
    "import matplotlib.pyplot as plt\n",
    "\n",
    "model = model_solo_solo\n",
    "\n",
    "train_indices, val_indices, test_indices=model_solo_solo.split_indices()\n",
    "labels=model.g.ndata['label'].numpy()\n",
    "val_labels=labels[test_indices]\n",
    "val_logits=model.call(np.arange(len(val_indices))).numpy()\n",
    "\n",
    "precision, recall, thresholds = precision_recall_curve(val_labels, val_logits)\n",
    "fpr, tpr, threshold = roc_curve(val_labels, val_logits)\n",
    "roc_auc = metrics.auc(fpr, tpr)\n",
    "\n",
    "f1_score = 2*precision*recall/(precision + recall)\n",
    "\n",
    "ind=np.argmax(f1_score)\n",
    "\n",
    "print({\n",
    "    'roc_auc_score':roc_auc_score(val_labels, val_logits),\n",
    "    'precision':precsion[ind],\n",
    "    'recall':recall[ind],\n",
    "    'f1_score':f1_score[ind],\n",
    "})\n",
    "\n",
    "index = np.arange(len(precision))\n",
    "t = 0.9*recall.max()\n",
    "min_index = index[recall >= t]\n",
    "print({\n",
    "    'max_recall':recall.max(),\n",
    "    '90 max recall':t,\n",
    "    'precision_at_recall':precision[min_index],\n",
    "    'f1_at_recall':f1_score[min_index]\n",
    "})\n",
    "\n",
    "plt.title('Receiver Operating Characteristic')\n",
    "plt.plot(fpr, tpr, 'b', label = 'AUC = %0.2f' % roc_auc)\n",
    "plt.legend(loc = 'lower right')\n",
    "plt.plot([0, 1], [0, 1],'r--')\n",
    "plt.xlim([0, 1])\n",
    "plt.ylim([0, 1])\n",
    "plt.ylabel('True Positive Rate')\n",
    "plt.xlabel('False Positive Rate')\n",
    "plt.show()"
   ]
  },
  {
   "cell_type": "code",
   "execution_count": 12,
   "id": "f6271248",
   "metadata": {},
   "outputs": [
    {
     "data": {
      "text/plain": [
       "<tf.Tensor: shape=(), dtype=float32, numpy=0.5351476>"
      ]
     },
     "execution_count": 12,
     "metadata": {},
     "output_type": "execute_result"
    }
   ],
   "source": [
    "train_indices, val_indices, test_indices=model_solo_solo.split_indices()\n",
    "labels=model_solo_solo.g.ndata['label'].numpy()\n",
    "\n",
    "logits=model_solo_solo.call(np.arange(len(labels))).numpy()\n",
    "val_labels=labels[test_indices]\n",
    "\n",
    "# plt.hist(val_logits)\n",
    "tf.keras.metrics.AUC()(val_labels, logits[test_indices])\n",
    "\n"
   ]
  },
  {
   "cell_type": "markdown",
   "id": "31d5bd9f",
   "metadata": {},
   "source": [
    "## Solo Pooled"
   ]
  },
  {
   "cell_type": "code",
   "execution_count": 13,
   "id": "ff857d9a",
   "metadata": {},
   "outputs": [],
   "source": [
    "g, trs_features, ctc_features = to_dgl_graph(base_trs.copy(), base_ctc.copy(), label_field='is_alert_pooled')"
   ]
  },
  {
   "cell_type": "code",
   "execution_count": 14,
   "id": "d622fae2",
   "metadata": {},
   "outputs": [
    {
     "data": {
      "text/plain": [
       "(721117, 126641)"
      ]
     },
     "execution_count": 14,
     "metadata": {},
     "output_type": "execute_result"
    }
   ],
   "source": [
    "g.ndata['train_mask'].numpy().sum(), g.ndata['val_mask'].numpy().sum()"
   ]
  },
  {
   "cell_type": "code",
   "execution_count": 15,
   "id": "cd7c3e4d",
   "metadata": {},
   "outputs": [
    {
     "data": {
      "application/vnd.jupyter.widget-view+json": {
       "model_id": "1988657bc5724ae2b319141dc4c489a5",
       "version_major": 2,
       "version_minor": 0
      },
      "text/plain": [
       "  0%|          | 0/400 [00:00<?, ?it/s]"
      ]
     },
     "metadata": {},
     "output_type": "display_data"
    },
    {
     "data": {
      "application/vnd.jupyter.widget-view+json": {
       "model_id": "",
       "version_major": 2,
       "version_minor": 0
      },
      "text/plain": [
       "Epoch 0:   0%|          | 0/23 [00:00<?, ?it/s]"
      ]
     },
     "metadata": {},
     "output_type": "display_data"
    },
    {
     "name": "stdout",
     "output_type": "stream",
     "text": [
      "Epoch 0 : {'loss': 1.3934, 'accuracy': 0.8964, 'auc': 0.5854, 'precision': 0.0017, 'recall': 0.1152, 'lr': 0.01, 'val_loss': 0.0072310325, 'val_accuracy': 0.9991, 'val_auc': 0.7035, 'val_precision': 1.0, 'val_recall': 0.2675}\n"
     ]
    },
    {
     "data": {
      "application/vnd.jupyter.widget-view+json": {
       "model_id": "",
       "version_major": 2,
       "version_minor": 0
      },
      "text/plain": [
       "Epoch 1:   0%|          | 0/23 [00:00<?, ?it/s]"
      ]
     },
     "metadata": {},
     "output_type": "display_data"
    },
    {
     "name": "stdout",
     "output_type": "stream",
     "text": [
      "Epoch 1 : {'loss': 0.0617, 'accuracy': 0.9803, 'auc': 0.6851, 'precision': 0.0097, 'recall': 0.1443, 'lr': 0.01, 'val_loss': 0.006020918, 'val_accuracy': 0.9991, 'val_auc': 0.7035, 'val_precision': 1.0, 'val_recall': 0.2898}\n"
     ]
    },
    {
     "data": {
      "application/vnd.jupyter.widget-view+json": {
       "model_id": "",
       "version_major": 2,
       "version_minor": 0
      },
      "text/plain": [
       "Epoch 2:   0%|          | 0/23 [00:00<?, ?it/s]"
      ]
     },
     "metadata": {},
     "output_type": "display_data"
    },
    {
     "name": "stdout",
     "output_type": "stream",
     "text": [
      "Epoch 2 : {'loss': 0.055, 'accuracy': 0.988, 'auc': 0.7006, 'precision': 0.0209, 'recall': 0.1959, 'lr': 0.01, 'val_loss': 0.005561422, 'val_accuracy': 0.9991, 'val_auc': 0.7035, 'val_precision': 1.0, 'val_recall': 0.2972}\n"
     ]
    },
    {
     "data": {
      "application/vnd.jupyter.widget-view+json": {
       "model_id": "",
       "version_major": 2,
       "version_minor": 0
      },
      "text/plain": [
       "Epoch 3:   0%|          | 0/23 [00:00<?, ?it/s]"
      ]
     },
     "metadata": {},
     "output_type": "display_data"
    },
    {
     "name": "stdout",
     "output_type": "stream",
     "text": [
      "Epoch 3 : {'loss': 0.0511, 'accuracy': 0.9912, 'auc': 0.7105, 'precision': 0.0319, 'recall': 0.2169, 'lr': 0.01, 'val_loss': 0.0053582694, 'val_accuracy': 0.9991, 'val_auc': 0.7035, 'val_precision': 1.0, 'val_recall': 0.301}\n"
     ]
    },
    {
     "data": {
      "application/vnd.jupyter.widget-view+json": {
       "model_id": "",
       "version_major": 2,
       "version_minor": 0
      },
      "text/plain": [
       "Epoch 4:   0%|          | 0/23 [00:00<?, ?it/s]"
      ]
     },
     "metadata": {},
     "output_type": "display_data"
    },
    {
     "name": "stdout",
     "output_type": "stream",
     "text": [
      "Epoch 4 : {'loss': 0.0501, 'accuracy': 0.993, 'auc': 0.7223, 'precision': 0.0424, 'recall': 0.2282, 'lr': 0.01, 'val_loss': 0.0054416643, 'val_accuracy': 0.9991, 'val_auc': 0.7035, 'val_precision': 1.0, 'val_recall': 0.3032}\n",
      "Reducing learning rate from 0.009999999776482582 to 0.0009999999776482583\n"
     ]
    },
    {
     "data": {
      "application/vnd.jupyter.widget-view+json": {
       "model_id": "",
       "version_major": 2,
       "version_minor": 0
      },
      "text/plain": [
       "Epoch 5:   0%|          | 0/23 [00:00<?, ?it/s]"
      ]
     },
     "metadata": {},
     "output_type": "display_data"
    },
    {
     "name": "stdout",
     "output_type": "stream",
     "text": [
      "Epoch 5 : {'loss': 0.0512, 'accuracy': 0.9941, 'auc': 0.7407, 'precision': 0.0526, 'recall': 0.2345, 'lr': 0.0009999999776482583, 'val_loss': 0.005221523, 'val_accuracy': 0.9991, 'val_auc': 0.7201, 'val_precision': 1.0, 'val_recall': 0.3047}\n"
     ]
    },
    {
     "data": {
      "application/vnd.jupyter.widget-view+json": {
       "model_id": "",
       "version_major": 2,
       "version_minor": 0
      },
      "text/plain": [
       "Epoch 6:   0%|          | 0/23 [00:00<?, ?it/s]"
      ]
     },
     "metadata": {},
     "output_type": "display_data"
    },
    {
     "name": "stdout",
     "output_type": "stream",
     "text": [
      "Epoch 6 : {'loss': 0.0493, 'accuracy': 0.9949, 'auc': 0.7597, 'precision': 0.0629, 'recall': 0.2399, 'lr': 0.0009999999776482583, 'val_loss': 0.0051132417, 'val_accuracy': 0.9991, 'val_auc': 0.7359, 'val_precision': 1.0, 'val_recall': 0.3057}\n"
     ]
    },
    {
     "data": {
      "application/vnd.jupyter.widget-view+json": {
       "model_id": "",
       "version_major": 2,
       "version_minor": 0
      },
      "text/plain": [
       "Epoch 7:   0%|          | 0/23 [00:00<?, ?it/s]"
      ]
     },
     "metadata": {},
     "output_type": "display_data"
    },
    {
     "name": "stdout",
     "output_type": "stream",
     "text": [
      "Epoch 7 : {'loss': 0.0482, 'accuracy': 0.9955, 'auc': 0.7723, 'precision': 0.0725, 'recall': 0.2435, 'lr': 0.0009999999776482583, 'val_loss': 0.0050595202, 'val_accuracy': 0.9991, 'val_auc': 0.7512, 'val_precision': 1.0, 'val_recall': 0.3065}\n"
     ]
    },
    {
     "data": {
      "application/vnd.jupyter.widget-view+json": {
       "model_id": "",
       "version_major": 2,
       "version_minor": 0
      },
      "text/plain": [
       "Epoch 8:   0%|          | 0/23 [00:00<?, ?it/s]"
      ]
     },
     "metadata": {},
     "output_type": "display_data"
    },
    {
     "name": "stdout",
     "output_type": "stream",
     "text": [
      "Epoch 8 : {'loss': 0.0476, 'accuracy': 0.9959, 'auc': 0.7836, 'precision': 0.0824, 'recall': 0.2462, 'lr': 0.0009999999776482583, 'val_loss': 0.005058179, 'val_accuracy': 0.9991, 'val_auc': 0.7572, 'val_precision': 1.0, 'val_recall': 0.3071}\n"
     ]
    },
    {
     "data": {
      "application/vnd.jupyter.widget-view+json": {
       "model_id": "",
       "version_major": 2,
       "version_minor": 0
      },
      "text/plain": [
       "Epoch 9:   0%|          | 0/23 [00:00<?, ?it/s]"
      ]
     },
     "metadata": {},
     "output_type": "display_data"
    },
    {
     "name": "stdout",
     "output_type": "stream",
     "text": [
      "Epoch 9 : {'loss': 0.059, 'accuracy': 0.9962, 'auc': 0.792, 'precision': 0.0919, 'recall': 0.2485, 'lr': 0.0009999999776482583, 'val_loss': 0.0050459737, 'val_accuracy': 0.9991, 'val_auc': 0.7662, 'val_precision': 1.0, 'val_recall': 0.3076}\n"
     ]
    },
    {
     "data": {
      "application/vnd.jupyter.widget-view+json": {
       "model_id": "",
       "version_major": 2,
       "version_minor": 0
      },
      "text/plain": [
       "Epoch 10:   0%|          | 0/23 [00:00<?, ?it/s]"
      ]
     },
     "metadata": {},
     "output_type": "display_data"
    },
    {
     "name": "stdout",
     "output_type": "stream",
     "text": [
      "Epoch 10 : {'loss': 0.0478, 'accuracy': 0.9965, 'auc': 0.8005, 'precision': 0.1008, 'recall': 0.2492, 'lr': 0.0009999999776482583, 'val_loss': 0.005046681, 'val_accuracy': 0.9991, 'val_auc': 0.7649, 'val_precision': 1.0, 'val_recall': 0.308}\n"
     ]
    },
    {
     "data": {
      "application/vnd.jupyter.widget-view+json": {
       "model_id": "",
       "version_major": 2,
       "version_minor": 0
      },
      "text/plain": [
       "Epoch 11:   0%|          | 0/23 [00:00<?, ?it/s]"
      ]
     },
     "metadata": {},
     "output_type": "display_data"
    },
    {
     "name": "stdout",
     "output_type": "stream",
     "text": [
      "Epoch 11 : {'loss': 0.0477, 'accuracy': 0.9967, 'auc': 0.804, 'precision': 0.1102, 'recall': 0.2516, 'lr': 0.0009999999776482583, 'val_loss': 0.0050098663, 'val_accuracy': 0.9991, 'val_auc': 0.7708, 'val_precision': 1.0, 'val_recall': 0.3084}\n"
     ]
    },
    {
     "data": {
      "application/vnd.jupyter.widget-view+json": {
       "model_id": "",
       "version_major": 2,
       "version_minor": 0
      },
      "text/plain": [
       "Epoch 12:   0%|          | 0/23 [00:00<?, ?it/s]"
      ]
     },
     "metadata": {},
     "output_type": "display_data"
    },
    {
     "name": "stdout",
     "output_type": "stream",
     "text": [
      "Epoch 12 : {'loss': 0.0515, 'accuracy': 0.9969, 'auc': 0.8087, 'precision': 0.1194, 'recall': 0.2529, 'lr': 0.0009999999776482583, 'val_loss': 0.005017671, 'val_accuracy': 0.9991, 'val_auc': 0.7732, 'val_precision': 1.0, 'val_recall': 0.3087}\n"
     ]
    },
    {
     "data": {
      "application/vnd.jupyter.widget-view+json": {
       "model_id": "",
       "version_major": 2,
       "version_minor": 0
      },
      "text/plain": [
       "Epoch 13:   0%|          | 0/23 [00:00<?, ?it/s]"
      ]
     },
     "metadata": {},
     "output_type": "display_data"
    },
    {
     "name": "stdout",
     "output_type": "stream",
     "text": [
      "Epoch 13 : {'loss': 0.0473, 'accuracy': 0.9971, 'auc': 0.8137, 'precision': 0.1282, 'recall': 0.2544, 'lr': 0.0009999999776482583, 'val_loss': 0.005040356, 'val_accuracy': 0.9991, 'val_auc': 0.7786, 'val_precision': 1.0, 'val_recall': 0.3089}\n"
     ]
    },
    {
     "data": {
      "application/vnd.jupyter.widget-view+json": {
       "model_id": "",
       "version_major": 2,
       "version_minor": 0
      },
      "text/plain": [
       "Epoch 14:   0%|          | 0/23 [00:00<?, ?it/s]"
      ]
     },
     "metadata": {},
     "output_type": "display_data"
    },
    {
     "name": "stdout",
     "output_type": "stream",
     "text": [
      "Epoch 14 : {'loss': 0.0474, 'accuracy': 0.9972, 'auc': 0.8176, 'precision': 0.1363, 'recall': 0.2546, 'lr': 0.0009999999776482583, 'val_loss': 0.0050352863, 'val_accuracy': 0.9991, 'val_auc': 0.783, 'val_precision': 1.0, 'val_recall': 0.3091}\n"
     ]
    },
    {
     "data": {
      "application/vnd.jupyter.widget-view+json": {
       "model_id": "",
       "version_major": 2,
       "version_minor": 0
      },
      "text/plain": [
       "Epoch 15:   0%|          | 0/23 [00:00<?, ?it/s]"
      ]
     },
     "metadata": {},
     "output_type": "display_data"
    },
    {
     "name": "stdout",
     "output_type": "stream",
     "text": [
      "Epoch 15 : {'loss': 0.0473, 'accuracy': 0.9973, 'auc': 0.8195, 'precision': 0.1447, 'recall': 0.2553, 'lr': 0.0009999999776482583, 'val_loss': 0.005025751, 'val_accuracy': 0.9991, 'val_auc': 0.7869, 'val_precision': 1.0, 'val_recall': 0.3093}\n"
     ]
    },
    {
     "data": {
      "application/vnd.jupyter.widget-view+json": {
       "model_id": "",
       "version_major": 2,
       "version_minor": 0
      },
      "text/plain": [
       "Epoch 16:   0%|          | 0/23 [00:00<?, ?it/s]"
      ]
     },
     "metadata": {},
     "output_type": "display_data"
    },
    {
     "name": "stdout",
     "output_type": "stream",
     "text": [
      "Epoch 16 : {'loss': 0.0472, 'accuracy': 0.9974, 'auc': 0.8225, 'precision': 0.1534, 'recall': 0.2568, 'lr': 0.0009999999776482583, 'val_loss': 0.005026328, 'val_accuracy': 0.9991, 'val_auc': 0.7902, 'val_precision': 1.0, 'val_recall': 0.3095}\n"
     ]
    },
    {
     "data": {
      "application/vnd.jupyter.widget-view+json": {
       "model_id": "",
       "version_major": 2,
       "version_minor": 0
      },
      "text/plain": [
       "Epoch 17:   0%|          | 0/23 [00:00<?, ?it/s]"
      ]
     },
     "metadata": {},
     "output_type": "display_data"
    },
    {
     "name": "stdout",
     "output_type": "stream",
     "text": [
      "Epoch 17 : {'loss': 0.0472, 'accuracy': 0.9975, 'auc': 0.825, 'precision': 0.1611, 'recall': 0.2567, 'lr': 0.0009999999776482583, 'val_loss': 0.0050233346, 'val_accuracy': 0.9991, 'val_auc': 0.7928, 'val_precision': 1.0, 'val_recall': 0.3096}\n"
     ]
    },
    {
     "data": {
      "application/vnd.jupyter.widget-view+json": {
       "model_id": "",
       "version_major": 2,
       "version_minor": 0
      },
      "text/plain": [
       "Epoch 18:   0%|          | 0/23 [00:00<?, ?it/s]"
      ]
     },
     "metadata": {},
     "output_type": "display_data"
    },
    {
     "name": "stdout",
     "output_type": "stream",
     "text": [
      "Epoch 18 : {'loss': 0.0574, 'accuracy': 0.9976, 'auc': 0.8283, 'precision': 0.1694, 'recall': 0.2577, 'lr': 0.0009999999776482583, 'val_loss': 0.005020824, 'val_accuracy': 0.9991, 'val_auc': 0.7954, 'val_precision': 1.0, 'val_recall': 0.3098}\n"
     ]
    },
    {
     "data": {
      "application/vnd.jupyter.widget-view+json": {
       "model_id": "",
       "version_major": 2,
       "version_minor": 0
      },
      "text/plain": [
       "Epoch 19:   0%|          | 0/23 [00:00<?, ?it/s]"
      ]
     },
     "metadata": {},
     "output_type": "display_data"
    },
    {
     "name": "stdout",
     "output_type": "stream",
     "text": [
      "Epoch 19 : {'loss': 0.0476, 'accuracy': 0.9977, 'auc': 0.8314, 'precision': 0.1769, 'recall': 0.2578, 'lr': 0.0009999999776482583, 'val_loss': 0.005078946, 'val_accuracy': 0.9991, 'val_auc': 0.7934, 'val_precision': 1.0, 'val_recall': 0.3099}\n"
     ]
    },
    {
     "data": {
      "application/vnd.jupyter.widget-view+json": {
       "model_id": "",
       "version_major": 2,
       "version_minor": 0
      },
      "text/plain": [
       "Epoch 20:   0%|          | 0/23 [00:00<?, ?it/s]"
      ]
     },
     "metadata": {},
     "output_type": "display_data"
    },
    {
     "name": "stdout",
     "output_type": "stream",
     "text": [
      "Epoch 20 : {'loss': 0.0475, 'accuracy': 0.9978, 'auc': 0.832, 'precision': 0.1846, 'recall': 0.2585, 'lr': 0.0009999999776482583, 'val_loss': 0.005058725, 'val_accuracy': 0.9991, 'val_auc': 0.7938, 'val_precision': 1.0, 'val_recall': 0.31}\n"
     ]
    },
    {
     "data": {
      "application/vnd.jupyter.widget-view+json": {
       "model_id": "",
       "version_major": 2,
       "version_minor": 0
      },
      "text/plain": [
       "Epoch 21:   0%|          | 0/23 [00:00<?, ?it/s]"
      ]
     },
     "metadata": {},
     "output_type": "display_data"
    },
    {
     "name": "stdout",
     "output_type": "stream",
     "text": [
      "Epoch 21 : {'loss': 0.0474, 'accuracy': 0.9978, 'auc': 0.8331, 'precision': 0.1921, 'recall': 0.259, 'lr': 0.0009999999776482583, 'val_loss': 0.0050462103, 'val_accuracy': 0.9991, 'val_auc': 0.7952, 'val_precision': 1.0, 'val_recall': 0.3101}\n",
      "Reducing learning rate from 0.0009999999776482583 to 9.999999776482583e-05\n"
     ]
    },
    {
     "data": {
      "application/vnd.jupyter.widget-view+json": {
       "model_id": "",
       "version_major": 2,
       "version_minor": 0
      },
      "text/plain": [
       "Epoch 22:   0%|          | 0/23 [00:00<?, ?it/s]"
      ]
     },
     "metadata": {},
     "output_type": "display_data"
    },
    {
     "name": "stdout",
     "output_type": "stream",
     "text": [
      "Epoch 22 : {'loss': 0.0471, 'accuracy': 0.9979, 'auc': 0.8354, 'precision': 0.1994, 'recall': 0.2592, 'lr': 9.999999776482583e-05, 'val_loss': 0.005044147, 'val_accuracy': 0.9991, 'val_auc': 0.7956, 'val_precision': 1.0, 'val_recall': 0.3102}\n"
     ]
    },
    {
     "data": {
      "application/vnd.jupyter.widget-view+json": {
       "model_id": "",
       "version_major": 2,
       "version_minor": 0
      },
      "text/plain": [
       "Epoch 23:   0%|          | 0/23 [00:00<?, ?it/s]"
      ]
     },
     "metadata": {},
     "output_type": "display_data"
    },
    {
     "name": "stdout",
     "output_type": "stream",
     "text": [
      "Epoch 23 : {'loss': 0.0505, 'accuracy': 0.9979, 'auc': 0.8371, 'precision': 0.2066, 'recall': 0.2594, 'lr': 9.999999776482583e-05, 'val_loss': 0.005043137, 'val_accuracy': 0.9991, 'val_auc': 0.796, 'val_precision': 1.0, 'val_recall': 0.3102}\n"
     ]
    },
    {
     "data": {
      "application/vnd.jupyter.widget-view+json": {
       "model_id": "",
       "version_major": 2,
       "version_minor": 0
      },
      "text/plain": [
       "Epoch 24:   0%|          | 0/23 [00:00<?, ?it/s]"
      ]
     },
     "metadata": {},
     "output_type": "display_data"
    },
    {
     "name": "stdout",
     "output_type": "stream",
     "text": [
      "Epoch 24 : {'loss': 0.0474, 'accuracy': 0.998, 'auc': 0.8388, 'precision': 0.2139, 'recall': 0.2598, 'lr': 9.999999776482583e-05, 'val_loss': 0.0050417776, 'val_accuracy': 0.9991, 'val_auc': 0.7963, 'val_precision': 1.0, 'val_recall': 0.3103}\n"
     ]
    },
    {
     "data": {
      "application/vnd.jupyter.widget-view+json": {
       "model_id": "",
       "version_major": 2,
       "version_minor": 0
      },
      "text/plain": [
       "Epoch 25:   0%|          | 0/23 [00:00<?, ?it/s]"
      ]
     },
     "metadata": {},
     "output_type": "display_data"
    },
    {
     "name": "stdout",
     "output_type": "stream",
     "text": [
      "Epoch 25 : {'loss': 0.0472, 'accuracy': 0.998, 'auc': 0.8406, 'precision': 0.2207, 'recall': 0.2602, 'lr': 9.999999776482583e-05, 'val_loss': 0.005044804, 'val_accuracy': 0.9991, 'val_auc': 0.7967, 'val_precision': 1.0, 'val_recall': 0.3104}\n"
     ]
    },
    {
     "data": {
      "application/vnd.jupyter.widget-view+json": {
       "model_id": "",
       "version_major": 2,
       "version_minor": 0
      },
      "text/plain": [
       "Epoch 26:   0%|          | 0/23 [00:00<?, ?it/s]"
      ]
     },
     "metadata": {},
     "output_type": "display_data"
    },
    {
     "name": "stdout",
     "output_type": "stream",
     "text": [
      "Epoch 26 : {'loss': 0.0471, 'accuracy': 0.9981, 'auc': 0.8418, 'precision': 0.2276, 'recall': 0.2604, 'lr': 9.999999776482583e-05, 'val_loss': 0.0050416617, 'val_accuracy': 0.9991, 'val_auc': 0.797, 'val_precision': 1.0, 'val_recall': 0.3105}\n",
      "Reducing learning rate from 9.999999776482583e-05 to 9.999999776482583e-06\n"
     ]
    },
    {
     "data": {
      "application/vnd.jupyter.widget-view+json": {
       "model_id": "",
       "version_major": 2,
       "version_minor": 0
      },
      "text/plain": [
       "Epoch 27:   0%|          | 0/23 [00:00<?, ?it/s]"
      ]
     },
     "metadata": {},
     "output_type": "display_data"
    },
    {
     "name": "stdout",
     "output_type": "stream",
     "text": [
      "Epoch 27 : {'loss': 0.0472, 'accuracy': 0.9981, 'auc': 0.8433, 'precision': 0.2344, 'recall': 0.2608, 'lr': 9.999999776482583e-06, 'val_loss': 0.0050416277, 'val_accuracy': 0.9991, 'val_auc': 0.7973, 'val_precision': 1.0, 'val_recall': 0.3105}\n"
     ]
    },
    {
     "data": {
      "application/vnd.jupyter.widget-view+json": {
       "model_id": "",
       "version_major": 2,
       "version_minor": 0
      },
      "text/plain": [
       "Epoch 28:   0%|          | 0/23 [00:00<?, ?it/s]"
      ]
     },
     "metadata": {},
     "output_type": "display_data"
    },
    {
     "name": "stdout",
     "output_type": "stream",
     "text": [
      "Epoch 28 : {'loss': 0.0471, 'accuracy': 0.9981, 'auc': 0.8445, 'precision': 0.241, 'recall': 0.2609, 'lr': 9.999999776482583e-06, 'val_loss': 0.0050415527, 'val_accuracy': 0.9991, 'val_auc': 0.7975, 'val_precision': 1.0, 'val_recall': 0.3106}\n"
     ]
    },
    {
     "data": {
      "application/vnd.jupyter.widget-view+json": {
       "model_id": "",
       "version_major": 2,
       "version_minor": 0
      },
      "text/plain": [
       "Epoch 29:   0%|          | 0/23 [00:00<?, ?it/s]"
      ]
     },
     "metadata": {},
     "output_type": "display_data"
    },
    {
     "name": "stdout",
     "output_type": "stream",
     "text": [
      "Epoch 29 : {'loss': 0.0471, 'accuracy': 0.9982, 'auc': 0.8457, 'precision': 0.2474, 'recall': 0.2611, 'lr': 9.999999776482583e-06, 'val_loss': 0.0050414465, 'val_accuracy': 0.9991, 'val_auc': 0.7978, 'val_precision': 1.0, 'val_recall': 0.3106}\n"
     ]
    },
    {
     "data": {
      "application/vnd.jupyter.widget-view+json": {
       "model_id": "",
       "version_major": 2,
       "version_minor": 0
      },
      "text/plain": [
       "Epoch 30:   0%|          | 0/23 [00:00<?, ?it/s]"
      ]
     },
     "metadata": {},
     "output_type": "display_data"
    },
    {
     "name": "stdout",
     "output_type": "stream",
     "text": [
      "Epoch 30 : {'loss': 0.0474, 'accuracy': 0.9982, 'auc': 0.8466, 'precision': 0.2535, 'recall': 0.2609, 'lr': 9.999999776482583e-06, 'val_loss': 0.005041256, 'val_accuracy': 0.9991, 'val_auc': 0.798, 'val_precision': 1.0, 'val_recall': 0.3107}\n",
      "Reducing learning rate from 9.999999776482583e-06 to 9.999999776482584e-07\n"
     ]
    },
    {
     "data": {
      "application/vnd.jupyter.widget-view+json": {
       "model_id": "",
       "version_major": 2,
       "version_minor": 0
      },
      "text/plain": [
       "Epoch 31:   0%|          | 0/23 [00:00<?, ?it/s]"
      ]
     },
     "metadata": {},
     "output_type": "display_data"
    },
    {
     "name": "stdout",
     "output_type": "stream",
     "text": [
      "Epoch 31 : {'loss': 0.0471, 'accuracy': 0.9982, 'auc': 0.8478, 'precision': 0.2601, 'recall': 0.2615, 'lr': 9.999999776482584e-07, 'val_loss': 0.005041162, 'val_accuracy': 0.9991, 'val_auc': 0.7982, 'val_precision': 1.0, 'val_recall': 0.3107}\n"
     ]
    },
    {
     "data": {
      "application/vnd.jupyter.widget-view+json": {
       "model_id": "",
       "version_major": 2,
       "version_minor": 0
      },
      "text/plain": [
       "Epoch 32:   0%|          | 0/23 [00:00<?, ?it/s]"
      ]
     },
     "metadata": {},
     "output_type": "display_data"
    },
    {
     "name": "stdout",
     "output_type": "stream",
     "text": [
      "Epoch 32 : {'loss': 0.0474, 'accuracy': 0.9983, 'auc': 0.8488, 'precision': 0.2662, 'recall': 0.2617, 'lr': 9.999999776482584e-07, 'val_loss': 0.00504118, 'val_accuracy': 0.9991, 'val_auc': 0.7984, 'val_precision': 1.0, 'val_recall': 0.3108}\n"
     ]
    },
    {
     "data": {
      "application/vnd.jupyter.widget-view+json": {
       "model_id": "",
       "version_major": 2,
       "version_minor": 0
      },
      "text/plain": [
       "Epoch 33:   0%|          | 0/23 [00:00<?, ?it/s]"
      ]
     },
     "metadata": {},
     "output_type": "display_data"
    },
    {
     "name": "stdout",
     "output_type": "stream",
     "text": [
      "Epoch 33 : {'loss': 0.0471, 'accuracy': 0.9983, 'auc': 0.8497, 'precision': 0.2723, 'recall': 0.2618, 'lr': 9.999999776482584e-07, 'val_loss': 0.005041157, 'val_accuracy': 0.9991, 'val_auc': 0.7986, 'val_precision': 1.0, 'val_recall': 0.3108}\n"
     ]
    },
    {
     "data": {
      "application/vnd.jupyter.widget-view+json": {
       "model_id": "",
       "version_major": 2,
       "version_minor": 0
      },
      "text/plain": [
       "Epoch 34:   0%|          | 0/23 [00:00<?, ?it/s]"
      ]
     },
     "metadata": {},
     "output_type": "display_data"
    },
    {
     "name": "stdout",
     "output_type": "stream",
     "text": [
      "Epoch 34 : {'loss': 0.051, 'accuracy': 0.9983, 'auc': 0.8506, 'precision': 0.2783, 'recall': 0.262, 'lr': 9.999999776482584e-07, 'val_loss': 0.0050411527, 'val_accuracy': 0.9991, 'val_auc': 0.7988, 'val_precision': 1.0, 'val_recall': 0.3108}\n",
      "Reducing learning rate from 9.999999776482584e-07 to 9.999999776482584e-08\n"
     ]
    },
    {
     "data": {
      "application/vnd.jupyter.widget-view+json": {
       "model_id": "",
       "version_major": 2,
       "version_minor": 0
      },
      "text/plain": [
       "Epoch 35:   0%|          | 0/23 [00:00<?, ?it/s]"
      ]
     },
     "metadata": {},
     "output_type": "display_data"
    },
    {
     "name": "stdout",
     "output_type": "stream",
     "text": [
      "Epoch 35 : {'loss': 0.047, 'accuracy': 0.9983, 'auc': 0.8513, 'precision': 0.2842, 'recall': 0.2621, 'lr': 9.999999776482584e-08, 'val_loss': 0.0050411453, 'val_accuracy': 0.9991, 'val_auc': 0.799, 'val_precision': 1.0, 'val_recall': 0.3109}\n"
     ]
    },
    {
     "data": {
      "application/vnd.jupyter.widget-view+json": {
       "model_id": "",
       "version_major": 2,
       "version_minor": 0
      },
      "text/plain": [
       "Epoch 36:   0%|          | 0/23 [00:00<?, ?it/s]"
      ]
     },
     "metadata": {},
     "output_type": "display_data"
    },
    {
     "name": "stdout",
     "output_type": "stream",
     "text": [
      "Epoch 36 : {'loss': 0.047, 'accuracy': 0.9984, 'auc': 0.8523, 'precision': 0.29, 'recall': 0.2624, 'lr': 9.999999776482584e-08, 'val_loss': 0.005041144, 'val_accuracy': 0.9991, 'val_auc': 0.7991, 'val_precision': 1.0, 'val_recall': 0.3109}\n"
     ]
    },
    {
     "data": {
      "application/vnd.jupyter.widget-view+json": {
       "model_id": "",
       "version_major": 2,
       "version_minor": 0
      },
      "text/plain": [
       "Epoch 37:   0%|          | 0/23 [00:00<?, ?it/s]"
      ]
     },
     "metadata": {},
     "output_type": "display_data"
    },
    {
     "name": "stdout",
     "output_type": "stream",
     "text": [
      "Epoch 37 : {'loss': 0.047, 'accuracy': 0.9984, 'auc': 0.853, 'precision': 0.2959, 'recall': 0.2627, 'lr': 9.999999776482584e-08, 'val_loss': 0.0050411453, 'val_accuracy': 0.9991, 'val_auc': 0.7993, 'val_precision': 1.0, 'val_recall': 0.3109}\n"
     ]
    },
    {
     "data": {
      "application/vnd.jupyter.widget-view+json": {
       "model_id": "",
       "version_major": 2,
       "version_minor": 0
      },
      "text/plain": [
       "Epoch 38:   0%|          | 0/23 [00:00<?, ?it/s]"
      ]
     },
     "metadata": {},
     "output_type": "display_data"
    },
    {
     "name": "stdout",
     "output_type": "stream",
     "text": [
      "Epoch 38 : {'loss': 0.0471, 'accuracy': 0.9984, 'auc': 0.8535, 'precision': 0.3012, 'recall': 0.2626, 'lr': 9.999999776482584e-08, 'val_loss': 0.0050411425, 'val_accuracy': 0.9991, 'val_auc': 0.7994, 'val_precision': 1.0, 'val_recall': 0.311}\n"
     ]
    },
    {
     "data": {
      "application/vnd.jupyter.widget-view+json": {
       "model_id": "",
       "version_major": 2,
       "version_minor": 0
      },
      "text/plain": [
       "Epoch 39:   0%|          | 0/23 [00:00<?, ?it/s]"
      ]
     },
     "metadata": {},
     "output_type": "display_data"
    },
    {
     "name": "stdout",
     "output_type": "stream",
     "text": [
      "Epoch 39 : {'loss': 0.0472, 'accuracy': 0.9984, 'auc': 0.8542, 'precision': 0.3068, 'recall': 0.2627, 'lr': 9.999999776482584e-08, 'val_loss': 0.005041142, 'val_accuracy': 0.9991, 'val_auc': 0.7996, 'val_precision': 1.0, 'val_recall': 0.311}\n"
     ]
    },
    {
     "data": {
      "application/vnd.jupyter.widget-view+json": {
       "model_id": "",
       "version_major": 2,
       "version_minor": 0
      },
      "text/plain": [
       "Epoch 40:   0%|          | 0/23 [00:00<?, ?it/s]"
      ]
     },
     "metadata": {},
     "output_type": "display_data"
    },
    {
     "name": "stdout",
     "output_type": "stream",
     "text": [
      "Epoch 40 : {'loss': 0.0624, 'accuracy': 0.9984, 'auc': 0.8548, 'precision': 0.312, 'recall': 0.2627, 'lr': 9.999999776482584e-08, 'val_loss': 0.0050411415, 'val_accuracy': 0.9991, 'val_auc': 0.7997, 'val_precision': 1.0, 'val_recall': 0.311}\n"
     ]
    },
    {
     "data": {
      "application/vnd.jupyter.widget-view+json": {
       "model_id": "",
       "version_major": 2,
       "version_minor": 0
      },
      "text/plain": [
       "Epoch 41:   0%|          | 0/23 [00:00<?, ?it/s]"
      ]
     },
     "metadata": {},
     "output_type": "display_data"
    },
    {
     "name": "stdout",
     "output_type": "stream",
     "text": [
      "Epoch 41 : {'loss': 0.0473, 'accuracy': 0.9984, 'auc': 0.8554, 'precision': 0.3174, 'recall': 0.2628, 'lr': 9.999999776482584e-08, 'val_loss': 0.005041129, 'val_accuracy': 0.9991, 'val_auc': 0.7998, 'val_precision': 1.0, 'val_recall': 0.311}\n"
     ]
    },
    {
     "data": {
      "application/vnd.jupyter.widget-view+json": {
       "model_id": "",
       "version_major": 2,
       "version_minor": 0
      },
      "text/plain": [
       "Epoch 42:   0%|          | 0/23 [00:00<?, ?it/s]"
      ]
     },
     "metadata": {},
     "output_type": "display_data"
    },
    {
     "name": "stdout",
     "output_type": "stream",
     "text": [
      "Epoch 42 : {'loss': 0.0576, 'accuracy': 0.9985, 'auc': 0.856, 'precision': 0.3227, 'recall': 0.2629, 'lr': 9.999999776482584e-08, 'val_loss': 0.005041124, 'val_accuracy': 0.9991, 'val_auc': 0.7999, 'val_precision': 1.0, 'val_recall': 0.3111}\n"
     ]
    },
    {
     "data": {
      "application/vnd.jupyter.widget-view+json": {
       "model_id": "",
       "version_major": 2,
       "version_minor": 0
      },
      "text/plain": [
       "Epoch 43:   0%|          | 0/23 [00:00<?, ?it/s]"
      ]
     },
     "metadata": {},
     "output_type": "display_data"
    },
    {
     "name": "stdout",
     "output_type": "stream",
     "text": [
      "Epoch 43 : {'loss': 0.0471, 'accuracy': 0.9985, 'auc': 0.8566, 'precision': 0.328, 'recall': 0.2632, 'lr': 9.999999776482584e-08, 'val_loss': 0.0050411182, 'val_accuracy': 0.9991, 'val_auc': 0.8001, 'val_precision': 1.0, 'val_recall': 0.3111}\n"
     ]
    },
    {
     "data": {
      "application/vnd.jupyter.widget-view+json": {
       "model_id": "",
       "version_major": 2,
       "version_minor": 0
      },
      "text/plain": [
       "Epoch 44:   0%|          | 0/23 [00:00<?, ?it/s]"
      ]
     },
     "metadata": {},
     "output_type": "display_data"
    },
    {
     "name": "stdout",
     "output_type": "stream",
     "text": [
      "Epoch 44 : {'loss': 0.0519, 'accuracy': 0.9985, 'auc': 0.8571, 'precision': 0.3331, 'recall': 0.2633, 'lr': 9.999999776482584e-08, 'val_loss': 0.0050411136, 'val_accuracy': 0.9991, 'val_auc': 0.8002, 'val_precision': 1.0, 'val_recall': 0.3111}\n"
     ]
    },
    {
     "data": {
      "application/vnd.jupyter.widget-view+json": {
       "model_id": "",
       "version_major": 2,
       "version_minor": 0
      },
      "text/plain": [
       "Epoch 45:   0%|          | 0/23 [00:00<?, ?it/s]"
      ]
     },
     "metadata": {},
     "output_type": "display_data"
    },
    {
     "name": "stdout",
     "output_type": "stream",
     "text": [
      "Epoch 45 : {'loss': 0.0476, 'accuracy': 0.9985, 'auc': 0.8576, 'precision': 0.3381, 'recall': 0.2634, 'lr': 9.999999776482584e-08, 'val_loss': 0.005041107, 'val_accuracy': 0.9991, 'val_auc': 0.8003, 'val_precision': 1.0, 'val_recall': 0.3111}\n",
      "***************************************************************************\n"
     ]
    }
   ],
   "source": [
    "model_solo_pool = GCN_ACPR(g, trs_features, ctc_features, d_model, dff, n_layers, n_classes)\n",
    "# model = GAT(g, d_model, n_layers, n_classes, num_heads)\n",
    "\n",
    "model_solo_pool.soft_compile(\n",
    "#     loss=tf.keras.losses.SparseCategoricalCrossentropy(from_logits=True, reduction='none'),\n",
    "    loss=tf.keras.losses.BinaryCrossentropy(from_logits=False, reduction='none'),\n",
    "    optimizer=tf.keras.optimizers.Adam(0.01, 1e-8),\n",
    "#     metrics={'accuracy':tf.keras.metrics.SparseCategoricalAccuracy()}\n",
    "    metrics={'accuracy':tf.keras.metrics.BinaryAccuracy(),\n",
    "             'auc' : tf.keras.metrics.AUC(),\n",
    "             'precision' : tf.keras.metrics.Precision(),\n",
    "             'recall' : tf.keras.metrics.Recall(),\n",
    "            },\n",
    "    val_metrics={'accuracy':tf.keras.metrics.BinaryAccuracy(),\n",
    "             'auc' : tf.keras.metrics.AUC(),\n",
    "             'precision' : tf.keras.metrics.Precision(),\n",
    "             'recall' : tf.keras.metrics.Recall(),\n",
    "            }\n",
    ")\n",
    "\n",
    "graph_history_solo_pool = model_solo_pool.train(epochs=epochs,batch_size=batch_size, reduce_lr=reduce_lr, early_stopping=early_stopping)"
   ]
  },
  {
   "cell_type": "code",
   "execution_count": null,
   "id": "46b68ef8",
   "metadata": {
    "scrolled": false
   },
   "outputs": [],
   "source": [
    "from sklearn.metrics import precision_recall_curve, roc_curve, roc_auc_score\n",
    "import matplotlib.pyplot as plt\n",
    "\n",
    "model = model_solo_pool\n",
    "\n",
    "train_indices, val_indices, test_indices=model_solo_solo.split_indices()\n",
    "labels=model.g.ndata['label'].numpy()\n",
    "val_labels=labels[test_indices]\n",
    "val_logits=model.call(np.arange(len(val_indices))).numpy()\n",
    "\n",
    "precision, recall, thresholds = precision_recall_curve(val_labels, val_logits)\n",
    "fpr, tpr, threshold = roc_curve(val_labels, val_logits)\n",
    "roc_auc = metrics.auc(fpr, tpr)\n",
    "\n",
    "f1_score = 2*precision*recall/(precision + recall)\n",
    "\n",
    "ind=np.argmax(f1_score)\n",
    "\n",
    "print({\n",
    "    'roc_auc_score':roc_auc_score(val_labels, val_logits),\n",
    "    'precision':precsion[ind],\n",
    "    'recall':recall[ind],\n",
    "    'f1_score':f1_score[ind],\n",
    "})\n",
    "\n",
    "index = np.arange(len(precision))\n",
    "t = 0.9*recall.max()\n",
    "min_index = index[recall >= t]\n",
    "print({\n",
    "    'max_recall':recall.max(),\n",
    "    '90 max recall':t,\n",
    "    'precision_at_recall':precision[min_index],\n",
    "    'f1_at_recall':f1_score[min_index]\n",
    "})\n",
    "\n",
    "plt.title('Receiver Operating Characteristic')\n",
    "plt.plot(fpr, tpr, 'b', label = 'AUC = %0.2f' % roc_auc)\n",
    "plt.legend(loc = 'lower right')\n",
    "plt.plot([0, 1], [0, 1],'r--')\n",
    "plt.xlim([0, 1])\n",
    "plt.ylim([0, 1])\n",
    "plt.ylabel('True Positive Rate')\n",
    "plt.xlabel('False Positive Rate')\n",
    "plt.show()"
   ]
  },
  {
   "cell_type": "code",
   "execution_count": 16,
   "id": "9116eb27",
   "metadata": {},
   "outputs": [
    {
     "data": {
      "text/plain": [
       "<matplotlib.legend.Legend at 0x216825ee1f0>"
      ]
     },
     "execution_count": 16,
     "metadata": {},
     "output_type": "execute_result"
    },
    {
     "data": {
      "image/png": "[encoded data removed]",
      "text/plain": [
       "<Figure size 432x288 with 1 Axes>"
      ]
     },
     "metadata": {
      "needs_background": "light"
     },
     "output_type": "display_data"
    }
   ],
   "source": [
    "plt.plot(graph_history_solo_pool['val_auc'])\n",
    "plt.plot(graph_history_solo_pool['val_precision'])\n",
    "plt.plot(graph_history_solo_pool['val_recall'])\n",
    "plt.legend(['val_auc', 'val_precision', 'val_recall'])"
   ]
  },
  {
   "cell_type": "markdown",
   "id": "c7b37bf1",
   "metadata": {},
   "source": [
    "## Pooled Solo"
   ]
  },
  {
   "cell_type": "code",
   "execution_count": 17,
   "id": "9e90cc02",
   "metadata": {},
   "outputs": [
    {
     "name": "stderr",
     "output_type": "stream",
     "text": [
      "C:\\Users\\GABRIE~1.OLY\\AppData\\Local\\Temp/ipykernel_17372/2726447313.py:16: SettingWithCopyWarning: \n",
      "A value is trying to be set on a copy of a slice from a DataFrame.\n",
      "Try using .loc[row_indexer,col_indexer] = value instead\n",
      "\n",
      "See the caveats in the documentation: https://pandas.pydata.org/pandas-docs/stable/user_guide/indexing.html#returning-a-view-versus-a-copy\n",
      "  trs[trs['right_bank_id']==False]['sample_weights']=0\n"
     ]
    }
   ],
   "source": [
    "g, trs_features, ctc_features = to_dgl_graph(pooled_trs.copy(), pooled_ctc.copy(), label_field='is_alert_solo')"
   ]
  },
  {
   "cell_type": "code",
   "execution_count": 18,
   "id": "61bda9d6",
   "metadata": {},
   "outputs": [
    {
     "data": {
      "text/plain": [
       "(966718, 126641)"
      ]
     },
     "execution_count": 18,
     "metadata": {},
     "output_type": "execute_result"
    }
   ],
   "source": [
    "g.ndata['train_mask'].numpy().sum(), g.ndata['val_mask'].numpy().sum()"
   ]
  },
  {
   "cell_type": "code",
   "execution_count": 19,
   "id": "274c4036",
   "metadata": {},
   "outputs": [
    {
     "data": {
      "application/vnd.jupyter.widget-view+json": {
       "model_id": "e5ddd8c1cca343a781878ce32a67854e",
       "version_major": 2,
       "version_minor": 0
      },
      "text/plain": [
       "  0%|          | 0/400 [00:00<?, ?it/s]"
      ]
     },
     "metadata": {},
     "output_type": "display_data"
    },
    {
     "data": {
      "application/vnd.jupyter.widget-view+json": {
       "model_id": "",
       "version_major": 2,
       "version_minor": 0
      },
      "text/plain": [
       "Epoch 0:   0%|          | 0/30 [00:00<?, ?it/s]"
      ]
     },
     "metadata": {},
     "output_type": "display_data"
    },
    {
     "name": "stdout",
     "output_type": "stream",
     "text": [
      "Epoch 0 : {'loss': 0.9977, 'accuracy': 0.9885, 'auc': 0.5097, 'precision': 0.0082, 'recall': 0.0048, 'lr': 0.01, 'val_loss': 0.037506364, 'val_accuracy': 0.9937, 'val_auc': 0.5246, 'val_precision': 0.7333, 'val_recall': 0.0137}\n"
     ]
    },
    {
     "data": {
      "application/vnd.jupyter.widget-view+json": {
       "model_id": "",
       "version_major": 2,
       "version_minor": 0
      },
      "text/plain": [
       "Epoch 1:   0%|          | 0/30 [00:00<?, ?it/s]"
      ]
     },
     "metadata": {},
     "output_type": "display_data"
    },
    {
     "name": "stdout",
     "output_type": "stream",
     "text": [
      "Epoch 1 : {'loss': 0.3847, 'accuracy': 0.9926, 'auc': 0.5254, 'precision': 0.0616, 'recall': 0.0087, 'lr': 0.01, 'val_loss': 0.037487682, 'val_accuracy': 0.9937, 'val_auc': 0.5283, 'val_precision': 0.5625, 'val_recall': 0.0224}\n"
     ]
    },
    {
     "data": {
      "application/vnd.jupyter.widget-view+json": {
       "model_id": "",
       "version_major": 2,
       "version_minor": 0
      },
      "text/plain": [
       "Epoch 2:   0%|          | 0/30 [00:00<?, ?it/s]"
      ]
     },
     "metadata": {},
     "output_type": "display_data"
    },
    {
     "name": "stdout",
     "output_type": "stream",
     "text": [
      "Epoch 2 : {'loss': 0.3834, 'accuracy': 0.993, 'auc': 0.5308, 'precision': 0.1498, 'recall': 0.0159, 'lr': 0.01, 'val_loss': 0.037510995, 'val_accuracy': 0.9937, 'val_auc': 0.5345, 'val_precision': 0.5398, 'val_recall': 0.0254}\n"
     ]
    },
    {
     "data": {
      "application/vnd.jupyter.widget-view+json": {
       "model_id": "",
       "version_major": 2,
       "version_minor": 0
      },
      "text/plain": [
       "Epoch 3:   0%|          | 0/30 [00:00<?, ?it/s]"
      ]
     },
     "metadata": {},
     "output_type": "display_data"
    },
    {
     "name": "stdout",
     "output_type": "stream",
     "text": [
      "Epoch 3 : {'loss': 0.3847, 'accuracy': 0.9931, 'auc': 0.5345, 'precision': 0.2128, 'recall': 0.0195, 'lr': 0.01, 'val_loss': 0.037573714, 'val_accuracy': 0.9937, 'val_auc': 0.5348, 'val_precision': 0.5309, 'val_recall': 0.0268}\n"
     ]
    },
    {
     "data": {
      "application/vnd.jupyter.widget-view+json": {
       "model_id": "",
       "version_major": 2,
       "version_minor": 0
      },
      "text/plain": [
       "Epoch 4:   0%|          | 0/30 [00:00<?, ?it/s]"
      ]
     },
     "metadata": {},
     "output_type": "display_data"
    },
    {
     "name": "stdout",
     "output_type": "stream",
     "text": [
      "Epoch 4 : {'loss': 0.3845, 'accuracy': 0.9932, 'auc': 0.537, 'precision': 0.2574, 'recall': 0.0214, 'lr': 0.01, 'val_loss': 0.037539214, 'val_accuracy': 0.9937, 'val_auc': 0.5353, 'val_precision': 0.5286, 'val_recall': 0.0277}\n"
     ]
    },
    {
     "data": {
      "application/vnd.jupyter.widget-view+json": {
       "model_id": "",
       "version_major": 2,
       "version_minor": 0
      },
      "text/plain": [
       "Epoch 5:   0%|          | 0/30 [00:00<?, ?it/s]"
      ]
     },
     "metadata": {},
     "output_type": "display_data"
    },
    {
     "name": "stdout",
     "output_type": "stream",
     "text": [
      "Epoch 5 : {'loss': 0.3842, 'accuracy': 0.9932, 'auc': 0.5386, 'precision': 0.2927, 'recall': 0.0228, 'lr': 0.01, 'val_loss': 0.037547346, 'val_accuracy': 0.9937, 'val_auc': 0.5353, 'val_precision': 0.5398, 'val_recall': 0.0254}\n",
      "Reducing learning rate from 0.009999999776482582 to 0.0009999999776482583\n"
     ]
    },
    {
     "data": {
      "application/vnd.jupyter.widget-view+json": {
       "model_id": "",
       "version_major": 2,
       "version_minor": 0
      },
      "text/plain": [
       "Epoch 6:   0%|          | 0/30 [00:00<?, ?it/s]"
      ]
     },
     "metadata": {},
     "output_type": "display_data"
    },
    {
     "name": "stdout",
     "output_type": "stream",
     "text": [
      "Epoch 6 : {'loss': 0.3834, 'accuracy': 0.9933, 'auc': 0.5399, 'precision': 0.3081, 'recall': 0.022, 'lr': 0.0009999999776482583, 'val_loss': 0.037505914, 'val_accuracy': 0.9937, 'val_auc': 0.5358, 'val_precision': 0.5603, 'val_recall': 0.0257}\n"
     ]
    },
    {
     "data": {
      "application/vnd.jupyter.widget-view+json": {
       "model_id": "",
       "version_major": 2,
       "version_minor": 0
      },
      "text/plain": [
       "Epoch 7:   0%|          | 0/30 [00:00<?, ?it/s]"
      ]
     },
     "metadata": {},
     "output_type": "display_data"
    },
    {
     "name": "stdout",
     "output_type": "stream",
     "text": [
      "Epoch 7 : {'loss': 0.3837, 'accuracy': 0.9933, 'auc': 0.5407, 'precision': 0.3258, 'recall': 0.0216, 'lr': 0.0009999999776482583, 'val_loss': 0.037514303, 'val_accuracy': 0.9937, 'val_auc': 0.5355, 'val_precision': 0.5578, 'val_recall': 0.0263}\n"
     ]
    },
    {
     "data": {
      "application/vnd.jupyter.widget-view+json": {
       "model_id": "",
       "version_major": 2,
       "version_minor": 0
      },
      "text/plain": [
       "Epoch 8:   0%|          | 0/30 [00:00<?, ?it/s]"
      ]
     },
     "metadata": {},
     "output_type": "display_data"
    },
    {
     "name": "stdout",
     "output_type": "stream",
     "text": [
      "Epoch 8 : {'loss': 0.3844, 'accuracy': 0.9933, 'auc': 0.5417, 'precision': 0.3455, 'recall': 0.0222, 'lr': 0.0009999999776482583, 'val_loss': 0.03749392, 'val_accuracy': 0.9937, 'val_auc': 0.5357, 'val_precision': 0.5543, 'val_recall': 0.0269}\n"
     ]
    },
    {
     "data": {
      "application/vnd.jupyter.widget-view+json": {
       "model_id": "",
       "version_major": 2,
       "version_minor": 0
      },
      "text/plain": [
       "Epoch 9:   0%|          | 0/30 [00:00<?, ?it/s]"
      ]
     },
     "metadata": {},
     "output_type": "display_data"
    },
    {
     "name": "stdout",
     "output_type": "stream",
     "text": [
      "Epoch 9 : {'loss': 0.3828, 'accuracy': 0.9934, 'auc': 0.5422, 'precision': 0.3612, 'recall': 0.0227, 'lr': 0.0009999999776482583, 'val_loss': 0.037500445, 'val_accuracy': 0.9937, 'val_auc': 0.5353, 'val_precision': 0.5538, 'val_recall': 0.0269}\n",
      "Reducing learning rate from 0.0009999999776482583 to 9.999999776482583e-05\n"
     ]
    },
    {
     "data": {
      "application/vnd.jupyter.widget-view+json": {
       "model_id": "",
       "version_major": 2,
       "version_minor": 0
      },
      "text/plain": [
       "Epoch 10:   0%|          | 0/30 [00:00<?, ?it/s]"
      ]
     },
     "metadata": {},
     "output_type": "display_data"
    },
    {
     "name": "stdout",
     "output_type": "stream",
     "text": [
      "Epoch 10 : {'loss': 0.3839, 'accuracy': 0.9934, 'auc': 0.5425, 'precision': 0.3756, 'recall': 0.0231, 'lr': 9.999999776482583e-05, 'val_loss': 0.03749094, 'val_accuracy': 0.9937, 'val_auc': 0.5354, 'val_precision': 0.5561, 'val_recall': 0.027}\n"
     ]
    },
    {
     "data": {
      "application/vnd.jupyter.widget-view+json": {
       "model_id": "",
       "version_major": 2,
       "version_minor": 0
      },
      "text/plain": [
       "Epoch 11:   0%|          | 0/30 [00:00<?, ?it/s]"
      ]
     },
     "metadata": {},
     "output_type": "display_data"
    },
    {
     "name": "stdout",
     "output_type": "stream",
     "text": [
      "Epoch 11 : {'loss': 0.3844, 'accuracy': 0.9934, 'auc': 0.5428, 'precision': 0.3879, 'recall': 0.0233, 'lr': 9.999999776482583e-05, 'val_loss': 0.03749146, 'val_accuracy': 0.9937, 'val_auc': 0.5354, 'val_precision': 0.5567, 'val_recall': 0.027}\n",
      "***************************************************************************\n"
     ]
    }
   ],
   "source": [
    "model_pool_solo = GCN_ACPR(g, trs_features, ctc_features, d_model, dff, n_layers, n_classes)\n",
    "# model = GAT(g, d_model, n_layers, n_classes, num_heads)\n",
    "\n",
    "model_pool_solo.soft_compile(\n",
    "#     loss=tf.keras.losses.SparseCategoricalCrossentropy(from_logits=True, reduction='none'),\n",
    "    loss=tf.keras.losses.BinaryCrossentropy(from_logits=False, reduction='none'),\n",
    "    optimizer=tf.keras.optimizers.Adam(0.01, 1e-8),\n",
    "#     metrics={'accuracy':tf.keras.metrics.SparseCategoricalAccuracy()}\n",
    "    metrics={'accuracy':tf.keras.metrics.BinaryAccuracy(),\n",
    "             'auc' : tf.keras.metrics.AUC(),\n",
    "             'precision' : tf.keras.metrics.Precision(),\n",
    "             'recall' : tf.keras.metrics.Recall(),\n",
    "            },\n",
    "    val_metrics={'accuracy':tf.keras.metrics.BinaryAccuracy(),\n",
    "             'auc' : tf.keras.metrics.AUC(),\n",
    "             'precision' : tf.keras.metrics.Precision(),\n",
    "             'recall' : tf.keras.metrics.Recall(),\n",
    "            }\n",
    ")\n",
    "\n",
    "graph_history_pool_solo = model_pool_solo.train(epochs=epochs,batch_size=batch_size, reduce_lr=reduce_lr, early_stopping=early_stopping)"
   ]
  },
  {
   "cell_type": "code",
   "execution_count": null,
   "id": "0805648c",
   "metadata": {},
   "outputs": [],
   "source": [
    "from sklearn.metrics import precision_recall_curve, roc_curve, roc_auc_score\n",
    "import matplotlib.pyplot as plt\n",
    "\n",
    "model = model_pool_solo\n",
    "\n",
    "train_indices, val_indices, test_indices=model_solo_solo.split_indices()\n",
    "labels=model.g.ndata['label'].numpy()\n",
    "val_labels=labels[test_indices]\n",
    "val_logits=model.call(np.arange(len(val_indices))).numpy()\n",
    "\n",
    "precision, recall, thresholds = precision_recall_curve(val_labels, val_logits)\n",
    "fpr, tpr, threshold = roc_curve(val_labels, val_logits)\n",
    "roc_auc = metrics.auc(fpr, tpr)\n",
    "\n",
    "f1_score = 2*precision*recall/(precision + recall)\n",
    "\n",
    "ind=np.argmax(f1_score)\n",
    "\n",
    "print({\n",
    "    'roc_auc_score':roc_auc_score(val_labels, val_logits),\n",
    "    'precision':precsion[ind],\n",
    "    'recall':recall[ind],\n",
    "    'f1_score':f1_score[ind],\n",
    "})\n",
    "\n",
    "index = np.arange(len(precision))\n",
    "t = 0.9*recall.max()\n",
    "min_index = index[recall >= t]\n",
    "print({\n",
    "    'max_recall':recall.max(),\n",
    "    '90 max recall':t,\n",
    "    'precision_at_recall':precision[min_index],\n",
    "    'f1_at_recall':f1_score[min_index]\n",
    "})\n",
    "\n",
    "plt.title('Receiver Operating Characteristic')\n",
    "plt.plot(fpr, tpr, 'b', label = 'AUC = %0.2f' % roc_auc)\n",
    "plt.legend(loc = 'lower right')\n",
    "plt.plot([0, 1], [0, 1],'r--')\n",
    "plt.xlim([0, 1])\n",
    "plt.ylim([0, 1])\n",
    "plt.ylabel('True Positive Rate')\n",
    "plt.xlabel('False Positive Rate')\n",
    "plt.show()"
   ]
  },
  {
   "cell_type": "code",
   "execution_count": 20,
   "id": "73b42f01",
   "metadata": {},
   "outputs": [
    {
     "data": {
      "text/plain": [
       "<tf.Tensor: shape=(), dtype=float32, numpy=0.53612256>"
      ]
     },
     "execution_count": 20,
     "metadata": {},
     "output_type": "execute_result"
    }
   ],
   "source": [
    "train_indices, val_indices, test_indices=model_pool_solo.split_indices()\n",
    "labels=model_pool_solo.g.ndata['label'].numpy()\n",
    "\n",
    "logits=model_pool_solo.call(np.arange(len(labels))).numpy()\n",
    "val_labels=labels[test_indices]\n",
    "\n",
    "# plt.hist(val_logits)\n",
    "tf.keras.metrics.AUC()(val_labels, logits[test_indices])"
   ]
  },
  {
   "cell_type": "code",
   "execution_count": 21,
   "id": "73261f5f",
   "metadata": {},
   "outputs": [
    {
     "data": {
      "text/plain": [
       "<matplotlib.legend.Legend at 0x216835f2250>"
      ]
     },
     "execution_count": 21,
     "metadata": {},
     "output_type": "execute_result"
    },
    {
     "data": {
      "image/png": "[encoded data removed]",
      "text/plain": [
       "<Figure size 432x288 with 1 Axes>"
      ]
     },
     "metadata": {
      "needs_background": "light"
     },
     "output_type": "display_data"
    }
   ],
   "source": [
    "plt.plot(graph_history_pool_solo['val_auc'])\n",
    "plt.plot(graph_history_pool_solo['val_precision'])\n",
    "plt.plot(graph_history_pool_solo['val_recall'])\n",
    "plt.legend(['val_auc', 'val_precision', 'val_recall'])"
   ]
  },
  {
   "cell_type": "markdown",
   "id": "2e323bb1",
   "metadata": {},
   "source": [
    "## Pooled Pooled"
   ]
  },
  {
   "cell_type": "code",
   "execution_count": 22,
   "id": "b8fe8e2e",
   "metadata": {},
   "outputs": [
    {
     "name": "stderr",
     "output_type": "stream",
     "text": [
      "C:\\Users\\GABRIE~1.OLY\\AppData\\Local\\Temp/ipykernel_17372/2726447313.py:16: SettingWithCopyWarning: \n",
      "A value is trying to be set on a copy of a slice from a DataFrame.\n",
      "Try using .loc[row_indexer,col_indexer] = value instead\n",
      "\n",
      "See the caveats in the documentation: https://pandas.pydata.org/pandas-docs/stable/user_guide/indexing.html#returning-a-view-versus-a-copy\n",
      "  trs[trs['right_bank_id']==False]['sample_weights']=0\n"
     ]
    }
   ],
   "source": [
    "g, trs_features, ctc_features = to_dgl_graph(pooled_trs.copy(), pooled_ctc.copy(), label_field='is_alert_pooled')"
   ]
  },
  {
   "cell_type": "code",
   "execution_count": 23,
   "id": "aae8293d",
   "metadata": {},
   "outputs": [
    {
     "data": {
      "text/plain": [
       "(966718, 126641)"
      ]
     },
     "execution_count": 23,
     "metadata": {},
     "output_type": "execute_result"
    }
   ],
   "source": [
    "g.ndata['train_mask'].numpy().sum(), g.ndata['val_mask'].numpy().sum()"
   ]
  },
  {
   "cell_type": "code",
   "execution_count": 24,
   "id": "b854f642",
   "metadata": {},
   "outputs": [
    {
     "data": {
      "application/vnd.jupyter.widget-view+json": {
       "model_id": "a80c86b573874f1fa86ccab8c5736fa0",
       "version_major": 2,
       "version_minor": 0
      },
      "text/plain": [
       "  0%|          | 0/400 [00:00<?, ?it/s]"
      ]
     },
     "metadata": {},
     "output_type": "display_data"
    },
    {
     "data": {
      "application/vnd.jupyter.widget-view+json": {
       "model_id": "",
       "version_major": 2,
       "version_minor": 0
      },
      "text/plain": [
       "Epoch 0:   0%|          | 0/30 [00:00<?, ?it/s]"
      ]
     },
     "metadata": {},
     "output_type": "display_data"
    },
    {
     "name": "stdout",
     "output_type": "stream",
     "text": [
      "Epoch 0 : {'loss': 1.1581, 'accuracy': 0.8699, 'auc': 0.615, 'precision': 0.003, 'recall': 0.2007, 'lr': 0.01, 'val_loss': 0.0071842372, 'val_accuracy': 0.9991, 'val_auc': 0.7035, 'val_precision': 1.0, 'val_recall': 0.3121}\n"
     ]
    },
    {
     "data": {
      "application/vnd.jupyter.widget-view+json": {
       "model_id": "",
       "version_major": 2,
       "version_minor": 0
      },
      "text/plain": [
       "Epoch 1:   0%|          | 0/30 [00:00<?, ?it/s]"
      ]
     },
     "metadata": {},
     "output_type": "display_data"
    },
    {
     "name": "stdout",
     "output_type": "stream",
     "text": [
      "Epoch 1 : {'loss': 0.0643, 'accuracy': 0.9768, 'auc': 0.7024, 'precision': 0.0122, 'recall': 0.2091, 'lr': 0.01, 'val_loss': 0.0059527913, 'val_accuracy': 0.9991, 'val_auc': 0.7035, 'val_precision': 1.0, 'val_recall': 0.3121}\n"
     ]
    },
    {
     "data": {
      "application/vnd.jupyter.widget-view+json": {
       "model_id": "",
       "version_major": 2,
       "version_minor": 0
      },
      "text/plain": [
       "Epoch 2:   0%|          | 0/30 [00:00<?, ?it/s]"
      ]
     },
     "metadata": {},
     "output_type": "display_data"
    },
    {
     "name": "stdout",
     "output_type": "stream",
     "text": [
      "Epoch 2 : {'loss': 0.0574, 'accuracy': 0.986, 'auc': 0.717, 'precision': 0.0232, 'recall': 0.2448, 'lr': 0.01, 'val_loss': 0.0055022193, 'val_accuracy': 0.9991, 'val_auc': 0.7035, 'val_precision': 1.0, 'val_recall': 0.3121}\n"
     ]
    },
    {
     "data": {
      "application/vnd.jupyter.widget-view+json": {
       "model_id": "",
       "version_major": 2,
       "version_minor": 0
      },
      "text/plain": [
       "Epoch 3:   0%|          | 0/30 [00:00<?, ?it/s]"
      ]
     },
     "metadata": {},
     "output_type": "display_data"
    },
    {
     "name": "stdout",
     "output_type": "stream",
     "text": [
      "Epoch 3 : {'loss': 0.0537, 'accuracy': 0.9898, 'auc': 0.7199, 'precision': 0.0336, 'recall': 0.2562, 'lr': 0.01, 'val_loss': 0.0052967225, 'val_accuracy': 0.9991, 'val_auc': 0.7034, 'val_precision': 1.0, 'val_recall': 0.3121}\n"
     ]
    },
    {
     "data": {
      "application/vnd.jupyter.widget-view+json": {
       "model_id": "",
       "version_major": 2,
       "version_minor": 0
      },
      "text/plain": [
       "Epoch 4:   0%|          | 0/30 [00:00<?, ?it/s]"
      ]
     },
     "metadata": {},
     "output_type": "display_data"
    },
    {
     "name": "stdout",
     "output_type": "stream",
     "text": [
      "Epoch 4 : {'loss': 0.0526, 'accuracy': 0.9919, 'auc': 0.7274, 'precision': 0.0438, 'recall': 0.2644, 'lr': 0.01, 'val_loss': 0.005190431, 'val_accuracy': 0.9991, 'val_auc': 0.7232, 'val_precision': 1.0, 'val_recall': 0.3121}\n"
     ]
    },
    {
     "data": {
      "application/vnd.jupyter.widget-view+json": {
       "model_id": "",
       "version_major": 2,
       "version_minor": 0
      },
      "text/plain": [
       "Epoch 5:   0%|          | 0/30 [00:00<?, ?it/s]"
      ]
     },
     "metadata": {},
     "output_type": "display_data"
    },
    {
     "name": "stdout",
     "output_type": "stream",
     "text": [
      "Epoch 5 : {'loss': 0.0516, 'accuracy': 0.9932, 'auc': 0.7454, 'precision': 0.0537, 'recall': 0.2678, 'lr': 0.01, 'val_loss': 0.005135096, 'val_accuracy': 0.9991, 'val_auc': 0.7352, 'val_precision': 1.0, 'val_recall': 0.3121}\n"
     ]
    },
    {
     "data": {
      "application/vnd.jupyter.widget-view+json": {
       "model_id": "",
       "version_major": 2,
       "version_minor": 0
      },
      "text/plain": [
       "Epoch 6:   0%|          | 0/30 [00:00<?, ?it/s]"
      ]
     },
     "metadata": {},
     "output_type": "display_data"
    },
    {
     "name": "stdout",
     "output_type": "stream",
     "text": [
      "Epoch 6 : {'loss': 0.0514, 'accuracy': 0.9941, 'auc': 0.7597, 'precision': 0.0632, 'recall': 0.2701, 'lr': 0.01, 'val_loss': 0.005101425, 'val_accuracy': 0.9991, 'val_auc': 0.7452, 'val_precision': 1.0, 'val_recall': 0.3121}\n"
     ]
    },
    {
     "data": {
      "application/vnd.jupyter.widget-view+json": {
       "model_id": "",
       "version_major": 2,
       "version_minor": 0
      },
      "text/plain": [
       "Epoch 7:   0%|          | 0/30 [00:00<?, ?it/s]"
      ]
     },
     "metadata": {},
     "output_type": "display_data"
    },
    {
     "name": "stdout",
     "output_type": "stream",
     "text": [
      "Epoch 7 : {'loss': 0.0513, 'accuracy': 0.9948, 'auc': 0.7723, 'precision': 0.0731, 'recall': 0.2728, 'lr': 0.01, 'val_loss': 0.0050803204, 'val_accuracy': 0.9991, 'val_auc': 0.753, 'val_precision': 1.0, 'val_recall': 0.3121}\n"
     ]
    },
    {
     "data": {
      "application/vnd.jupyter.widget-view+json": {
       "model_id": "",
       "version_major": 2,
       "version_minor": 0
      },
      "text/plain": [
       "Epoch 8:   0%|          | 0/30 [00:00<?, ?it/s]"
      ]
     },
     "metadata": {},
     "output_type": "display_data"
    },
    {
     "name": "stdout",
     "output_type": "stream",
     "text": [
      "Epoch 8 : {'loss': 0.051, 'accuracy': 0.9953, 'auc': 0.7813, 'precision': 0.0826, 'recall': 0.2752, 'lr': 0.01, 'val_loss': 0.005062895, 'val_accuracy': 0.9991, 'val_auc': 0.7603, 'val_precision': 1.0, 'val_recall': 0.3121}\n"
     ]
    },
    {
     "data": {
      "application/vnd.jupyter.widget-view+json": {
       "model_id": "",
       "version_major": 2,
       "version_minor": 0
      },
      "text/plain": [
       "Epoch 9:   0%|          | 0/30 [00:00<?, ?it/s]"
      ]
     },
     "metadata": {},
     "output_type": "display_data"
    },
    {
     "name": "stdout",
     "output_type": "stream",
     "text": [
      "Epoch 9 : {'loss': 0.0509, 'accuracy': 0.9957, 'auc': 0.7897, 'precision': 0.0919, 'recall': 0.2765, 'lr': 0.01, 'val_loss': 0.005058164, 'val_accuracy': 0.9991, 'val_auc': 0.7687, 'val_precision': 1.0, 'val_recall': 0.3121}\n"
     ]
    },
    {
     "data": {
      "application/vnd.jupyter.widget-view+json": {
       "model_id": "",
       "version_major": 2,
       "version_minor": 0
      },
      "text/plain": [
       "Epoch 10:   0%|          | 0/30 [00:00<?, ?it/s]"
      ]
     },
     "metadata": {},
     "output_type": "display_data"
    },
    {
     "name": "stdout",
     "output_type": "stream",
     "text": [
      "Epoch 10 : {'loss': 0.051, 'accuracy': 0.996, 'auc': 0.7952, 'precision': 0.1008, 'recall': 0.2776, 'lr': 0.01, 'val_loss': 0.0050562844, 'val_accuracy': 0.9991, 'val_auc': 0.7731, 'val_precision': 1.0, 'val_recall': 0.3121}\n"
     ]
    },
    {
     "data": {
      "application/vnd.jupyter.widget-view+json": {
       "model_id": "",
       "version_major": 2,
       "version_minor": 0
      },
      "text/plain": [
       "Epoch 11:   0%|          | 0/30 [00:00<?, ?it/s]"
      ]
     },
     "metadata": {},
     "output_type": "display_data"
    },
    {
     "name": "stdout",
     "output_type": "stream",
     "text": [
      "Epoch 11 : {'loss': 0.0507, 'accuracy': 0.9963, 'auc': 0.8014, 'precision': 0.1096, 'recall': 0.2782, 'lr': 0.01, 'val_loss': 0.0050642192, 'val_accuracy': 0.9991, 'val_auc': 0.7752, 'val_precision': 1.0, 'val_recall': 0.3121}\n"
     ]
    },
    {
     "data": {
      "application/vnd.jupyter.widget-view+json": {
       "model_id": "",
       "version_major": 2,
       "version_minor": 0
      },
      "text/plain": [
       "Epoch 12:   0%|          | 0/30 [00:00<?, ?it/s]"
      ]
     },
     "metadata": {},
     "output_type": "display_data"
    },
    {
     "name": "stdout",
     "output_type": "stream",
     "text": [
      "Epoch 12 : {'loss': 0.0507, 'accuracy': 0.9965, 'auc': 0.8058, 'precision': 0.1182, 'recall': 0.2788, 'lr': 0.01, 'val_loss': 0.0050509833, 'val_accuracy': 0.9991, 'val_auc': 0.7771, 'val_precision': 1.0, 'val_recall': 0.3121}\n"
     ]
    },
    {
     "data": {
      "application/vnd.jupyter.widget-view+json": {
       "model_id": "",
       "version_major": 2,
       "version_minor": 0
      },
      "text/plain": [
       "Epoch 13:   0%|          | 0/30 [00:00<?, ?it/s]"
      ]
     },
     "metadata": {},
     "output_type": "display_data"
    },
    {
     "name": "stdout",
     "output_type": "stream",
     "text": [
      "Epoch 13 : {'loss': 0.0508, 'accuracy': 0.9967, 'auc': 0.81, 'precision': 0.1265, 'recall': 0.2788, 'lr': 0.01, 'val_loss': 0.00507154, 'val_accuracy': 0.9991, 'val_auc': 0.7764, 'val_precision': 1.0, 'val_recall': 0.3121}\n"
     ]
    },
    {
     "data": {
      "application/vnd.jupyter.widget-view+json": {
       "model_id": "",
       "version_major": 2,
       "version_minor": 0
      },
      "text/plain": [
       "Epoch 14:   0%|          | 0/30 [00:00<?, ?it/s]"
      ]
     },
     "metadata": {},
     "output_type": "display_data"
    },
    {
     "name": "stdout",
     "output_type": "stream",
     "text": [
      "Epoch 14 : {'loss': 0.0506, 'accuracy': 0.9969, 'auc': 0.8126, 'precision': 0.1352, 'recall': 0.2806, 'lr': 0.01, 'val_loss': 0.005022902, 'val_accuracy': 0.9991, 'val_auc': 0.78, 'val_precision': 1.0, 'val_recall': 0.3121}\n"
     ]
    },
    {
     "data": {
      "application/vnd.jupyter.widget-view+json": {
       "model_id": "",
       "version_major": 2,
       "version_minor": 0
      },
      "text/plain": [
       "Epoch 15:   0%|          | 0/30 [00:00<?, ?it/s]"
      ]
     },
     "metadata": {},
     "output_type": "display_data"
    },
    {
     "name": "stdout",
     "output_type": "stream",
     "text": [
      "Epoch 15 : {'loss': 0.0505, 'accuracy': 0.997, 'auc': 0.816, 'precision': 0.143, 'recall': 0.2802, 'lr': 0.01, 'val_loss': 0.005051556, 'val_accuracy': 0.9991, 'val_auc': 0.7803, 'val_precision': 1.0, 'val_recall': 0.3121}\n"
     ]
    },
    {
     "data": {
      "application/vnd.jupyter.widget-view+json": {
       "model_id": "",
       "version_major": 2,
       "version_minor": 0
      },
      "text/plain": [
       "Epoch 16:   0%|          | 0/30 [00:00<?, ?it/s]"
      ]
     },
     "metadata": {},
     "output_type": "display_data"
    },
    {
     "name": "stdout",
     "output_type": "stream",
     "text": [
      "Epoch 16 : {'loss': 0.0505, 'accuracy': 0.9971, 'auc': 0.8181, 'precision': 0.1511, 'recall': 0.2808, 'lr': 0.01, 'val_loss': 0.0050543714, 'val_accuracy': 0.9991, 'val_auc': 0.7802, 'val_precision': 1.0, 'val_recall': 0.3121}\n"
     ]
    },
    {
     "data": {
      "application/vnd.jupyter.widget-view+json": {
       "model_id": "",
       "version_major": 2,
       "version_minor": 0
      },
      "text/plain": [
       "Epoch 17:   0%|          | 0/30 [00:00<?, ?it/s]"
      ]
     },
     "metadata": {},
     "output_type": "display_data"
    },
    {
     "name": "stdout",
     "output_type": "stream",
     "text": [
      "Epoch 17 : {'loss': 0.0506, 'accuracy': 0.9972, 'auc': 0.8202, 'precision': 0.1589, 'recall': 0.281, 'lr': 0.01, 'val_loss': 0.0050494396, 'val_accuracy': 0.9991, 'val_auc': 0.7817, 'val_precision': 1.0, 'val_recall': 0.3121}\n"
     ]
    },
    {
     "data": {
      "application/vnd.jupyter.widget-view+json": {
       "model_id": "",
       "version_major": 2,
       "version_minor": 0
      },
      "text/plain": [
       "Epoch 18:   0%|          | 0/30 [00:00<?, ?it/s]"
      ]
     },
     "metadata": {},
     "output_type": "display_data"
    },
    {
     "name": "stdout",
     "output_type": "stream",
     "text": [
      "Epoch 18 : {'loss': 0.0508, 'accuracy': 0.9973, 'auc': 0.8221, 'precision': 0.1669, 'recall': 0.2819, 'lr': 0.01, 'val_loss': 0.0050394298, 'val_accuracy': 0.9991, 'val_auc': 0.7847, 'val_precision': 1.0, 'val_recall': 0.3121}\n"
     ]
    },
    {
     "data": {
      "application/vnd.jupyter.widget-view+json": {
       "model_id": "",
       "version_major": 2,
       "version_minor": 0
      },
      "text/plain": [
       "Epoch 19:   0%|          | 0/30 [00:00<?, ?it/s]"
      ]
     },
     "metadata": {},
     "output_type": "display_data"
    },
    {
     "name": "stdout",
     "output_type": "stream",
     "text": [
      "Epoch 19 : {'loss': 0.0506, 'accuracy': 0.9974, 'auc': 0.8237, 'precision': 0.1746, 'recall': 0.2823, 'lr': 0.01, 'val_loss': 0.0050389715, 'val_accuracy': 0.9991, 'val_auc': 0.7828, 'val_precision': 1.0, 'val_recall': 0.3121}\n"
     ]
    },
    {
     "data": {
      "application/vnd.jupyter.widget-view+json": {
       "model_id": "",
       "version_major": 2,
       "version_minor": 0
      },
      "text/plain": [
       "Epoch 20:   0%|          | 0/30 [00:00<?, ?it/s]"
      ]
     },
     "metadata": {},
     "output_type": "display_data"
    },
    {
     "name": "stdout",
     "output_type": "stream",
     "text": [
      "Epoch 20 : {'loss': 0.0505, 'accuracy': 0.9975, 'auc': 0.8254, 'precision': 0.1819, 'recall': 0.2823, 'lr': 0.01, 'val_loss': 0.005036969, 'val_accuracy': 0.9991, 'val_auc': 0.7839, 'val_precision': 1.0, 'val_recall': 0.3121}\n"
     ]
    },
    {
     "data": {
      "application/vnd.jupyter.widget-view+json": {
       "model_id": "",
       "version_major": 2,
       "version_minor": 0
      },
      "text/plain": [
       "Epoch 21:   0%|          | 0/30 [00:00<?, ?it/s]"
      ]
     },
     "metadata": {},
     "output_type": "display_data"
    },
    {
     "name": "stdout",
     "output_type": "stream",
     "text": [
      "Epoch 21 : {'loss': 0.0508, 'accuracy': 0.9976, 'auc': 0.8263, 'precision': 0.1893, 'recall': 0.2827, 'lr': 0.01, 'val_loss': 0.00502059, 'val_accuracy': 0.9991, 'val_auc': 0.7872, 'val_precision': 1.0, 'val_recall': 0.3121}\n"
     ]
    },
    {
     "data": {
      "application/vnd.jupyter.widget-view+json": {
       "model_id": "",
       "version_major": 2,
       "version_minor": 0
      },
      "text/plain": [
       "Epoch 22:   0%|          | 0/30 [00:00<?, ?it/s]"
      ]
     },
     "metadata": {},
     "output_type": "display_data"
    },
    {
     "name": "stdout",
     "output_type": "stream",
     "text": [
      "Epoch 22 : {'loss': 0.0505, 'accuracy': 0.9977, 'auc': 0.8273, 'precision': 0.1963, 'recall': 0.2828, 'lr': 0.01, 'val_loss': 0.005027934, 'val_accuracy': 0.9991, 'val_auc': 0.7894, 'val_precision': 1.0, 'val_recall': 0.3121}\n"
     ]
    },
    {
     "data": {
      "application/vnd.jupyter.widget-view+json": {
       "model_id": "",
       "version_major": 2,
       "version_minor": 0
      },
      "text/plain": [
       "Epoch 23:   0%|          | 0/30 [00:00<?, ?it/s]"
      ]
     },
     "metadata": {},
     "output_type": "display_data"
    },
    {
     "name": "stdout",
     "output_type": "stream",
     "text": [
      "Epoch 23 : {'loss': 0.0506, 'accuracy': 0.9977, 'auc': 0.8288, 'precision': 0.2036, 'recall': 0.2832, 'lr': 0.01, 'val_loss': 0.0050476543, 'val_accuracy': 0.9991, 'val_auc': 0.7919, 'val_precision': 1.0, 'val_recall': 0.3121}\n"
     ]
    },
    {
     "data": {
      "application/vnd.jupyter.widget-view+json": {
       "model_id": "",
       "version_major": 2,
       "version_minor": 0
      },
      "text/plain": [
       "Epoch 24:   0%|          | 0/30 [00:00<?, ?it/s]"
      ]
     },
     "metadata": {},
     "output_type": "display_data"
    },
    {
     "name": "stdout",
     "output_type": "stream",
     "text": [
      "Epoch 24 : {'loss': 0.0504, 'accuracy': 0.9978, 'auc': 0.8297, 'precision': 0.2105, 'recall': 0.2834, 'lr': 0.01, 'val_loss': 0.005091377, 'val_accuracy': 0.9991, 'val_auc': 0.7915, 'val_precision': 1.0, 'val_recall': 0.3121}\n"
     ]
    },
    {
     "data": {
      "application/vnd.jupyter.widget-view+json": {
       "model_id": "",
       "version_major": 2,
       "version_minor": 0
      },
      "text/plain": [
       "Epoch 25:   0%|          | 0/30 [00:00<?, ?it/s]"
      ]
     },
     "metadata": {},
     "output_type": "display_data"
    },
    {
     "name": "stdout",
     "output_type": "stream",
     "text": [
      "Epoch 25 : {'loss': 0.0506, 'accuracy': 0.9978, 'auc': 0.8304, 'precision': 0.2174, 'recall': 0.2836, 'lr': 0.01, 'val_loss': 0.005033769, 'val_accuracy': 0.9991, 'val_auc': 0.7918, 'val_precision': 1.0, 'val_recall': 0.3121}\n"
     ]
    },
    {
     "data": {
      "application/vnd.jupyter.widget-view+json": {
       "model_id": "",
       "version_major": 2,
       "version_minor": 0
      },
      "text/plain": [
       "Epoch 26:   0%|          | 0/30 [00:00<?, ?it/s]"
      ]
     },
     "metadata": {},
     "output_type": "display_data"
    },
    {
     "name": "stdout",
     "output_type": "stream",
     "text": [
      "Epoch 26 : {'loss': 0.051, 'accuracy': 0.9979, 'auc': 0.831, 'precision': 0.224, 'recall': 0.2837, 'lr': 0.01, 'val_loss': 0.0050808717, 'val_accuracy': 0.9991, 'val_auc': 0.7956, 'val_precision': 1.0, 'val_recall': 0.3121}\n"
     ]
    },
    {
     "data": {
      "application/vnd.jupyter.widget-view+json": {
       "model_id": "",
       "version_major": 2,
       "version_minor": 0
      },
      "text/plain": [
       "Epoch 27:   0%|          | 0/30 [00:00<?, ?it/s]"
      ]
     },
     "metadata": {},
     "output_type": "display_data"
    },
    {
     "name": "stdout",
     "output_type": "stream",
     "text": [
      "Epoch 27 : {'loss': 0.0506, 'accuracy': 0.9979, 'auc': 0.832, 'precision': 0.2305, 'recall': 0.2839, 'lr': 0.01, 'val_loss': 0.00502643, 'val_accuracy': 0.9991, 'val_auc': 0.7978, 'val_precision': 1.0, 'val_recall': 0.3121}\n"
     ]
    },
    {
     "data": {
      "application/vnd.jupyter.widget-view+json": {
       "model_id": "",
       "version_major": 2,
       "version_minor": 0
      },
      "text/plain": [
       "Epoch 28:   0%|          | 0/30 [00:00<?, ?it/s]"
      ]
     },
     "metadata": {},
     "output_type": "display_data"
    },
    {
     "name": "stdout",
     "output_type": "stream",
     "text": [
      "Epoch 28 : {'loss': 0.0508, 'accuracy': 0.998, 'auc': 0.8327, 'precision': 0.2369, 'recall': 0.2838, 'lr': 0.01, 'val_loss': 0.0050184103, 'val_accuracy': 0.9991, 'val_auc': 0.7996, 'val_precision': 1.0, 'val_recall': 0.3121}\n"
     ]
    },
    {
     "data": {
      "application/vnd.jupyter.widget-view+json": {
       "model_id": "",
       "version_major": 2,
       "version_minor": 0
      },
      "text/plain": [
       "Epoch 29:   0%|          | 0/30 [00:00<?, ?it/s]"
      ]
     },
     "metadata": {},
     "output_type": "display_data"
    },
    {
     "name": "stdout",
     "output_type": "stream",
     "text": [
      "Epoch 29 : {'loss': 0.0506, 'accuracy': 0.998, 'auc': 0.8334, 'precision': 0.2433, 'recall': 0.284, 'lr': 0.01, 'val_loss': 0.005041423, 'val_accuracy': 0.9991, 'val_auc': 0.8009, 'val_precision': 1.0, 'val_recall': 0.3121}\n"
     ]
    },
    {
     "data": {
      "application/vnd.jupyter.widget-view+json": {
       "model_id": "",
       "version_major": 2,
       "version_minor": 0
      },
      "text/plain": [
       "Epoch 30:   0%|          | 0/30 [00:00<?, ?it/s]"
      ]
     },
     "metadata": {},
     "output_type": "display_data"
    },
    {
     "name": "stdout",
     "output_type": "stream",
     "text": [
      "Epoch 30 : {'loss': 0.0507, 'accuracy': 0.998, 'auc': 0.8338, 'precision': 0.2496, 'recall': 0.2842, 'lr': 0.01, 'val_loss': 0.0050075008, 'val_accuracy': 0.9991, 'val_auc': 0.8028, 'val_precision': 1.0, 'val_recall': 0.3121}\n"
     ]
    },
    {
     "data": {
      "application/vnd.jupyter.widget-view+json": {
       "model_id": "",
       "version_major": 2,
       "version_minor": 0
      },
      "text/plain": [
       "Epoch 31:   0%|          | 0/30 [00:00<?, ?it/s]"
      ]
     },
     "metadata": {},
     "output_type": "display_data"
    },
    {
     "name": "stdout",
     "output_type": "stream",
     "text": [
      "Epoch 31 : {'loss': 0.0506, 'accuracy': 0.9981, 'auc': 0.8347, 'precision': 0.2558, 'recall': 0.2842, 'lr': 0.01, 'val_loss': 0.0050169392, 'val_accuracy': 0.9991, 'val_auc': 0.8031, 'val_precision': 1.0, 'val_recall': 0.3121}\n"
     ]
    },
    {
     "data": {
      "application/vnd.jupyter.widget-view+json": {
       "model_id": "",
       "version_major": 2,
       "version_minor": 0
      },
      "text/plain": [
       "Epoch 32:   0%|          | 0/30 [00:00<?, ?it/s]"
      ]
     },
     "metadata": {},
     "output_type": "display_data"
    },
    {
     "name": "stdout",
     "output_type": "stream",
     "text": [
      "Epoch 32 : {'loss': 0.0505, 'accuracy': 0.9981, 'auc': 0.8351, 'precision': 0.2619, 'recall': 0.2844, 'lr': 0.01, 'val_loss': 0.005026612, 'val_accuracy': 0.9991, 'val_auc': 0.802, 'val_precision': 1.0, 'val_recall': 0.3121}\n"
     ]
    },
    {
     "data": {
      "application/vnd.jupyter.widget-view+json": {
       "model_id": "",
       "version_major": 2,
       "version_minor": 0
      },
      "text/plain": [
       "Epoch 33:   0%|          | 0/30 [00:00<?, ?it/s]"
      ]
     },
     "metadata": {},
     "output_type": "display_data"
    },
    {
     "name": "stdout",
     "output_type": "stream",
     "text": [
      "Epoch 33 : {'loss': 0.0506, 'accuracy': 0.9981, 'auc': 0.8356, 'precision': 0.2679, 'recall': 0.2846, 'lr': 0.01, 'val_loss': 0.005003889, 'val_accuracy': 0.9991, 'val_auc': 0.8021, 'val_precision': 1.0, 'val_recall': 0.3121}\n",
      "Reducing learning rate from 0.009999999776482582 to 0.0009999999776482583\n"
     ]
    },
    {
     "data": {
      "application/vnd.jupyter.widget-view+json": {
       "model_id": "",
       "version_major": 2,
       "version_minor": 0
      },
      "text/plain": [
       "Epoch 34:   0%|          | 0/30 [00:00<?, ?it/s]"
      ]
     },
     "metadata": {},
     "output_type": "display_data"
    },
    {
     "name": "stdout",
     "output_type": "stream",
     "text": [
      "Epoch 34 : {'loss': 0.0504, 'accuracy': 0.9982, 'auc': 0.8363, 'precision': 0.2737, 'recall': 0.2845, 'lr': 0.0009999999776482583, 'val_loss': 0.0049956394, 'val_accuracy': 0.9991, 'val_auc': 0.8031, 'val_precision': 1.0, 'val_recall': 0.3121}\n"
     ]
    },
    {
     "data": {
      "application/vnd.jupyter.widget-view+json": {
       "model_id": "",
       "version_major": 2,
       "version_minor": 0
      },
      "text/plain": [
       "Epoch 35:   0%|          | 0/30 [00:00<?, ?it/s]"
      ]
     },
     "metadata": {},
     "output_type": "display_data"
    },
    {
     "name": "stdout",
     "output_type": "stream",
     "text": [
      "Epoch 35 : {'loss': 0.0502, 'accuracy': 0.9982, 'auc': 0.8368, 'precision': 0.2795, 'recall': 0.2849, 'lr': 0.0009999999776482583, 'val_loss': 0.004992427, 'val_accuracy': 0.9991, 'val_auc': 0.8042, 'val_precision': 1.0, 'val_recall': 0.3121}\n"
     ]
    },
    {
     "data": {
      "application/vnd.jupyter.widget-view+json": {
       "model_id": "",
       "version_major": 2,
       "version_minor": 0
      },
      "text/plain": [
       "Epoch 36:   0%|          | 0/30 [00:00<?, ?it/s]"
      ]
     },
     "metadata": {},
     "output_type": "display_data"
    },
    {
     "name": "stdout",
     "output_type": "stream",
     "text": [
      "Epoch 36 : {'loss': 0.0505, 'accuracy': 0.9982, 'auc': 0.8379, 'precision': 0.285, 'recall': 0.2847, 'lr': 0.0009999999776482583, 'val_loss': 0.0049898303, 'val_accuracy': 0.9991, 'val_auc': 0.8051, 'val_precision': 1.0, 'val_recall': 0.3121}\n"
     ]
    },
    {
     "data": {
      "application/vnd.jupyter.widget-view+json": {
       "model_id": "",
       "version_major": 2,
       "version_minor": 0
      },
      "text/plain": [
       "Epoch 37:   0%|          | 0/30 [00:00<?, ?it/s]"
      ]
     },
     "metadata": {},
     "output_type": "display_data"
    },
    {
     "name": "stdout",
     "output_type": "stream",
     "text": [
      "Epoch 37 : {'loss': 0.0504, 'accuracy': 0.9982, 'auc': 0.8389, 'precision': 0.2908, 'recall': 0.2849, 'lr': 0.0009999999776482583, 'val_loss': 0.004996021, 'val_accuracy': 0.9991, 'val_auc': 0.8057, 'val_precision': 1.0, 'val_recall': 0.3121}\n"
     ]
    },
    {
     "data": {
      "application/vnd.jupyter.widget-view+json": {
       "model_id": "",
       "version_major": 2,
       "version_minor": 0
      },
      "text/plain": [
       "Epoch 38:   0%|          | 0/30 [00:00<?, ?it/s]"
      ]
     },
     "metadata": {},
     "output_type": "display_data"
    },
    {
     "name": "stdout",
     "output_type": "stream",
     "text": [
      "Epoch 38 : {'loss': 0.0502, 'accuracy': 0.9983, 'auc': 0.84, 'precision': 0.2961, 'recall': 0.2848, 'lr': 0.0009999999776482583, 'val_loss': 0.005008716, 'val_accuracy': 0.9991, 'val_auc': 0.8052, 'val_precision': 1.0, 'val_recall': 0.3121}\n"
     ]
    },
    {
     "data": {
      "application/vnd.jupyter.widget-view+json": {
       "model_id": "",
       "version_major": 2,
       "version_minor": 0
      },
      "text/plain": [
       "Epoch 39:   0%|          | 0/30 [00:00<?, ?it/s]"
      ]
     },
     "metadata": {},
     "output_type": "display_data"
    },
    {
     "name": "stdout",
     "output_type": "stream",
     "text": [
      "Epoch 39 : {'loss': 0.0504, 'accuracy': 0.9983, 'auc': 0.8409, 'precision': 0.3017, 'recall': 0.285, 'lr': 0.0009999999776482583, 'val_loss': 0.005010687, 'val_accuracy': 0.9991, 'val_auc': 0.8042, 'val_precision': 1.0, 'val_recall': 0.3121}\n",
      "Reducing learning rate from 0.0009999999776482583 to 9.999999776482583e-05\n"
     ]
    },
    {
     "data": {
      "application/vnd.jupyter.widget-view+json": {
       "model_id": "",
       "version_major": 2,
       "version_minor": 0
      },
      "text/plain": [
       "Epoch 40:   0%|          | 0/30 [00:00<?, ?it/s]"
      ]
     },
     "metadata": {},
     "output_type": "display_data"
    },
    {
     "name": "stdout",
     "output_type": "stream",
     "text": [
      "Epoch 40 : {'loss': 0.0502, 'accuracy': 0.9983, 'auc': 0.8408, 'precision': 0.307, 'recall': 0.2851, 'lr': 9.999999776482583e-05, 'val_loss': 0.0049893716, 'val_accuracy': 0.9991, 'val_auc': 0.8045, 'val_precision': 1.0, 'val_recall': 0.3121}\n"
     ]
    },
    {
     "data": {
      "application/vnd.jupyter.widget-view+json": {
       "model_id": "",
       "version_major": 2,
       "version_minor": 0
      },
      "text/plain": [
       "Epoch 41:   0%|          | 0/30 [00:00<?, ?it/s]"
      ]
     },
     "metadata": {},
     "output_type": "display_data"
    },
    {
     "name": "stdout",
     "output_type": "stream",
     "text": [
      "Epoch 41 : {'loss': 0.0502, 'accuracy': 0.9983, 'auc': 0.8413, 'precision': 0.3122, 'recall': 0.2851, 'lr': 9.999999776482583e-05, 'val_loss': 0.004985279, 'val_accuracy': 0.9991, 'val_auc': 0.8051, 'val_precision': 1.0, 'val_recall': 0.3121}\n"
     ]
    },
    {
     "data": {
      "application/vnd.jupyter.widget-view+json": {
       "model_id": "",
       "version_major": 2,
       "version_minor": 0
      },
      "text/plain": [
       "Epoch 42:   0%|          | 0/30 [00:00<?, ?it/s]"
      ]
     },
     "metadata": {},
     "output_type": "display_data"
    },
    {
     "name": "stdout",
     "output_type": "stream",
     "text": [
      "Epoch 42 : {'loss': 0.0499, 'accuracy': 0.9983, 'auc': 0.8423, 'precision': 0.3175, 'recall': 0.2853, 'lr': 9.999999776482583e-05, 'val_loss': 0.004986422, 'val_accuracy': 0.9991, 'val_auc': 0.8057, 'val_precision': 1.0, 'val_recall': 0.3121}\n"
     ]
    },
    {
     "data": {
      "application/vnd.jupyter.widget-view+json": {
       "model_id": "",
       "version_major": 2,
       "version_minor": 0
      },
      "text/plain": [
       "Epoch 43:   0%|          | 0/30 [00:00<?, ?it/s]"
      ]
     },
     "metadata": {},
     "output_type": "display_data"
    },
    {
     "name": "stdout",
     "output_type": "stream",
     "text": [
      "Epoch 43 : {'loss': 0.05, 'accuracy': 0.9984, 'auc': 0.8432, 'precision': 0.3225, 'recall': 0.2852, 'lr': 9.999999776482583e-05, 'val_loss': 0.004986433, 'val_accuracy': 0.9991, 'val_auc': 0.8063, 'val_precision': 1.0, 'val_recall': 0.3121}\n"
     ]
    },
    {
     "data": {
      "application/vnd.jupyter.widget-view+json": {
       "model_id": "",
       "version_major": 2,
       "version_minor": 0
      },
      "text/plain": [
       "Epoch 44:   0%|          | 0/30 [00:00<?, ?it/s]"
      ]
     },
     "metadata": {},
     "output_type": "display_data"
    },
    {
     "name": "stdout",
     "output_type": "stream",
     "text": [
      "Epoch 44 : {'loss': 0.0502, 'accuracy': 0.9984, 'auc': 0.844, 'precision': 0.3275, 'recall': 0.2853, 'lr': 9.999999776482583e-05, 'val_loss': 0.004988962, 'val_accuracy': 0.9991, 'val_auc': 0.8069, 'val_precision': 1.0, 'val_recall': 0.3121}\n"
     ]
    },
    {
     "data": {
      "application/vnd.jupyter.widget-view+json": {
       "model_id": "",
       "version_major": 2,
       "version_minor": 0
      },
      "text/plain": [
       "Epoch 45:   0%|          | 0/30 [00:00<?, ?it/s]"
      ]
     },
     "metadata": {},
     "output_type": "display_data"
    },
    {
     "name": "stdout",
     "output_type": "stream",
     "text": [
      "Epoch 45 : {'loss': 0.0501, 'accuracy': 0.9984, 'auc': 0.8448, 'precision': 0.3324, 'recall': 0.2852, 'lr': 9.999999776482583e-05, 'val_loss': 0.0049867374, 'val_accuracy': 0.9991, 'val_auc': 0.8075, 'val_precision': 1.0, 'val_recall': 0.3121}\n"
     ]
    },
    {
     "data": {
      "application/vnd.jupyter.widget-view+json": {
       "model_id": "",
       "version_major": 2,
       "version_minor": 0
      },
      "text/plain": [
       "Epoch 46:   0%|          | 0/30 [00:00<?, ?it/s]"
      ]
     },
     "metadata": {},
     "output_type": "display_data"
    },
    {
     "name": "stdout",
     "output_type": "stream",
     "text": [
      "Epoch 46 : {'loss': 0.0503, 'accuracy': 0.9984, 'auc': 0.8455, 'precision': 0.3374, 'recall': 0.2855, 'lr': 9.999999776482583e-05, 'val_loss': 0.0049887956, 'val_accuracy': 0.9991, 'val_auc': 0.808, 'val_precision': 1.0, 'val_recall': 0.3121}\n"
     ]
    },
    {
     "data": {
      "application/vnd.jupyter.widget-view+json": {
       "model_id": "",
       "version_major": 2,
       "version_minor": 0
      },
      "text/plain": [
       "Epoch 47:   0%|          | 0/30 [00:00<?, ?it/s]"
      ]
     },
     "metadata": {},
     "output_type": "display_data"
    },
    {
     "name": "stdout",
     "output_type": "stream",
     "text": [
      "Epoch 47 : {'loss': 0.05, 'accuracy': 0.9984, 'auc': 0.8462, 'precision': 0.3421, 'recall': 0.2855, 'lr': 9.999999776482583e-05, 'val_loss': 0.0049870624, 'val_accuracy': 0.9991, 'val_auc': 0.8085, 'val_precision': 1.0, 'val_recall': 0.3121}\n"
     ]
    },
    {
     "data": {
      "application/vnd.jupyter.widget-view+json": {
       "model_id": "",
       "version_major": 2,
       "version_minor": 0
      },
      "text/plain": [
       "Epoch 48:   0%|          | 0/30 [00:00<?, ?it/s]"
      ]
     },
     "metadata": {},
     "output_type": "display_data"
    },
    {
     "name": "stdout",
     "output_type": "stream",
     "text": [
      "Epoch 48 : {'loss': 0.0502, 'accuracy': 0.9984, 'auc': 0.847, 'precision': 0.347, 'recall': 0.2856, 'lr': 9.999999776482583e-05, 'val_loss': 0.00498751, 'val_accuracy': 0.9991, 'val_auc': 0.809, 'val_precision': 1.0, 'val_recall': 0.3121}\n"
     ]
    },
    {
     "data": {
      "application/vnd.jupyter.widget-view+json": {
       "model_id": "",
       "version_major": 2,
       "version_minor": 0
      },
      "text/plain": [
       "Epoch 49:   0%|          | 0/30 [00:00<?, ?it/s]"
      ]
     },
     "metadata": {},
     "output_type": "display_data"
    },
    {
     "name": "stdout",
     "output_type": "stream",
     "text": [
      "Epoch 49 : {'loss': 0.0498, 'accuracy': 0.9984, 'auc': 0.8477, 'precision': 0.3515, 'recall': 0.2855, 'lr': 9.999999776482583e-05, 'val_loss': 0.0049891304, 'val_accuracy': 0.9991, 'val_auc': 0.8094, 'val_precision': 1.0, 'val_recall': 0.3121}\n"
     ]
    },
    {
     "data": {
      "application/vnd.jupyter.widget-view+json": {
       "model_id": "",
       "version_major": 2,
       "version_minor": 0
      },
      "text/plain": [
       "Epoch 50:   0%|          | 0/30 [00:00<?, ?it/s]"
      ]
     },
     "metadata": {},
     "output_type": "display_data"
    },
    {
     "name": "stdout",
     "output_type": "stream",
     "text": [
      "Epoch 50 : {'loss': 0.0501, 'accuracy': 0.9985, 'auc': 0.8483, 'precision': 0.3561, 'recall': 0.2856, 'lr': 9.999999776482583e-05, 'val_loss': 0.0049885097, 'val_accuracy': 0.9991, 'val_auc': 0.8099, 'val_precision': 1.0, 'val_recall': 0.3121}\n"
     ]
    },
    {
     "data": {
      "application/vnd.jupyter.widget-view+json": {
       "model_id": "",
       "version_major": 2,
       "version_minor": 0
      },
      "text/plain": [
       "Epoch 51:   0%|          | 0/30 [00:00<?, ?it/s]"
      ]
     },
     "metadata": {},
     "output_type": "display_data"
    },
    {
     "name": "stdout",
     "output_type": "stream",
     "text": [
      "Epoch 51 : {'loss': 0.0499, 'accuracy': 0.9985, 'auc': 0.8489, 'precision': 0.3607, 'recall': 0.2857, 'lr': 9.999999776482583e-05, 'val_loss': 0.0049872384, 'val_accuracy': 0.9991, 'val_auc': 0.8103, 'val_precision': 1.0, 'val_recall': 0.3121}\n"
     ]
    },
    {
     "data": {
      "application/vnd.jupyter.widget-view+json": {
       "model_id": "",
       "version_major": 2,
       "version_minor": 0
      },
      "text/plain": [
       "Epoch 52:   0%|          | 0/30 [00:00<?, ?it/s]"
      ]
     },
     "metadata": {},
     "output_type": "display_data"
    },
    {
     "name": "stdout",
     "output_type": "stream",
     "text": [
      "Epoch 52 : {'loss': 0.0502, 'accuracy': 0.9985, 'auc': 0.8495, 'precision': 0.3652, 'recall': 0.2857, 'lr': 9.999999776482583e-05, 'val_loss': 0.0049892752, 'val_accuracy': 0.9991, 'val_auc': 0.8108, 'val_precision': 1.0, 'val_recall': 0.3121}\n"
     ]
    },
    {
     "data": {
      "application/vnd.jupyter.widget-view+json": {
       "model_id": "",
       "version_major": 2,
       "version_minor": 0
      },
      "text/plain": [
       "Epoch 53:   0%|          | 0/30 [00:00<?, ?it/s]"
      ]
     },
     "metadata": {},
     "output_type": "display_data"
    },
    {
     "name": "stdout",
     "output_type": "stream",
     "text": [
      "Epoch 53 : {'loss': 0.0499, 'accuracy': 0.9985, 'auc': 0.85, 'precision': 0.3695, 'recall': 0.2857, 'lr': 9.999999776482583e-05, 'val_loss': 0.0049881544, 'val_accuracy': 0.9991, 'val_auc': 0.8111, 'val_precision': 1.0, 'val_recall': 0.3121}\n"
     ]
    },
    {
     "data": {
      "application/vnd.jupyter.widget-view+json": {
       "model_id": "",
       "version_major": 2,
       "version_minor": 0
      },
      "text/plain": [
       "Epoch 54:   0%|          | 0/30 [00:00<?, ?it/s]"
      ]
     },
     "metadata": {},
     "output_type": "display_data"
    },
    {
     "name": "stdout",
     "output_type": "stream",
     "text": [
      "Epoch 54 : {'loss': 0.0499, 'accuracy': 0.9985, 'auc': 0.8504, 'precision': 0.3739, 'recall': 0.2858, 'lr': 9.999999776482583e-05, 'val_loss': 0.0049887854, 'val_accuracy': 0.9991, 'val_auc': 0.8115, 'val_precision': 1.0, 'val_recall': 0.3121}\n"
     ]
    },
    {
     "data": {
      "application/vnd.jupyter.widget-view+json": {
       "model_id": "",
       "version_major": 2,
       "version_minor": 0
      },
      "text/plain": [
       "Epoch 55:   0%|          | 0/30 [00:00<?, ?it/s]"
      ]
     },
     "metadata": {},
     "output_type": "display_data"
    },
    {
     "name": "stdout",
     "output_type": "stream",
     "text": [
      "Epoch 55 : {'loss': 0.05, 'accuracy': 0.9985, 'auc': 0.8509, 'precision': 0.3781, 'recall': 0.2857, 'lr': 9.999999776482583e-05, 'val_loss': 0.0049891123, 'val_accuracy': 0.9991, 'val_auc': 0.8119, 'val_precision': 1.0, 'val_recall': 0.3121}\n"
     ]
    },
    {
     "data": {
      "application/vnd.jupyter.widget-view+json": {
       "model_id": "",
       "version_major": 2,
       "version_minor": 0
      },
      "text/plain": [
       "Epoch 56:   0%|          | 0/30 [00:00<?, ?it/s]"
      ]
     },
     "metadata": {},
     "output_type": "display_data"
    },
    {
     "name": "stdout",
     "output_type": "stream",
     "text": [
      "Epoch 56 : {'loss': 0.05, 'accuracy': 0.9985, 'auc': 0.8513, 'precision': 0.3825, 'recall': 0.286, 'lr': 9.999999776482583e-05, 'val_loss': 0.004988968, 'val_accuracy': 0.9991, 'val_auc': 0.8119, 'val_precision': 1.0, 'val_recall': 0.3121}\n",
      "Reducing learning rate from 9.999999776482583e-05 to 9.999999776482583e-06\n"
     ]
    },
    {
     "data": {
      "application/vnd.jupyter.widget-view+json": {
       "model_id": "",
       "version_major": 2,
       "version_minor": 0
      },
      "text/plain": [
       "Epoch 57:   0%|          | 0/30 [00:00<?, ?it/s]"
      ]
     },
     "metadata": {},
     "output_type": "display_data"
    },
    {
     "name": "stdout",
     "output_type": "stream",
     "text": [
      "Epoch 57 : {'loss': 0.0498, 'accuracy': 0.9985, 'auc': 0.8517, 'precision': 0.3866, 'recall': 0.2859, 'lr': 9.999999776482583e-06, 'val_loss': 0.0049890103, 'val_accuracy': 0.9991, 'val_auc': 0.812, 'val_precision': 1.0, 'val_recall': 0.3121}\n"
     ]
    },
    {
     "data": {
      "application/vnd.jupyter.widget-view+json": {
       "model_id": "",
       "version_major": 2,
       "version_minor": 0
      },
      "text/plain": [
       "Epoch 58:   0%|          | 0/30 [00:00<?, ?it/s]"
      ]
     },
     "metadata": {},
     "output_type": "display_data"
    },
    {
     "name": "stdout",
     "output_type": "stream",
     "text": [
      "Epoch 58 : {'loss': 0.0504, 'accuracy': 0.9985, 'auc': 0.8521, 'precision': 0.3908, 'recall': 0.286, 'lr': 9.999999776482583e-06, 'val_loss': 0.004989229, 'val_accuracy': 0.9991, 'val_auc': 0.8121, 'val_precision': 1.0, 'val_recall': 0.3121}\n"
     ]
    },
    {
     "data": {
      "application/vnd.jupyter.widget-view+json": {
       "model_id": "",
       "version_major": 2,
       "version_minor": 0
      },
      "text/plain": [
       "Epoch 59:   0%|          | 0/30 [00:00<?, ?it/s]"
      ]
     },
     "metadata": {},
     "output_type": "display_data"
    },
    {
     "name": "stdout",
     "output_type": "stream",
     "text": [
      "Epoch 59 : {'loss': 0.0501, 'accuracy': 0.9986, 'auc': 0.8524, 'precision': 0.3947, 'recall': 0.2859, 'lr': 9.999999776482583e-06, 'val_loss': 0.0049887705, 'val_accuracy': 0.9991, 'val_auc': 0.8121, 'val_precision': 1.0, 'val_recall': 0.3121}\n"
     ]
    },
    {
     "data": {
      "application/vnd.jupyter.widget-view+json": {
       "model_id": "",
       "version_major": 2,
       "version_minor": 0
      },
      "text/plain": [
       "Epoch 60:   0%|          | 0/30 [00:00<?, ?it/s]"
      ]
     },
     "metadata": {},
     "output_type": "display_data"
    },
    {
     "name": "stdout",
     "output_type": "stream",
     "text": [
      "Epoch 60 : {'loss': 0.0499, 'accuracy': 0.9986, 'auc': 0.8527, 'precision': 0.3987, 'recall': 0.2859, 'lr': 9.999999776482583e-06, 'val_loss': 0.004988716, 'val_accuracy': 0.9991, 'val_auc': 0.8122, 'val_precision': 1.0, 'val_recall': 0.3121}\n",
      "Reducing learning rate from 9.999999776482583e-06 to 9.999999776482584e-07\n"
     ]
    },
    {
     "data": {
      "application/vnd.jupyter.widget-view+json": {
       "model_id": "",
       "version_major": 2,
       "version_minor": 0
      },
      "text/plain": [
       "Epoch 61:   0%|          | 0/30 [00:00<?, ?it/s]"
      ]
     },
     "metadata": {},
     "output_type": "display_data"
    },
    {
     "name": "stdout",
     "output_type": "stream",
     "text": [
      "Epoch 61 : {'loss': 0.05, 'accuracy': 0.9986, 'auc': 0.8531, 'precision': 0.4027, 'recall': 0.2861, 'lr': 9.999999776482584e-07, 'val_loss': 0.0049887784, 'val_accuracy': 0.9991, 'val_auc': 0.8123, 'val_precision': 1.0, 'val_recall': 0.3121}\n"
     ]
    },
    {
     "data": {
      "application/vnd.jupyter.widget-view+json": {
       "model_id": "",
       "version_major": 2,
       "version_minor": 0
      },
      "text/plain": [
       "Epoch 62:   0%|          | 0/30 [00:00<?, ?it/s]"
      ]
     },
     "metadata": {},
     "output_type": "display_data"
    },
    {
     "name": "stdout",
     "output_type": "stream",
     "text": [
      "Epoch 62 : {'loss': 0.0499, 'accuracy': 0.9986, 'auc': 0.8534, 'precision': 0.4066, 'recall': 0.2861, 'lr': 9.999999776482584e-07, 'val_loss': 0.0049887663, 'val_accuracy': 0.9991, 'val_auc': 0.8123, 'val_precision': 1.0, 'val_recall': 0.3121}\n",
      "***************************************************************************\n"
     ]
    }
   ],
   "source": [
    "model_pool_pool = GCN_ACPR(g, trs_features, ctc_features, d_model, dff, n_layers, n_classes)\n",
    "# model = GAT(g, d_model, n_layers, n_classes, num_heads)\n",
    "\n",
    "model_pool_pool.soft_compile(\n",
    "#     loss=tf.keras.losses.SparseCategoricalCrossentropy(from_logits=True, reduction='none'),\n",
    "    loss=tf.keras.losses.BinaryCrossentropy(from_logits=False, reduction='none'),\n",
    "    optimizer=tf.keras.optimizers.Adam(0.01, 1e-8),\n",
    "#     metrics={'accuracy':tf.keras.metrics.SparseCategoricalAccuracy()}\n",
    "    metrics={'accuracy':tf.keras.metrics.BinaryAccuracy(),\n",
    "             'auc' : tf.keras.metrics.AUC(),\n",
    "             'precision' : tf.keras.metrics.Precision(),\n",
    "             'recall' : tf.keras.metrics.Recall(),\n",
    "            },\n",
    "    val_metrics={'accuracy':tf.keras.metrics.BinaryAccuracy(),\n",
    "             'auc' : tf.keras.metrics.AUC(),\n",
    "             'precision' : tf.keras.metrics.Precision(),\n",
    "             'recall' : tf.keras.metrics.Recall(),\n",
    "            }\n",
    ")\n",
    "\n",
    "graph_history_pool_pool = model_pool_pool.train(epochs=epochs,batch_size=batch_size, reduce_lr=reduce_lr, early_stopping=early_stopping)"
   ]
  },
  {
   "cell_type": "code",
   "execution_count": null,
   "id": "80a0bc10",
   "metadata": {
    "scrolled": false
   },
   "outputs": [],
   "source": [
    "from sklearn.metrics import precision_recall_curve, roc_curve, roc_auc_score\n",
    "import matplotlib.pyplot as plt\n",
    "\n",
    "model = model_pool_pool\n",
    "\n",
    "train_indices, val_indices, test_indices=model_solo_solo.split_indices()\n",
    "labels=model.g.ndata['label'].numpy()\n",
    "val_labels=labels[test_indices]\n",
    "val_logits=model.call(np.arange(len(val_indices))).numpy()\n",
    "\n",
    "precision, recall, thresholds = precision_recall_curve(val_labels, val_logits)\n",
    "fpr, tpr, threshold = roc_curve(val_labels, val_logits)\n",
    "roc_auc = metrics.auc(fpr, tpr)\n",
    "\n",
    "f1_score = 2*precision*recall/(precision + recall)\n",
    "\n",
    "ind=np.argmax(f1_score)\n",
    "\n",
    "print({\n",
    "    'roc_auc_score':roc_auc_score(val_labels, val_logits),\n",
    "    'precision':precsion[ind],\n",
    "    'recall':recall[ind],\n",
    "    'f1_score':f1_score[ind],\n",
    "})\n",
    "\n",
    "index = np.arange(len(precision))\n",
    "t = 0.9*recall.max()\n",
    "min_index = index[recall >= t]\n",
    "print({\n",
    "    'max_recall':recall.max(),\n",
    "    '90 max recall':t,\n",
    "    'precision_at_recall':precision[min_index],\n",
    "    'f1_at_recall':f1_score[min_index]\n",
    "})\n",
    "\n",
    "plt.title('Receiver Operating Characteristic')\n",
    "plt.plot(fpr, tpr, 'b', label = 'AUC = %0.2f' % roc_auc)\n",
    "plt.legend(loc = 'lower right')\n",
    "plt.plot([0, 1], [0, 1],'r--')\n",
    "plt.xlim([0, 1])\n",
    "plt.ylim([0, 1])\n",
    "plt.ylabel('True Positive Rate')\n",
    "plt.xlabel('False Positive Rate')\n",
    "plt.show()"
   ]
  },
  {
   "cell_type": "code",
   "execution_count": 25,
   "id": "f4cb0e3f",
   "metadata": {},
   "outputs": [
    {
     "data": {
      "text/plain": [
       "1093359"
      ]
     },
     "execution_count": 25,
     "metadata": {},
     "output_type": "execute_result"
    }
   ],
   "source": [
    "len(labels)"
   ]
  },
  {
   "cell_type": "code",
   "execution_count": 26,
   "id": "1fb8fa6c",
   "metadata": {
    "scrolled": true
   },
   "outputs": [
    {
     "data": {
      "text/plain": [
       "<tf.Tensor: shape=(), dtype=float32, numpy=0.8159376>"
      ]
     },
     "execution_count": 26,
     "metadata": {},
     "output_type": "execute_result"
    }
   ],
   "source": [
    "train_indices, val_indices, test_indices=model_pool_pool.split_indices()\n",
    "labels=model_pool_pool.g.ndata['label'].numpy()\n",
    "\n",
    "logits=model_pool_pool.call(np.arange(len(labels))).numpy()\n",
    "val_labels=labels[test_indices]\n",
    "\n",
    "# plt.hist(val_logits)\n",
    "tf.keras.metrics.AUC()(val_labels, logits[test_indices])"
   ]
  },
  {
   "cell_type": "code",
   "execution_count": 27,
   "id": "f75ba189",
   "metadata": {},
   "outputs": [
    {
     "data": {
      "text/plain": [
       "(array([1.2655e+05, 3.1000e+01, 1.1000e+01, 0.0000e+00, 0.0000e+00,\n",
       "        0.0000e+00, 0.0000e+00, 0.0000e+00, 0.0000e+00, 4.9000e+01]),\n",
       " array([1.6614881e-07, 9.9999450e-02, 1.9999874e-01, 2.9999802e-01,\n",
       "        3.9999732e-01, 4.9999660e-01, 5.9999591e-01, 6.9999516e-01,\n",
       "        7.9999447e-01, 8.9999372e-01, 9.9999303e-01], dtype=float32),\n",
       " <BarContainer object of 10 artists>)"
      ]
     },
     "execution_count": 27,
     "metadata": {},
     "output_type": "execute_result"
    },
    {
     "data": {
      "image/png": "[encoded data removed]",
      "text/plain": [
       "<Figure size 432x288 with 1 Axes>"
      ]
     },
     "metadata": {
      "needs_background": "light"
     },
     "output_type": "display_data"
    }
   ],
   "source": [
    "plt.hist(logits[test_indices])"
   ]
  },
  {
   "cell_type": "code",
   "execution_count": 28,
   "id": "4a115026",
   "metadata": {},
   "outputs": [
    {
     "data": {
      "text/plain": [
       "<tf.Tensor: shape=(), dtype=float32, numpy=0.8159376>"
      ]
     },
     "execution_count": 28,
     "metadata": {},
     "output_type": "execute_result"
    }
   ],
   "source": [
    "tf.keras.metrics.AUC()(val_labels, logits[test_indices])"
   ]
  },
  {
   "cell_type": "code",
   "execution_count": 29,
   "id": "9f5e888d",
   "metadata": {},
   "outputs": [
    {
     "data": {
      "text/plain": [
       "<matplotlib.legend.Legend at 0x216b65e7760>"
      ]
     },
     "execution_count": 29,
     "metadata": {},
     "output_type": "execute_result"
    },
    {
     "data": {
      "image/png": "[encoded data removed]",
      "text/plain": [
       "<Figure size 432x288 with 1 Axes>"
      ]
     },
     "metadata": {
      "needs_background": "light"
     },
     "output_type": "display_data"
    }
   ],
   "source": [
    "plt.plot(graph_history_pool_pool['val_auc'])\n",
    "plt.plot(graph_history_pool_pool['val_precision'])\n",
    "plt.plot(graph_history_pool_pool['val_recall'])\n",
    "plt.legend(['val_auc', 'val_precision', 'val_recall'])"
   ]
  },
  {
   "cell_type": "code",
   "execution_count": 30,
   "id": "f4f35871",
   "metadata": {},
   "outputs": [
    {
     "name": "stderr",
     "output_type": "stream",
     "text": [
      "<frozen importlib._bootstrap>:228: RuntimeWarning: scipy._lib.messagestream.MessageStream size changed, may indicate binary incompatibility. Expected 56 from C header, got 64 from PyObject\n"
     ]
    },
    {
     "data": {
      "image/png": "[encoded data removed]",
      "text/plain": [
       "<Figure size 432x288 with 1 Axes>"
      ]
     },
     "metadata": {
      "needs_background": "light"
     },
     "output_type": "display_data"
    }
   ],
   "source": [
    "import sklearn.metrics as metrics\n",
    "# calculate the fpr and tpr for all thresholds of the classification\n",
    "# probs = model.predict_proba(X_test)\n",
    "# preds = probs[:,1]\n",
    "fpr, tpr, threshold = metrics.roc_curve(val_labels, logits[test_indices])\n",
    "roc_auc = metrics.auc(fpr, tpr)\n",
    "\n",
    "# method I: plt\n",
    "import matplotlib.pyplot as plt\n",
    "plt.title('Receiver Operating Characteristic')\n",
    "plt.plot(fpr, tpr, 'b', label = 'AUC = %0.2f' % roc_auc)\n",
    "plt.legend(loc = 'lower right')\n",
    "plt.plot([0, 1], [0, 1],'r--')\n",
    "plt.xlim([0, 1])\n",
    "plt.ylim([0, 1])\n",
    "plt.ylabel('True Positive Rate')\n",
    "plt.xlabel('False Positive Rate')\n",
    "plt.show()\n"
   ]
  },
  {
   "cell_type": "code",
   "execution_count": null,
   "id": "164950d2",
   "metadata": {},
   "outputs": [],
   "source": []
  }
 ],
 "metadata": {
  "kernelspec": {
   "display_name": "Python 3.9.13 ('base')",
   "language": "python",
   "name": "python3"
  },
  "language_info": {
   "codemirror_mode": {
    "name": "ipython",
    "version": 3
   },
   "file_extension": ".py",
   "mimetype": "text/x-python",
   "name": "python",
   "nbconvert_exporter": "python",
   "pygments_lexer": "ipython3",
   "version": "3.9.13"
  },
  "vscode": {
   "interpreter": {
    "hash": "ab9821ecc98de011741dfaec3c017883b962b1388b9630c30169ab308e0d1578"
   }
  }
 },
 "nbformat": 4,
 "nbformat_minor": 5
}
