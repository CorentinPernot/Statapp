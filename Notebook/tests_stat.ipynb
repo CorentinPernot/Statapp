{
 "cells": [
  {
   "cell_type": "code",
   "execution_count": 1,
   "metadata": {},
   "outputs": [],
   "source": [
    "import pandas as pd \n",
    "import numpy as np\n",
    "import seaborn as sns \n",
    "import matplotlib.pyplot as plt \n",
    "import statsmodels.api as sm\n",
    "from statsmodels.formula.api import ols\n",
    "import datetime \n"
   ]
  },
  {
   "cell_type": "markdown",
   "metadata": {},
   "source": [
    "ANOVA\n",
    "On effectue une analyse de variance pour mesurer l'indépendance entre une varaible qualitative et une variable quantitative\n",
    "Dans notre cas, la variable quantitative est l'année, le mois ou la semaine de transaction, la variable quantitative est quant à elle tx_amount. "
   ]
  },
  {
   "cell_type": "code",
   "execution_count": 23,
   "metadata": {},
   "outputs": [],
   "source": [
    "df_A=pd.read_csv(\"/Users/corentinpla/Documents/C-2-Statap/transactions_A.csv\")\n",
    "df_B=pd.read_csv(\"/Users/corentinpla/Documents/C-2-Statap/transactions_B.csv\")\n",
    "\n",
    "df_A[\"df_type\"]=\"A\"\n",
    "df_B[\"df_type\"]=\"B\""
   ]
  },
  {
   "cell_type": "code",
   "execution_count": 21,
   "metadata": {},
   "outputs": [
    {
     "data": {
      "text/html": [
       "<div>\n",
       "<style scoped>\n",
       "    .dataframe tbody tr th:only-of-type {\n",
       "        vertical-align: middle;\n",
       "    }\n",
       "\n",
       "    .dataframe tbody tr th {\n",
       "        vertical-align: top;\n",
       "    }\n",
       "\n",
       "    .dataframe thead th {\n",
       "        text-align: right;\n",
       "    }\n",
       "</style>\n",
       "<table border=\"1\" class=\"dataframe\">\n",
       "  <thead>\n",
       "    <tr style=\"text-align: right;\">\n",
       "      <th></th>\n",
       "      <th>tx_id</th>\n",
       "      <th>sender_account_id</th>\n",
       "      <th>receiver_account_id</th>\n",
       "      <th>tx_amount</th>\n",
       "      <th>timestamp</th>\n",
       "      <th>tx_type</th>\n",
       "      <th>sender_bank_id</th>\n",
       "      <th>sender_first_name</th>\n",
       "      <th>sender_last_name</th>\n",
       "      <th>sender_country_code</th>\n",
       "      <th>...</th>\n",
       "      <th>sender_zip_code</th>\n",
       "      <th>receiver_bank_id</th>\n",
       "      <th>receiver_first_name</th>\n",
       "      <th>receiver_last_name</th>\n",
       "      <th>receiver_country_code</th>\n",
       "      <th>receiver_birth_date</th>\n",
       "      <th>receiver_zip_code</th>\n",
       "      <th>is_alert_solo</th>\n",
       "      <th>is_alert_pooled</th>\n",
       "      <th>df_type</th>\n",
       "    </tr>\n",
       "  </thead>\n",
       "  <tbody>\n",
       "    <tr>\n",
       "      <th>0</th>\n",
       "      <td>3109</td>\n",
       "      <td>6822.0</td>\n",
       "      <td>NaN</td>\n",
       "      <td>229.97</td>\n",
       "      <td>2018-03-03</td>\n",
       "      <td>WIRE</td>\n",
       "      <td>A</td>\n",
       "      <td>Marie</td>\n",
       "      <td>Lee</td>\n",
       "      <td>FR</td>\n",
       "      <td>...</td>\n",
       "      <td>27800</td>\n",
       "      <td>C</td>\n",
       "      <td>Maritn</td>\n",
       "      <td>Alvarez</td>\n",
       "      <td>FR</td>\n",
       "      <td>1930-08-29</td>\n",
       "      <td>89160</td>\n",
       "      <td>False</td>\n",
       "      <td>False</td>\n",
       "      <td>A</td>\n",
       "    </tr>\n",
       "    <tr>\n",
       "      <th>1</th>\n",
       "      <td>1829</td>\n",
       "      <td>NaN</td>\n",
       "      <td>9011.0</td>\n",
       "      <td>117.83</td>\n",
       "      <td>2018-03-03</td>\n",
       "      <td>WIRE</td>\n",
       "      <td>B</td>\n",
       "      <td>Kurt</td>\n",
       "      <td>Brignac</td>\n",
       "      <td>FR</td>\n",
       "      <td>...</td>\n",
       "      <td>35660</td>\n",
       "      <td>A</td>\n",
       "      <td>Joseph</td>\n",
       "      <td>Gable</td>\n",
       "      <td>FR</td>\n",
       "      <td>1933-12-23</td>\n",
       "      <td>62116</td>\n",
       "      <td>False</td>\n",
       "      <td>False</td>\n",
       "      <td>A</td>\n",
       "    </tr>\n",
       "    <tr>\n",
       "      <th>2</th>\n",
       "      <td>1830</td>\n",
       "      <td>NaN</td>\n",
       "      <td>7140.0</td>\n",
       "      <td>117.83</td>\n",
       "      <td>2018-03-03</td>\n",
       "      <td>WIRE</td>\n",
       "      <td>B</td>\n",
       "      <td>Kurt</td>\n",
       "      <td>Brignac</td>\n",
       "      <td>FR</td>\n",
       "      <td>...</td>\n",
       "      <td>35660</td>\n",
       "      <td>A</td>\n",
       "      <td>Shelley</td>\n",
       "      <td>Spencer</td>\n",
       "      <td>FR</td>\n",
       "      <td>1944-12-23</td>\n",
       "      <td>34360</td>\n",
       "      <td>False</td>\n",
       "      <td>False</td>\n",
       "      <td>A</td>\n",
       "    </tr>\n",
       "    <tr>\n",
       "      <th>3</th>\n",
       "      <td>1831</td>\n",
       "      <td>NaN</td>\n",
       "      <td>1822.0</td>\n",
       "      <td>526.02</td>\n",
       "      <td>2018-03-03</td>\n",
       "      <td>WIRE</td>\n",
       "      <td>C</td>\n",
       "      <td>Shelly</td>\n",
       "      <td>Jethva</td>\n",
       "      <td>CN</td>\n",
       "      <td>...</td>\n",
       "      <td>65230</td>\n",
       "      <td>A</td>\n",
       "      <td>Ambrose</td>\n",
       "      <td>Cole</td>\n",
       "      <td>FR</td>\n",
       "      <td>1958-04-07</td>\n",
       "      <td>3800</td>\n",
       "      <td>False</td>\n",
       "      <td>False</td>\n",
       "      <td>A</td>\n",
       "    </tr>\n",
       "    <tr>\n",
       "      <th>4</th>\n",
       "      <td>1832</td>\n",
       "      <td>5390.0</td>\n",
       "      <td>NaN</td>\n",
       "      <td>35.79</td>\n",
       "      <td>2018-03-03</td>\n",
       "      <td>WIRE</td>\n",
       "      <td>A</td>\n",
       "      <td>Judy</td>\n",
       "      <td>James</td>\n",
       "      <td>FR</td>\n",
       "      <td>...</td>\n",
       "      <td>42140</td>\n",
       "      <td>C</td>\n",
       "      <td>Jose</td>\n",
       "      <td>Fiume</td>\n",
       "      <td>FR</td>\n",
       "      <td>1981-08-28</td>\n",
       "      <td>66820</td>\n",
       "      <td>False</td>\n",
       "      <td>False</td>\n",
       "      <td>A</td>\n",
       "    </tr>\n",
       "  </tbody>\n",
       "</table>\n",
       "<p>5 rows × 21 columns</p>\n",
       "</div>"
      ],
      "text/plain": [
       "   tx_id  sender_account_id  receiver_account_id  tx_amount   timestamp  \\\n",
       "0   3109             6822.0                  NaN     229.97  2018-03-03   \n",
       "1   1829                NaN               9011.0     117.83  2018-03-03   \n",
       "2   1830                NaN               7140.0     117.83  2018-03-03   \n",
       "3   1831                NaN               1822.0     526.02  2018-03-03   \n",
       "4   1832             5390.0                  NaN      35.79  2018-03-03   \n",
       "\n",
       "  tx_type sender_bank_id sender_first_name sender_last_name  \\\n",
       "0    WIRE              A             Marie              Lee   \n",
       "1    WIRE              B              Kurt          Brignac   \n",
       "2    WIRE              B              Kurt          Brignac   \n",
       "3    WIRE              C            Shelly           Jethva   \n",
       "4    WIRE              A              Judy            James   \n",
       "\n",
       "  sender_country_code  ... sender_zip_code  receiver_bank_id  \\\n",
       "0                  FR  ...           27800                 C   \n",
       "1                  FR  ...           35660                 A   \n",
       "2                  FR  ...           35660                 A   \n",
       "3                  CN  ...           65230                 A   \n",
       "4                  FR  ...           42140                 C   \n",
       "\n",
       "  receiver_first_name receiver_last_name receiver_country_code  \\\n",
       "0              Maritn            Alvarez                    FR   \n",
       "1              Joseph              Gable                    FR   \n",
       "2             Shelley            Spencer                    FR   \n",
       "3             Ambrose               Cole                    FR   \n",
       "4                Jose              Fiume                    FR   \n",
       "\n",
       "  receiver_birth_date receiver_zip_code  is_alert_solo  is_alert_pooled  \\\n",
       "0          1930-08-29             89160          False            False   \n",
       "1          1933-12-23             62116          False            False   \n",
       "2          1944-12-23             34360          False            False   \n",
       "3          1958-04-07              3800          False            False   \n",
       "4          1981-08-28             66820          False            False   \n",
       "\n",
       "   df_type  \n",
       "0        A  \n",
       "1        A  \n",
       "2        A  \n",
       "3        A  \n",
       "4        A  \n",
       "\n",
       "[5 rows x 21 columns]"
      ]
     },
     "execution_count": 21,
     "metadata": {},
     "output_type": "execute_result"
    }
   ],
   "source": [
    "df_A.head()"
   ]
  },
  {
   "cell_type": "code",
   "execution_count": 24,
   "metadata": {},
   "outputs": [],
   "source": [
    "df_concat=pd.concat([df_A,df_B])"
   ]
  },
  {
   "cell_type": "code",
   "execution_count": 28,
   "metadata": {},
   "outputs": [
    {
     "data": {
      "text/plain": [
       "tx_id                      int64\n",
       "sender_account_id        float64\n",
       "receiver_account_id      float64\n",
       "tx_amount                float64\n",
       "timestamp                 object\n",
       "tx_type                   object\n",
       "sender_bank_id            object\n",
       "sender_first_name         object\n",
       "sender_last_name          object\n",
       "sender_country_code       object\n",
       "sender_birth_date         object\n",
       "sender_zip_code            int64\n",
       "receiver_bank_id          object\n",
       "receiver_first_name       object\n",
       "receiver_last_name        object\n",
       "receiver_country_code     object\n",
       "receiver_birth_date       object\n",
       "receiver_zip_code          int64\n",
       "is_alert_solo               bool\n",
       "is_alert_pooled             bool\n",
       "df_type                   object\n",
       "dtype: object"
      ]
     },
     "execution_count": 28,
     "metadata": {},
     "output_type": "execute_result"
    }
   ],
   "source": [
    "df_concat.dtypes"
   ]
  },
  {
   "cell_type": "code",
   "execution_count": 11,
   "metadata": {},
   "outputs": [
    {
     "data": {
      "text/plain": [
       "0     FR\n",
       "1     FR\n",
       "2     FR\n",
       "3     CN\n",
       "4     FR\n",
       "5     FR\n",
       "6     FR\n",
       "7     FR\n",
       "8     FR\n",
       "9     FR\n",
       "10    FR\n",
       "11    FR\n",
       "12    FR\n",
       "13    FR\n",
       "14    FR\n",
       "15    FR\n",
       "16    FR\n",
       "17    FR\n",
       "18    FR\n",
       "19    FR\n",
       "20    FR\n",
       "21    FR\n",
       "22    FR\n",
       "23    FR\n",
       "24    FR\n",
       "25    FR\n",
       "26    FR\n",
       "27    FR\n",
       "28    FR\n",
       "29    FR\n",
       "30    FR\n",
       "31    FR\n",
       "32    FR\n",
       "33    FR\n",
       "34    FR\n",
       "35    FR\n",
       "36    FR\n",
       "37    FR\n",
       "38    FR\n",
       "39    FR\n",
       "40    FR\n",
       "41    FR\n",
       "42    FR\n",
       "43    FR\n",
       "44    FR\n",
       "45    FR\n",
       "46    FR\n",
       "47    FR\n",
       "48    FR\n",
       "49    FR\n",
       "Name: sender_country_code, dtype: object"
      ]
     },
     "execution_count": 11,
     "metadata": {},
     "output_type": "execute_result"
    }
   ],
   "source": [
    "df_A[\"sender_country_code\"].head(50)"
   ]
  },
  {
   "cell_type": "code",
   "execution_count": 17,
   "metadata": {},
   "outputs": [],
   "source": [
    "def get_week_of_the_year(s):\n",
    "    year=int(s[0:4])\n",
    "    month=int(s[5:7])\n",
    "    day=int(s[8:10])\n",
    "\n",
    "    return(datetime.date(year, month, day).isocalendar().week)\n",
    "    \n",
    "\n",
    "def get_week(s):\n",
    "    year=int(s[0:4])\n",
    "    week=get_week_of_the_year(s)\n",
    "\n",
    "    return((year-2018)*52+week)\n",
    "    \n",
    "\n",
    "def get_month_of_the_year(s):\n",
    "    return(int(s[5:7]))\n",
    "    \n",
    "\n",
    "def get_month(s):\n",
    "    month=get_month_of_the_year(s)\n",
    "    year=int(s[0:4])\n",
    "    \n",
    "    return((year-2018)*12+month)\n",
    "\n",
    "def get_year(s):\n",
    "    year=s[:4]\n",
    "\n",
    "    return(int(year))\n",
    "\n"
   ]
  },
  {
   "cell_type": "code",
   "execution_count": 19,
   "metadata": {},
   "outputs": [],
   "source": [
    "\n",
    "df_A[\"week\"]=df_A[\"timestamp\"].apply(lambda x:get_week(x))\n",
    "df_A[\"week_year\"]=df_A[\"timestamp\"].apply(lambda x:get_week_of_the_year(x))\n",
    "df_A[\"month\"]=df_A[\"timestamp\"].apply(lambda x:get_month(x))\n",
    "df_A[\"month_year\"]=df_A[\"timestamp\"].apply(lambda x:get_month_of_the_year(x))\n",
    "df_A[\"year\"]=df_A[\"timestamp\"].apply(lambda x:get_year(x))\n"
   ]
  },
  {
   "cell_type": "code",
   "execution_count": 26,
   "metadata": {},
   "outputs": [],
   "source": [
    "df_test=df_A.sample(n=10000)"
   ]
  },
  {
   "cell_type": "code",
   "execution_count": 33,
   "metadata": {},
   "outputs": [
    {
     "data": {
      "text/plain": [
       "0        FR\n",
       "3        CN\n",
       "139      BR\n",
       "241      IN\n",
       "245      TH\n",
       "         ..\n",
       "582      MA\n",
       "2300     BG\n",
       "7287     IL\n",
       "8108     BI\n",
       "12676    SS\n",
       "Name: sender_country_code, Length: 80, dtype: object"
      ]
     },
     "execution_count": 33,
     "metadata": {},
     "output_type": "execute_result"
    }
   ],
   "source": [
    "df_concat[\"sender_country_code\"].drop_duplicates()\n"
   ]
  },
  {
   "cell_type": "code",
   "execution_count": null,
   "metadata": {},
   "outputs": [],
   "source": [
    "#uniquement pour graphiques\n",
    "def select_sender_country_code(df):\n",
    "    for x in df[\"sender_country_code\"].drop_duplicates():\n",
    "        \n",
    "        \n",
    "    "
   ]
  },
  {
   "cell_type": "code",
   "execution_count": 31,
   "metadata": {},
   "outputs": [
    {
     "data": {
      "image/png": "[encoded data removed]",
      "text/plain": [
       "<Figure size 640x480 with 1 Axes>"
      ]
     },
     "metadata": {},
     "output_type": "display_data"
    }
   ],
   "source": [
    "ax = sns.boxplot(x='sender_country_code', y='tx_amount', data=df_concat, color='#99c2a2',showfliers=False)\n",
    "#ax = sns.swarmplot(x=\"year\", y=\"tx_amount\", data=df_test, color='#7d0013')\n",
    "plt.show()"
   ]
  },
  {
   "cell_type": "code",
   "execution_count": 25,
   "metadata": {},
   "outputs": [
    {
     "data": {
      "image/png": "[encoded data removed]",
      "text/plain": [
       "<Figure size 640x480 with 1 Axes>"
      ]
     },
     "metadata": {},
     "output_type": "display_data"
    }
   ],
   "source": [
    "ax = sns.boxplot(x='df_type', y='tx_amount', data=df_concat, color='#99c2a2',showfliers=False)\n",
    "#ax = sns.swarmplot(x=\"year\", y=\"tx_amount\", data=df_test, color='#7d0013')\n",
    "plt.show()"
   ]
  },
  {
   "cell_type": "code",
   "execution_count": 28,
   "metadata": {},
   "outputs": [
    {
     "data": {
      "image/png": "[encoded data removed]",
      "text/plain": [
       "<Figure size 640x480 with 1 Axes>"
      ]
     },
     "metadata": {},
     "output_type": "display_data"
    }
   ],
   "source": [
    "ax = sns.boxplot(x='year', y='tx_amount', data=df_test, color='#99c2a2',showfliers=False)\n",
    "#ax = sns.swarmplot(x=\"year\", y=\"tx_amount\", data=df_test, color='#7d0013')\n",
    "plt.show()"
   ]
  },
  {
   "cell_type": "code",
   "execution_count": 30,
   "metadata": {},
   "outputs": [
    {
     "data": {
      "image/png": "[encoded data removed]",
      "text/plain": [
       "<Figure size 640x480 with 1 Axes>"
      ]
     },
     "metadata": {},
     "output_type": "display_data"
    }
   ],
   "source": [
    "ax = sns.boxplot(x='month_year', y='tx_amount', data=df_test, color='#99c2a2',showfliers=False)\n",
    "#ax = sns.swarmplot(x=\"year\", y=\"tx_amount\", data=df_test, color='#7d0013')\n",
    "plt.show()"
   ]
  },
  {
   "cell_type": "code",
   "execution_count": 31,
   "metadata": {},
   "outputs": [
    {
     "data": {
      "image/png": "[encoded data removed]",
      "text/plain": [
       "<Figure size 640x480 with 1 Axes>"
      ]
     },
     "metadata": {},
     "output_type": "display_data"
    }
   ],
   "source": [
    "ax = sns.boxplot(x='week_year', y='tx_amount', data=df_test, color='#99c2a2',showfliers=False)\n",
    "#ax = sns.swarmplot(x=\"year\", y=\"tx_amount\", data=df_test, color='#7d0013')\n",
    "plt.show()"
   ]
  },
  {
   "cell_type": "code",
   "execution_count": 32,
   "metadata": {},
   "outputs": [
    {
     "name": "stdout",
     "output_type": "stream",
     "text": [
      "                sum_sq     df          F    PR(>F)\n",
      "year      4.658927e+13    1.0  14.223348  0.000172\n",
      "Residual  3.268998e+15  998.0        NaN       NaN\n"
     ]
    }
   ],
   "source": [
    "#year\n",
    "model = ols('tx_amount ~ year',             \n",
    "            data = df_test).fit()\n",
    "                \n",
    "anova_result = sm.stats.anova_lm(model, typ=2)\n",
    "print (anova_result)"
   ]
  },
  {
   "cell_type": "markdown",
   "metadata": {},
   "source": [
    "Interprétation : on remarque que la p-valeur du test (lequel) vérifie p<0.05, on en conclu qu'il existe une différence significative entre les différentes catégories (ici les années)"
   ]
  },
  {
   "cell_type": "code",
   "execution_count": 33,
   "metadata": {},
   "outputs": [
    {
     "name": "stdout",
     "output_type": "stream",
     "text": [
      "                  sum_sq     df         F    PR(>F)\n",
      "month_year  3.757673e+12    1.0  1.132352  0.287532\n",
      "Residual    3.311829e+15  998.0       NaN       NaN\n"
     ]
    }
   ],
   "source": [
    "#month\n",
    "model = ols('tx_amount ~ month_year',             \n",
    "            data = df_test).fit()\n",
    "                \n",
    "anova_result = sm.stats.anova_lm(model, typ=2)\n",
    "print (anova_result)"
   ]
  },
  {
   "cell_type": "markdown",
   "metadata": {},
   "source": [
    "Interprétation : on remarque que la p-valeur du test est élevée (p=0,28), on en conclu qu'il existe une différence significative entre les différentes catégories (ici les mois de l'année)."
   ]
  },
  {
   "cell_type": "code",
   "execution_count": 34,
   "metadata": {},
   "outputs": [
    {
     "name": "stdout",
     "output_type": "stream",
     "text": [
      "                 sum_sq     df         F    PR(>F)\n",
      "week_year  2.609324e+12    1.0  0.786032  0.375516\n",
      "Residual   3.312978e+15  998.0       NaN       NaN\n"
     ]
    }
   ],
   "source": [
    "#week\n",
    "model = ols('tx_amount ~ week_year',             \n",
    "            data = df_test).fit()\n",
    "                \n",
    "anova_result = sm.stats.anova_lm(model, typ=2)\n",
    "print (anova_result)"
   ]
  },
  {
   "cell_type": "markdown",
   "metadata": {},
   "source": [
    "Interprétation : on remarque que la p-valeur du test est élevée (p=0,28), on en conclu qu'il existe une différence significative entre les différentes catégories (ici les mois de l'année)."
   ]
  },
  {
   "cell_type": "code",
   "execution_count": 27,
   "metadata": {},
   "outputs": [
    {
     "name": "stdout",
     "output_type": "stream",
     "text": [
      "                sum_sq         df         F   PR(>F)\n",
      "df_type   5.526092e+12        1.0  3.220762  0.07271\n",
      "Residual  2.223717e+18  1296045.0       NaN      NaN\n"
     ]
    }
   ],
   "source": [
    "#Dataframes\n",
    "model = ols('tx_amount ~ df_type',             \n",
    "            data = df_concat).fit()\n",
    "                \n",
    "anova_result = sm.stats.anova_lm(model, typ=2)\n",
    "print (anova_result)"
   ]
  },
  {
   "cell_type": "code",
   "execution_count": 30,
   "metadata": {},
   "outputs": [
    {
     "name": "stdout",
     "output_type": "stream",
     "text": [
      "                           sum_sq         df          F         PR(>F)\n",
      "sender_country_code  1.373265e+15       78.0  10.266824  2.341661e-120\n",
      "Residual             2.222349e+18  1295951.0        NaN            NaN\n"
     ]
    }
   ],
   "source": [
    "model = ols('tx_amount ~ sender_country_code',             \n",
    "            data = df_concat).fit()\n",
    "                \n",
    "anova_result = sm.stats.anova_lm(model, typ=2)\n",
    "print (anova_result)"
   ]
  }
 ],
 "metadata": {
  "kernelspec": {
   "display_name": "Python 3.9.13 ('base')",
   "language": "python",
   "name": "python3"
  },
  "language_info": {
   "codemirror_mode": {
    "name": "ipython",
    "version": 3
   },
   "file_extension": ".py",
   "mimetype": "text/x-python",
   "name": "python",
   "nbconvert_exporter": "python",
   "pygments_lexer": "ipython3",
   "version": "3.9.13"
  },
  "orig_nbformat": 4,
  "vscode": {
   "interpreter": {
    "hash": "ab9821ecc98de011741dfaec3c017883b962b1388b9630c30169ab308e0d1578"
   }
  }
 },
 "nbformat": 4,
 "nbformat_minor": 2
}
