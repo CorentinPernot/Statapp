{
 "cells": [
  {
   "cell_type": "code",
   "execution_count": null,
   "metadata": {},
   "outputs": [],
   "source": []
  }
 ],
 "metadata": {
  "kernelspec": {
   "display_name": "Python 3.9.13 ('base')",
   "language": "python",
   "name": "python3"
  },
  "language_info": {
   "name": "python",
   "version": "3.9.13"
  },
  "orig_nbformat": 4,
  "vscode": {
   "interpreter": {
    "hash": "ab9821ecc98de011741dfaec3c017883b962b1388b9630c30169ab308e0d1578"
   }
  }
 },
 "nbformat": 4,
 "nbformat_minor": 2
}
